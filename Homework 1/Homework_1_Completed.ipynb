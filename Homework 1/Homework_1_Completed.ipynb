{
  "cells": [
    {
      "cell_type": "markdown",
      "metadata": {
        "id": "IFHfaBkpFxIP"
      },
      "source": [
        "# Homework I - ME 364 (Spring 2022)"
      ]
    },
    {
      "cell_type": "markdown",
      "metadata": {
        "id": "U4tyzvlNF1hf"
      },
      "source": [
        "**Question I :** Define a list with 5 elements, where at least one of the elements is a tuple itself. Then write a for-loop to print each element on a new line."
      ]
    },
    {
      "cell_type": "code",
      "execution_count": 1,
      "metadata": {
        "colab": {
          "base_uri": "https://localhost:8080/"
        },
        "id": "fKzrQazoGSVp",
        "outputId": "2ad2710c-c076-4b67-bead-afc7f5e607f8"
      },
      "outputs": [
        {
          "name": "stdout",
          "output_type": "stream",
          "text": [
            "a\n",
            "b\n",
            "c\n",
            "d\n",
            "(5, 'e')\n"
          ]
        }
      ],
      "source": [
        "# Your code goes here\n",
        "lst1 = [\n",
        "        \"a\",\n",
        "        \"b\",\n",
        "        \"c\",\n",
        "        \"d\",\n",
        "        (5,\"e\")\n",
        "]\n",
        "\n",
        "for i in lst1:\n",
        "    print(i)"
      ]
    },
    {
      "cell_type": "markdown",
      "metadata": {
        "id": "jZEjzbzCN9oN"
      },
      "source": [
        "**Question II :** Define a list with numbers from 1 to 6. Then add the numbers 7, 8, 9, 10, and 11 to the list\n",
        "\n",
        "(a) using just one command\n",
        "\n",
        "(b) using a loop and adding the numbers one by one"
      ]
    },
    {
      "cell_type": "code",
      "execution_count": 1,
      "metadata": {
        "colab": {
          "base_uri": "https://localhost:8080/"
        },
        "id": "8Lluu7AtOVWK",
        "outputId": "ef542194-af88-40c2-9730-8cc86a7fdea9"
      },
      "outputs": [
        {
          "name": "stdout",
          "output_type": "stream",
          "text": [
            "List 2: [1, 2, 3, 4, 5, 6]\n",
            "List 2a: [1, 2, 3, 4, 5, 6, 7, 8, 9, 10, 11]\n",
            "List 2b: [1, 2, 3, 4, 5, 6, 7, 8, 9, 10, 11]\n"
          ]
        }
      ],
      "source": [
        "# Your code goes here\n",
        "\n",
        "# Initialize list of numbers 1-6\n",
        "lst2 = list(range(1,7))\n",
        "print(\"List 2: {}\".format(lst2))\n",
        "\n",
        "# Add numbers 7-11 in a single line\n",
        "lst2a = lst2 + list(range(7,12))\n",
        "print(\"List 2a: {}\".format(lst2a))\n",
        "\n",
        "# Add numbers 7-11 using a loop\n",
        "lst2b = lst2\n",
        "for i in range(7,12):\n",
        "    lst2b.append(i)\n",
        "\n",
        "print(\"List 2b: {}\".format(lst2b))\n"
      ]
    },
    {
      "cell_type": "markdown",
      "metadata": {
        "id": "1_P4qlonGUsH"
      },
      "source": [
        "**Quesion III :** Write a code that adds a new $key-value$ (of your choice) to\n",
        "```python\n",
        "SampleDictionary = {'ME 364' : '9am', 'Pyhon for Data Analysis' : '6:10pm', 'Reinforcement Learning' : '10am'}\n",
        "```\n",
        "Removes the $key-value$ ``` 'Reinforcement Learning' : '10am' ```, and then creates a _list_ of the $values$.\n"
      ]
    },
    {
      "cell_type": "code",
      "execution_count": 10,
      "metadata": {
        "colab": {
          "base_uri": "https://localhost:8080/"
        },
        "id": "AEipFX43Fs0O",
        "outputId": "ab6928b2-1633-4e6f-edec-ac322cc53458"
      },
      "outputs": [
        {
          "name": "stdout",
          "output_type": "stream",
          "text": [
            "dict_values(['9am', '6:10pm', 'NewVal'])\n"
          ]
        }
      ],
      "source": [
        "# Your code goes here\n",
        "SampleDictionary = {'ME 364' : '9am', 'Pyhon for Data Analysis' : '6:10pm', 'Reinforcement Learning' : '10am'}\n",
        "SampleDictionary['NewKey'] = 'NewVal'\n",
        "SampleDictionary.pop('Reinforcement Learning')\n",
        "SampleDictionaryValues = SampleDictionary.values()\n",
        "print(SampleDictionaryValues)"
      ]
    },
    {
      "cell_type": "markdown",
      "metadata": {
        "id": "JbpFGBJsJIdJ"
      },
      "source": [
        "**Question IV :** Convert the following string\n",
        "```python\n",
        "Str = 'This string is written for homework I'\n",
        "```\n",
        "into a list and then slice it such that the outcome is\n",
        "```python\n",
        "['T', 'i', ' ', 't', 'i', 'g', 'i', ' ', 'r', 't', 'e', ' ', 'o', ' ', 'o', 'e', 'o', 'k', 'I']\n",
        "```"
      ]
    },
    {
      "cell_type": "code",
      "execution_count": 11,
      "metadata": {
        "colab": {
          "base_uri": "https://localhost:8080/"
        },
        "id": "NDfymP94I66c",
        "outputId": "975cc6c6-9de0-4246-ad8e-c76af199d6b6"
      },
      "outputs": [
        {
          "name": "stdout",
          "output_type": "stream",
          "text": [
            "['T', 'i', ' ', 't', 'i', 'g', 'i', ' ', 'r', 't', 'e', ' ', 'o', ' ', 'o', 'e', 'o', 'k', 'I']\n"
          ]
        }
      ],
      "source": [
        "# Your code goes here\n",
        "Str = 'This string is written for homework I'\n",
        "lst3 = list(Str)\n",
        "lst3a = lst3[::2]\n",
        "print(lst3a)"
      ]
    },
    {
      "cell_type": "markdown",
      "metadata": {
        "id": "EcNfbtWvL6Uq"
      },
      "source": [
        "**Question V :** Write a function that adds the numbers from 1 to N, where N is the input to the function and the sum from 1 to N is the output.  Test it with N=100."
      ]
    },
    {
      "cell_type": "code",
      "execution_count": 12,
      "metadata": {
        "colab": {
          "base_uri": "https://localhost:8080/"
        },
        "id": "ybMaX4YfLXaS",
        "outputId": "dab959e4-9b75-4276-b96a-d774b61a5752"
      },
      "outputs": [
        {
          "name": "stdout",
          "output_type": "stream",
          "text": [
            "5050\n"
          ]
        }
      ],
      "source": [
        "# Your code goes here\n",
        "def sumOneThroughN(N):\n",
        "    return sum(range(1,N+1))\n",
        "\n",
        "print(sumOneThroughN(100))"
      ]
    },
    {
      "cell_type": "markdown",
      "metadata": {
        "id": "6XpTQKh2WN_m"
      },
      "source": [
        "**Question VI :** The Chudnovsky series for approximating $\\pi$ was used to obtain the world record for digits of $\\pi$, 2.7 trillion digits! The\n",
        "following series is a modified version of that series:\n",
        "\n",
        "$$\n",
        "12 \\sum_{k=1}^N\\frac{(-1)^k(6k)(1359+5451k)}{(3k)(k^3)(6^{3k+3/2})}\n",
        "$$\n",
        "\n",
        "Write a code that computs this series for N=10. \n",
        "\n",
        "<font color='blue'>Note:</font> The series no longer approximate $\\frac{1}{\\pi}$ since it has been modified.\n",
        "\n",
        "\n"
      ]
    },
    {
      "cell_type": "code",
      "execution_count": 19,
      "metadata": {
        "colab": {
          "base_uri": "https://localhost:8080/"
        },
        "id": "lRdly7x6WNqp",
        "outputId": "b3c08fe8-06cc-4ba0-ef24-0dfcf6c0249b"
      },
      "outputs": [
        {
          "name": "stdout",
          "output_type": "stream",
          "text": [
            "-51.431108582998405\n"
          ]
        }
      ],
      "source": [
        "# Your code goes here\n",
        "print( 12*sum([ ((-1)**k * 6*k * (1359+5451*k)) / (3*k * k**3 * (6**(3*k+3/2))) for k in range(1,11) ]) )"
      ]
    },
    {
      "cell_type": "markdown",
      "metadata": {
        "id": "jq5XR6pIYD1y"
      },
      "source": [
        "**Question VII:** Consider matrix\n",
        "$A=\\begin{bmatrix} 10 & 15 & 8 & 23 & 13\\\\ 19 & 22 & 45 & 3 & 34\\\\ 52 & 55 & 40 & 16 & 12\\end{bmatrix}$\n",
        "\n",
        "(a) Find a matrix that its elements are the squre roots of this matrix's elements.\n",
        "\n",
        "(b) Calculate $(A^{T}A)^{-1}$\n",
        "\n",
        "(c) Find the sum of all the elements across the columns and standard deviation for each column.\n",
        "\n",
        "(d) Sort the elements down the rows.\n",
        "\n",
        "(e) Make a slice that has the elements on rows 2 and 3 and columns 2 to 4\n",
        "\n",
        "(f) Reshape the matrix into the following array:\n",
        "$\\begin{bmatrix} 10 & 15 & 8 & 23 & 13 & 19 & 22 & 45 & 3 & 34 & 52 & 55 & 40 & 16 & 12\\end{bmatrix}$\n",
        "\n"
      ]
    },
    {
      "cell_type": "code",
      "execution_count": 50,
      "metadata": {
        "colab": {
          "base_uri": "https://localhost:8080/"
        },
        "id": "U6GERgaKaQ-3",
        "outputId": "d35310ae-398f-466f-b944-481ebaa3a971"
      },
      "outputs": [
        {
          "name": "stdout",
          "output_type": "stream",
          "text": [
            "(a):\n",
            "[[3.16227766 3.87298335 2.82842712 4.79583152 3.60555128]\n",
            " [4.35889894 4.69041576 6.70820393 1.73205081 5.83095189]\n",
            " [7.21110255 7.41619849 6.32455532 4.         3.46410162]]\n",
            "\n",
            "(b):\n",
            "[[-3.63554147e+12  5.46172830e+12 -2.48306347e+12 -2.23757826e+12\n",
            "   1.98140753e+12]\n",
            " [ 7.33302725e+12 -8.28384971e+12  1.16884197e+12  2.07194931e+12\n",
            "  -4.67545909e+11]\n",
            " [-5.11237264e+12  3.84080113e+12  1.90316852e+12  2.83718640e+11\n",
            "  -2.17224365e+12]\n",
            " [-3.90937468e+12  3.43177975e+12  7.60156187e+11 -2.25057783e+11\n",
            "  -1.02214385e+12]\n",
            " [ 4.39804651e+12 -3.07822160e+12 -1.95468734e+12 -4.45913626e+11\n",
            "   2.16049008e+12]]\n",
            "\n",
            "(c):\n",
            "Column 1: sum=81, std=18.05547008526779\n",
            "Column 2: sum=92, std=17.441967269268172\n",
            "Column 3: sum=93, std=16.391054470858997\n",
            "Column 4: sum=42, std=8.286535263104035\n",
            "Column 5: sum=59, std=10.143416036468626\n",
            "\n",
            "(d):\n",
            "[[8, 10, 13, 15, 23], [3, 19, 22, 34, 45], [12, 16, 40, 52, 55]]\n",
            "\n",
            "(e):\n",
            "[[22 45  3]\n",
            " [55 40 16]]\n",
            "\n",
            "(f):\n",
            "[10 15  8 23 13 19 22 45  3 34 52 55 40 16 12]\n",
            "\n"
          ]
        }
      ],
      "source": [
        "# Your code goes here\n",
        "\n",
        "# Import Numpy\n",
        "import numpy as np\n",
        "\n",
        "# Initialize matrix as defined above\n",
        "A = np.array(\n",
        "    [[10, 15, 8, 23, 13],\n",
        "     [19, 22, 45, 3, 34],\n",
        "     [52, 55, 40, 16, 12]]\n",
        ")\n",
        "\n",
        "# (b) Find matrix of square roots of each element in matrix A\n",
        "B = np.sqrt(A)\n",
        "print(\"(a):\\n{}\\n\".format(B))\n",
        "\n",
        "# (b) Calculate (A^T A)^-1\n",
        "C = np.linalg.inv(np.matmul(A.T, A))\n",
        "print(\"(b):\\n{}\\n\".format(C))\n",
        "\n",
        "# (c) Find the sum of all the elements across the columns of matrix A and standard deviation for each column.\n",
        "print(\"(c):\")\n",
        "sumsAndDevs = []\n",
        "for i, col in enumerate(A.T):\n",
        "    print(\"Column {}: sum={}, std={}\".format(i+1, sum(col), np.std(col)))\n",
        "print()\n",
        "\n",
        "# (d) Sort the elements down the rows.\n",
        "D = [sorted(row) for row in A]\n",
        "print(\"(d):\\n{}\\n\".format(D))\n",
        "\n",
        "# (e) Make a slice that has the elements on rows 2 and 3 and columns 2 to 4\n",
        "E = A[1:, 1:4]\n",
        "print(\"(e):\\n{}\\n\".format(E))\n",
        "\n",
        "# (f) Reshape the matrix into the following array: [10 15 8 23 13 19 22 45 3 34 52 55 40 16 12]\n",
        "F = A.reshape(15)\n",
        "print(\"(f):\\n{}\\n\".format(F))"
      ]
    }
  ],
  "metadata": {
    "colab": {
      "collapsed_sections": [],
      "name": "Homework_1.ipynb",
      "provenance": []
    },
    "kernelspec": {
      "display_name": "Python 3",
      "name": "python3"
    },
    "language_info": {
      "codemirror_mode": {
        "name": "ipython",
        "version": 3
      },
      "file_extension": ".py",
      "mimetype": "text/x-python",
      "name": "python",
      "nbconvert_exporter": "python",
      "pygments_lexer": "ipython3",
      "version": "3.9.5"
    }
  },
  "nbformat": 4,
  "nbformat_minor": 0
}
