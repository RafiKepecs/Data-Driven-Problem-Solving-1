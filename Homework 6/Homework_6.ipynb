{
 "cells": [
  {
   "cell_type": "markdown",
   "metadata": {},
   "source": [
    "# Homework 6 - ME 364 (Spring 2022)"
   ]
  },
  {
   "cell_type": "markdown",
   "metadata": {},
   "source": [
    "For this homework, we use the dataset BIKED, which you were introduced to it before. The only difference in this dataset is that the column Bicycle Model's name has changed into Bike Class. This dataset includes 4,512 manually-designed bicycle models. The goal of the dataset developers is to enable a variety of data-driven design applications for bicycles and support the development of data-driven design methods. The dataset is comprised of a variety of design information including assembly images, component images, numerical design parameters, and class labels. The text explaining the dataset and the figure are coming from paper: https://decode.mit.edu/assets/papers/BIKED.pdf. The dataset include 19 different styles of bicycles. Figure 1 shows a list of styles and the number of samples (and the percentages) for each style in the original dataset. Mountain bikes are abbreviated as \"MTB\". Bikes classified as \"OTHER\" are labelled as such by the designer. The \"Remaining Label Categories\" group contains the remaining 10 explicit categories in descending order of prevalence: BMX, CITY, COMMUTER, CRUISER, HYBRID, TRIALS, CARGO, GRAVEL, CHILDRENS, FAT."
   ]
  },
  {
   "cell_type": "markdown",
   "metadata": {},
   "source": [
    "<font color='red'>__Question (1)__</font>: Create a new dataset that only includes bike classes ROAD, MTB, TRACK, OTHER, DIRT JUMP, TOURING, CYCLOCROSS, and POLO. Your new dataset should still include all the features in the original dataset. You will work with this new dataset."
   ]
  },
  {
   "cell_type": "code",
   "execution_count": null,
   "metadata": {},
   "outputs": [],
   "source": []
  },
  {
   "cell_type": "markdown",
   "metadata": {},
   "source": [
    "<font color='red'>__Question (2)__</font>: This dataset include so many features. Your goal first is to find the most important features to classify the bikes. To do that, you run a logistic regression model for classification and retrieve the coeff property that contains the coefficients found for each input variable. Assuming that you have your data in dataframe called df, you can run the following code snippet to find the top 50 important features. Provide a list of these top 50 features.\n",
    "\n",
    "```python\n",
    "from sklearn.linearmodel import LogisticRegression\n",
    "from sklearn.preprocessing import MinMaxScaler\n",
    "model = LogisticRegression ( multiclass='multinomial' )\n",
    "X = np.array(df.iloc[:,:−1])\n",
    "MinMaxscaler = MinMaxScaler( ) # define min-max scaler\n",
    "X_in = MinMaxscaler.fittransform(X) # transform data\n",
    "y = np.array(df['Bicycle_Class'] )\n",
    "# fit the model\n",
    "model.fit(X_in , y)\n",
    "# get importance\n",
    "importance = model.coef[0]\n",
    "# Top 50 important features\n",
    "import numpy as np\n",
    "importanceABS = np.abs( importance )\n",
    "importanceABS.argsort()[−50:] [: :−1]\n",
    "# returns the top 50 important features\n",
    "df.columns[importanceABS.argsort( )[−50: ][::−1]]\n",
    "```"
   ]
  },
  {
   "cell_type": "code",
   "execution_count": null,
   "metadata": {},
   "outputs": [],
   "source": []
  },
  {
   "cell_type": "markdown",
   "metadata": {},
   "source": [
    "<font color='red'>__Question (3)__</font>: Use the top 50 features to develop a Logistic Regression classifier that can predict the bike class based on these features. At this point, your dataset should include the bike classes from question 1 and features from question 2. Provide step-by-step procedure for your model development. Calculate and report the Jaccard Index and F-Score to assess the performance of the model. Provide the confusion matrix and its plot for both training and test data."
   ]
  },
  {
   "cell_type": "code",
   "execution_count": null,
   "metadata": {},
   "outputs": [],
   "source": []
  },
  {
   "cell_type": "markdown",
   "metadata": {},
   "source": [
    "<font color='red'>__Question (4)__</font>: Use the dataset you used for item 3 and follow the same instruction but this time use Support Vector Machine algorithm to develop a multiclass classifier. Provide step-by-step procedure for your model development. Calculate and report the Jaccard Index and F-Score to assess the performance of the model. Provide the confusion matrix and its plot for both training and test data. Finally, compare your results with what you got in question 3."
   ]
  },
  {
   "cell_type": "code",
   "execution_count": null,
   "metadata": {},
   "outputs": [],
   "source": []
  }
 ],
 "metadata": {
  "interpreter": {
   "hash": "fb72153cf54ad77d82f8164c4a554839638aadec43f56da798779a40d43ee9cc"
  },
  "kernelspec": {
   "display_name": "Python 3.9.5 ('base')",
   "language": "python",
   "name": "python3"
  },
  "language_info": {
   "name": "python",
   "version": "3.9.5"
  },
  "orig_nbformat": 4
 },
 "nbformat": 4,
 "nbformat_minor": 2
}
