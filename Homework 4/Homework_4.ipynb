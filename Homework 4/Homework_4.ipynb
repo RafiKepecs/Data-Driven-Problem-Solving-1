{
  "cells": [
    {
      "cell_type": "markdown",
      "metadata": {
        "id": "IFHfaBkpFxIP"
      },
      "source": [
        "# Homework IV - ME 364 (Spring 2022)"
      ]
    },
    {
      "cell_type": "markdown",
      "metadata": {
        "id": "1_P4qlonGUsH"
      },
      "source": [
        "### <font color='red'>__Question I__</font> \n",
        "A series of measurements have been done on a vibrating system, which we can be simplified as a single degree-of-freedom. The stiffness of the system was changed and the time period of the system was measured. The data is recorded in a dataset and attached to this assingment with the name `Q1.csv`. This dataset includes stiffness values and the corresponding time period for the oscillation. Use <u>simple linear regression</u> to estimate the system's mass.\n",
        "\n",
        "<font color='blue'>__NOTES :__</font>\n",
        "- For a system with single degree-of-freedom, $\\omega_n=\\sqrt{\\frac{k}{m}}$\n",
        "- The time period of a system and its natural frequency are related with $\\omega_n=\\frac{2\\pi}{T}$\n",
        "\n"
      ]
    },
    {
      "cell_type": "code",
      "execution_count": 574,
      "metadata": {},
      "outputs": [
        {
          "data": {
            "text/html": [
              "<div>\n",
              "<style scoped>\n",
              "    .dataframe tbody tr th:only-of-type {\n",
              "        vertical-align: middle;\n",
              "    }\n",
              "\n",
              "    .dataframe tbody tr th {\n",
              "        vertical-align: top;\n",
              "    }\n",
              "\n",
              "    .dataframe thead th {\n",
              "        text-align: right;\n",
              "    }\n",
              "</style>\n",
              "<table border=\"1\" class=\"dataframe\">\n",
              "  <thead>\n",
              "    <tr style=\"text-align: right;\">\n",
              "      <th></th>\n",
              "      <th>Stiffness (N/m)</th>\n",
              "      <th>Time Period (s)</th>\n",
              "    </tr>\n",
              "  </thead>\n",
              "  <tbody>\n",
              "    <tr>\n",
              "      <th>0</th>\n",
              "      <td>10.000000</td>\n",
              "      <td>6.327388</td>\n",
              "    </tr>\n",
              "    <tr>\n",
              "      <th>1</th>\n",
              "      <td>35.789474</td>\n",
              "      <td>3.256412</td>\n",
              "    </tr>\n",
              "    <tr>\n",
              "      <th>2</th>\n",
              "      <td>61.578947</td>\n",
              "      <td>2.533519</td>\n",
              "    </tr>\n",
              "    <tr>\n",
              "      <th>3</th>\n",
              "      <td>87.368421</td>\n",
              "      <td>2.068982</td>\n",
              "    </tr>\n",
              "    <tr>\n",
              "      <th>4</th>\n",
              "      <td>113.157895</td>\n",
              "      <td>1.817985</td>\n",
              "    </tr>\n",
              "  </tbody>\n",
              "</table>\n",
              "</div>"
            ],
            "text/plain": [
              "   Stiffness (N/m)  Time Period (s)\n",
              "0        10.000000         6.327388\n",
              "1        35.789474         3.256412\n",
              "2        61.578947         2.533519\n",
              "3        87.368421         2.068982\n",
              "4       113.157895         1.817985"
            ]
          },
          "metadata": {},
          "output_type": "display_data"
        },
        {
          "name": "stdout",
          "output_type": "stream",
          "text": [
            "If regression results are correct, w_0 should be close to 0 and w_1 should be the slope of the transformed data.\n",
            "w_0 = -0.545, w_1 = 0.106\n",
            "The mass of the system should equal 1/w_1.\n",
            "m = 1/w_1 = 9.427 kg\n"
          ]
        }
      ],
      "source": [
        "# Your code goes here\n",
        "\n",
        "# importing required functions\n",
        "from sklearn.linear_model import LinearRegression\n",
        "import numpy as np\n",
        "import pandas as pd\n",
        "\n",
        "# Import the data into a dataframe\n",
        "url1 = 'https://raw.githubusercontent.com/yairg98/Data-Driven-Problem-Solving/main/Homework%204/Q1.csv'\n",
        "df1 = pd.read_csv(url1)\n",
        "\n",
        "# Confirm that dataframe uploaded correctly\n",
        "display(df1.head())\n",
        "\n",
        "# Create a column that linearly scales with mass (m)\n",
        "# k = m*(2*pi/T)^2 --> m = k / (2*pi/T)^2 = dx/dy\n",
        "# Slope of fit line = dy/dx = (2*pi/T)^2 / k\n",
        "df1['(2*pi/T)^2'] = 4 * np.pi**2 / df1['Time Period (s)']**2\n",
        "\n",
        "# Define the instance of linear regression\n",
        "lml = LinearRegression()\n",
        "\n",
        "# Fitting the model to the data\n",
        "x1 = np.array(df1['Stiffness (N/m)']).reshape((-1,1))\n",
        "y1 = df1['(2*pi/T)^2']\n",
        "lml.fit(x1, y1)\n",
        "\n",
        "# Reporting the values of weights\n",
        "w0=lml.intercept_  # w_0\n",
        "w1=lml.coef_[0]    # W-1\n",
        "m = 1/w1\n",
        "\n",
        "# Identifying system mass\n",
        "print(\"If regression results are correct, w_0 should be close to 0 and w_1 should be the slope of the transformed data.\")\n",
        "print(f'w_0 = {w0:.3f}, w_1 = {w1:.3f}')\n",
        "\n",
        "print(\"The mass of the system should equal 1/w_1.\")\n",
        "print(f'm = 1/w_1 = {m:.3f} kg')"
      ]
    },
    {
      "cell_type": "code",
      "execution_count": 575,
      "metadata": {},
      "outputs": [
        {
          "data": {
            "image/png": "[encoded data removed]",
            "text/plain": [
              "<Figure size 1152x576 with 2 Axes>"
            ]
          },
          "metadata": {
            "needs_background": "light"
          },
          "output_type": "display_data"
        }
      ],
      "source": [
        "import matplotlib.pyplot as plt\n",
        "\n",
        "# Plot results\n",
        "fig, axs = plt.subplots(1,2, figsize=(16,8))\n",
        "fig.suptitle(f\"Q1 Data with Fit Line (Mass = {m:.3f} kg)\", fontsize=16)\n",
        "\n",
        "\n",
        "# First plot - transformed axes to make result linear with m as slope\n",
        "\n",
        "# Plot raw data on transformed axes\n",
        "axs[0].scatter(\n",
        "    x=df1['Stiffness (N/m)'], y=df1['(2*pi/T)^2'],\n",
        "    label='Data',\n",
        "    color='b')\n",
        "# Plot fit line on transformed axes\n",
        "xplot1=np.linspace(0,500,num=100)\n",
        "yplot1=w0+w1*xplot1\n",
        "axs[0].plot(xplot1,yplot1,color='r',label='Fit Line')\n",
        "axs[0].set_xlabel(\"Stiffness (N/m\")\n",
        "axs[0].set_ylabel(\"(2*pi/T)^2\")\n",
        "axs[0].set_title(\"Transformed Axes for Linearity\")\n",
        "axs[0].legend()\n",
        "axs[0].grid()\n",
        "\n",
        "\n",
        "# Second plot - original axes for standard representation of data\n",
        "\n",
        "# Plot raw data\n",
        "axs[1].scatter(\n",
        "    x=df1['Stiffness (N/m)'], y=df1['Time Period (s)'],\n",
        "    label='Data',\n",
        "    color='b')\n",
        "# Plot fit line on transformed axes\n",
        "xplot2 = np.linspace(df1['Stiffness (N/m)'].min(),500,num=100)\n",
        "yplot2 = (2 * np.pi) / (np.sqrt(xplot2/m))\n",
        "axs[1].plot(xplot2,yplot2,color='r',label='Fit Line')\n",
        "axs[1].set_xlabel(\"Stiffness (N/m\")\n",
        "axs[1].set_ylabel(\"Time Period (s)\")\n",
        "axs[1].set_title(\"Standard Axes\")\n",
        "axs[1].legend()\n",
        "axs[1].grid()\n",
        "\n",
        "plt.show()"
      ]
    },
    {
      "cell_type": "markdown",
      "metadata": {
        "id": "QXyDqvx6nHKR"
      },
      "source": [
        "### <font color='red'>__Question II__</font>\n"
      ]
    },
    {
      "cell_type": "markdown",
      "metadata": {
        "id": "mjjoa-MUK-ro"
      },
      "source": [
        "We are trying to model a system with two degrees of freedom (https://www.brown.edu/Departments/Engineering/Courses/En4/Notes/vibrations_mdof/vibrations_mdof.htm) based on some measurement data. We have the magnitude of input force and the corresponding maximum displacements of mass 1 and mass 2 for given input forces. The data is stored in the csv file `Q2.csv`. \n",
        "\n",
        "- Use <u>Linear Regression</u> to develop a model to predict the magnitude of the input force if we know the displacements of mass 1 and mass 2.  \n",
        "\n",
        "- Use evaluation metrics to assess the performance of your model. Is this a good model? Why? Run your model multiple times and look at the evaluation metrics. Do you see anything unusual about these metrics?\n",
        "\n",
        "- What is the predicted force magnitude when mass 1 and mass 2 displacements both are 0.12 m ?"
      ]
    },
    {
      "cell_type": "code",
      "execution_count": 576,
      "metadata": {
        "id": "eMRIF9dTIrzs"
      },
      "outputs": [
        {
          "data": {
            "text/html": [
              "<div>\n",
              "<style scoped>\n",
              "    .dataframe tbody tr th:only-of-type {\n",
              "        vertical-align: middle;\n",
              "    }\n",
              "\n",
              "    .dataframe tbody tr th {\n",
              "        vertical-align: top;\n",
              "    }\n",
              "\n",
              "    .dataframe thead th {\n",
              "        text-align: right;\n",
              "    }\n",
              "</style>\n",
              "<table border=\"1\" class=\"dataframe\">\n",
              "  <thead>\n",
              "    <tr style=\"text-align: right;\">\n",
              "      <th></th>\n",
              "      <th>Input Force (N)</th>\n",
              "      <th>Max_Disp_x2 (m)</th>\n",
              "      <th>Max_Disp_x1 (m)</th>\n",
              "    </tr>\n",
              "  </thead>\n",
              "  <tbody>\n",
              "    <tr>\n",
              "      <th>0</th>\n",
              "      <td>0.050000</td>\n",
              "      <td>-0.088575</td>\n",
              "      <td>0.076227</td>\n",
              "    </tr>\n",
              "    <tr>\n",
              "      <th>1</th>\n",
              "      <td>0.053061</td>\n",
              "      <td>0.136006</td>\n",
              "      <td>0.086865</td>\n",
              "    </tr>\n",
              "    <tr>\n",
              "      <th>2</th>\n",
              "      <td>0.056122</td>\n",
              "      <td>0.102389</td>\n",
              "      <td>0.119084</td>\n",
              "    </tr>\n",
              "    <tr>\n",
              "      <th>3</th>\n",
              "      <td>0.059184</td>\n",
              "      <td>0.103362</td>\n",
              "      <td>0.007922</td>\n",
              "    </tr>\n",
              "    <tr>\n",
              "      <th>4</th>\n",
              "      <td>0.062245</td>\n",
              "      <td>0.069651</td>\n",
              "      <td>-0.021716</td>\n",
              "    </tr>\n",
              "  </tbody>\n",
              "</table>\n",
              "</div>"
            ],
            "text/plain": [
              "   Input Force (N)  Max_Disp_x2 (m)  Max_Disp_x1 (m)\n",
              "0         0.050000        -0.088575         0.076227\n",
              "1         0.053061         0.136006         0.086865\n",
              "2         0.056122         0.102389         0.119084\n",
              "3         0.059184         0.103362         0.007922\n",
              "4         0.062245         0.069651        -0.021716"
            ]
          },
          "metadata": {},
          "output_type": "display_data"
        },
        {
          "name": "stdout",
          "output_type": "stream",
          "text": [
            "w_0=0.06, w_1= 0.14 and w2=0.41\n"
          ]
        },
        {
          "data": {
            "text/plain": [
              "array([[0.13571429, 0.11945551],\n",
              "       [0.08061224, 0.11301026],\n",
              "       [0.15714286, 0.13729753],\n",
              "       [0.19387755, 0.21443265],\n",
              "       [0.17857143, 0.15525616],\n",
              "       [0.14183673, 0.16694187],\n",
              "       [0.1877551 , 0.1809323 ],\n",
              "       [0.11428571, 0.12207295],\n",
              "       [0.15102041, 0.11976233],\n",
              "       [0.05612245, 0.12075008]])"
            ]
          },
          "execution_count": 576,
          "metadata": {},
          "output_type": "execute_result"
        }
      ],
      "source": [
        "# Your code goes here\n",
        "\n",
        "# importing required functions\n",
        "from sklearn.linear_model import LinearRegression\n",
        "from sklearn.model_selection import train_test_split\n",
        "import numpy as np\n",
        "import pandas as pd\n",
        "\n",
        "# Import the data into a dataframe\n",
        "url2 = 'https://raw.githubusercontent.com/yairg98/Data-Driven-Problem-Solving/main/Homework%204/Q2.csv'\n",
        "df2 = pd.read_csv(url2)\n",
        "\n",
        "# Confirm that dataframe uploaded correctly\n",
        "display(df2.head())\n",
        "\n",
        "# defining the I.V. and Target Variable (D.V.)\n",
        "x_datam=np.array(df2[['Max_Disp_x2 (m)','Max_Disp_x1 (m)']])\n",
        "y_datam=np.array(df2[['Input Force (N)']])\n",
        "\n",
        "# Splitting the data into train and test 80/20\n",
        "x_trainm, x_testm, y_trainm, y_testm=train_test_split(x_datam, y_datam, test_size=0.2, shuffle=True)\n",
        "\n",
        "# Define the linear regression object\n",
        "lmm = LinearRegression()\n",
        "\n",
        "# Fitting the model to the training data\n",
        "lmm.fit(x_trainm, y_trainm)\n",
        "\n",
        "# reporting the values of weights\n",
        "w0m=lmm.intercept_[0]  # w_0\n",
        "w1m=lmm.coef_[0,0]     # w_1\n",
        "w2m=lmm.coef_[0,1]     # w_2\n",
        "print(f'w_0={w0m:0.2f}, w_1= {w1m:.2f} and w2={w2m:.2f}')\n",
        "\n",
        "# making prediction\n",
        "yhatm = lmm.predict(x_testm)\n",
        "\n",
        "# Compare predicted values to actual values\n",
        "np.column_stack([y_testm, yhatm])"
      ]
    },
    {
      "cell_type": "markdown",
      "metadata": {},
      "source": [
        "The model seems to perform moderately well. A comparison of the\n",
        "individual data predicted and actual values in the section above shows\n",
        "a reasonably significant correlation. However, there are several strange\n",
        "things about the evaluation metrics, each of which behaves differently\n",
        "when run multiple times. On multiple consecutive runs with different,\n",
        "randomly generated test/train data splits, the mean absolute error\n",
        "remained relatively stable. Though occasionally getting as low as below\n",
        ".02, it was usually between .025 and .03. I needed to add more\n",
        "significant figures in order to evaluate the mean sqyared error, which\n",
        "varried significantly, but stayed mostly within the range of .00050 to \n",
        ".00150.\n",
        "\n",
        "The strangest metric was R2, which varied wildly. In tests that I did it\n",
        "got as high as 0.8 and as low as 0.06. That does not include the\n",
        "occasional negative results which got as low as -0.86. All the while,\n",
        "the other evaluation metrics remained relatively stable."
      ]
    },
    {
      "cell_type": "code",
      "execution_count": 577,
      "metadata": {},
      "outputs": [
        {
          "name": "stdout",
          "output_type": "stream",
          "text": [
            "The value of mean squared error is: 0.00086\n",
            "The value of R2 is: 0.53\n",
            "The value of mean absolute error is: 0.02\n"
          ]
        }
      ],
      "source": [
        "# Mean Squared Error\n",
        "from sklearn.metrics import mean_squared_error\n",
        "\n",
        "MSEm = mean_squared_error(y_testm, yhatm)\n",
        "print(f'The value of mean squared error is: {MSEm:.5f}')\n",
        "# R2\n",
        "from sklearn.metrics import r2_score\n",
        "\n",
        "r2scorem = r2_score(y_testm, yhatm)\n",
        "print(f'The value of R2 is: {r2scorem:.2f}')\n",
        "# Mean Absolute Error\n",
        "from sklearn.metrics import mean_absolute_error\n",
        "\n",
        "MAEm=mean_absolute_error(y_testm, yhatm)\n",
        "print(f'The value of mean absolute error is: {MAEm:.2f}')"
      ]
    },
    {
      "cell_type": "markdown",
      "metadata": {},
      "source": [
        "Using the model to predict the input force given mass 1 and mass 2\n",
        "displacements of 0.12 m each."
      ]
    },
    {
      "cell_type": "code",
      "execution_count": 578,
      "metadata": {},
      "outputs": [
        {
          "name": "stdout",
          "output_type": "stream",
          "text": [
            "Predicted Input Force given mass displacements of 0.12m each: 0.1237 N\n"
          ]
        }
      ],
      "source": [
        "pred = lmm.predict([[0.12,0.12]])[0][0]\n",
        "\n",
        "print(f\"Predicted Input Force given mass displacements of 0.12m each: {pred:.4f} N\")"
      ]
    }
  ],
  "metadata": {
    "colab": {
      "collapsed_sections": [],
      "name": "Homework_5.ipynb",
      "provenance": []
    },
    "kernelspec": {
      "display_name": "Python 3",
      "name": "python3"
    },
    "language_info": {
      "codemirror_mode": {
        "name": "ipython",
        "version": 3
      },
      "file_extension": ".py",
      "mimetype": "text/x-python",
      "name": "python",
      "nbconvert_exporter": "python",
      "pygments_lexer": "ipython3",
      "version": "3.9.7"
    }
  },
  "nbformat": 4,
  "nbformat_minor": 0
}
