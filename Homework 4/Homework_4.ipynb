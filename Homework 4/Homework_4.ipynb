{
  "cells": [
    {
      "cell_type": "markdown",
      "metadata": {
        "id": "IFHfaBkpFxIP"
      },
      "source": [
        "# Homework IV - ME 364 (Spring 2022)"
      ]
    },
    {
      "cell_type": "markdown",
      "metadata": {
        "id": "1_P4qlonGUsH"
      },
      "source": [
        "### <font color='red'>__Question I__</font> \n",
        "A series of measurements have been done on a vibrating system, which we can be simplified as a single degree-of-freedom. The stiffness of the system was changed and the time period of the system was measured. The data is recorded in a dataset and attached to this assingment with the name `Q1.csv`. This dataset includes stiffness values and the corresponding time period for the oscillation. Use <u>simple linear regression</u> to estimate the system's mass.\n",
        "\n",
        "<font color='blue'>__NOTES :__</font>\n",
        "- For a system with single degree-of-freedom, $\\omega_n=\\sqrt{\\frac{k}{m}}$\n",
        "- The time period of a system and its natural frequency are related with $\\omega_n=\\frac{2\\pi}{T}$\n",
        "\n"
      ]
    },
    {
      "cell_type": "code",
      "execution_count": null,
      "metadata": {
        "id": "LpRgg_MNjH1k"
      },
      "outputs": [],
      "source": [
        "# Your code goes here\n"
      ]
    },
    {
      "cell_type": "markdown",
      "metadata": {
        "id": "QXyDqvx6nHKR"
      },
      "source": [
        "### <font color='red'>__Question II__</font>\n"
      ]
    },
    {
      "cell_type": "markdown",
      "metadata": {
        "id": "mjjoa-MUK-ro"
      },
      "source": [
        "We are trying to model a system with two degrees of freedom (https://www.brown.edu/Departments/Engineering/Courses/En4/Notes/vibrations_mdof/vibrations_mdof.htm) based on some measurement data. We have the magnitude of input force and the corresponding maximum displacements of mass 1 and mass 2 for given input forces. The data is stored in the csv file `Q2.csv`. \n",
        "\n",
        "- Use <u>Linear Regression</u> to develop a model to predict the magnitude of the input force if we know the displacements of mass 1 and mass 2.  \n",
        "\n",
        "- Use evaluation metrics to assess the performance of your model. Is this a good model? Why? Run your model multiple times and look at the evaluation metrics. Do you see anything unusual about these metrics?\n",
        "\n",
        "- What is the predicted force magnitude when mass 1 and mass 2 displacements both are 0.12 m ?"
      ]
    },
    {
      "cell_type": "code",
      "execution_count": null,
      "metadata": {
        "id": "eMRIF9dTIrzs"
      },
      "outputs": [],
      "source": [
        "# Your code goes here\n"
      ]
    }
  ],
  "metadata": {
    "colab": {
      "collapsed_sections": [],
      "name": "Homework_5.ipynb",
      "provenance": []
    },
    "kernelspec": {
      "display_name": "Python 3",
      "name": "python3"
    },
    "language_info": {
      "name": "python"
    }
  },
  "nbformat": 4,
  "nbformat_minor": 0
}
