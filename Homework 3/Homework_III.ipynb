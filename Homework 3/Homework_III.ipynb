{
  "cells": [
    {
      "cell_type": "markdown",
      "metadata": {
        "id": "DgZ4B_WofL_k"
      },
      "source": [
        "# Homework III - ME 364 (Spring 2022)"
      ]
    },
    {
      "cell_type": "markdown",
      "metadata": {
        "id": "5V4MXmskfQ17"
      },
      "source": [
        "For this homework assignment, you are going to use <u>part</u> of the United States Wind Turbine Database (USWTDB), containing the information about the locations of land-based and offshore wind turbines in the United States, corresponding wind project information, and turbine technical specifications (for more information see: https://eerscmap.usgs.gov/uswtdb). The dataset is in the same zip file with this notebook. The variables in the dataset are:\n",
        "\n",
        "- **case_id**: Unique uswtdb id\n",
        "- **faa_ors**: Federal Avaiation Administration digital obstacle file (dof) for obstacle repository system (ors)\n",
        "- **faa_asn**: Federal Avaiation Administration obstruction evaluation - airport airspace analysis (oe-aaa) aeronautical study number (asn)\n",
        "- **usgs_pr_id**: United States Geological Survey id from prior turbine dataset\n",
        "- **eia_id**: Energy Information Administration plant id from eia form 860\n",
        "- **t_state**: State where turbine is located\n",
        "- **t_county**: County where turbine is located\n",
        "- **t_fips**: State and county fips where turbine is located\n",
        "- **p_name**: Project name\n",
        "- **p_year**: Year project became operational\n",
        "- **p_tnum**: Number of turbines in project\n",
        "- **p_cap**: Project capacity (MW)\n",
        "- **t_manu**: Turbine original equipment manufacturer\n",
        "- **t_model**: Turbine model\n",
        "- **t_cap**: Turbine capacity (kW)\n",
        "- **t_hh**: Turbine hub height (meters)\n",
        "- **t_rd**: Turbine rotor diameter (meters)\n",
        "- **t_rsa**: Turbine rotor swept area (meters^2)\n",
        "- **t_ttlh**: Turbine total height - calculated (meters)\n",
        "- **t_conf_atr**: Turbine characteristic confidence (0-3)\n",
        "- **t_conf_loc**: Location confidence (0-3)\n",
        "- **t_img_date**: Date of image used to visually verify turbine location\n",
        "- **t_img_srce**: Source of image used to visually verify turbine location\n",
        "- **xlong**: Longitude (decimal degrees - NAD 83 datum)\n",
        "- **ylat**: Latitude (decimal degrees - NAD 83 datum)\n",
        "\n",
        "<font color='red'>__IMPORTANT NOTE :__</font> _for all the plots, make sure that your axes and all the variables shown on the plots are properly named (not the default abbreviations used in the dataset) and they all have units associated with them, as long as the variable has a unit._"
      ]
    },
    {
      "cell_type": "markdown",
      "metadata": {
        "id": "apEv1UaajkNx"
      },
      "source": [
        "<font color='blue'>__(1)__</font>  Import the data to the notebook. How many entries (i.e., rows) do we have in this dataset? Show the first five rows of the dataset."
      ]
    },
    {
      "cell_type": "code",
      "execution_count": null,
      "metadata": {
        "id": "pH20wIqNfGaJ"
      },
      "outputs": [],
      "source": [
        "# Your code goes here\n"
      ]
    },
    {
      "cell_type": "markdown",
      "metadata": {
        "id": "plzId0iNqev8"
      },
      "source": [
        "<font color='blue'>__(2)__</font> Provide a bubble chart, representing the turbine capacity versus turbine roto diameter with the size of the markers representing the project capacity. Show the Turbine characteristic confidence on your plot as well. Do not forget to use option `labels` to properly name all the variables."
      ]
    },
    {
      "cell_type": "code",
      "execution_count": null,
      "metadata": {
        "id": "vdZ2Ow5Fl3ls"
      },
      "outputs": [],
      "source": [
        "# Your code goes here\n"
      ]
    },
    {
      "cell_type": "markdown",
      "metadata": {
        "id": "49oFRepwwK1r"
      },
      "source": [
        "<font color='blue'>__(3)__</font> Create a map centered on the US (look up the US latitude and longitude) and represent the locations of the wind turbine projects on the map. Use green circles to represent each project and make sure that the project name is shown as a popup for each project. Save the map as an html file and submit it along with your notebook for this assignment."
      ]
    },
    {
      "cell_type": "code",
      "execution_count": null,
      "metadata": {
        "id": "rXBi-ALTlIRz"
      },
      "outputs": [],
      "source": [
        "# Your code goes here\n"
      ]
    },
    {
      "cell_type": "markdown",
      "metadata": {
        "id": "3qUaF_e4zTN6"
      },
      "source": [
        "<font color='blue'>__(4)__</font> For the state of Texas, provide a pie chart showing the project capacity as a percentage of total capacity for each year. Make sure that you use option `labels` to properly name the variables with their units and put the years and percentages inside each slice. (**note**: you first need to define a new dataframe that only includes the data for the state of Texas.)"
      ]
    },
    {
      "cell_type": "code",
      "execution_count": null,
      "metadata": {
        "id": "gB3ZKl2-zUtL"
      },
      "outputs": [],
      "source": [
        "# Your code goes here\n"
      ]
    }
  ],
  "metadata": {
    "colab": {
      "collapsed_sections": [],
      "name": "Homework_4.ipynb",
      "provenance": []
    },
    "kernelspec": {
      "display_name": "Python 3",
      "name": "python3"
    },
    "language_info": {
      "name": "python"
    }
  },
  "nbformat": 4,
  "nbformat_minor": 0
}
