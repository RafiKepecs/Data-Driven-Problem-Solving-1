{
 "cells": [
  {
   "cell_type": "markdown",
   "metadata": {},
   "source": [
    "# In Class Assignment 4 - ME 364 (Spring 2022)"
   ]
  },
  {
   "cell_type": "markdown",
   "metadata": {},
   "source": [
    "<font color='red'>__Question__</font>: Develop three regression models: a linear regression, a ridge regression, and a lasso regression to predict elongation using layer_height, wall_thickness, infill_density, nozzle_temperature, bed_temperature, print_speed,\tand fan_speed. Plot the weights for all three models. Decide about regularization parameter value and change it to see how ti affects the results."
   ]
  },
  {
   "cell_type": "code",
   "execution_count": 56,
   "metadata": {},
   "outputs": [
    {
     "data": {
      "text/html": [
       "<div>\n",
       "<style scoped>\n",
       "    .dataframe tbody tr th:only-of-type {\n",
       "        vertical-align: middle;\n",
       "    }\n",
       "\n",
       "    .dataframe tbody tr th {\n",
       "        vertical-align: top;\n",
       "    }\n",
       "\n",
       "    .dataframe thead th {\n",
       "        text-align: right;\n",
       "    }\n",
       "</style>\n",
       "<table border=\"1\" class=\"dataframe\">\n",
       "  <thead>\n",
       "    <tr style=\"text-align: right;\">\n",
       "      <th></th>\n",
       "      <th>layer_height</th>\n",
       "      <th>wall_thickness</th>\n",
       "      <th>infill_density</th>\n",
       "      <th>infill_pattern</th>\n",
       "      <th>nozzle_temperature</th>\n",
       "      <th>bed_temperature</th>\n",
       "      <th>print_speed</th>\n",
       "      <th>material</th>\n",
       "      <th>fan_speed</th>\n",
       "      <th>roughness</th>\n",
       "      <th>tension_strenght</th>\n",
       "      <th>elongation</th>\n",
       "    </tr>\n",
       "  </thead>\n",
       "  <tbody>\n",
       "    <tr>\n",
       "      <th>0</th>\n",
       "      <td>0.02</td>\n",
       "      <td>8</td>\n",
       "      <td>90</td>\n",
       "      <td>grid</td>\n",
       "      <td>220</td>\n",
       "      <td>60</td>\n",
       "      <td>40</td>\n",
       "      <td>abs</td>\n",
       "      <td>0</td>\n",
       "      <td>25</td>\n",
       "      <td>18</td>\n",
       "      <td>1.2</td>\n",
       "    </tr>\n",
       "    <tr>\n",
       "      <th>1</th>\n",
       "      <td>0.02</td>\n",
       "      <td>7</td>\n",
       "      <td>90</td>\n",
       "      <td>honeycomb</td>\n",
       "      <td>225</td>\n",
       "      <td>65</td>\n",
       "      <td>40</td>\n",
       "      <td>abs</td>\n",
       "      <td>25</td>\n",
       "      <td>32</td>\n",
       "      <td>16</td>\n",
       "      <td>1.4</td>\n",
       "    </tr>\n",
       "    <tr>\n",
       "      <th>2</th>\n",
       "      <td>0.02</td>\n",
       "      <td>1</td>\n",
       "      <td>80</td>\n",
       "      <td>grid</td>\n",
       "      <td>230</td>\n",
       "      <td>70</td>\n",
       "      <td>40</td>\n",
       "      <td>abs</td>\n",
       "      <td>50</td>\n",
       "      <td>40</td>\n",
       "      <td>8</td>\n",
       "      <td>0.8</td>\n",
       "    </tr>\n",
       "    <tr>\n",
       "      <th>3</th>\n",
       "      <td>0.02</td>\n",
       "      <td>4</td>\n",
       "      <td>70</td>\n",
       "      <td>honeycomb</td>\n",
       "      <td>240</td>\n",
       "      <td>75</td>\n",
       "      <td>40</td>\n",
       "      <td>abs</td>\n",
       "      <td>75</td>\n",
       "      <td>68</td>\n",
       "      <td>10</td>\n",
       "      <td>0.5</td>\n",
       "    </tr>\n",
       "    <tr>\n",
       "      <th>4</th>\n",
       "      <td>0.02</td>\n",
       "      <td>6</td>\n",
       "      <td>90</td>\n",
       "      <td>grid</td>\n",
       "      <td>250</td>\n",
       "      <td>80</td>\n",
       "      <td>40</td>\n",
       "      <td>abs</td>\n",
       "      <td>100</td>\n",
       "      <td>92</td>\n",
       "      <td>5</td>\n",
       "      <td>0.7</td>\n",
       "    </tr>\n",
       "  </tbody>\n",
       "</table>\n",
       "</div>"
      ],
      "text/plain": [
       "   layer_height  wall_thickness  infill_density infill_pattern  \\\n",
       "0          0.02               8              90           grid   \n",
       "1          0.02               7              90      honeycomb   \n",
       "2          0.02               1              80           grid   \n",
       "3          0.02               4              70      honeycomb   \n",
       "4          0.02               6              90           grid   \n",
       "\n",
       "   nozzle_temperature  bed_temperature  print_speed material  fan_speed  \\\n",
       "0                 220               60           40      abs          0   \n",
       "1                 225               65           40      abs         25   \n",
       "2                 230               70           40      abs         50   \n",
       "3                 240               75           40      abs         75   \n",
       "4                 250               80           40      abs        100   \n",
       "\n",
       "   roughness  tension_strenght  elongation  \n",
       "0         25                18         1.2  \n",
       "1         32                16         1.4  \n",
       "2         40                 8         0.8  \n",
       "3         68                10         0.5  \n",
       "4         92                 5         0.7  "
      ]
     },
     "execution_count": 56,
     "metadata": {},
     "output_type": "execute_result"
    }
   ],
   "source": [
    "import pandas as pd\n",
    "\n",
    "url = 'https://raw.githubusercontent.com/MasoudMiM/ME_364/main/3D_Printer_Data/3DPrinterDataset.csv'   # Link to the 3D printer data set\n",
    "df = pd.read_csv(url)\n",
    "\n",
    "df.head()"
   ]
  },
  {
   "cell_type": "markdown",
   "metadata": {},
   "source": [
    "Import everything and set up parameters for all regression models"
   ]
  },
  {
   "cell_type": "code",
   "execution_count": 57,
   "metadata": {},
   "outputs": [],
   "source": [
    "from sklearn.linear_model import LinearRegression\n",
    "from sklearn.linear_model import Ridge\n",
    "from sklearn.linear_model import Lasso\n",
    "from sklearn.model_selection import train_test_split\n",
    "import numpy as np\n",
    "\n",
    "predictors = ['layer_height', 'wall_thickness', 'infill_density', 'nozzle_temperature', 'bed_temperature', 'print_speed', 'fan_speed']\n",
    "x_data=np.array(df[predictors])\n",
    "y_data=np.array(df[['elongation']])\n",
    "\n",
    "x_train,x_test,y_train,y_test=train_test_split(x_data, y_data, test_size=0.2, random_state=200)"
   ]
  },
  {
   "cell_type": "markdown",
   "metadata": {},
   "source": [
    "Create instances of each regression type\n",
    "\n",
    "Tried several different alpha values and found that higher values than\n",
    "produced less accurate models, while lower values led to overfitting, as\n",
    "indicated by the fact that the training data accuracy continued to\n",
    "improve while the testing data accuracy began to worsen."
   ]
  },
  {
   "cell_type": "code",
   "execution_count": 58,
   "metadata": {},
   "outputs": [],
   "source": [
    "alpha = 0.05\n",
    "lrg = Ridge(alpha=alpha)\n",
    "lso = Lasso(alpha=alpha)\n",
    "lrm = LinearRegression()"
   ]
  },
  {
   "cell_type": "markdown",
   "metadata": {},
   "source": [
    "Use fit function to find the weights"
   ]
  },
  {
   "cell_type": "code",
   "execution_count": 59,
   "metadata": {},
   "outputs": [
    {
     "data": {
      "text/plain": [
       "LinearRegression()"
      ]
     },
     "execution_count": 59,
     "metadata": {},
     "output_type": "execute_result"
    }
   ],
   "source": [
    "lrg.fit(x_train, y_train)\n",
    "lso.fit(x_train, y_train)\n",
    "lrm.fit(x_train, y_train)"
   ]
  },
  {
   "cell_type": "code",
   "execution_count": 60,
   "metadata": {},
   "outputs": [
    {
     "name": "stdout",
     "output_type": "stream",
     "text": [
      "For linear regression --------------------\n",
      "Bias term is 6.267\n",
      "layer_height - w_1=6.590\n",
      "wall_thickness - w_2=0.031\n",
      "infill_density - w_3=0.006\n",
      "nozzle_temperature - w_4=-0.024\n",
      "bed_temperature - w_5=-0.000\n",
      "print_speed - w_6=-0.005\n",
      "fan_speed - w_7=-0.001\n",
      "\n",
      "For lasso regression --------------------\n",
      "Bias term is 8.440\n",
      "layer_height - w_1=0.000\n",
      "wall_thickness - w_2=0.000\n",
      "infill_density - w_3=0.008\n",
      "nozzle_temperature - w_4=-0.031\n",
      "bed_temperature - w_5=0.000\n",
      "print_speed - w_6=-0.007\n",
      "fan_speed - w_7=0.000\n",
      "\n",
      "For ridge regression --------------------\n",
      "Bias term is 6.803\n",
      "layer_height - w_1=5.015\n",
      "wall_thickness - w_2=0.024\n",
      "infill_density - w_3=0.006\n",
      "nozzle_temperature - w_4=-0.026\n",
      "bed_temperature - w_5=-0.000\n",
      "print_speed - w_6=-0.006\n",
      "fan_speed - w_7=-0.000\n"
     ]
    }
   ],
   "source": [
    "print(\"For linear regression\", 20*\"-\")\n",
    "# printing the coefficients - linear regression\n",
    "print(f\"Bias term is {lrm.intercept_[0]:0.3f}\")\n",
    "for count, coef in enumerate(lrm.coef_[0]):\n",
    "    print(f\"{predictors[count]} - w_{count+1}={coef:0.3f}\")\n",
    "\n",
    "# printing the coefficients - lasso regression\n",
    "print(\"\\nFor lasso regression\", 20*\"-\")\n",
    "print(f\"Bias term is {lso.intercept_[0]:0.3f}\")\n",
    "for count, coef in enumerate(lso.coef_):\n",
    "    print(f\"{predictors[count]} - w_{count+1}={coef:0.3f}\")\n",
    "\n",
    "# printing the coefficients - ridge regression\n",
    "print(\"\\nFor ridge regression\", 20*\"-\")\n",
    "print(f\"Bias term is {lrg.intercept_[0]:0.3f}\")\n",
    "for count, coef in enumerate(lrg.coef_[0]):\n",
    "    print(f\"{predictors[count]} - w_{count+1}={coef:0.3f}\")"
   ]
  },
  {
   "cell_type": "markdown",
   "metadata": {},
   "source": [
    "Make predictions"
   ]
  },
  {
   "cell_type": "code",
   "execution_count": 61,
   "metadata": {},
   "outputs": [],
   "source": [
    "yhat_tr_lr=lrm.predict(x_test)   # using test data\n",
    "yhat_ts_lr=lrm.predict(x_train) # using training data\n",
    "\n",
    "yhat_tr_rg=lrg.predict(x_test)   # using test data\n",
    "yhat_ts_rg=lrg.predict(x_train) # using training data\n",
    "\n",
    "yhat_tr_ls=lso.predict(x_test)   # using test data\n",
    "yhat_ts_ls=lso.predict(x_train) # using training data"
   ]
  },
  {
   "cell_type": "markdown",
   "metadata": {},
   "source": [
    "Evaluate models using RSE"
   ]
  },
  {
   "cell_type": "code",
   "execution_count": 62,
   "metadata": {},
   "outputs": [
    {
     "name": "stdout",
     "output_type": "stream",
     "text": [
      "For linear regression\n",
      "The value of RSE for test data is: 0.63\n",
      "The value of RSE for training data is: 0.30\n",
      "\n",
      "For lasso regression\n",
      "The value of RSE for test data is: 0.70\n",
      "The value of RSE for training data is: 0.57\n",
      "\n",
      "For ridge regression\n",
      "The value of RSE for test data is: 0.59\n",
      "The value of RSE for training data is: 0.31\n"
     ]
    }
   ],
   "source": [
    "from sklearn.metrics import r2_score\n",
    "\n",
    "print(\"For linear regression\")\n",
    "## Evaluation using test data\n",
    "rse2ndp_test_lr = 1-r2_score(y_test, yhat_tr_lr)\n",
    "print('The value of RSE for test data is: %.2f' %rse2ndp_test_lr)\n",
    "# Evaluation using train data\n",
    "rse2ndp_train_lr = 1-r2_score(y_train, yhat_ts_lr)\n",
    "print('The value of RSE for training data is: %.2f' %rse2ndp_train_lr)\n",
    "\n",
    "print(\"\\nFor lasso regression\")\n",
    "## Evaluation using test data\n",
    "rse2ndp_test_lso = 1-r2_score(y_test, yhat_tr_ls)\n",
    "print('The value of RSE for test data is: %.2f' %rse2ndp_test_lso)\n",
    "# Evaluation using train data\n",
    "rse2ndp_train_lso = 1-r2_score(y_train, yhat_ts_ls)\n",
    "print('The value of RSE for training data is: %.2f' %rse2ndp_train_lso)\n",
    "\n",
    "\n",
    "print(\"\\nFor ridge regression\")\n",
    "## Evaluation using test data\n",
    "rse2ndp_test_rg = 1-r2_score(y_test, yhat_tr_rg)\n",
    "print('The value of RSE for test data is: %.2f' %rse2ndp_test_rg)\n",
    "# Evaluation using train data\n",
    "rse2ndp_train_rg = 1-r2_score(y_train, yhat_ts_rg)\n",
    "print('The value of RSE for training data is: %.2f' %rse2ndp_train_rg)"
   ]
  }
 ],
 "metadata": {
  "interpreter": {
   "hash": "fb72153cf54ad77d82f8164c4a554839638aadec43f56da798779a40d43ee9cc"
  },
  "kernelspec": {
   "display_name": "Python 3.9.5 ('base')",
   "language": "python",
   "name": "python3"
  },
  "language_info": {
   "codemirror_mode": {
    "name": "ipython",
    "version": 3
   },
   "file_extension": ".py",
   "mimetype": "text/x-python",
   "name": "python",
   "nbconvert_exporter": "python",
   "pygments_lexer": "ipython3",
   "version": "3.9.7"
  },
  "orig_nbformat": 4
 },
 "nbformat": 4,
 "nbformat_minor": 2
}
