{
 "cells": [
  {
   "cell_type": "markdown",
   "metadata": {},
   "source": [
    "# In Class Assignment 5 - ME 364 (Spring 2022)"
   ]
  },
  {
   "cell_type": "markdown",
   "metadata": {},
   "source": [
    "<font color='red'>__Question (1)__</font>: Using the Fuel Economy data set that we used in the class, develop a model using `Cmb MPG` and `Air Pollution Score` as features and `Fuel` as the target variable. Make sure to normalize your features.\n",
    "\n",
    "\n",
    "Split the data into train and test sets, create KNN classifier and train it on the training data, and finally make predictions on both training and test data. Feel free to play around with the distance option and the k value."
   ]
  },
  {
   "cell_type": "code",
   "execution_count": 1,
   "metadata": {},
   "outputs": [
    {
     "data": {
      "text/html": [
       "<div>\n",
       "<style scoped>\n",
       "    .dataframe tbody tr th:only-of-type {\n",
       "        vertical-align: middle;\n",
       "    }\n",
       "\n",
       "    .dataframe tbody tr th {\n",
       "        vertical-align: top;\n",
       "    }\n",
       "\n",
       "    .dataframe thead th {\n",
       "        text-align: right;\n",
       "    }\n",
       "</style>\n",
       "<table border=\"1\" class=\"dataframe\">\n",
       "  <thead>\n",
       "    <tr style=\"text-align: right;\">\n",
       "      <th></th>\n",
       "      <th>Model</th>\n",
       "      <th>Displ</th>\n",
       "      <th>Cyl</th>\n",
       "      <th>Trans</th>\n",
       "      <th>Drive</th>\n",
       "      <th>Fuel</th>\n",
       "      <th>Region</th>\n",
       "      <th>Stnd</th>\n",
       "      <th>Description</th>\n",
       "      <th>ID</th>\n",
       "      <th>Class</th>\n",
       "      <th>Air Pollution Score</th>\n",
       "      <th>City MPG</th>\n",
       "      <th>Hwy MPG</th>\n",
       "      <th>Cmb MPG</th>\n",
       "      <th>Greenhouse Gas Score</th>\n",
       "      <th>SmartWay</th>\n",
       "      <th>Comb CO2</th>\n",
       "    </tr>\n",
       "  </thead>\n",
       "  <tbody>\n",
       "    <tr>\n",
       "      <th>0</th>\n",
       "      <td>ACURA ILX</td>\n",
       "      <td>2.4</td>\n",
       "      <td>4</td>\n",
       "      <td>AMS-8</td>\n",
       "      <td>2WD</td>\n",
       "      <td>Gasoline</td>\n",
       "      <td>CA</td>\n",
       "      <td>L3ULEV125</td>\n",
       "      <td>California LEV-III ULEV125</td>\n",
       "      <td>LHNXV02.4KH3</td>\n",
       "      <td>small car</td>\n",
       "      <td>3</td>\n",
       "      <td>24</td>\n",
       "      <td>34</td>\n",
       "      <td>28</td>\n",
       "      <td>6</td>\n",
       "      <td>No</td>\n",
       "      <td>316</td>\n",
       "    </tr>\n",
       "    <tr>\n",
       "      <th>1</th>\n",
       "      <td>ACURA ILX</td>\n",
       "      <td>2.4</td>\n",
       "      <td>4</td>\n",
       "      <td>AMS-8</td>\n",
       "      <td>2WD</td>\n",
       "      <td>Gasoline</td>\n",
       "      <td>FA</td>\n",
       "      <td>T3B125</td>\n",
       "      <td>Federal Tier 3 Bin 125</td>\n",
       "      <td>LHNXV02.4KH3</td>\n",
       "      <td>small car</td>\n",
       "      <td>3</td>\n",
       "      <td>24</td>\n",
       "      <td>34</td>\n",
       "      <td>28</td>\n",
       "      <td>6</td>\n",
       "      <td>No</td>\n",
       "      <td>316</td>\n",
       "    </tr>\n",
       "    <tr>\n",
       "      <th>2</th>\n",
       "      <td>ACURA MDX</td>\n",
       "      <td>3.0</td>\n",
       "      <td>6</td>\n",
       "      <td>AMS-7</td>\n",
       "      <td>4WD</td>\n",
       "      <td>Gasoline</td>\n",
       "      <td>CA</td>\n",
       "      <td>L3ULEV125</td>\n",
       "      <td>California LEV-III ULEV125</td>\n",
       "      <td>LHNXV03.0ABC</td>\n",
       "      <td>small SUV</td>\n",
       "      <td>3</td>\n",
       "      <td>26</td>\n",
       "      <td>27</td>\n",
       "      <td>27</td>\n",
       "      <td>6</td>\n",
       "      <td>No</td>\n",
       "      <td>333</td>\n",
       "    </tr>\n",
       "    <tr>\n",
       "      <th>3</th>\n",
       "      <td>ACURA MDX</td>\n",
       "      <td>3.0</td>\n",
       "      <td>6</td>\n",
       "      <td>AMS-7</td>\n",
       "      <td>4WD</td>\n",
       "      <td>Gasoline</td>\n",
       "      <td>FA</td>\n",
       "      <td>T3B125</td>\n",
       "      <td>Federal Tier 3 Bin 125</td>\n",
       "      <td>LHNXV03.0ABC</td>\n",
       "      <td>small SUV</td>\n",
       "      <td>3</td>\n",
       "      <td>26</td>\n",
       "      <td>27</td>\n",
       "      <td>27</td>\n",
       "      <td>6</td>\n",
       "      <td>No</td>\n",
       "      <td>333</td>\n",
       "    </tr>\n",
       "    <tr>\n",
       "      <th>4</th>\n",
       "      <td>ACURA MDX</td>\n",
       "      <td>3.5</td>\n",
       "      <td>6</td>\n",
       "      <td>SemiAuto-9</td>\n",
       "      <td>2WD</td>\n",
       "      <td>Gasoline</td>\n",
       "      <td>CA</td>\n",
       "      <td>L3ULEV125</td>\n",
       "      <td>California LEV-III ULEV125</td>\n",
       "      <td>LHNXV03.5PBM</td>\n",
       "      <td>small SUV</td>\n",
       "      <td>3</td>\n",
       "      <td>20</td>\n",
       "      <td>27</td>\n",
       "      <td>23</td>\n",
       "      <td>5</td>\n",
       "      <td>No</td>\n",
       "      <td>387</td>\n",
       "    </tr>\n",
       "  </tbody>\n",
       "</table>\n",
       "</div>"
      ],
      "text/plain": [
       "       Model  Displ  Cyl       Trans Drive      Fuel Region       Stnd  \\\n",
       "0  ACURA ILX    2.4    4       AMS-8   2WD  Gasoline     CA  L3ULEV125   \n",
       "1  ACURA ILX    2.4    4       AMS-8   2WD  Gasoline     FA     T3B125   \n",
       "2  ACURA MDX    3.0    6       AMS-7   4WD  Gasoline     CA  L3ULEV125   \n",
       "3  ACURA MDX    3.0    6       AMS-7   4WD  Gasoline     FA     T3B125   \n",
       "4  ACURA MDX    3.5    6  SemiAuto-9   2WD  Gasoline     CA  L3ULEV125   \n",
       "\n",
       "                  Description            ID      Class  Air Pollution Score  \\\n",
       "0  California LEV-III ULEV125  LHNXV02.4KH3  small car                    3   \n",
       "1      Federal Tier 3 Bin 125  LHNXV02.4KH3  small car                    3   \n",
       "2  California LEV-III ULEV125  LHNXV03.0ABC  small SUV                    3   \n",
       "3      Federal Tier 3 Bin 125  LHNXV03.0ABC  small SUV                    3   \n",
       "4  California LEV-III ULEV125  LHNXV03.5PBM  small SUV                    3   \n",
       "\n",
       "   City MPG  Hwy MPG  Cmb MPG  Greenhouse Gas Score SmartWay  Comb CO2  \n",
       "0        24       34       28                     6       No       316  \n",
       "1        24       34       28                     6       No       316  \n",
       "2        26       27       27                     6       No       333  \n",
       "3        26       27       27                     6       No       333  \n",
       "4        20       27       23                     5       No       387  "
      ]
     },
     "execution_count": 1,
     "metadata": {},
     "output_type": "execute_result"
    }
   ],
   "source": [
    "import pandas as pd\n",
    "\n",
    "url = ('https://raw.githubusercontent.com/MasoudMiM/ME_364/main/EPA_Green_Vehicle_Guide/EPA_2020_Fuel_Economy.csv')\n",
    "df = pd.read_csv(url)           \n",
    "\n",
    "df.drop(columns='Unnamed: 0', inplace=True)\n",
    "df.head()"
   ]
  },
  {
   "cell_type": "code",
   "execution_count": 3,
   "metadata": {},
   "outputs": [],
   "source": [
    "from sklearn.model_selection import train_test_split\n",
    "from sklearn.neighbors import KNeighborsClassifier\n",
    "from sklearn.preprocessing import MinMaxScaler  # For normalization\n",
    "import numpy as np\n",
    "\n",
    "# Select features and target\n",
    "x_data=np.array(df[['Cmb MPG','Air Pollution Score']])  # Feature variables\n",
    "y_data=df['Fuel']                                       # Target variable"
   ]
  },
  {
   "cell_type": "code",
   "execution_count": 4,
   "metadata": {},
   "outputs": [
    {
     "name": "stdout",
     "output_type": "stream",
     "text": [
      "Target variable distribution:\n",
      "Gasoline    2268\n",
      "Diesel        40\n",
      "Name: Fuel, dtype: int64\n"
     ]
    },
    {
     "data": {
      "text/plain": [
       "<AxesSubplot:>"
      ]
     },
     "execution_count": 4,
     "metadata": {},
     "output_type": "execute_result"
    },
    {
     "data": {
      "image/png": "[encoded data removed]",
      "text/plain": [
       "<Figure size 432x288 with 1 Axes>"
      ]
     },
     "metadata": {
      "needs_background": "light"
     },
     "output_type": "display_data"
    }
   ],
   "source": [
    "# Check out target variable distribution - note that it is imbalanced\n",
    "print('Target variable distribution:')\n",
    "print( df['Fuel'].value_counts() )\n",
    "\n",
    "df['Fuel'].value_counts().plot(kind='barh')"
   ]
  },
  {
   "cell_type": "code",
   "execution_count": 6,
   "metadata": {},
   "outputs": [
    {
     "data": {
      "image/png": "[encoded data removed]",
      "text/plain": [
       "<Figure size 1080x432 with 2 Axes>"
      ]
     },
     "metadata": {
      "needs_background": "light"
     },
     "output_type": "display_data"
    }
   ],
   "source": [
    "# Normalize feature variables data\n",
    "MinMaxscaler = MinMaxScaler()  # define min max scaler\n",
    "x_data_scaled = MinMaxscaler.fit_transform(x_data)  # transform data\n",
    "\n",
    "# Check out normalized data\n",
    "import matplotlib.pyplot as plt\n",
    "\n",
    "fig=plt.figure(figsize=(15,6))\n",
    "fig.add_subplot(1,2,1)\n",
    "plt.scatter(x_data[:,0],x_data[:,1])\n",
    "plt.xlabel('Cmb MPG'),plt.ylabel('Air Pollution Score')\n",
    "plt.title('Original Data')\n",
    "\n",
    "fig.add_subplot(1,2,2)\n",
    "plt.scatter(x_data_scaled[:,0],x_data_scaled[:,1])\n",
    "plt.xlabel('Cmb MPG'),plt.ylabel('Air Pollution Score')\n",
    "plt.title('Normalized Data');"
   ]
  },
  {
   "cell_type": "code",
   "execution_count": 8,
   "metadata": {},
   "outputs": [],
   "source": [
    "# Create training/testing data split\n",
    "x_train,x_test,y_train,y_test=train_test_split(x_data_scaled,y_data,test_size=0.2)\n",
    "\n",
    "# Instantiate KNN classifier\n",
    "neigh = KNeighborsClassifier(n_neighbors = 4, metric='euclidean')\n",
    "\n",
    "# Train KNN classifier\n",
    "neigh.fit(x_train,y_train)\n",
    "\n",
    "# Make predictions using KNN model\n",
    "yhatTest = neigh.predict(x_test)\n",
    "yhatTrain= neigh.predict(x_train)"
   ]
  },
  {
   "cell_type": "markdown",
   "metadata": {},
   "source": [
    "---"
   ]
  },
  {
   "cell_type": "markdown",
   "metadata": {},
   "source": [
    "<font color='red'>__Question (2)__</font>: For the model you developed, calculate Jaccard index, F-score, and also plot the confusion matrix.\n",
    "\n",
    "Write a for loop to evaluate the performance of the model for different values of k and see if you can find a better k value for your KNN classifier (aside from k=1)."
   ]
  },
  {
   "cell_type": "code",
   "execution_count": 20,
   "metadata": {},
   "outputs": [
    {
     "name": "stdout",
     "output_type": "stream",
     "text": [
      "accuracy score for training data is 0.986 and accuracy score for test data is 0.985\n",
      "Jaccard index for training data is 0.973 and Jaccard index for test data is 0.970\n",
      "F-score for training data is 0.986 and JF-score index for test data is 0.985\n"
     ]
    },
    {
     "data": {
      "image/png": "[encoded data removed]",
      "text/plain": [
       "<Figure size 432x288 with 2 Axes>"
      ]
     },
     "metadata": {
      "needs_background": "light"
     },
     "output_type": "display_data"
    },
    {
     "data": {
      "image/png": "[encoded data removed]",
      "text/plain": [
       "<Figure size 432x288 with 2 Axes>"
      ]
     },
     "metadata": {
      "needs_background": "light"
     },
     "output_type": "display_data"
    }
   ],
   "source": [
    "# Evaluate model\n",
    "from sklearn.metrics import accuracy_score \n",
    "from sklearn.metrics import jaccard_score\n",
    "from sklearn.metrics import f1_score\n",
    "\n",
    "from sklearn.metrics import confusion_matrix\n",
    "from sklearn.metrics import ConfusionMatrixDisplay\n",
    "\n",
    "# Accuracy\n",
    "acc_scoreTrain = accuracy_score(y_train,yhatTrain)\n",
    "acc_scoreTest = accuracy_score(y_test,yhatTest)\n",
    "print(f'accuracy score for training data is {acc_scoreTrain:0.3f} and accuracy score for test data is {acc_scoreTest:0.3f}')\n",
    "\n",
    "# Jaccard index\n",
    "J_scoreTrain = jaccard_score(y_train,yhatTrain, average='micro')\n",
    "J_scoreTest = jaccard_score(y_test,yhatTest, average='micro')\n",
    "print(f'Jaccard index for training data is {J_scoreTrain:0.3f} and Jaccard index for test data is {J_scoreTest:.3f}')\n",
    "\n",
    "# F-score\n",
    "F_scoreTrain = f1_score(y_train,yhatTrain, average='micro')\n",
    "F_scoreTest = f1_score(y_test,yhatTest, average='micro')\n",
    "print(f'F-score for training data is {F_scoreTrain:0.3f} and JF-score index for test data is {F_scoreTest:.3f}')\n",
    "\n",
    "# Plot training data confusion matrix\n",
    "CM_scoreTrain = confusion_matrix(y_train,yhatTrain)   # possible option normalize='true'\n",
    "dispTr = ConfusionMatrixDisplay(CM_scoreTrain,display_labels=neigh.classes_)\n",
    "dispTr.plot()\n",
    "\n",
    "# Plot testing data confusion matrix\n",
    "CM_scoreTest = confusion_matrix(y_test,yhatTest)   # possible option normalize='true'\n",
    "dispTs = ConfusionMatrixDisplay(CM_scoreTest,display_labels=neigh.classes_)\n",
    "dispTs.plot()\n",
    "\n",
    "plt.show()"
   ]
  },
  {
   "cell_type": "code",
   "execution_count": 37,
   "metadata": {},
   "outputs": [
    {
     "name": "stdout",
     "output_type": "stream",
     "text": [
      "Best K-value by Jaccard index: 3\n",
      "Best K-value by F-score: 3\n"
     ]
    },
    {
     "data": {
      "image/png": "[encoded data removed]",
      "text/plain": [
       "<Figure size 936x360 with 2 Axes>"
      ]
     },
     "metadata": {
      "needs_background": "light"
     },
     "output_type": "display_data"
    }
   ],
   "source": [
    "# Try model with different K values\n",
    "Ks = 25\n",
    "Jacc_Test = np.zeros((Ks-1))\n",
    "Jacc_Train= np.zeros((Ks-1))\n",
    "\n",
    "F_Loop_Test = np.zeros((Ks-1))\n",
    "F_Loop_Train= np.zeros((Ks-1))\n",
    "\n",
    "for n in range(1,Ks):\n",
    "    \n",
    "    #Train Model and Predict  \n",
    "    neighLoop = KNeighborsClassifier(n_neighbors = n).fit(x_train,y_train)\n",
    "    yhatTestLoop  = neighLoop.predict(x_test)\n",
    "    yhatTrainLoop = neighLoop.predict(x_train)\n",
    "    Jacc_Test[n-1] = jaccard_score(y_test, yhatTestLoop, average='micro')\n",
    "    Jacc_Train[n-1] = jaccard_score(y_train, yhatTrainLoop, average='micro')\n",
    "\n",
    "    F_Loop_Test[n-1] = f1_score(y_test, yhatTestLoop, average='micro')\n",
    "    F_Loop_Train[n-1] = f1_score(y_train, yhatTrainLoop, average='micro')\n",
    "\n",
    "best_J = np.argmax(Jacc_Train[1:])+2\n",
    "best_F = np.argmax(F_Loop_Train[1:])+2\n",
    "\n",
    "# Plot results\n",
    "import matplotlib.pyplot as plt\n",
    "\n",
    "plt.figure(figsize=(13,5))\n",
    "plt.subplot(1,2,1)\n",
    "plt.plot(range(1,Ks),Jacc_Test,'r-o',range(1,Ks),Jacc_Train,'g-o')\n",
    "plt.legend(['Test Data', 'Train Data'])\n",
    "plt.xlabel('K value')\n",
    "plt.ylabel('Jaccard Index');\n",
    "\n",
    "plt.subplot(1,2,2)\n",
    "plt.plot(range(1,Ks),F_Loop_Test,'r-o',range(1,Ks),F_Loop_Train,'g-o')\n",
    "plt.legend(['Test Data', 'Train Data'])\n",
    "plt.xlabel('K value')\n",
    "plt.ylabel('F-score');\n",
    "\n",
    "print(f\"Best K-value by Jaccard index: {best_J}\")\n",
    "print(f\"Best K-value by F-score: {best_F}\")"
   ]
  }
 ],
 "metadata": {
  "interpreter": {
   "hash": "fb72153cf54ad77d82f8164c4a554839638aadec43f56da798779a40d43ee9cc"
  },
  "kernelspec": {
   "display_name": "Python 3.9.5 ('base')",
   "language": "python",
   "name": "python3"
  },
  "language_info": {
   "codemirror_mode": {
    "name": "ipython",
    "version": 3
   },
   "file_extension": ".py",
   "mimetype": "text/x-python",
   "name": "python",
   "nbconvert_exporter": "python",
   "pygments_lexer": "ipython3",
   "version": "3.9.7"
  },
  "orig_nbformat": 4
 },
 "nbformat": 4,
 "nbformat_minor": 2
}
