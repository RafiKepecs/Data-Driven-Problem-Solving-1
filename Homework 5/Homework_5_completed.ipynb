{
 "cells": [
  {
   "cell_type": "markdown",
   "metadata": {},
   "source": [
    "# Hoework V - ME 364 (Spring 2022)"
   ]
  },
  {
   "cell_type": "markdown",
   "metadata": {},
   "source": [
    "<font color='red'>__Question__</font>: Researchers at Massachusetts Institute of Technology have recently developed a dataset for the prupose of data-driven design of a bicycle. In the long run, the goal is to use this dataset to train models that are capable of desgning bicycles based on given features. In this homework assignment, we try to use KNN method to classify the type of a given bicycle using the given features. There is a great video giving explanations regarding these researchers' work at https://www.youtube.com/watch?v=75GpGV68VU, which I encourage you to watch to get a better understandng of the dataset. Further, you can also find their published paper at https://decode.mit.edu/assets/papers/BIKED.pdf. Both the video and the paper provide information about how did they create the dataset and some of their modeling results."
   ]
  },
  {
   "cell_type": "markdown",
   "metadata": {},
   "source": [
    "This dataset includes 4512 manually-designed bicycle models span all common bicycle styles and feature unique models from remote corners of the bicycle design space. BIKED contains user-specified bicycle class data. Shown below is a plot of the parametric bicycle design space. Corresponding images from models in different regions of the embedding are showcased.\n",
    "\n",
    "<img src=\"https://docs.google.com/uc?export=download&id=1tKmeqGxrdxBfI3LyoyBtXZe9CGvU-wZ8\" width=\"800\">\n",
    "\n"
   ]
  },
  {
   "cell_type": "markdown",
   "metadata": {},
   "source": [
    "__(a)__ Import the dataset and print the first five rows, which comes as a csv file with this assignment. How many rows do we have in this dataset?"
   ]
  },
  {
   "cell_type": "code",
   "execution_count": 21,
   "metadata": {},
   "outputs": [
    {
     "name": "stdout",
     "output_type": "stream",
     "text": [
      "Number of rows in dataset: 4512\n"
     ]
    },
    {
     "data": {
      "text/html": [
       "<div>\n",
       "<style scoped>\n",
       "    .dataframe tbody tr th:only-of-type {\n",
       "        vertical-align: middle;\n",
       "    }\n",
       "\n",
       "    .dataframe tbody tr th {\n",
       "        vertical-align: top;\n",
       "    }\n",
       "\n",
       "    .dataframe thead th {\n",
       "        text-align: right;\n",
       "    }\n",
       "</style>\n",
       "<table border=\"1\" class=\"dataframe\">\n",
       "  <thead>\n",
       "    <tr style=\"text-align: right;\">\n",
       "      <th></th>\n",
       "      <th>SSSIDECX3</th>\n",
       "      <th>SSSIDECX2</th>\n",
       "      <th>SSSIDECX1</th>\n",
       "      <th>SSSIDECY2</th>\n",
       "      <th>SSSIDECY1</th>\n",
       "      <th>STEMBENDS</th>\n",
       "      <th>FRONTROTORBOLTS</th>\n",
       "      <th>Shoe up angle</th>\n",
       "      <th>Down tube front diameter</th>\n",
       "      <th>LRTHICK</th>\n",
       "      <th>...</th>\n",
       "      <th>Top tube type OHCLASS: 1</th>\n",
       "      <th>BRAZEonFDTYPE OHCLASS: FD9000F</th>\n",
       "      <th>BRAZEonFDTYPE OHCLASS: FD9070F</th>\n",
       "      <th>CSAUX3_MM_RATIO OHCLASS: 0</th>\n",
       "      <th>CSAUX3_MM_RATIO OHCLASS: 1</th>\n",
       "      <th>bottle SEATTUBE0 show OHCLASS: False</th>\n",
       "      <th>bottle SEATTUBE0 show OHCLASS: True</th>\n",
       "      <th>bottle DOWNTUBE0 show OHCLASS: False</th>\n",
       "      <th>bottle DOWNTUBE0 show OHCLASS: True</th>\n",
       "      <th>Bicycle_Model</th>\n",
       "    </tr>\n",
       "  </thead>\n",
       "  <tbody>\n",
       "    <tr>\n",
       "      <th>0</th>\n",
       "      <td>0.115968</td>\n",
       "      <td>0.213580</td>\n",
       "      <td>0.240722</td>\n",
       "      <td>0.173913</td>\n",
       "      <td>0.295455</td>\n",
       "      <td>0.0</td>\n",
       "      <td>0.75</td>\n",
       "      <td>0.906475</td>\n",
       "      <td>0.323077</td>\n",
       "      <td>0.0</td>\n",
       "      <td>...</td>\n",
       "      <td>1.0</td>\n",
       "      <td>1.0</td>\n",
       "      <td>0.0</td>\n",
       "      <td>1.0</td>\n",
       "      <td>0.0</td>\n",
       "      <td>1.0</td>\n",
       "      <td>0.0</td>\n",
       "      <td>1.0</td>\n",
       "      <td>0.0</td>\n",
       "      <td>ROAD</td>\n",
       "    </tr>\n",
       "    <tr>\n",
       "      <th>1</th>\n",
       "      <td>0.115968</td>\n",
       "      <td>0.171084</td>\n",
       "      <td>0.199779</td>\n",
       "      <td>0.173913</td>\n",
       "      <td>0.295455</td>\n",
       "      <td>0.0</td>\n",
       "      <td>0.75</td>\n",
       "      <td>0.906475</td>\n",
       "      <td>0.293077</td>\n",
       "      <td>0.0</td>\n",
       "      <td>...</td>\n",
       "      <td>0.0</td>\n",
       "      <td>1.0</td>\n",
       "      <td>0.0</td>\n",
       "      <td>1.0</td>\n",
       "      <td>0.0</td>\n",
       "      <td>1.0</td>\n",
       "      <td>0.0</td>\n",
       "      <td>1.0</td>\n",
       "      <td>0.0</td>\n",
       "      <td>DIRT_JUMP</td>\n",
       "    </tr>\n",
       "    <tr>\n",
       "      <th>2</th>\n",
       "      <td>0.115968</td>\n",
       "      <td>0.267053</td>\n",
       "      <td>0.292434</td>\n",
       "      <td>0.173913</td>\n",
       "      <td>0.295455</td>\n",
       "      <td>0.0</td>\n",
       "      <td>0.75</td>\n",
       "      <td>0.899281</td>\n",
       "      <td>0.246154</td>\n",
       "      <td>0.0</td>\n",
       "      <td>...</td>\n",
       "      <td>0.0</td>\n",
       "      <td>1.0</td>\n",
       "      <td>0.0</td>\n",
       "      <td>1.0</td>\n",
       "      <td>0.0</td>\n",
       "      <td>1.0</td>\n",
       "      <td>0.0</td>\n",
       "      <td>1.0</td>\n",
       "      <td>0.0</td>\n",
       "      <td>POLO</td>\n",
       "    </tr>\n",
       "    <tr>\n",
       "      <th>3</th>\n",
       "      <td>0.115968</td>\n",
       "      <td>0.215305</td>\n",
       "      <td>0.242409</td>\n",
       "      <td>0.173913</td>\n",
       "      <td>0.295455</td>\n",
       "      <td>0.0</td>\n",
       "      <td>0.75</td>\n",
       "      <td>0.899281</td>\n",
       "      <td>0.246154</td>\n",
       "      <td>0.0</td>\n",
       "      <td>...</td>\n",
       "      <td>0.0</td>\n",
       "      <td>1.0</td>\n",
       "      <td>0.0</td>\n",
       "      <td>1.0</td>\n",
       "      <td>0.0</td>\n",
       "      <td>1.0</td>\n",
       "      <td>0.0</td>\n",
       "      <td>1.0</td>\n",
       "      <td>0.0</td>\n",
       "      <td>ROAD</td>\n",
       "    </tr>\n",
       "    <tr>\n",
       "      <th>4</th>\n",
       "      <td>0.115968</td>\n",
       "      <td>0.233025</td>\n",
       "      <td>0.259668</td>\n",
       "      <td>0.173913</td>\n",
       "      <td>0.295455</td>\n",
       "      <td>0.0</td>\n",
       "      <td>0.75</td>\n",
       "      <td>0.906475</td>\n",
       "      <td>0.293077</td>\n",
       "      <td>0.0</td>\n",
       "      <td>...</td>\n",
       "      <td>0.0</td>\n",
       "      <td>1.0</td>\n",
       "      <td>0.0</td>\n",
       "      <td>1.0</td>\n",
       "      <td>0.0</td>\n",
       "      <td>1.0</td>\n",
       "      <td>0.0</td>\n",
       "      <td>1.0</td>\n",
       "      <td>0.0</td>\n",
       "      <td>DIRT_JUMP</td>\n",
       "    </tr>\n",
       "  </tbody>\n",
       "</table>\n",
       "<p>5 rows × 2402 columns</p>\n",
       "</div>"
      ],
      "text/plain": [
       "   SSSIDECX3  SSSIDECX2  SSSIDECX1  SSSIDECY2  SSSIDECY1  STEMBENDS  \\\n",
       "0   0.115968   0.213580   0.240722   0.173913   0.295455        0.0   \n",
       "1   0.115968   0.171084   0.199779   0.173913   0.295455        0.0   \n",
       "2   0.115968   0.267053   0.292434   0.173913   0.295455        0.0   \n",
       "3   0.115968   0.215305   0.242409   0.173913   0.295455        0.0   \n",
       "4   0.115968   0.233025   0.259668   0.173913   0.295455        0.0   \n",
       "\n",
       "   FRONTROTORBOLTS  Shoe up angle  Down tube front diameter  LRTHICK  ...  \\\n",
       "0             0.75       0.906475                  0.323077      0.0  ...   \n",
       "1             0.75       0.906475                  0.293077      0.0  ...   \n",
       "2             0.75       0.899281                  0.246154      0.0  ...   \n",
       "3             0.75       0.899281                  0.246154      0.0  ...   \n",
       "4             0.75       0.906475                  0.293077      0.0  ...   \n",
       "\n",
       "   Top tube type OHCLASS: 1  BRAZEonFDTYPE OHCLASS: FD9000F  \\\n",
       "0                       1.0                             1.0   \n",
       "1                       0.0                             1.0   \n",
       "2                       0.0                             1.0   \n",
       "3                       0.0                             1.0   \n",
       "4                       0.0                             1.0   \n",
       "\n",
       "   BRAZEonFDTYPE OHCLASS: FD9070F  CSAUX3_MM_RATIO OHCLASS: 0  \\\n",
       "0                             0.0                         1.0   \n",
       "1                             0.0                         1.0   \n",
       "2                             0.0                         1.0   \n",
       "3                             0.0                         1.0   \n",
       "4                             0.0                         1.0   \n",
       "\n",
       "   CSAUX3_MM_RATIO OHCLASS: 1  bottle SEATTUBE0 show OHCLASS: False  \\\n",
       "0                         0.0                                   1.0   \n",
       "1                         0.0                                   1.0   \n",
       "2                         0.0                                   1.0   \n",
       "3                         0.0                                   1.0   \n",
       "4                         0.0                                   1.0   \n",
       "\n",
       "   bottle SEATTUBE0 show OHCLASS: True  bottle DOWNTUBE0 show OHCLASS: False  \\\n",
       "0                                  0.0                                   1.0   \n",
       "1                                  0.0                                   1.0   \n",
       "2                                  0.0                                   1.0   \n",
       "3                                  0.0                                   1.0   \n",
       "4                                  0.0                                   1.0   \n",
       "\n",
       "   bottle DOWNTUBE0 show OHCLASS: True  Bicycle_Model  \n",
       "0                                  0.0           ROAD  \n",
       "1                                  0.0      DIRT_JUMP  \n",
       "2                                  0.0           POLO  \n",
       "3                                  0.0           ROAD  \n",
       "4                                  0.0      DIRT_JUMP  \n",
       "\n",
       "[5 rows x 2402 columns]"
      ]
     },
     "metadata": {},
     "output_type": "display_data"
    }
   ],
   "source": [
    "import pandas as pd\n",
    "\n",
    "url = \"https://raw.githubusercontent.com/yairg98/Data-Driven-Problem-Solving/main/Homework%205/Biked_Dataset_Reduced.csv\"\n",
    "df = pd.read_csv(url)\n",
    "\n",
    "# Get number of rows\n",
    "n = len(df.index)\n",
    "print(f\"Number of rows in dataset: {n}\")\n",
    "\n",
    "# Display first 5 rows of dataset\n",
    "display(df.head(5))"
   ]
  },
  {
   "cell_type": "markdown",
   "metadata": {},
   "source": [
    "__(b)__ Print a list of all the unique styles in the dataset. \n",
    "The styles are identified as `Bicycle_Model` variable. How many different type of styles do we have in this dataset?"
   ]
  },
  {
   "cell_type": "code",
   "execution_count": 22,
   "metadata": {},
   "outputs": [
    {
     "name": "stdout",
     "output_type": "stream",
     "text": [
      "Number of unique Bicycle_Model values: 19\n",
      "ROAD\n",
      "DIRT_JUMP\n",
      "POLO\n",
      "BMX\n",
      "MTB\n",
      "TOURING\n",
      "TRACK\n",
      "CRUISER\n",
      "COMMUTER\n",
      "CITY\n",
      "CYCLOCROSS\n",
      "OTHER\n",
      "TRIALS\n",
      "CHILDRENS\n",
      "TIMETRIAL\n",
      "CARGO\n",
      "HYBRID\n",
      "GRAVEL\n",
      "FAT\n"
     ]
    }
   ],
   "source": [
    "models = pd.unique(df['Bicycle_Model'])\n",
    "print(f\"Number of unique Bicycle_Model values: {len(models)}\")\n",
    "print(*models,sep='\\n')"
   ]
  },
  {
   "cell_type": "markdown",
   "metadata": {},
   "source": [
    "__(c)__ Is the data balanced in terms of bicycle styles (models)? Which style has the most number of samples in the dataset? Which style has the least? How many of each style do we have?"
   ]
  },
  {
   "cell_type": "markdown",
   "metadata": {},
   "source": [
    "As shown in the histogram below, the distribution of samples across\n",
    "different bicycle styles is highly imbalanced, with styles ranging from\n",
    "FAT, with just a single entry, to ROAD, with nearly 2000 entries."
   ]
  },
  {
   "cell_type": "code",
   "execution_count": 23,
   "metadata": {},
   "outputs": [
    {
     "name": "stdout",
     "output_type": "stream",
     "text": [
      "Most common model: ROAD, 1856\n",
      "Least common model: FAT, 1\n"
     ]
    },
    {
     "data": {
      "image/png": "[encoded data removed]",
      "text/plain": [
       "<Figure size 1728x432 with 1 Axes>"
      ]
     },
     "metadata": {
      "needs_background": "light"
     },
     "output_type": "display_data"
    }
   ],
   "source": [
    "# Count number of occurences of each bicycle model\n",
    "model_count = df['Bicycle_Model'].value_counts().sort_values()\n",
    "print(f\"Most common model: {model_count.idxmax()}, {model_count.max()}\")\n",
    "print(f\"Least common model: {model_count.idxmin()}, {model_count.min()}\")\n",
    "fig = df['Bicycle_Model'].hist(figsize=(24,6),bins=len(model_count),edgecolor='k')"
   ]
  },
  {
   "cell_type": "markdown",
   "metadata": {},
   "source": [
    "__(d)__ Use all the features given in the dataset to develop a model for classifying the three most common bike styles. Select a value for K for now. We are not looking for the most accurate model possible at this time.\n"
   ]
  },
  {
   "cell_type": "markdown",
   "metadata": {},
   "source": [
    "Selected automatically in the code below, the three most common bike\n",
    "styles are ROAD, MTB, and TRACK. The selected K-value is 4."
   ]
  },
  {
   "cell_type": "code",
   "execution_count": 24,
   "metadata": {},
   "outputs": [],
   "source": [
    "from sklearn.model_selection import train_test_split\n",
    "from sklearn.neighbors import KNeighborsClassifier\n",
    "from sklearn.preprocessing import MinMaxScaler  # For normalization\n",
    "import numpy as np\n",
    "\n",
    "# New Dataframe containing only the three most common bike styles\n",
    "df_top3 = df[df['Bicycle_Model'].isin(model_count.nlargest(3).index)]\n",
    "\n",
    "# Set Bicycle_Model as target and all other columns as features\n",
    "x_data = np.array(df_top3.loc[:, df.columns != 'Bicycle_Model'])\n",
    "y_data = df_top3['Bicycle_Model']\n",
    "\n",
    "# Normalize feature variables\n",
    "MinMaxscaler = MinMaxScaler()  # define min max scaler\n",
    "x_data_scaled = MinMaxscaler.fit_transform(x_data)  # transform data\n",
    "\n",
    "# Split data into training and testing sets\n",
    "x_train,x_test,y_train,y_test=train_test_split(x_data_scaled,y_data,test_size=0.25)\n",
    "\n",
    "# Create KNN classifier\n",
    "neigh = KNeighborsClassifier(n_neighbors = 4, metric='euclidean')\n",
    "\n",
    "# Train KNN classifier\n",
    "neigh.fit(x_train,y_train)\n",
    "\n",
    "# Make KNN predictions for both train and test datasets\n",
    "yhatTest = neigh.predict(x_test)\n",
    "yhatTrain= neigh.predict(x_train)"
   ]
  },
  {
   "cell_type": "markdown",
   "metadata": {},
   "source": [
    "__(e)__ Use evaluation metrics we covered in class (Jaccard Index and F-Score) to assess the performance of the model. Provide the confusion matrix for both training and test data. Provide a few lines explanations about the performance of your model based on the results of evaluation metrics and confusion matrices."
   ]
  },
  {
   "cell_type": "markdown",
   "metadata": {},
   "source": [
    "Per the metrics below, this KNN model (with K=4) performed nearly as\n",
    "well on the testing data as it did on the training data. Both the\n",
    "Jaccard index and F-score are pretty good, though not perfect.\n",
    "\n",
    "Nearly 98% of road bikes were categorized correlty, though this is\n",
    "expected since it is by far the most common category. By contrast, the\n",
    "least common of the three categories, track bikes, was identified less\n",
    "than 55% of the time. The third category, was in between the other two\n",
    "with respect to both overall size and how often it was correctly\n",
    "identified, nearly 85% of the time. (Note that percentages are recorded\n",
    "based on the first time I ran the program. Results have varied somewhat\n",
    "in subsequent runs, but are similar enough that the analysis stands.)\n",
    "\n",
    "Though far closer in size to the track bike category than to the road\n",
    "bike category, mountain bike categorization was relatively effective,\n",
    "perhaps because mountain bikes are more physically distinct from road\n",
    "and track bikes than road and track bikes are from each other."
   ]
  },
  {
   "cell_type": "code",
   "execution_count": 25,
   "metadata": {},
   "outputs": [
    {
     "name": "stdout",
     "output_type": "stream",
     "text": [
      "Jaccard index for training data: 0.783\n",
      "Jaccard index for testing data: 0.686\n",
      "F-score for training data is 0.879\n",
      "F-score for testing data is 0.814\n"
     ]
    },
    {
     "data": {
      "image/png": "[encoded data removed]",
      "text/plain": [
       "<Figure size 432x288 with 2 Axes>"
      ]
     },
     "metadata": {
      "needs_background": "light"
     },
     "output_type": "display_data"
    },
    {
     "data": {
      "image/png": "[encoded data removed]",
      "text/plain": [
       "<Figure size 432x288 with 2 Axes>"
      ]
     },
     "metadata": {
      "needs_background": "light"
     },
     "output_type": "display_data"
    }
   ],
   "source": [
    "from sklearn.metrics import jaccard_score\n",
    "from sklearn.metrics import f1_score\n",
    "from sklearn.metrics import confusion_matrix\n",
    "from sklearn.metrics import ConfusionMatrixDisplay\n",
    "\n",
    "# Calculate Jaccard index\n",
    "J_scoreTrain = jaccard_score(y_train,yhatTrain, average='micro')\n",
    "J_scoreTest = jaccard_score(y_test,yhatTest, average='micro')\n",
    "print(f'Jaccard index for training data: {J_scoreTrain:0.3f}')\n",
    "print(f'Jaccard index for testing data: {J_scoreTest:.3f}')\n",
    "\n",
    "# Calculate F-score\n",
    "F_scoreTrain = f1_score(y_train,yhatTrain, average='micro')\n",
    "F_scoreTest = f1_score(y_test,yhatTest, average='micro')\n",
    "print(f'F-score for training data is {F_scoreTrain:0.3f}')\n",
    "print(f'F-score for testing data is {F_scoreTest:0.3f}')\n",
    "\n",
    "# Plot confusion matrices\n",
    "CM_scoreTrain = confusion_matrix(y_train,yhatTrain)   # possible option normalize='true'\n",
    "dispTr=ConfusionMatrixDisplay(CM_scoreTrain, display_labels=neigh.classes_)\n",
    "dispTr.plot();\n",
    "\n",
    "CM_scoreTest = confusion_matrix(y_test,yhatTest)   # possible option normalize='true'\n",
    "dispTs=ConfusionMatrixDisplay(CM_scoreTest, display_labels=neigh.classes_) \n",
    "dispTs.plot();"
   ]
  },
  {
   "cell_type": "markdown",
   "metadata": {},
   "source": [
    "__(f)__ Write a code that develops KNN models for K values from 1 to 20. Provide plots of Jaccard index and F-Score for all the models. Which K value would you choose if you had this information when developing the model for part (d) ?"
   ]
  },
  {
   "cell_type": "markdown",
   "metadata": {},
   "source": [
    "Per the results of the code below, the best K-value for this classifier\n",
    "is K=1. This result was consistent across multiple runs of the program\n",
    "with different, randomly generated test/train data splits. This\n",
    "conclusion is based solely on the performance of the classifier on the\n",
    "testing data, not on the training data, though that information is also\n",
    "shown below. Therfore, when developing the model in the sections above,\n",
    "K=1 would have been a better selection than K=4.\n",
    "\n",
    "It is worth noting that the perfect performance of the model on the\n",
    "training data when K=1 can be ignored because the closest neighbor to\n",
    "any data point in the training set will be itself, so the model will be\n",
    "correct 100% of the time on the training data when K=1."
   ]
  },
  {
   "cell_type": "code",
   "execution_count": 26,
   "metadata": {},
   "outputs": [
    {
     "name": "stdout",
     "output_type": "stream",
     "text": [
      "Best K-value by Jaccard index: 1\n",
      "Best K-value by F-score: 1\n"
     ]
    },
    {
     "data": {
      "image/png": "[encoded data removed]",
      "text/plain": [
       "<Figure size 936x360 with 2 Axes>"
      ]
     },
     "metadata": {
      "needs_background": "light"
     },
     "output_type": "display_data"
    }
   ],
   "source": [
    "import matplotlib.pyplot as plt\n",
    "\n",
    "Ks = 25\n",
    "Jacc_Test = np.zeros((Ks-1))\n",
    "Jacc_Train= np.zeros((Ks-1))\n",
    "\n",
    "F_Loop_Test = np.zeros((Ks-1))\n",
    "F_Loop_Train= np.zeros((Ks-1))\n",
    "\n",
    "for n in range(1,Ks):\n",
    "    \n",
    "    #Train Model and Predict  \n",
    "    neighLoop = KNeighborsClassifier(n_neighbors = n).fit(x_train,y_train)\n",
    "    yhatTestLoop  = neighLoop.predict(x_test)\n",
    "    yhatTrainLoop = neighLoop.predict(x_train)\n",
    "    Jacc_Test[n-1] = jaccard_score(y_test, yhatTestLoop, average='micro')\n",
    "    Jacc_Train[n-1] = jaccard_score(y_train, yhatTrainLoop, average='micro')\n",
    "\n",
    "    F_Loop_Test[n-1] = f1_score(y_test, yhatTestLoop, average='micro')\n",
    "    F_Loop_Train[n-1] = f1_score(y_train, yhatTrainLoop, average='micro')\n",
    "\n",
    "# Get best K-value per each metric, excluding K=1\n",
    "best_J = np.argmax(Jacc_Train)+1\n",
    "print(f\"Best K-value by Jaccard index: {best_J}\")\n",
    "best_F = np.argmax(F_Loop_Train)+1\n",
    "print(f\"Best K-value by F-score: {best_F}\")\n",
    "\n",
    "plt.figure(figsize=(13,5))\n",
    "plt.subplot(1,2,1)\n",
    "plt.plot(range(1,Ks),Jacc_Test,'r-o',range(1,Ks),Jacc_Train,'g-o')\n",
    "plt.legend(['Test Data', 'Train Data'])\n",
    "plt.xlabel('K value')\n",
    "plt.ylabel('Jaccard Index');\n",
    "\n",
    "plt.subplot(1,2,2)\n",
    "plt.plot(range(1,Ks),F_Loop_Test,'r-o',range(1,Ks),F_Loop_Train,'g-o')\n",
    "plt.legend(['Test Data', 'Train Data'])\n",
    "plt.xlabel('K value')\n",
    "plt.ylabel('F-score');"
   ]
  }
 ],
 "metadata": {
  "interpreter": {
   "hash": "fb72153cf54ad77d82f8164c4a554839638aadec43f56da798779a40d43ee9cc"
  },
  "kernelspec": {
   "display_name": "Python 3.9.5 ('base')",
   "language": "python",
   "name": "python3"
  },
  "language_info": {
   "codemirror_mode": {
    "name": "ipython",
    "version": 3
   },
   "file_extension": ".py",
   "mimetype": "text/x-python",
   "name": "python",
   "nbconvert_exporter": "python",
   "pygments_lexer": "ipython3",
   "version": "3.9.7"
  },
  "orig_nbformat": 4
 },
 "nbformat": 4,
 "nbformat_minor": 2
}
