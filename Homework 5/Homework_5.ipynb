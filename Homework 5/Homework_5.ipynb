{
 "cells": [
  {
   "cell_type": "markdown",
   "metadata": {},
   "source": [
    "# Homework V - ME 364 (Spring 2022)"
   ]
  },
  {
   "cell_type": "markdown",
   "metadata": {},
   "source": [
    "<font color='red'>__Question__</font>: Researchers at Massachusetts Institute of Technology have recently developed a dataset for the prupose of data-driven design of a bicycle. In the long run, the goal is to use this dataset to train models that are capable of desgning bicycles based on given features. In this homework assignment, we try to use KNN method to classify the type of a given bicycle using the given features. There is a great video giving explanations regarding these researchers' work at https://www.youtube.com/watch?v=75GpGV6M8VU, which I encourage you to watch to get a better understandng of the dataset. Further, you can also find their published paper at https://decode.mit.edu/assets/papers/BIKED.pdf. Both the video and the paper provide information about how did they create the dataset and some of their modeling results."
   ]
  },
  {
   "cell_type": "markdown",
   "metadata": {},
   "source": [
    "This dataset includes 4512 manually-designed bicycle models span all common bicycle styles and feature unique models from remote corners of the bicycle design space. BIKED contains user-specified bicycle class data. Shown below is a plot of the parametric bicycle design space. Corresponding images from models in different regions of the embedding are showcased.\n",
    "\n",
    "<img src=\"https://docs.google.com/uc?export=download&id=1tKmeqGxrdxBfI3LyoyBtXZe9CGvU-wZ8\" width=\"800\">\n",
    "\n"
   ]
  },
  {
   "cell_type": "markdown",
   "metadata": {},
   "source": [
    "__(a)__ Import the dataset and print the first five rows, which comes as a csv file with this assignment. How many rows do we have in this dataset?"
   ]
  },
  {
   "cell_type": "code",
   "execution_count": null,
   "metadata": {},
   "outputs": [],
   "source": []
  },
  {
   "cell_type": "markdown",
   "metadata": {},
   "source": [
    "__(b)__ Print a list of all the unique styles in the dataset. \n",
    "The styles are identified as `Bicycle_Model` variable. How many different type of styles do we have in this dataset?"
   ]
  },
  {
   "cell_type": "code",
   "execution_count": null,
   "metadata": {},
   "outputs": [],
   "source": []
  },
  {
   "cell_type": "markdown",
   "metadata": {},
   "source": [
    "__(c)__ Is the data balanced in terms of bicycle styles (models)? Which style has the most number of samples in the dataset? Which style has the least? How many of each style do we have?"
   ]
  },
  {
   "cell_type": "code",
   "execution_count": null,
   "metadata": {},
   "outputs": [],
   "source": []
  },
  {
   "cell_type": "markdown",
   "metadata": {},
   "source": [
    "__(d)__ Use all the features given in the dataset to develop a model for classifying the three most common bike styles. Select a value for K for now. We are not looking for the most accurate model possible at this time.\n"
   ]
  },
  {
   "cell_type": "code",
   "execution_count": null,
   "metadata": {},
   "outputs": [],
   "source": []
  },
  {
   "cell_type": "markdown",
   "metadata": {},
   "source": [
    "__(e)__ Use evaluation metrics we covered in class (Jaccard Index and F-Score) to assess the performance of the model. Provide the confusion matrix for both training and test data. Provide a few lines explanations about the performance of your model based on the results of evaluation metrics and confusion matrices."
   ]
  },
  {
   "cell_type": "code",
   "execution_count": null,
   "metadata": {},
   "outputs": [],
   "source": []
  },
  {
   "cell_type": "markdown",
   "metadata": {},
   "source": [
    "__(f)__ Write a code that develops KNN models for K values from 1 to 20. Provide plots of Jaccard index and F-Score for all the models. Which K value would you choose if you had this information when developing the model for part (d) ?"
   ]
  },
  {
   "cell_type": "code",
   "execution_count": null,
   "metadata": {},
   "outputs": [],
   "source": []
  }
 ],
 "metadata": {
  "interpreter": {
   "hash": "fb72153cf54ad77d82f8164c4a554839638aadec43f56da798779a40d43ee9cc"
  },
  "kernelspec": {
   "display_name": "Python 3.9.5 ('base')",
   "language": "python",
   "name": "python3"
  },
  "language_info": {
   "name": "python",
   "version": "3.9.5"
  },
  "orig_nbformat": 4
 },
 "nbformat": 4,
 "nbformat_minor": 2
}
