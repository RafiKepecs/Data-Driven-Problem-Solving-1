{
 "cells": [
  {
   "cell_type": "markdown",
   "metadata": {},
   "source": [
    "# ME 364 Midterm Project - Part 1"
   ]
  },
  {
   "cell_type": "markdown",
   "metadata": {},
   "source": [
    "For this part, you will use the latest version of the United States Wind Turbine Database (USWTDB),\n",
    "which you can download from https://eerscmap.usgs.gov/uswtdb/assets/data/uswtdbCSV.zip.\n",
    "You can find out more about the data and the dictionary file describing the parameters on this page\n",
    "https://www.sciencebase.gov/catalog/item/6001e327d34e592d8671fae0 (dictionary file name\n",
    "is “EntityandAttribute DataDictionary.csv”) Use this data set to answer the following questions."
   ]
  },
  {
   "cell_type": "code",
   "execution_count": 72,
   "metadata": {},
   "outputs": [],
   "source": [
    "import numpy as np\n",
    "import pandas as pd\n",
    "import matplotlib.pyplot as plt\n",
    "\n",
    "url = 'https://raw.githubusercontent.com/yairg98/Data-Driven-Problem-Solving/main/Midterm%20Project/Part%201/uswtdb_v4_3_20220114.csv'\n",
    "df = pd.read_csv(url, encoding=\"ISO-8859-1\")"
   ]
  },
  {
   "cell_type": "markdown",
   "metadata": {},
   "source": [
    "**1) How many rows do we have in this data set? Find the number of missing values in the data\n",
    "set. Find and report the number of missing values in each column.**"
   ]
  },
  {
   "cell_type": "code",
   "execution_count": 73,
   "metadata": {},
   "outputs": [
    {
     "name": "stdout",
     "output_type": "stream",
     "text": [
      "Number of rows in dataset: 70808\n",
      "Total number of values missing: 168610\n",
      "Number of missing values in each column:\n",
      "case_id              0\n",
      "faa_ors           5792\n",
      "faa_asn           5122\n",
      "usgs_pr_id       32545\n",
      "eia_id            5793\n",
      "t_state              0\n",
      "t_county             0\n",
      "t_fips               0\n",
      "p_name               0\n",
      "p_year             613\n",
      "p_tnum               0\n",
      "p_cap             4482\n",
      "t_manu            5640\n",
      "t_model           5777\n",
      "t_cap             5480\n",
      "t_hh              6180\n",
      "t_rd              5934\n",
      "t_rsa             5934\n",
      "t_ttlh            6180\n",
      "retrofit             0\n",
      "retrofit_year    64822\n",
      "t_conf_atr           0\n",
      "t_conf_loc           0\n",
      "t_img_date        8316\n",
      "t_img_srce           0\n",
      "xlong                0\n",
      "ylat                 0\n",
      "dtype: int64\n"
     ]
    }
   ],
   "source": [
    "# Number of rows in dataset\n",
    "rows = len(df.index)\n",
    "print(\"Number of rows in dataset: {}\".format(rows))\n",
    "\n",
    "# Number of missing values in dataset\n",
    "missing = df.isnull().sum()\n",
    "print(\"Total number of values missing: {}\".format(missing.sum()))\n",
    "print(\"Number of missing values in each column:\")\n",
    "print(missing)"
   ]
  },
  {
   "cell_type": "markdown",
   "metadata": {},
   "source": [
    "**2) In which states and which counties the highest capacity turbines are installed?**"
   ]
  },
  {
   "cell_type": "code",
   "execution_count": 74,
   "metadata": {},
   "outputs": [
    {
     "name": "stdout",
     "output_type": "stream",
     "text": [
      "t_state           t_county\n",
      "     RI  Washington County\n",
      "     VA Northampton County\n"
     ]
    }
   ],
   "source": [
    "# Identify the maximum capacity of turbines in the dataset\n",
    "max_cap = df['t_cap'].max()\n",
    "\n",
    "# Get data for max-capacity turbines\n",
    "max_cap_data = df[df['t_cap'] == max_cap]\n",
    "\n",
    "# Filter out duplicate lcoations\n",
    "max_cap_locations = max_cap_data.drop_duplicates(subset=['t_state','t_county'])\n",
    "\n",
    "# Print list of unique states/counties housing max-capacity turbines \n",
    "print(max_cap_locations[['t_state','t_county']].to_string(index=False))"
   ]
  },
  {
   "cell_type": "markdown",
   "metadata": {},
   "source": [
    "**3) Based on the data available, where was the first wind turbine project installed in the US?\n",
    "(provide the state and county and the year)**"
   ]
  },
  {
   "cell_type": "code",
   "execution_count": 75,
   "metadata": {},
   "outputs": [
    {
     "name": "stdout",
     "output_type": "stream",
     "text": [
      "t_state    t_county  p_year\n",
      "     CA Kern County  1987.0\n"
     ]
    }
   ],
   "source": [
    "# Sort entries by year\n",
    "df.sort_values(by=['p_year'])\n",
    "\n",
    "# Retrueve information from first entry\n",
    "print(df.head(1)[['t_state','t_county','p_year']].to_string(index=False))"
   ]
  },
  {
   "cell_type": "markdown",
   "metadata": {},
   "source": [
    "**4) How many projects were installed and become operational during 2020? Which state had the\n",
    "most number of projects during 2020? How many? Which had the least number of projects?\n",
    "How many?**"
   ]
  },
  {
   "cell_type": "code",
   "execution_count": 76,
   "metadata": {},
   "outputs": [
    {
     "name": "stdout",
     "output_type": "stream",
     "text": [
      "Total new projects installed in 2020: 128\n",
      "State with most project installations in 2020:\n",
      "{'TX': 22}\n",
      "The following states had zero new project installations in 2020:\n",
      "['AK', 'AL', 'AR', 'CT', 'DC', 'DE', 'FL', 'GA', 'ID', 'KY', 'LA', 'MA', 'MD', 'MS', 'NC', 'NH', 'NJ', 'NV', 'PA', 'RI', 'SC', 'TN', 'UT', 'VA', 'VT', 'WI']\n"
     ]
    }
   ],
   "source": [
    "# Create new dataframe of only 2020 entries\n",
    "new_turbines = df[df['p_year']==2020]\n",
    "\n",
    "# Limit to one entry per project\n",
    "new_projects = new_turbines.drop_duplicates(subset=['p_name'])\n",
    "\n",
    "# Number of new projects installed in 2020\n",
    "num_projects = len(new_projects.index)\n",
    "print(\"Total new projects installed in 2020: {}\".format(num_projects))\n",
    "\n",
    "# States with most 2020 project installations\n",
    "num_projects_by_state = new_projects['t_state'].value_counts()\n",
    "most_new_projects = num_projects_by_state.head(1).to_dict()\n",
    "print(\"State with most project installations in 2020:\")\n",
    "print(most_new_projects)\n",
    "\n",
    "# The fewest 2020 project installations for any state was zero\n",
    "# Tied between several states, some of which are not preent in the database at all\n",
    "\n",
    "# List of all states\n",
    "all_states = [ 'AK', 'AL', 'AR', 'AZ', 'CA', 'CO', 'CT', 'DC', 'DE', 'FL', 'GA',\n",
    "           'HI', 'IA', 'ID', 'IL', 'IN', 'KS', 'KY', 'LA', 'MA', 'MD', 'ME',\n",
    "           'MI', 'MN', 'MO', 'MS', 'MT', 'NC', 'ND', 'NE', 'NH', 'NJ', 'NM',\n",
    "           'NV', 'NY', 'OH', 'OK', 'OR', 'PA', 'RI', 'SC', 'SD', 'TN', 'TX',\n",
    "           'UT', 'VA', 'VT', 'WA', 'WI', 'WV', 'WY']\n",
    "\n",
    "# List of states with no 2020 project installations\n",
    "no_proj_states = [x for x in all_states if x not in pd.unique(new_projects['t_state'])]\n",
    "print(\"The following states had zero new project installations in 2020:\")\n",
    "print(no_proj_states)"
   ]
  },
  {
   "cell_type": "markdown",
   "metadata": {},
   "source": [
    "**5) How many turbines have been installed in California? How many turbines have been installed\n",
    "in New York?**"
   ]
  },
  {
   "cell_type": "code",
   "execution_count": 77,
   "metadata": {},
   "outputs": [
    {
     "name": "stdout",
     "output_type": "stream",
     "text": [
      "Number of turbines installed in California: 6065\n",
      "Number of turbines installed in New York: 1197\n"
     ]
    }
   ],
   "source": [
    "ca_turbines = df[df['t_state']=='CA']\n",
    "ny_turbines = df[df['t_state']=='NY']\n",
    "\n",
    "n_t_ca = len(ca_turbines.index)\n",
    "n_t_ny = len(ny_turbines.index)\n",
    "\n",
    "print(\"Number of turbines installed in California: {}\".format(n_t_ca))\n",
    "print(\"Number of turbines installed in New York: {}\".format(n_t_ny))"
   ]
  },
  {
   "cell_type": "markdown",
   "metadata": {},
   "source": [
    "**6) How many projects have been installed in California? How many projects have been installed\n",
    "in New York? What are the projects with most number of turbines in each of these states?\n",
    "How many turbines are installed in these projects?**"
   ]
  },
  {
   "cell_type": "code",
   "execution_count": 78,
   "metadata": {},
   "outputs": [
    {
     "name": "stdout",
     "output_type": "stream",
     "text": [
      "Number of projects installed in California: 128\n",
      "Number of projects installed in New York: 44\n"
     ]
    }
   ],
   "source": [
    "ca_projects = ca_turbines.drop_duplicates(subset= ['p_name'])\n",
    "ny_projects = ny_turbines.drop_duplicates(subset= ['p_name'])\n",
    "\n",
    "n_p_ca = len(ca_projects.index)\n",
    "n_p_ny = len(ny_projects.index)\n",
    "\n",
    "print(\"Number of projects installed in California: {}\".format(n_p_ca))\n",
    "print(\"Number of projects installed in New York: {}\".format(n_p_ny))"
   ]
  },
  {
   "cell_type": "markdown",
   "metadata": {},
   "source": [
    "**7) Provide one histogram showing the distribution of turbines’ rotor diameters and another histogram showing the distribution of turbines’ capacities.**"
   ]
  },
  {
   "cell_type": "code",
   "execution_count": 114,
   "metadata": {},
   "outputs": [
    {
     "data": {
      "text/plain": [
       "Text(0.5, 1.0, 'Turbine Capacity Distribution')"
      ]
     },
     "execution_count": 114,
     "metadata": {},
     "output_type": "execute_result"
    },
    {
     "data": {
      "image/png": "[encoded data removed]",
      "text/plain": [
       "<Figure size 1296x432 with 2 Axes>"
      ]
     },
     "metadata": {
      "needs_background": "light"
     },
     "output_type": "display_data"
    }
   ],
   "source": [
    "# Create figure\n",
    "fig, axs = plt.subplots(1,2,figsize=(18,6))\n",
    "\n",
    "# Plot 1: distribution of turbines' rotor diameters\n",
    "axs[0].hist(df['t_rd'], bins=20, ec='k')\n",
    "axs[0].set_xlabel(\"Turbine Rotor Diameter (m)\")\n",
    "axs[0].set_ylabel(\"Number of Entries\")\n",
    "axs[0].set_title(\"Turbine Rotor Diameter Distribution\")\n",
    "\n",
    "# Plot 2: distribution of turbines' capacities\n",
    "axs[1].hist(df['t_cap'], bins=20, ec='k')\n",
    "axs[1].set_xlabel(\"Turbine Capacity (kW)\")\n",
    "axs[1].set_ylabel(\"Number of Entries\")\n",
    "axs[1].set_title(\"Turbine Capacity Distribution\")"
   ]
  },
  {
   "cell_type": "markdown",
   "metadata": {},
   "source": [
    "**8) Visualize the annual installed wind turbine capacity in the US. Use the appropriate type of\n",
    "plot that can effectively show the trend and communicate it well.**"
   ]
  },
  {
   "cell_type": "code",
   "execution_count": null,
   "metadata": {},
   "outputs": [],
   "source": []
  },
  {
   "cell_type": "markdown",
   "metadata": {},
   "source": [
    "**9) Create a pivot table showing total turbine capacity for CA, IA, KS, OK, TX during years\n",
    "2017, 2018, 2019, and 2020.**"
   ]
  },
  {
   "cell_type": "code",
   "execution_count": null,
   "metadata": {},
   "outputs": [],
   "source": []
  },
  {
   "cell_type": "markdown",
   "metadata": {},
   "source": [
    "**10) What variables in the data set are correlated with a Pearson correlation coefficient greater\n",
    "than 0.87? Do the correlations between these variables make sense to you?**"
   ]
  },
  {
   "cell_type": "code",
   "execution_count": null,
   "metadata": {},
   "outputs": [],
   "source": []
  },
  {
   "cell_type": "markdown",
   "metadata": {},
   "source": [
    "**11) If you want to use one parameter to predict turbine capacity, what would it be? How did you\n",
    "decide about it? If you can use two parameters to predict turbine capacity, what would they\n",
    "be? How about three parameters? Explain how you decide about these parameters.**"
   ]
  },
  {
   "cell_type": "code",
   "execution_count": null,
   "metadata": {},
   "outputs": [],
   "source": []
  }
 ],
 "metadata": {
  "interpreter": {
   "hash": "c8f9c7935954ecda090b096605207dfc43f100e2b4845c0167247acb59e9f9dd"
  },
  "kernelspec": {
   "display_name": "Python 3.9.7 ('base')",
   "language": "python",
   "name": "python3"
  },
  "language_info": {
   "codemirror_mode": {
    "name": "ipython",
    "version": 3
   },
   "file_extension": ".py",
   "mimetype": "text/x-python",
   "name": "python",
   "nbconvert_exporter": "python",
   "pygments_lexer": "ipython3",
   "version": "3.9.7"
  },
  "orig_nbformat": 4
 },
 "nbformat": 4,
 "nbformat_minor": 2
}
