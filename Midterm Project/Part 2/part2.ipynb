{
 "cells": [
  {
   "cell_type": "markdown",
   "metadata": {},
   "source": [
    "# ME 364 Midterm Project - Part 2"
   ]
  },
  {
   "cell_type": "markdown",
   "metadata": {},
   "source": [
    "## 1. Setup and Data Cleaning"
   ]
  },
  {
   "cell_type": "markdown",
   "metadata": {},
   "source": [
    "### DataFrame Setup\n",
    "Import libraries and dataset, create dataframe, and show first few lines\n",
    "to confirm that it imported correctly"
   ]
  },
  {
   "cell_type": "code",
   "execution_count": 200,
   "metadata": {},
   "outputs": [
    {
     "data": {
      "text/html": [
       "<div>\n",
       "<style scoped>\n",
       "    .dataframe tbody tr th:only-of-type {\n",
       "        vertical-align: middle;\n",
       "    }\n",
       "\n",
       "    .dataframe tbody tr th {\n",
       "        vertical-align: top;\n",
       "    }\n",
       "\n",
       "    .dataframe thead th {\n",
       "        text-align: right;\n",
       "    }\n",
       "</style>\n",
       "<table border=\"1\" class=\"dataframe\">\n",
       "  <thead>\n",
       "    <tr style=\"text-align: right;\">\n",
       "      <th></th>\n",
       "      <th>naics</th>\n",
       "      <th>naics_title</th>\n",
       "      <th>year</th>\n",
       "      <th>emp</th>\n",
       "      <th>pay</th>\n",
       "      <th>prode</th>\n",
       "      <th>prodh</th>\n",
       "      <th>prodw</th>\n",
       "      <th>vship</th>\n",
       "      <th>matcost</th>\n",
       "      <th>vadd</th>\n",
       "      <th>invest</th>\n",
       "      <th>invent</th>\n",
       "      <th>energy</th>\n",
       "      <th>cap</th>\n",
       "      <th>equip</th>\n",
       "      <th>plant</th>\n",
       "      <th>piship</th>\n",
       "      <th>pimat</th>\n",
       "      <th>piinv</th>\n",
       "      <th>pien</th>\n",
       "      <th>dtfp5</th>\n",
       "      <th>tfp5</th>\n",
       "      <th>dtfp4</th>\n",
       "      <th>tfp4</th>\n",
       "    </tr>\n",
       "  </thead>\n",
       "  <tbody>\n",
       "    <tr>\n",
       "      <th>0</th>\n",
       "      <td>311111</td>\n",
       "      <td>Dog and Cat Food Manufacturing</td>\n",
       "      <td>1958</td>\n",
       "      <td>18.0</td>\n",
       "      <td>81.3</td>\n",
       "      <td>12.0</td>\n",
       "      <td>25.7</td>\n",
       "      <td>49.8</td>\n",
       "      <td>1042.4</td>\n",
       "      <td>752.4</td>\n",
       "      <td>266.9</td>\n",
       "      <td>17.8</td>\n",
       "      <td>59.5</td>\n",
       "      <td>7.0</td>\n",
       "      <td>1212.7</td>\n",
       "      <td>517.6</td>\n",
       "      <td>695.0</td>\n",
       "      <td>0.354</td>\n",
       "      <td>0.133</td>\n",
       "      <td>0.168</td>\n",
       "      <td>0.116</td>\n",
       "      <td>NaN</td>\n",
       "      <td>0.317</td>\n",
       "      <td>NaN</td>\n",
       "      <td>0.318</td>\n",
       "    </tr>\n",
       "    <tr>\n",
       "      <th>1</th>\n",
       "      <td>311111</td>\n",
       "      <td>Dog and Cat Food Manufacturing</td>\n",
       "      <td>1959</td>\n",
       "      <td>17.9</td>\n",
       "      <td>82.5</td>\n",
       "      <td>11.8</td>\n",
       "      <td>25.5</td>\n",
       "      <td>49.4</td>\n",
       "      <td>1051.0</td>\n",
       "      <td>758.9</td>\n",
       "      <td>268.7</td>\n",
       "      <td>18.3</td>\n",
       "      <td>65.2</td>\n",
       "      <td>7.7</td>\n",
       "      <td>1299.0</td>\n",
       "      <td>573.7</td>\n",
       "      <td>725.3</td>\n",
       "      <td>0.345</td>\n",
       "      <td>0.131</td>\n",
       "      <td>0.169</td>\n",
       "      <td>0.115</td>\n",
       "      <td>0.002</td>\n",
       "      <td>0.318</td>\n",
       "      <td>0.002</td>\n",
       "      <td>0.318</td>\n",
       "    </tr>\n",
       "    <tr>\n",
       "      <th>2</th>\n",
       "      <td>311111</td>\n",
       "      <td>Dog and Cat Food Manufacturing</td>\n",
       "      <td>1960</td>\n",
       "      <td>17.7</td>\n",
       "      <td>84.8</td>\n",
       "      <td>11.7</td>\n",
       "      <td>25.4</td>\n",
       "      <td>50.0</td>\n",
       "      <td>1050.2</td>\n",
       "      <td>752.8</td>\n",
       "      <td>269.9</td>\n",
       "      <td>16.1</td>\n",
       "      <td>58.2</td>\n",
       "      <td>8.5</td>\n",
       "      <td>1350.7</td>\n",
       "      <td>611.6</td>\n",
       "      <td>739.2</td>\n",
       "      <td>0.274</td>\n",
       "      <td>0.129</td>\n",
       "      <td>0.173</td>\n",
       "      <td>0.119</td>\n",
       "      <td>0.217</td>\n",
       "      <td>0.394</td>\n",
       "      <td>0.216</td>\n",
       "      <td>0.395</td>\n",
       "    </tr>\n",
       "    <tr>\n",
       "      <th>3</th>\n",
       "      <td>311111</td>\n",
       "      <td>Dog and Cat Food Manufacturing</td>\n",
       "      <td>1961</td>\n",
       "      <td>17.5</td>\n",
       "      <td>87.4</td>\n",
       "      <td>11.5</td>\n",
       "      <td>25.4</td>\n",
       "      <td>51.4</td>\n",
       "      <td>1119.7</td>\n",
       "      <td>803.6</td>\n",
       "      <td>287.8</td>\n",
       "      <td>14.5</td>\n",
       "      <td>58.1</td>\n",
       "      <td>9.3</td>\n",
       "      <td>1394.4</td>\n",
       "      <td>642.6</td>\n",
       "      <td>752.0</td>\n",
       "      <td>0.273</td>\n",
       "      <td>0.131</td>\n",
       "      <td>0.172</td>\n",
       "      <td>0.117</td>\n",
       "      <td>0.024</td>\n",
       "      <td>0.404</td>\n",
       "      <td>0.024</td>\n",
       "      <td>0.405</td>\n",
       "    </tr>\n",
       "    <tr>\n",
       "      <th>4</th>\n",
       "      <td>311111</td>\n",
       "      <td>Dog and Cat Food Manufacturing</td>\n",
       "      <td>1962</td>\n",
       "      <td>17.6</td>\n",
       "      <td>90.2</td>\n",
       "      <td>11.5</td>\n",
       "      <td>25.2</td>\n",
       "      <td>52.1</td>\n",
       "      <td>1175.7</td>\n",
       "      <td>853.3</td>\n",
       "      <td>294.5</td>\n",
       "      <td>18.4</td>\n",
       "      <td>61.9</td>\n",
       "      <td>10.1</td>\n",
       "      <td>1437.8</td>\n",
       "      <td>669.1</td>\n",
       "      <td>768.7</td>\n",
       "      <td>0.277</td>\n",
       "      <td>0.132</td>\n",
       "      <td>0.174</td>\n",
       "      <td>0.119</td>\n",
       "      <td>-0.007</td>\n",
       "      <td>0.401</td>\n",
       "      <td>-0.007</td>\n",
       "      <td>0.402</td>\n",
       "    </tr>\n",
       "  </tbody>\n",
       "</table>\n",
       "</div>"
      ],
      "text/plain": [
       "    naics                     naics_title  year   emp   pay  prode  prodh  \\\n",
       "0  311111  Dog and Cat Food Manufacturing  1958  18.0  81.3   12.0   25.7   \n",
       "1  311111  Dog and Cat Food Manufacturing  1959  17.9  82.5   11.8   25.5   \n",
       "2  311111  Dog and Cat Food Manufacturing  1960  17.7  84.8   11.7   25.4   \n",
       "3  311111  Dog and Cat Food Manufacturing  1961  17.5  87.4   11.5   25.4   \n",
       "4  311111  Dog and Cat Food Manufacturing  1962  17.6  90.2   11.5   25.2   \n",
       "\n",
       "   prodw   vship  matcost   vadd  invest  invent  energy     cap  equip  \\\n",
       "0   49.8  1042.4    752.4  266.9    17.8    59.5     7.0  1212.7  517.6   \n",
       "1   49.4  1051.0    758.9  268.7    18.3    65.2     7.7  1299.0  573.7   \n",
       "2   50.0  1050.2    752.8  269.9    16.1    58.2     8.5  1350.7  611.6   \n",
       "3   51.4  1119.7    803.6  287.8    14.5    58.1     9.3  1394.4  642.6   \n",
       "4   52.1  1175.7    853.3  294.5    18.4    61.9    10.1  1437.8  669.1   \n",
       "\n",
       "   plant  piship  pimat  piinv   pien  dtfp5   tfp5  dtfp4   tfp4  \n",
       "0  695.0   0.354  0.133  0.168  0.116    NaN  0.317    NaN  0.318  \n",
       "1  725.3   0.345  0.131  0.169  0.115  0.002  0.318  0.002  0.318  \n",
       "2  739.2   0.274  0.129  0.173  0.119  0.217  0.394  0.216  0.395  \n",
       "3  752.0   0.273  0.131  0.172  0.117  0.024  0.404  0.024  0.405  \n",
       "4  768.7   0.277  0.132  0.174  0.119 -0.007  0.401 -0.007  0.402  "
      ]
     },
     "execution_count": 200,
     "metadata": {},
     "output_type": "execute_result"
    }
   ],
   "source": [
    "import pandas as pd\n",
    "import numpy as np\n",
    "import matplotlib.pyplot as plt\n",
    "\n",
    "# Create dataframe from raw csv link\n",
    "url = 'https://raw.githubusercontent.com/yairg98/Data-Driven-Problem-Solving/main/Midterm%20Project/Part%202/Manufacturing_Industry_Database.csv'\n",
    "df = pd.read_csv(url)\n",
    "\n",
    "# Set options to display all columns\n",
    "pd.set_option('max_columns', None)\n",
    "\n",
    "# Display first 5 rows of dataframe\n",
    "df.head()"
   ]
  },
  {
   "cell_type": "markdown",
   "metadata": {},
   "source": [
    "### Missing Data Count\n",
    "\n",
    "Identify total number of entries and evaluate missing data by both\n",
    "number and percentage of values missing from each column\n",
    "\n",
    "In the table below, multiple groups of columns are immediately apparent\n",
    "which have precisely the same number of missing values and can therefore\n",
    "be assumed to go together (none or all missing for any given row).\n",
    "\n",
    "Also, to account for the possibility that strings have been used istead\n",
    "of Null to represent missing numeric values, we can include present data\n",
    "types for each column in the table. As shown below, these look correct."
   ]
  },
  {
   "cell_type": "code",
   "execution_count": 201,
   "metadata": {},
   "outputs": [
    {
     "name": "stdout",
     "output_type": "stream",
     "text": [
      "Number of entries in dataset: 22204\n",
      "Total number of values missing: 9490\n",
      "Number of missing values in each column:\n"
     ]
    },
    {
     "data": {
      "text/html": [
       "<div>\n",
       "<style scoped>\n",
       "    .dataframe tbody tr th:only-of-type {\n",
       "        vertical-align: middle;\n",
       "    }\n",
       "\n",
       "    .dataframe tbody tr th {\n",
       "        vertical-align: top;\n",
       "    }\n",
       "\n",
       "    .dataframe thead th {\n",
       "        text-align: right;\n",
       "    }\n",
       "</style>\n",
       "<table border=\"1\" class=\"dataframe\">\n",
       "  <thead>\n",
       "    <tr style=\"text-align: right;\">\n",
       "      <th></th>\n",
       "      <th>num_missing</th>\n",
       "      <th>percent_missing</th>\n",
       "      <th>dtype</th>\n",
       "    </tr>\n",
       "  </thead>\n",
       "  <tbody>\n",
       "    <tr>\n",
       "      <th>dtfp4</th>\n",
       "      <td>1209</td>\n",
       "      <td>5.444965</td>\n",
       "      <td>float64</td>\n",
       "    </tr>\n",
       "    <tr>\n",
       "      <th>dtfp5</th>\n",
       "      <td>1209</td>\n",
       "      <td>5.444965</td>\n",
       "      <td>float64</td>\n",
       "    </tr>\n",
       "    <tr>\n",
       "      <th>tfp4</th>\n",
       "      <td>845</td>\n",
       "      <td>3.805621</td>\n",
       "      <td>float64</td>\n",
       "    </tr>\n",
       "    <tr>\n",
       "      <th>tfp5</th>\n",
       "      <td>845</td>\n",
       "      <td>3.805621</td>\n",
       "      <td>float64</td>\n",
       "    </tr>\n",
       "    <tr>\n",
       "      <th>piinv</th>\n",
       "      <td>845</td>\n",
       "      <td>3.805621</td>\n",
       "      <td>float64</td>\n",
       "    </tr>\n",
       "    <tr>\n",
       "      <th>plant</th>\n",
       "      <td>845</td>\n",
       "      <td>3.805621</td>\n",
       "      <td>float64</td>\n",
       "    </tr>\n",
       "    <tr>\n",
       "      <th>equip</th>\n",
       "      <td>845</td>\n",
       "      <td>3.805621</td>\n",
       "      <td>float64</td>\n",
       "    </tr>\n",
       "    <tr>\n",
       "      <th>cap</th>\n",
       "      <td>845</td>\n",
       "      <td>3.805621</td>\n",
       "      <td>float64</td>\n",
       "    </tr>\n",
       "    <tr>\n",
       "      <th>invest</th>\n",
       "      <td>481</td>\n",
       "      <td>2.166276</td>\n",
       "      <td>float64</td>\n",
       "    </tr>\n",
       "    <tr>\n",
       "      <th>energy</th>\n",
       "      <td>117</td>\n",
       "      <td>0.526932</td>\n",
       "      <td>float64</td>\n",
       "    </tr>\n",
       "    <tr>\n",
       "      <th>pien</th>\n",
       "      <td>117</td>\n",
       "      <td>0.526932</td>\n",
       "      <td>float64</td>\n",
       "    </tr>\n",
       "    <tr>\n",
       "      <th>pimat</th>\n",
       "      <td>117</td>\n",
       "      <td>0.526932</td>\n",
       "      <td>float64</td>\n",
       "    </tr>\n",
       "    <tr>\n",
       "      <th>piship</th>\n",
       "      <td>117</td>\n",
       "      <td>0.526932</td>\n",
       "      <td>float64</td>\n",
       "    </tr>\n",
       "    <tr>\n",
       "      <th>invent</th>\n",
       "      <td>117</td>\n",
       "      <td>0.526932</td>\n",
       "      <td>float64</td>\n",
       "    </tr>\n",
       "    <tr>\n",
       "      <th>vadd</th>\n",
       "      <td>117</td>\n",
       "      <td>0.526932</td>\n",
       "      <td>float64</td>\n",
       "    </tr>\n",
       "    <tr>\n",
       "      <th>matcost</th>\n",
       "      <td>117</td>\n",
       "      <td>0.526932</td>\n",
       "      <td>float64</td>\n",
       "    </tr>\n",
       "    <tr>\n",
       "      <th>vship</th>\n",
       "      <td>117</td>\n",
       "      <td>0.526932</td>\n",
       "      <td>float64</td>\n",
       "    </tr>\n",
       "    <tr>\n",
       "      <th>prodw</th>\n",
       "      <td>117</td>\n",
       "      <td>0.526932</td>\n",
       "      <td>float64</td>\n",
       "    </tr>\n",
       "    <tr>\n",
       "      <th>prodh</th>\n",
       "      <td>117</td>\n",
       "      <td>0.526932</td>\n",
       "      <td>float64</td>\n",
       "    </tr>\n",
       "    <tr>\n",
       "      <th>prode</th>\n",
       "      <td>117</td>\n",
       "      <td>0.526932</td>\n",
       "      <td>float64</td>\n",
       "    </tr>\n",
       "    <tr>\n",
       "      <th>pay</th>\n",
       "      <td>117</td>\n",
       "      <td>0.526932</td>\n",
       "      <td>float64</td>\n",
       "    </tr>\n",
       "    <tr>\n",
       "      <th>emp</th>\n",
       "      <td>117</td>\n",
       "      <td>0.526932</td>\n",
       "      <td>float64</td>\n",
       "    </tr>\n",
       "    <tr>\n",
       "      <th>naics_title</th>\n",
       "      <td>0</td>\n",
       "      <td>0.000000</td>\n",
       "      <td>object</td>\n",
       "    </tr>\n",
       "    <tr>\n",
       "      <th>year</th>\n",
       "      <td>0</td>\n",
       "      <td>0.000000</td>\n",
       "      <td>int64</td>\n",
       "    </tr>\n",
       "    <tr>\n",
       "      <th>naics</th>\n",
       "      <td>0</td>\n",
       "      <td>0.000000</td>\n",
       "      <td>int64</td>\n",
       "    </tr>\n",
       "  </tbody>\n",
       "</table>\n",
       "</div>"
      ],
      "text/plain": [
       "             num_missing  percent_missing    dtype\n",
       "dtfp4               1209         5.444965  float64\n",
       "dtfp5               1209         5.444965  float64\n",
       "tfp4                 845         3.805621  float64\n",
       "tfp5                 845         3.805621  float64\n",
       "piinv                845         3.805621  float64\n",
       "plant                845         3.805621  float64\n",
       "equip                845         3.805621  float64\n",
       "cap                  845         3.805621  float64\n",
       "invest               481         2.166276  float64\n",
       "energy               117         0.526932  float64\n",
       "pien                 117         0.526932  float64\n",
       "pimat                117         0.526932  float64\n",
       "piship               117         0.526932  float64\n",
       "invent               117         0.526932  float64\n",
       "vadd                 117         0.526932  float64\n",
       "matcost              117         0.526932  float64\n",
       "vship                117         0.526932  float64\n",
       "prodw                117         0.526932  float64\n",
       "prodh                117         0.526932  float64\n",
       "prode                117         0.526932  float64\n",
       "pay                  117         0.526932  float64\n",
       "emp                  117         0.526932  float64\n",
       "naics_title            0         0.000000   object\n",
       "year                   0         0.000000    int64\n",
       "naics                  0         0.000000    int64"
      ]
     },
     "execution_count": 201,
     "metadata": {},
     "output_type": "execute_result"
    }
   ],
   "source": [
    "# Number of rows in dataset\n",
    "rows = len(df.index)\n",
    "print(\"Number of entries in dataset: {}\".format(rows))\n",
    "\n",
    "# Number of missing values in dataset\n",
    "missing = df.isnull().sum()\n",
    "print(\"Total number of values missing: {}\".format(missing.sum()))\n",
    "print(\"Number of missing values in each column:\")\n",
    "\n",
    "# Enter column specs into new dataframe\n",
    "df_specs = pd.DataFrame(\n",
    "    {\"num_missing\": missing,\n",
    "    \"percent_missing\": missing.divide(rows/100),\n",
    "    \"dtype\": df.dtypes})\n",
    "    \n",
    "# Display results with columns sorted by most missing data\n",
    "df_specs.sort_values(by='percent_missing', ascending=False)"
   ]
  },
  {
   "cell_type": "markdown",
   "metadata": {},
   "source": [
    "### Missing Data Analysis & Cleaning\n",
    "\n",
    "Noticing in the table above that columns seem to be missing data in\n",
    "groups, we can limit further analysis to one column from each group and\n",
    "extrapolate any trends or patterns to the other members of that group.\n",
    "\n",
    "- Group A: dtfp4, dtfp5\n",
    "- Group B: tfp4, tfp5, piinv, plant, equip, cap\n",
    "- Group C: invest\n",
    "- Group D: energy, pien, pimat, piship, invent, vadd, matcost, vship,\n",
    "    prodw, prodh, prode, pay, emp\n",
    "\n",
    "The resulting table below shows that columns in groups A and B are\n",
    "completely missing for the last two years in the dataset, 2017 and 2018.\n",
    "Year 2018 is also missing all data from column group C, and 1958 (the\n",
    "first year in the dataset) has no data from column group A. Outside of\n",
    "those exceptions, no more than 0.825% of values are missing for any\n",
    "given column group in any given year. Therefore, years 2017 and 2018\n",
    "will be ignored when considering any features from groups A or B. Year\n",
    "2018 will also be ignored for any analysis involving column group C, and\n",
    "1958 will be ignored for any analysis involving column group A."
   ]
  },
  {
   "cell_type": "code",
   "execution_count": 202,
   "metadata": {},
   "outputs": [
    {
     "name": "stdout",
     "output_type": "stream",
     "text": [
      "             A         B         C         D\n",
      "year                                        \n",
      "1958  1.000000  0.008242  0.008242  0.008242\n",
      "1959  0.008242  0.008242  0.008242  0.008242\n",
      "1960  0.008242  0.008242  0.008242  0.008242\n",
      "1961  0.008242  0.008242  0.008242  0.008242\n",
      "1962  0.008242  0.008242  0.008242  0.008242\n",
      "1963  0.008242  0.008242  0.008242  0.008242\n",
      "1964  0.008242  0.008242  0.008242  0.008242\n",
      "1965  0.008242  0.008242  0.008242  0.008242\n",
      "1966  0.008242  0.008242  0.008242  0.008242\n",
      "1967  0.008242  0.008242  0.008242  0.008242\n",
      "1968  0.008242  0.008242  0.008242  0.008242\n",
      "1969  0.008242  0.008242  0.008242  0.008242\n",
      "1970  0.008242  0.008242  0.008242  0.008242\n",
      "1971  0.008242  0.008242  0.008242  0.008242\n",
      "1972  0.008242  0.008242  0.008242  0.008242\n",
      "1973  0.008242  0.008242  0.008242  0.008242\n",
      "1974  0.008242  0.008242  0.008242  0.008242\n",
      "1975  0.008242  0.008242  0.008242  0.008242\n",
      "1976  0.008242  0.008242  0.008242  0.008242\n",
      "1977  0.008242  0.008242  0.008242  0.008242\n",
      "1978  0.008242  0.008242  0.008242  0.008242\n",
      "1979  0.008242  0.008242  0.008242  0.008242\n",
      "1980  0.008242  0.008242  0.008242  0.008242\n",
      "1981  0.008242  0.008242  0.008242  0.008242\n",
      "1982  0.008242  0.008242  0.008242  0.008242\n",
      "1983  0.008242  0.008242  0.008242  0.008242\n",
      "1984  0.008242  0.008242  0.008242  0.008242\n",
      "1985  0.008242  0.008242  0.008242  0.008242\n",
      "1986  0.008242  0.008242  0.008242  0.008242\n",
      "1987  0.008242  0.008242  0.008242  0.008242\n",
      "1988  0.008242  0.008242  0.008242  0.008242\n",
      "1989  0.008242  0.008242  0.008242  0.008242\n",
      "1990  0.008242  0.008242  0.008242  0.008242\n",
      "1991  0.008242  0.008242  0.008242  0.008242\n",
      "1992  0.008242  0.008242  0.008242  0.008242\n",
      "1993  0.008242  0.008242  0.008242  0.008242\n",
      "1994  0.008242  0.008242  0.008242  0.008242\n",
      "1995  0.008242  0.008242  0.008242  0.008242\n",
      "1996  0.008242  0.008242  0.008242  0.008242\n",
      "1997  0.008242  0.000000  0.000000  0.000000\n",
      "1998  0.000000  0.000000  0.000000  0.000000\n",
      "1999  0.000000  0.000000  0.000000  0.000000\n",
      "2000  0.000000  0.000000  0.000000  0.000000\n",
      "2001  0.000000  0.000000  0.000000  0.000000\n",
      "2002  0.000000  0.000000  0.000000  0.000000\n",
      "2003  0.000000  0.000000  0.000000  0.000000\n",
      "2004  0.000000  0.000000  0.000000  0.000000\n",
      "2005  0.000000  0.000000  0.000000  0.000000\n",
      "2006  0.000000  0.000000  0.000000  0.000000\n",
      "2007  0.000000  0.000000  0.000000  0.000000\n",
      "2008  0.000000  0.000000  0.000000  0.000000\n",
      "2009  0.000000  0.000000  0.000000  0.000000\n",
      "2010  0.000000  0.000000  0.000000  0.000000\n",
      "2011  0.000000  0.000000  0.000000  0.000000\n",
      "2012  0.000000  0.000000  0.000000  0.000000\n",
      "2013  0.000000  0.000000  0.000000  0.000000\n",
      "2014  0.000000  0.000000  0.000000  0.000000\n",
      "2015  0.000000  0.000000  0.000000  0.000000\n",
      "2016  0.000000  0.000000  0.000000  0.000000\n",
      "2017  1.000000  1.000000  0.000000  0.000000\n",
      "2018  1.000000  1.000000  1.000000  0.000000\n"
     ]
    }
   ],
   "source": [
    "# Analyzing the missing data by year\n",
    "total_entries_by_year = df['year'].value_counts()\n",
    "num_missing_by_year = df.groupby('year').apply(lambda x: x.isnull().sum())\n",
    "percent_missing_by_year = df.groupby('year').apply(lambda x: x.isnull().mean())\n",
    "\n",
    "# List of group representatives (one column from each column-group)\n",
    "group_reps = ['dtfp4', 'tfp4', 'invest', 'energy']\n",
    "\n",
    "# Missing values by year\n",
    "percent_missing_by_year = percent_missing_by_year[group_reps].rename(\n",
    "    columns = {'dtfp4': 'A', 'tfp4': 'B', 'invest': 'C', 'energy': 'D'})\n",
    "\n",
    "print(percent_missing_by_year.to_string())"
   ]
  },
  {
   "cell_type": "markdown",
   "metadata": {},
   "source": [
    "## 2. Descriptive Statistics"
   ]
  },
  {
   "cell_type": "markdown",
   "metadata": {},
   "source": [
    "### Basic Columnwise Stats\n",
    "\n",
    "Summarize the distribution of values for each column."
   ]
  },
  {
   "cell_type": "code",
   "execution_count": 203,
   "metadata": {},
   "outputs": [
    {
     "data": {
      "text/html": [
       "<div>\n",
       "<style scoped>\n",
       "    .dataframe tbody tr th:only-of-type {\n",
       "        vertical-align: middle;\n",
       "    }\n",
       "\n",
       "    .dataframe tbody tr th {\n",
       "        vertical-align: top;\n",
       "    }\n",
       "\n",
       "    .dataframe thead th {\n",
       "        text-align: right;\n",
       "    }\n",
       "</style>\n",
       "<table border=\"1\" class=\"dataframe\">\n",
       "  <thead>\n",
       "    <tr style=\"text-align: right;\">\n",
       "      <th></th>\n",
       "      <th>naics</th>\n",
       "      <th>year</th>\n",
       "      <th>emp</th>\n",
       "      <th>pay</th>\n",
       "      <th>prode</th>\n",
       "      <th>prodh</th>\n",
       "      <th>prodw</th>\n",
       "      <th>vship</th>\n",
       "      <th>matcost</th>\n",
       "      <th>vadd</th>\n",
       "      <th>invest</th>\n",
       "      <th>invent</th>\n",
       "      <th>energy</th>\n",
       "      <th>cap</th>\n",
       "      <th>equip</th>\n",
       "      <th>plant</th>\n",
       "      <th>piship</th>\n",
       "      <th>pimat</th>\n",
       "      <th>piinv</th>\n",
       "      <th>pien</th>\n",
       "      <th>dtfp5</th>\n",
       "      <th>tfp5</th>\n",
       "      <th>dtfp4</th>\n",
       "      <th>tfp4</th>\n",
       "    </tr>\n",
       "  </thead>\n",
       "  <tbody>\n",
       "    <tr>\n",
       "      <th>count</th>\n",
       "      <td>22204.0</td>\n",
       "      <td>22204.0</td>\n",
       "      <td>22087.0</td>\n",
       "      <td>22087.0</td>\n",
       "      <td>22087.0</td>\n",
       "      <td>22087.0</td>\n",
       "      <td>22087.0</td>\n",
       "      <td>22087.0</td>\n",
       "      <td>22087.0</td>\n",
       "      <td>22087.0</td>\n",
       "      <td>21723.0</td>\n",
       "      <td>22087.0</td>\n",
       "      <td>22087.0</td>\n",
       "      <td>21359.0</td>\n",
       "      <td>21359.0</td>\n",
       "      <td>21359.0</td>\n",
       "      <td>22087.0</td>\n",
       "      <td>22087.0</td>\n",
       "      <td>21359.0</td>\n",
       "      <td>22087.0</td>\n",
       "      <td>20995.0</td>\n",
       "      <td>21359.0</td>\n",
       "      <td>20995.0</td>\n",
       "      <td>21359.0</td>\n",
       "    </tr>\n",
       "    <tr>\n",
       "      <th>mean</th>\n",
       "      <td>327608.0</td>\n",
       "      <td>1988.0</td>\n",
       "      <td>43.0</td>\n",
       "      <td>1065.0</td>\n",
       "      <td>31.0</td>\n",
       "      <td>63.0</td>\n",
       "      <td>633.0</td>\n",
       "      <td>7566.0</td>\n",
       "      <td>4205.0</td>\n",
       "      <td>3381.0</td>\n",
       "      <td>234.0</td>\n",
       "      <td>896.0</td>\n",
       "      <td>143.0</td>\n",
       "      <td>4222.0</td>\n",
       "      <td>2611.0</td>\n",
       "      <td>1611.0</td>\n",
       "      <td>2.0</td>\n",
       "      <td>1.0</td>\n",
       "      <td>1.0</td>\n",
       "      <td>1.0</td>\n",
       "      <td>0.0</td>\n",
       "      <td>1.0</td>\n",
       "      <td>0.0</td>\n",
       "      <td>1.0</td>\n",
       "    </tr>\n",
       "    <tr>\n",
       "      <th>std</th>\n",
       "      <td>8819.0</td>\n",
       "      <td>18.0</td>\n",
       "      <td>55.0</td>\n",
       "      <td>1625.0</td>\n",
       "      <td>42.0</td>\n",
       "      <td>83.0</td>\n",
       "      <td>955.0</td>\n",
       "      <td>20625.0</td>\n",
       "      <td>15880.0</td>\n",
       "      <td>6534.0</td>\n",
       "      <td>636.0</td>\n",
       "      <td>2125.0</td>\n",
       "      <td>455.0</td>\n",
       "      <td>9032.0</td>\n",
       "      <td>6058.0</td>\n",
       "      <td>3225.0</td>\n",
       "      <td>41.0</td>\n",
       "      <td>0.0</td>\n",
       "      <td>0.0</td>\n",
       "      <td>0.0</td>\n",
       "      <td>0.0</td>\n",
       "      <td>0.0</td>\n",
       "      <td>0.0</td>\n",
       "      <td>0.0</td>\n",
       "    </tr>\n",
       "    <tr>\n",
       "      <th>min</th>\n",
       "      <td>311111.0</td>\n",
       "      <td>1958.0</td>\n",
       "      <td>0.0</td>\n",
       "      <td>3.0</td>\n",
       "      <td>0.0</td>\n",
       "      <td>0.0</td>\n",
       "      <td>2.0</td>\n",
       "      <td>26.0</td>\n",
       "      <td>10.0</td>\n",
       "      <td>10.0</td>\n",
       "      <td>0.0</td>\n",
       "      <td>0.0</td>\n",
       "      <td>0.0</td>\n",
       "      <td>13.0</td>\n",
       "      <td>6.0</td>\n",
       "      <td>7.0</td>\n",
       "      <td>0.0</td>\n",
       "      <td>0.0</td>\n",
       "      <td>0.0</td>\n",
       "      <td>0.0</td>\n",
       "      <td>-1.0</td>\n",
       "      <td>0.0</td>\n",
       "      <td>-1.0</td>\n",
       "      <td>0.0</td>\n",
       "    </tr>\n",
       "    <tr>\n",
       "      <th>25%</th>\n",
       "      <td>322191.0</td>\n",
       "      <td>1973.0</td>\n",
       "      <td>14.0</td>\n",
       "      <td>250.0</td>\n",
       "      <td>10.0</td>\n",
       "      <td>20.0</td>\n",
       "      <td>157.0</td>\n",
       "      <td>1264.0</td>\n",
       "      <td>614.0</td>\n",
       "      <td>601.0</td>\n",
       "      <td>32.0</td>\n",
       "      <td>177.0</td>\n",
       "      <td>15.0</td>\n",
       "      <td>1002.0</td>\n",
       "      <td>521.0</td>\n",
       "      <td>441.0</td>\n",
       "      <td>0.0</td>\n",
       "      <td>0.0</td>\n",
       "      <td>0.0</td>\n",
       "      <td>0.0</td>\n",
       "      <td>-0.0</td>\n",
       "      <td>1.0</td>\n",
       "      <td>-0.0</td>\n",
       "      <td>1.0</td>\n",
       "    </tr>\n",
       "    <tr>\n",
       "      <th>50%</th>\n",
       "      <td>331502.0</td>\n",
       "      <td>1988.0</td>\n",
       "      <td>26.0</td>\n",
       "      <td>572.0</td>\n",
       "      <td>19.0</td>\n",
       "      <td>38.0</td>\n",
       "      <td>348.0</td>\n",
       "      <td>3374.0</td>\n",
       "      <td>1638.0</td>\n",
       "      <td>1623.0</td>\n",
       "      <td>88.0</td>\n",
       "      <td>437.0</td>\n",
       "      <td>45.0</td>\n",
       "      <td>1979.0</td>\n",
       "      <td>1130.0</td>\n",
       "      <td>808.0</td>\n",
       "      <td>1.0</td>\n",
       "      <td>1.0</td>\n",
       "      <td>1.0</td>\n",
       "      <td>1.0</td>\n",
       "      <td>0.0</td>\n",
       "      <td>1.0</td>\n",
       "      <td>0.0</td>\n",
       "      <td>1.0</td>\n",
       "    </tr>\n",
       "    <tr>\n",
       "      <th>75%</th>\n",
       "      <td>334414.0</td>\n",
       "      <td>2003.0</td>\n",
       "      <td>51.0</td>\n",
       "      <td>1182.0</td>\n",
       "      <td>37.0</td>\n",
       "      <td>74.0</td>\n",
       "      <td>717.0</td>\n",
       "      <td>7511.0</td>\n",
       "      <td>3824.0</td>\n",
       "      <td>3591.0</td>\n",
       "      <td>218.0</td>\n",
       "      <td>915.0</td>\n",
       "      <td>118.0</td>\n",
       "      <td>4154.0</td>\n",
       "      <td>2498.0</td>\n",
       "      <td>1591.0</td>\n",
       "      <td>1.0</td>\n",
       "      <td>1.0</td>\n",
       "      <td>1.0</td>\n",
       "      <td>1.0</td>\n",
       "      <td>0.0</td>\n",
       "      <td>1.0</td>\n",
       "      <td>0.0</td>\n",
       "      <td>1.0</td>\n",
       "    </tr>\n",
       "    <tr>\n",
       "      <th>max</th>\n",
       "      <td>339999.0</td>\n",
       "      <td>2018.0</td>\n",
       "      <td>641.0</td>\n",
       "      <td>21751.0</td>\n",
       "      <td>465.0</td>\n",
       "      <td>950.0</td>\n",
       "      <td>13410.0</td>\n",
       "      <td>805857.0</td>\n",
       "      <td>690771.0</td>\n",
       "      <td>122783.0</td>\n",
       "      <td>22278.0</td>\n",
       "      <td>62387.0</td>\n",
       "      <td>14199.0</td>\n",
       "      <td>191466.0</td>\n",
       "      <td>141296.0</td>\n",
       "      <td>50169.0</td>\n",
       "      <td>1451.0</td>\n",
       "      <td>7.0</td>\n",
       "      <td>2.0</td>\n",
       "      <td>2.0</td>\n",
       "      <td>1.0</td>\n",
       "      <td>3.0</td>\n",
       "      <td>1.0</td>\n",
       "      <td>3.0</td>\n",
       "    </tr>\n",
       "  </tbody>\n",
       "</table>\n",
       "</div>"
      ],
      "text/plain": [
       "          naics     year      emp      pay    prode    prodh    prodw  \\\n",
       "count   22204.0  22204.0  22087.0  22087.0  22087.0  22087.0  22087.0   \n",
       "mean   327608.0   1988.0     43.0   1065.0     31.0     63.0    633.0   \n",
       "std      8819.0     18.0     55.0   1625.0     42.0     83.0    955.0   \n",
       "min    311111.0   1958.0      0.0      3.0      0.0      0.0      2.0   \n",
       "25%    322191.0   1973.0     14.0    250.0     10.0     20.0    157.0   \n",
       "50%    331502.0   1988.0     26.0    572.0     19.0     38.0    348.0   \n",
       "75%    334414.0   2003.0     51.0   1182.0     37.0     74.0    717.0   \n",
       "max    339999.0   2018.0    641.0  21751.0    465.0    950.0  13410.0   \n",
       "\n",
       "          vship   matcost      vadd   invest   invent   energy       cap  \\\n",
       "count   22087.0   22087.0   22087.0  21723.0  22087.0  22087.0   21359.0   \n",
       "mean     7566.0    4205.0    3381.0    234.0    896.0    143.0    4222.0   \n",
       "std     20625.0   15880.0    6534.0    636.0   2125.0    455.0    9032.0   \n",
       "min        26.0      10.0      10.0      0.0      0.0      0.0      13.0   \n",
       "25%      1264.0     614.0     601.0     32.0    177.0     15.0    1002.0   \n",
       "50%      3374.0    1638.0    1623.0     88.0    437.0     45.0    1979.0   \n",
       "75%      7511.0    3824.0    3591.0    218.0    915.0    118.0    4154.0   \n",
       "max    805857.0  690771.0  122783.0  22278.0  62387.0  14199.0  191466.0   \n",
       "\n",
       "          equip    plant   piship    pimat    piinv     pien    dtfp5  \\\n",
       "count   21359.0  21359.0  22087.0  22087.0  21359.0  22087.0  20995.0   \n",
       "mean     2611.0   1611.0      2.0      1.0      1.0      1.0      0.0   \n",
       "std      6058.0   3225.0     41.0      0.0      0.0      0.0      0.0   \n",
       "min         6.0      7.0      0.0      0.0      0.0      0.0     -1.0   \n",
       "25%       521.0    441.0      0.0      0.0      0.0      0.0     -0.0   \n",
       "50%      1130.0    808.0      1.0      1.0      1.0      1.0      0.0   \n",
       "75%      2498.0   1591.0      1.0      1.0      1.0      1.0      0.0   \n",
       "max    141296.0  50169.0   1451.0      7.0      2.0      2.0      1.0   \n",
       "\n",
       "          tfp5    dtfp4     tfp4  \n",
       "count  21359.0  20995.0  21359.0  \n",
       "mean       1.0      0.0      1.0  \n",
       "std        0.0      0.0      0.0  \n",
       "min        0.0     -1.0      0.0  \n",
       "25%        1.0     -0.0      1.0  \n",
       "50%        1.0      0.0      1.0  \n",
       "75%        1.0      0.0      1.0  \n",
       "max        3.0      1.0      3.0  "
      ]
     },
     "execution_count": 203,
     "metadata": {},
     "output_type": "execute_result"
    }
   ],
   "source": [
    "# Display table of distribution statistics for each column in dataframe\n",
    "df.describe().round()"
   ]
  },
  {
   "cell_type": "markdown",
   "metadata": {},
   "source": [
    "### Plot Columnwise Distributions\n",
    "\n",
    "Plot the distributions of each column. Some columns are shown on a\n",
    "linear scale and others on a logarithmic scale, as appropriate.\n",
    "Note the pretty even distribution of data points per year, with the\n",
    "exception of the last year in the dataset, 2018. The seemingly random\n",
    "distribution of NAICS codes is to be expected since those represent\n",
    "categories, not typical numerical values.\n",
    "\n",
    "Also notice that the columns shown on a logarithmic scale all seem to be\n",
    "features that one would expect to scale with the size of the company\n",
    "represented by a given data point. Therefore, it makes sens that these\n",
    "would share a number of qualities, such as the dip and subsequent spike\n",
    "towards the high end of the scale. For simplicity, deflators were\n",
    "ignored here."
   ]
  },
  {
   "cell_type": "code",
   "execution_count": 204,
   "metadata": {},
   "outputs": [
    {
     "data": {
      "image/png": "[encoded data removed]",
      "text/plain": [
       "<Figure size 1152x576 with 6 Axes>"
      ]
     },
     "metadata": {
      "needs_background": "light"
     },
     "output_type": "display_data"
    },
    {
     "data": {
      "image/png": "[encoded data removed]",
      "text/plain": [
       "<Figure size 1152x864 with 16 Axes>"
      ]
     },
     "metadata": {
      "needs_background": "light"
     },
     "output_type": "display_data"
    }
   ],
   "source": [
    "# Plot year, industry code, and TFP/dTFP distribution (linear scale)\n",
    "fig1 = df[['year','tfp4','dtfp4','tfp5','dtfp5','naics']].hist(\n",
    "    bins=60, figsize=(16,8), log=False)\n",
    "\n",
    "# Plot other column distributions on logarithmic scale\n",
    "fig2 = df[['emp','pay','prode','prodh','prodw','vship','matcost','vadd',\n",
    "    'invest','invent','energy','cap','equip','plant']].hist(\n",
    "    bins=20, figsize=(16,12), log=True)"
   ]
  },
  {
   "cell_type": "markdown",
   "metadata": {},
   "source": [
    "## Data Visualizations"
   ]
  },
  {
   "cell_type": "markdown",
   "metadata": {},
   "source": []
  },
  {
   "cell_type": "code",
   "execution_count": 250,
   "metadata": {},
   "outputs": [
    {
     "data": {
      "application/vnd.plotly.v1+json": {
       "config": {
        "plotlyServerURL": "https://plot.ly"
       },
       "data": [
        {
         "domain": {
          "x": [
           0,
           0.2888888888888889
          ],
          "y": [
           0,
           1
          ]
         },
         "labels": [
          "Iron and Steel Mills and Ferroalloy Manufacturing",
          "Petroleum Refineries",
          "Light Truck and Utility Vehicle Manufacturing",
          "All Other Basic Organic Chemical Manufacturing",
          "Automobile Manufacturing"
         ],
         "name": "Total 1960 Market Capital Stock",
         "scalegroup": "one",
         "type": "pie",
         "values": [
          94739.5,
          52473.2,
          17774,
          16291.7,
          15048
         ]
        },
        {
         "domain": {
          "x": [
           0.35555555555555557,
           0.6444444444444445
          ],
          "y": [
           0,
           1
          ]
         },
         "labels": [
          "Iron and Steel Mills and Ferroalloy Manufacturing",
          "Petroleum Refineries",
          "All Other Basic Organic Chemical Manufacturing",
          "Paper (except Newsprint) Mills",
          "Light Truck and Utility Vehicle Manufacturing"
         ],
         "name": "Total 1985 Market Capital Stock",
         "scalegroup": "one",
         "type": "pie",
         "values": [
          100646.7,
          84645,
          39261.1,
          36891.9,
          27342.7
         ]
        },
        {
         "domain": {
          "x": [
           0.7111111111111111,
           1
          ],
          "y": [
           0,
           1
          ]
         },
         "labels": [
          "Petroleum Refineries",
          "Semiconductor and Related Device Manufacturing",
          "Pharmaceutical Preparation Manufacturing",
          "Iron and Steel Mills and Ferroalloy Manufacturing",
          "All Other Basic Organic Chemical Manufacturing"
         ],
         "name": "Total 2016 Market Capital Stock",
         "scalegroup": "one",
         "type": "pie",
         "values": [
          191465.6,
          120222.4,
          55221,
          51823.3,
          44722.1
         ]
        }
       ],
       "layout": {
        "annotations": [
         {
          "font": {
           "size": 16
          },
          "showarrow": false,
          "text": "1960",
          "x": 0.14444444444444446,
          "xanchor": "center",
          "xref": "paper",
          "y": 1,
          "yanchor": "bottom",
          "yref": "paper"
         },
         {
          "font": {
           "size": 16
          },
          "showarrow": false,
          "text": "1985",
          "x": 0.5,
          "xanchor": "center",
          "xref": "paper",
          "y": 1,
          "yanchor": "bottom",
          "yref": "paper"
         },
         {
          "font": {
           "size": 16
          },
          "showarrow": false,
          "text": "2016",
          "x": 0.8555555555555556,
          "xanchor": "center",
          "xref": "paper",
          "y": 1,
          "yanchor": "bottom",
          "yref": "paper"
         }
        ],
        "template": {
         "data": {
          "bar": [
           {
            "error_x": {
             "color": "#2a3f5f"
            },
            "error_y": {
             "color": "#2a3f5f"
            },
            "marker": {
             "line": {
              "color": "#E5ECF6",
              "width": 0.5
             },
             "pattern": {
              "fillmode": "overlay",
              "size": 10,
              "solidity": 0.2
             }
            },
            "type": "bar"
           }
          ],
          "barpolar": [
           {
            "marker": {
             "line": {
              "color": "#E5ECF6",
              "width": 0.5
             },
             "pattern": {
              "fillmode": "overlay",
              "size": 10,
              "solidity": 0.2
             }
            },
            "type": "barpolar"
           }
          ],
          "carpet": [
           {
            "aaxis": {
             "endlinecolor": "#2a3f5f",
             "gridcolor": "white",
             "linecolor": "white",
             "minorgridcolor": "white",
             "startlinecolor": "#2a3f5f"
            },
            "baxis": {
             "endlinecolor": "#2a3f5f",
             "gridcolor": "white",
             "linecolor": "white",
             "minorgridcolor": "white",
             "startlinecolor": "#2a3f5f"
            },
            "type": "carpet"
           }
          ],
          "choropleth": [
           {
            "colorbar": {
             "outlinewidth": 0,
             "ticks": ""
            },
            "type": "choropleth"
           }
          ],
          "contour": [
           {
            "colorbar": {
             "outlinewidth": 0,
             "ticks": ""
            },
            "colorscale": [
             [
              0,
              "#0d0887"
             ],
             [
              0.1111111111111111,
              "#46039f"
             ],
             [
              0.2222222222222222,
              "#7201a8"
             ],
             [
              0.3333333333333333,
              "#9c179e"
             ],
             [
              0.4444444444444444,
              "#bd3786"
             ],
             [
              0.5555555555555556,
              "#d8576b"
             ],
             [
              0.6666666666666666,
              "#ed7953"
             ],
             [
              0.7777777777777778,
              "#fb9f3a"
             ],
             [
              0.8888888888888888,
              "#fdca26"
             ],
             [
              1,
              "#f0f921"
             ]
            ],
            "type": "contour"
           }
          ],
          "contourcarpet": [
           {
            "colorbar": {
             "outlinewidth": 0,
             "ticks": ""
            },
            "type": "contourcarpet"
           }
          ],
          "heatmap": [
           {
            "colorbar": {
             "outlinewidth": 0,
             "ticks": ""
            },
            "colorscale": [
             [
              0,
              "#0d0887"
             ],
             [
              0.1111111111111111,
              "#46039f"
             ],
             [
              0.2222222222222222,
              "#7201a8"
             ],
             [
              0.3333333333333333,
              "#9c179e"
             ],
             [
              0.4444444444444444,
              "#bd3786"
             ],
             [
              0.5555555555555556,
              "#d8576b"
             ],
             [
              0.6666666666666666,
              "#ed7953"
             ],
             [
              0.7777777777777778,
              "#fb9f3a"
             ],
             [
              0.8888888888888888,
              "#fdca26"
             ],
             [
              1,
              "#f0f921"
             ]
            ],
            "type": "heatmap"
           }
          ],
          "heatmapgl": [
           {
            "colorbar": {
             "outlinewidth": 0,
             "ticks": ""
            },
            "colorscale": [
             [
              0,
              "#0d0887"
             ],
             [
              0.1111111111111111,
              "#46039f"
             ],
             [
              0.2222222222222222,
              "#7201a8"
             ],
             [
              0.3333333333333333,
              "#9c179e"
             ],
             [
              0.4444444444444444,
              "#bd3786"
             ],
             [
              0.5555555555555556,
              "#d8576b"
             ],
             [
              0.6666666666666666,
              "#ed7953"
             ],
             [
              0.7777777777777778,
              "#fb9f3a"
             ],
             [
              0.8888888888888888,
              "#fdca26"
             ],
             [
              1,
              "#f0f921"
             ]
            ],
            "type": "heatmapgl"
           }
          ],
          "histogram": [
           {
            "marker": {
             "pattern": {
              "fillmode": "overlay",
              "size": 10,
              "solidity": 0.2
             }
            },
            "type": "histogram"
           }
          ],
          "histogram2d": [
           {
            "colorbar": {
             "outlinewidth": 0,
             "ticks": ""
            },
            "colorscale": [
             [
              0,
              "#0d0887"
             ],
             [
              0.1111111111111111,
              "#46039f"
             ],
             [
              0.2222222222222222,
              "#7201a8"
             ],
             [
              0.3333333333333333,
              "#9c179e"
             ],
             [
              0.4444444444444444,
              "#bd3786"
             ],
             [
              0.5555555555555556,
              "#d8576b"
             ],
             [
              0.6666666666666666,
              "#ed7953"
             ],
             [
              0.7777777777777778,
              "#fb9f3a"
             ],
             [
              0.8888888888888888,
              "#fdca26"
             ],
             [
              1,
              "#f0f921"
             ]
            ],
            "type": "histogram2d"
           }
          ],
          "histogram2dcontour": [
           {
            "colorbar": {
             "outlinewidth": 0,
             "ticks": ""
            },
            "colorscale": [
             [
              0,
              "#0d0887"
             ],
             [
              0.1111111111111111,
              "#46039f"
             ],
             [
              0.2222222222222222,
              "#7201a8"
             ],
             [
              0.3333333333333333,
              "#9c179e"
             ],
             [
              0.4444444444444444,
              "#bd3786"
             ],
             [
              0.5555555555555556,
              "#d8576b"
             ],
             [
              0.6666666666666666,
              "#ed7953"
             ],
             [
              0.7777777777777778,
              "#fb9f3a"
             ],
             [
              0.8888888888888888,
              "#fdca26"
             ],
             [
              1,
              "#f0f921"
             ]
            ],
            "type": "histogram2dcontour"
           }
          ],
          "mesh3d": [
           {
            "colorbar": {
             "outlinewidth": 0,
             "ticks": ""
            },
            "type": "mesh3d"
           }
          ],
          "parcoords": [
           {
            "line": {
             "colorbar": {
              "outlinewidth": 0,
              "ticks": ""
             }
            },
            "type": "parcoords"
           }
          ],
          "pie": [
           {
            "automargin": true,
            "type": "pie"
           }
          ],
          "scatter": [
           {
            "marker": {
             "colorbar": {
              "outlinewidth": 0,
              "ticks": ""
             }
            },
            "type": "scatter"
           }
          ],
          "scatter3d": [
           {
            "line": {
             "colorbar": {
              "outlinewidth": 0,
              "ticks": ""
             }
            },
            "marker": {
             "colorbar": {
              "outlinewidth": 0,
              "ticks": ""
             }
            },
            "type": "scatter3d"
           }
          ],
          "scattercarpet": [
           {
            "marker": {
             "colorbar": {
              "outlinewidth": 0,
              "ticks": ""
             }
            },
            "type": "scattercarpet"
           }
          ],
          "scattergeo": [
           {
            "marker": {
             "colorbar": {
              "outlinewidth": 0,
              "ticks": ""
             }
            },
            "type": "scattergeo"
           }
          ],
          "scattergl": [
           {
            "marker": {
             "colorbar": {
              "outlinewidth": 0,
              "ticks": ""
             }
            },
            "type": "scattergl"
           }
          ],
          "scattermapbox": [
           {
            "marker": {
             "colorbar": {
              "outlinewidth": 0,
              "ticks": ""
             }
            },
            "type": "scattermapbox"
           }
          ],
          "scatterpolar": [
           {
            "marker": {
             "colorbar": {
              "outlinewidth": 0,
              "ticks": ""
             }
            },
            "type": "scatterpolar"
           }
          ],
          "scatterpolargl": [
           {
            "marker": {
             "colorbar": {
              "outlinewidth": 0,
              "ticks": ""
             }
            },
            "type": "scatterpolargl"
           }
          ],
          "scatterternary": [
           {
            "marker": {
             "colorbar": {
              "outlinewidth": 0,
              "ticks": ""
             }
            },
            "type": "scatterternary"
           }
          ],
          "surface": [
           {
            "colorbar": {
             "outlinewidth": 0,
             "ticks": ""
            },
            "colorscale": [
             [
              0,
              "#0d0887"
             ],
             [
              0.1111111111111111,
              "#46039f"
             ],
             [
              0.2222222222222222,
              "#7201a8"
             ],
             [
              0.3333333333333333,
              "#9c179e"
             ],
             [
              0.4444444444444444,
              "#bd3786"
             ],
             [
              0.5555555555555556,
              "#d8576b"
             ],
             [
              0.6666666666666666,
              "#ed7953"
             ],
             [
              0.7777777777777778,
              "#fb9f3a"
             ],
             [
              0.8888888888888888,
              "#fdca26"
             ],
             [
              1,
              "#f0f921"
             ]
            ],
            "type": "surface"
           }
          ],
          "table": [
           {
            "cells": {
             "fill": {
              "color": "#EBF0F8"
             },
             "line": {
              "color": "white"
             }
            },
            "header": {
             "fill": {
              "color": "#C8D4E3"
             },
             "line": {
              "color": "white"
             }
            },
            "type": "table"
           }
          ]
         },
         "layout": {
          "annotationdefaults": {
           "arrowcolor": "#2a3f5f",
           "arrowhead": 0,
           "arrowwidth": 1
          },
          "autotypenumbers": "strict",
          "coloraxis": {
           "colorbar": {
            "outlinewidth": 0,
            "ticks": ""
           }
          },
          "colorscale": {
           "diverging": [
            [
             0,
             "#8e0152"
            ],
            [
             0.1,
             "#c51b7d"
            ],
            [
             0.2,
             "#de77ae"
            ],
            [
             0.3,
             "#f1b6da"
            ],
            [
             0.4,
             "#fde0ef"
            ],
            [
             0.5,
             "#f7f7f7"
            ],
            [
             0.6,
             "#e6f5d0"
            ],
            [
             0.7,
             "#b8e186"
            ],
            [
             0.8,
             "#7fbc41"
            ],
            [
             0.9,
             "#4d9221"
            ],
            [
             1,
             "#276419"
            ]
           ],
           "sequential": [
            [
             0,
             "#0d0887"
            ],
            [
             0.1111111111111111,
             "#46039f"
            ],
            [
             0.2222222222222222,
             "#7201a8"
            ],
            [
             0.3333333333333333,
             "#9c179e"
            ],
            [
             0.4444444444444444,
             "#bd3786"
            ],
            [
             0.5555555555555556,
             "#d8576b"
            ],
            [
             0.6666666666666666,
             "#ed7953"
            ],
            [
             0.7777777777777778,
             "#fb9f3a"
            ],
            [
             0.8888888888888888,
             "#fdca26"
            ],
            [
             1,
             "#f0f921"
            ]
           ],
           "sequentialminus": [
            [
             0,
             "#0d0887"
            ],
            [
             0.1111111111111111,
             "#46039f"
            ],
            [
             0.2222222222222222,
             "#7201a8"
            ],
            [
             0.3333333333333333,
             "#9c179e"
            ],
            [
             0.4444444444444444,
             "#bd3786"
            ],
            [
             0.5555555555555556,
             "#d8576b"
            ],
            [
             0.6666666666666666,
             "#ed7953"
            ],
            [
             0.7777777777777778,
             "#fb9f3a"
            ],
            [
             0.8888888888888888,
             "#fdca26"
            ],
            [
             1,
             "#f0f921"
            ]
           ]
          },
          "colorway": [
           "#636efa",
           "#EF553B",
           "#00cc96",
           "#ab63fa",
           "#FFA15A",
           "#19d3f3",
           "#FF6692",
           "#B6E880",
           "#FF97FF",
           "#FECB52"
          ],
          "font": {
           "color": "#2a3f5f"
          },
          "geo": {
           "bgcolor": "white",
           "lakecolor": "white",
           "landcolor": "#E5ECF6",
           "showlakes": true,
           "showland": true,
           "subunitcolor": "white"
          },
          "hoverlabel": {
           "align": "left"
          },
          "hovermode": "closest",
          "mapbox": {
           "style": "light"
          },
          "paper_bgcolor": "white",
          "plot_bgcolor": "#E5ECF6",
          "polar": {
           "angularaxis": {
            "gridcolor": "white",
            "linecolor": "white",
            "ticks": ""
           },
           "bgcolor": "#E5ECF6",
           "radialaxis": {
            "gridcolor": "white",
            "linecolor": "white",
            "ticks": ""
           }
          },
          "scene": {
           "xaxis": {
            "backgroundcolor": "#E5ECF6",
            "gridcolor": "white",
            "gridwidth": 2,
            "linecolor": "white",
            "showbackground": true,
            "ticks": "",
            "zerolinecolor": "white"
           },
           "yaxis": {
            "backgroundcolor": "#E5ECF6",
            "gridcolor": "white",
            "gridwidth": 2,
            "linecolor": "white",
            "showbackground": true,
            "ticks": "",
            "zerolinecolor": "white"
           },
           "zaxis": {
            "backgroundcolor": "#E5ECF6",
            "gridcolor": "white",
            "gridwidth": 2,
            "linecolor": "white",
            "showbackground": true,
            "ticks": "",
            "zerolinecolor": "white"
           }
          },
          "shapedefaults": {
           "line": {
            "color": "#2a3f5f"
           }
          },
          "ternary": {
           "aaxis": {
            "gridcolor": "white",
            "linecolor": "white",
            "ticks": ""
           },
           "baxis": {
            "gridcolor": "white",
            "linecolor": "white",
            "ticks": ""
           },
           "bgcolor": "#E5ECF6",
           "caxis": {
            "gridcolor": "white",
            "linecolor": "white",
            "ticks": ""
           }
          },
          "title": {
           "x": 0.05
          },
          "xaxis": {
           "automargin": true,
           "gridcolor": "white",
           "linecolor": "white",
           "ticks": "",
           "title": {
            "standoff": 15
           },
           "zerolinecolor": "white",
           "zerolinewidth": 2
          },
          "yaxis": {
           "automargin": true,
           "gridcolor": "white",
           "linecolor": "white",
           "ticks": "",
           "title": {
            "standoff": 15
           },
           "zerolinecolor": "white",
           "zerolinewidth": 2
          }
         }
        }
       }
      }
     },
     "metadata": {},
     "output_type": "display_data"
    }
   ],
   "source": [
    "from plotly.subplots import make_subplots\n",
    "import plotly.graph_objects as go\n",
    "\n",
    "# Set chart parameters\n",
    "years = [1960,1985,2016]    # list of years to include\n",
    "n = 5                       # number of industries to include per year\n",
    "n_cols = 3                  # number of pie charts per row\n",
    "\n",
    "cap_data = [df[df['year']==yr][['naics_title','cap']]\n",
    "    for yr in years]\n",
    "\n",
    "top_n = [data.sort_values(['cap'], ascending=False).head(n)\n",
    "    for data in cap_data]\n",
    "\n",
    "# Ceiling division to find number of rows needed\n",
    "n_years = len(years)\n",
    "n_rows = -1 * (-n_years // n_cols)\n",
    "\n",
    "# Create figure\n",
    "fig = make_subplots(\n",
    "    rows=n_rows,\n",
    "    cols=n_cols,\n",
    "    specs=[\n",
    "        [{'type':'pie'}]*n_cols]*n_rows,\n",
    "        subplot_titles=[\"{} Market Cap\".format(yr) for yr in years]\n",
    "    )\n",
    "\n",
    "# Add trace (pie chart) for each year\n",
    "for i in range(n_years):\n",
    "\n",
    "    fig.add_trace(\n",
    "        go.Pie(\n",
    "            labels=top_n[i]['naics_title'],\n",
    "            values=top_n[i]['cap'],\n",
    "            scalegroup='one',\n",
    "            name='{} Market Cap'.format(years[i])\n",
    "        ), (-1*(-(i+1)//n_cols)), ((i%n_cols)+1)\n",
    "    )   \n",
    "\n",
    "fig.update_layout(title_text = \"Total Market Capital of Top {}\")\n",
    "\n",
    "fig.show()\n"
   ]
  },
  {
   "cell_type": "code",
   "execution_count": 207,
   "metadata": {},
   "outputs": [
    {
     "data": {
      "application/vnd.plotly.v1+json": {
       "config": {
        "plotlyServerURL": "https://plot.ly"
       },
       "data": [
        {
         "domain": {
          "x": [
           0,
           1
          ],
          "y": [
           0,
           1
          ]
         },
         "hovertemplate": "Industry=%{label}<br>Total Real Capital Stock ($M)=%{value}<extra></extra>",
         "labels": [
          "Iron and Steel Mills and Ferroalloy Manufacturing",
          "Petroleum Refineries",
          "Light Truck and Utility Vehicle Manufacturing",
          "All Other Basic Organic Chemical Manufacturing",
          "Automobile Manufacturing",
          "Broadwoven Fabric Mills",
          "Paper (except Newsprint) Mills",
          "Breweries",
          "Other Basic Inorganic Chemical Manufacturing",
          "Soft Drink Manufacturing"
         ],
         "legendgroup": "",
         "name": "",
         "showlegend": true,
         "textinfo": "percent+label",
         "textposition": "outside",
         "type": "pie",
         "values": [
          94739.5,
          52473.2,
          17774,
          16291.7,
          15048,
          13571.8,
          13569.3,
          11586,
          10205.5,
          9771.2
         ]
        }
       ],
       "layout": {
        "legend": {
         "tracegroupgap": 0
        },
        "margin": {
         "t": 60
        },
        "template": {
         "data": {
          "bar": [
           {
            "error_x": {
             "color": "#2a3f5f"
            },
            "error_y": {
             "color": "#2a3f5f"
            },
            "marker": {
             "line": {
              "color": "#E5ECF6",
              "width": 0.5
             },
             "pattern": {
              "fillmode": "overlay",
              "size": 10,
              "solidity": 0.2
             }
            },
            "type": "bar"
           }
          ],
          "barpolar": [
           {
            "marker": {
             "line": {
              "color": "#E5ECF6",
              "width": 0.5
             },
             "pattern": {
              "fillmode": "overlay",
              "size": 10,
              "solidity": 0.2
             }
            },
            "type": "barpolar"
           }
          ],
          "carpet": [
           {
            "aaxis": {
             "endlinecolor": "#2a3f5f",
             "gridcolor": "white",
             "linecolor": "white",
             "minorgridcolor": "white",
             "startlinecolor": "#2a3f5f"
            },
            "baxis": {
             "endlinecolor": "#2a3f5f",
             "gridcolor": "white",
             "linecolor": "white",
             "minorgridcolor": "white",
             "startlinecolor": "#2a3f5f"
            },
            "type": "carpet"
           }
          ],
          "choropleth": [
           {
            "colorbar": {
             "outlinewidth": 0,
             "ticks": ""
            },
            "type": "choropleth"
           }
          ],
          "contour": [
           {
            "colorbar": {
             "outlinewidth": 0,
             "ticks": ""
            },
            "colorscale": [
             [
              0,
              "#0d0887"
             ],
             [
              0.1111111111111111,
              "#46039f"
             ],
             [
              0.2222222222222222,
              "#7201a8"
             ],
             [
              0.3333333333333333,
              "#9c179e"
             ],
             [
              0.4444444444444444,
              "#bd3786"
             ],
             [
              0.5555555555555556,
              "#d8576b"
             ],
             [
              0.6666666666666666,
              "#ed7953"
             ],
             [
              0.7777777777777778,
              "#fb9f3a"
             ],
             [
              0.8888888888888888,
              "#fdca26"
             ],
             [
              1,
              "#f0f921"
             ]
            ],
            "type": "contour"
           }
          ],
          "contourcarpet": [
           {
            "colorbar": {
             "outlinewidth": 0,
             "ticks": ""
            },
            "type": "contourcarpet"
           }
          ],
          "heatmap": [
           {
            "colorbar": {
             "outlinewidth": 0,
             "ticks": ""
            },
            "colorscale": [
             [
              0,
              "#0d0887"
             ],
             [
              0.1111111111111111,
              "#46039f"
             ],
             [
              0.2222222222222222,
              "#7201a8"
             ],
             [
              0.3333333333333333,
              "#9c179e"
             ],
             [
              0.4444444444444444,
              "#bd3786"
             ],
             [
              0.5555555555555556,
              "#d8576b"
             ],
             [
              0.6666666666666666,
              "#ed7953"
             ],
             [
              0.7777777777777778,
              "#fb9f3a"
             ],
             [
              0.8888888888888888,
              "#fdca26"
             ],
             [
              1,
              "#f0f921"
             ]
            ],
            "type": "heatmap"
           }
          ],
          "heatmapgl": [
           {
            "colorbar": {
             "outlinewidth": 0,
             "ticks": ""
            },
            "colorscale": [
             [
              0,
              "#0d0887"
             ],
             [
              0.1111111111111111,
              "#46039f"
             ],
             [
              0.2222222222222222,
              "#7201a8"
             ],
             [
              0.3333333333333333,
              "#9c179e"
             ],
             [
              0.4444444444444444,
              "#bd3786"
             ],
             [
              0.5555555555555556,
              "#d8576b"
             ],
             [
              0.6666666666666666,
              "#ed7953"
             ],
             [
              0.7777777777777778,
              "#fb9f3a"
             ],
             [
              0.8888888888888888,
              "#fdca26"
             ],
             [
              1,
              "#f0f921"
             ]
            ],
            "type": "heatmapgl"
           }
          ],
          "histogram": [
           {
            "marker": {
             "pattern": {
              "fillmode": "overlay",
              "size": 10,
              "solidity": 0.2
             }
            },
            "type": "histogram"
           }
          ],
          "histogram2d": [
           {
            "colorbar": {
             "outlinewidth": 0,
             "ticks": ""
            },
            "colorscale": [
             [
              0,
              "#0d0887"
             ],
             [
              0.1111111111111111,
              "#46039f"
             ],
             [
              0.2222222222222222,
              "#7201a8"
             ],
             [
              0.3333333333333333,
              "#9c179e"
             ],
             [
              0.4444444444444444,
              "#bd3786"
             ],
             [
              0.5555555555555556,
              "#d8576b"
             ],
             [
              0.6666666666666666,
              "#ed7953"
             ],
             [
              0.7777777777777778,
              "#fb9f3a"
             ],
             [
              0.8888888888888888,
              "#fdca26"
             ],
             [
              1,
              "#f0f921"
             ]
            ],
            "type": "histogram2d"
           }
          ],
          "histogram2dcontour": [
           {
            "colorbar": {
             "outlinewidth": 0,
             "ticks": ""
            },
            "colorscale": [
             [
              0,
              "#0d0887"
             ],
             [
              0.1111111111111111,
              "#46039f"
             ],
             [
              0.2222222222222222,
              "#7201a8"
             ],
             [
              0.3333333333333333,
              "#9c179e"
             ],
             [
              0.4444444444444444,
              "#bd3786"
             ],
             [
              0.5555555555555556,
              "#d8576b"
             ],
             [
              0.6666666666666666,
              "#ed7953"
             ],
             [
              0.7777777777777778,
              "#fb9f3a"
             ],
             [
              0.8888888888888888,
              "#fdca26"
             ],
             [
              1,
              "#f0f921"
             ]
            ],
            "type": "histogram2dcontour"
           }
          ],
          "mesh3d": [
           {
            "colorbar": {
             "outlinewidth": 0,
             "ticks": ""
            },
            "type": "mesh3d"
           }
          ],
          "parcoords": [
           {
            "line": {
             "colorbar": {
              "outlinewidth": 0,
              "ticks": ""
             }
            },
            "type": "parcoords"
           }
          ],
          "pie": [
           {
            "automargin": true,
            "type": "pie"
           }
          ],
          "scatter": [
           {
            "marker": {
             "colorbar": {
              "outlinewidth": 0,
              "ticks": ""
             }
            },
            "type": "scatter"
           }
          ],
          "scatter3d": [
           {
            "line": {
             "colorbar": {
              "outlinewidth": 0,
              "ticks": ""
             }
            },
            "marker": {
             "colorbar": {
              "outlinewidth": 0,
              "ticks": ""
             }
            },
            "type": "scatter3d"
           }
          ],
          "scattercarpet": [
           {
            "marker": {
             "colorbar": {
              "outlinewidth": 0,
              "ticks": ""
             }
            },
            "type": "scattercarpet"
           }
          ],
          "scattergeo": [
           {
            "marker": {
             "colorbar": {
              "outlinewidth": 0,
              "ticks": ""
             }
            },
            "type": "scattergeo"
           }
          ],
          "scattergl": [
           {
            "marker": {
             "colorbar": {
              "outlinewidth": 0,
              "ticks": ""
             }
            },
            "type": "scattergl"
           }
          ],
          "scattermapbox": [
           {
            "marker": {
             "colorbar": {
              "outlinewidth": 0,
              "ticks": ""
             }
            },
            "type": "scattermapbox"
           }
          ],
          "scatterpolar": [
           {
            "marker": {
             "colorbar": {
              "outlinewidth": 0,
              "ticks": ""
             }
            },
            "type": "scatterpolar"
           }
          ],
          "scatterpolargl": [
           {
            "marker": {
             "colorbar": {
              "outlinewidth": 0,
              "ticks": ""
             }
            },
            "type": "scatterpolargl"
           }
          ],
          "scatterternary": [
           {
            "marker": {
             "colorbar": {
              "outlinewidth": 0,
              "ticks": ""
             }
            },
            "type": "scatterternary"
           }
          ],
          "surface": [
           {
            "colorbar": {
             "outlinewidth": 0,
             "ticks": ""
            },
            "colorscale": [
             [
              0,
              "#0d0887"
             ],
             [
              0.1111111111111111,
              "#46039f"
             ],
             [
              0.2222222222222222,
              "#7201a8"
             ],
             [
              0.3333333333333333,
              "#9c179e"
             ],
             [
              0.4444444444444444,
              "#bd3786"
             ],
             [
              0.5555555555555556,
              "#d8576b"
             ],
             [
              0.6666666666666666,
              "#ed7953"
             ],
             [
              0.7777777777777778,
              "#fb9f3a"
             ],
             [
              0.8888888888888888,
              "#fdca26"
             ],
             [
              1,
              "#f0f921"
             ]
            ],
            "type": "surface"
           }
          ],
          "table": [
           {
            "cells": {
             "fill": {
              "color": "#EBF0F8"
             },
             "line": {
              "color": "white"
             }
            },
            "header": {
             "fill": {
              "color": "#C8D4E3"
             },
             "line": {
              "color": "white"
             }
            },
            "type": "table"
           }
          ]
         },
         "layout": {
          "annotationdefaults": {
           "arrowcolor": "#2a3f5f",
           "arrowhead": 0,
           "arrowwidth": 1
          },
          "autotypenumbers": "strict",
          "coloraxis": {
           "colorbar": {
            "outlinewidth": 0,
            "ticks": ""
           }
          },
          "colorscale": {
           "diverging": [
            [
             0,
             "#8e0152"
            ],
            [
             0.1,
             "#c51b7d"
            ],
            [
             0.2,
             "#de77ae"
            ],
            [
             0.3,
             "#f1b6da"
            ],
            [
             0.4,
             "#fde0ef"
            ],
            [
             0.5,
             "#f7f7f7"
            ],
            [
             0.6,
             "#e6f5d0"
            ],
            [
             0.7,
             "#b8e186"
            ],
            [
             0.8,
             "#7fbc41"
            ],
            [
             0.9,
             "#4d9221"
            ],
            [
             1,
             "#276419"
            ]
           ],
           "sequential": [
            [
             0,
             "#0d0887"
            ],
            [
             0.1111111111111111,
             "#46039f"
            ],
            [
             0.2222222222222222,
             "#7201a8"
            ],
            [
             0.3333333333333333,
             "#9c179e"
            ],
            [
             0.4444444444444444,
             "#bd3786"
            ],
            [
             0.5555555555555556,
             "#d8576b"
            ],
            [
             0.6666666666666666,
             "#ed7953"
            ],
            [
             0.7777777777777778,
             "#fb9f3a"
            ],
            [
             0.8888888888888888,
             "#fdca26"
            ],
            [
             1,
             "#f0f921"
            ]
           ],
           "sequentialminus": [
            [
             0,
             "#0d0887"
            ],
            [
             0.1111111111111111,
             "#46039f"
            ],
            [
             0.2222222222222222,
             "#7201a8"
            ],
            [
             0.3333333333333333,
             "#9c179e"
            ],
            [
             0.4444444444444444,
             "#bd3786"
            ],
            [
             0.5555555555555556,
             "#d8576b"
            ],
            [
             0.6666666666666666,
             "#ed7953"
            ],
            [
             0.7777777777777778,
             "#fb9f3a"
            ],
            [
             0.8888888888888888,
             "#fdca26"
            ],
            [
             1,
             "#f0f921"
            ]
           ]
          },
          "colorway": [
           "#636efa",
           "#EF553B",
           "#00cc96",
           "#ab63fa",
           "#FFA15A",
           "#19d3f3",
           "#FF6692",
           "#B6E880",
           "#FF97FF",
           "#FECB52"
          ],
          "font": {
           "color": "#2a3f5f"
          },
          "geo": {
           "bgcolor": "white",
           "lakecolor": "white",
           "landcolor": "#E5ECF6",
           "showlakes": true,
           "showland": true,
           "subunitcolor": "white"
          },
          "hoverlabel": {
           "align": "left"
          },
          "hovermode": "closest",
          "mapbox": {
           "style": "light"
          },
          "paper_bgcolor": "white",
          "plot_bgcolor": "#E5ECF6",
          "polar": {
           "angularaxis": {
            "gridcolor": "white",
            "linecolor": "white",
            "ticks": ""
           },
           "bgcolor": "#E5ECF6",
           "radialaxis": {
            "gridcolor": "white",
            "linecolor": "white",
            "ticks": ""
           }
          },
          "scene": {
           "xaxis": {
            "backgroundcolor": "#E5ECF6",
            "gridcolor": "white",
            "gridwidth": 2,
            "linecolor": "white",
            "showbackground": true,
            "ticks": "",
            "zerolinecolor": "white"
           },
           "yaxis": {
            "backgroundcolor": "#E5ECF6",
            "gridcolor": "white",
            "gridwidth": 2,
            "linecolor": "white",
            "showbackground": true,
            "ticks": "",
            "zerolinecolor": "white"
           },
           "zaxis": {
            "backgroundcolor": "#E5ECF6",
            "gridcolor": "white",
            "gridwidth": 2,
            "linecolor": "white",
            "showbackground": true,
            "ticks": "",
            "zerolinecolor": "white"
           }
          },
          "shapedefaults": {
           "line": {
            "color": "#2a3f5f"
           }
          },
          "ternary": {
           "aaxis": {
            "gridcolor": "white",
            "linecolor": "white",
            "ticks": ""
           },
           "baxis": {
            "gridcolor": "white",
            "linecolor": "white",
            "ticks": ""
           },
           "bgcolor": "#E5ECF6",
           "caxis": {
            "gridcolor": "white",
            "linecolor": "white",
            "ticks": ""
           }
          },
          "title": {
           "x": 0.05
          },
          "xaxis": {
           "automargin": true,
           "gridcolor": "white",
           "linecolor": "white",
           "ticks": "",
           "title": {
            "standoff": 15
           },
           "zerolinecolor": "white",
           "zerolinewidth": 2
          },
          "yaxis": {
           "automargin": true,
           "gridcolor": "white",
           "linecolor": "white",
           "ticks": "",
           "title": {
            "standoff": 15
           },
           "zerolinecolor": "white",
           "zerolinewidth": 2
          }
         }
        }
       }
      }
     },
     "metadata": {},
     "output_type": "display_data"
    },
    {
     "data": {
      "application/vnd.plotly.v1+json": {
       "config": {
        "plotlyServerURL": "https://plot.ly"
       },
       "data": [
        {
         "domain": {
          "x": [
           0,
           1
          ],
          "y": [
           0,
           1
          ]
         },
         "hovertemplate": "Industry=%{label}<br>Total Real Capital Stock ($M)=%{value}<extra></extra>",
         "labels": [
          "Petroleum Refineries",
          "Semiconductor and Related Device Manufacturing",
          "Pharmaceutical Preparation Manufacturing",
          "Iron and Steel Mills and Ferroalloy Manufacturing",
          "All Other Basic Organic Chemical Manufacturing",
          "Automobile Manufacturing",
          "All Other Plastics Product Manufacturing",
          "Light Truck and Utility Vehicle Manufacturing",
          "Paper (except Newsprint) Mills",
          "Plastics Material and Resin Manufacturing"
         ],
         "legendgroup": "",
         "name": "",
         "showlegend": true,
         "textinfo": "percent+label",
         "textposition": "outside",
         "type": "pie",
         "values": [
          191465.6,
          120222.4,
          55221,
          51823.3,
          44722.1,
          40624.6,
          40619.3,
          38184.5,
          37539.1,
          35428.1
         ]
        }
       ],
       "layout": {
        "legend": {
         "tracegroupgap": 0
        },
        "margin": {
         "t": 60
        },
        "template": {
         "data": {
          "bar": [
           {
            "error_x": {
             "color": "#2a3f5f"
            },
            "error_y": {
             "color": "#2a3f5f"
            },
            "marker": {
             "line": {
              "color": "#E5ECF6",
              "width": 0.5
             },
             "pattern": {
              "fillmode": "overlay",
              "size": 10,
              "solidity": 0.2
             }
            },
            "type": "bar"
           }
          ],
          "barpolar": [
           {
            "marker": {
             "line": {
              "color": "#E5ECF6",
              "width": 0.5
             },
             "pattern": {
              "fillmode": "overlay",
              "size": 10,
              "solidity": 0.2
             }
            },
            "type": "barpolar"
           }
          ],
          "carpet": [
           {
            "aaxis": {
             "endlinecolor": "#2a3f5f",
             "gridcolor": "white",
             "linecolor": "white",
             "minorgridcolor": "white",
             "startlinecolor": "#2a3f5f"
            },
            "baxis": {
             "endlinecolor": "#2a3f5f",
             "gridcolor": "white",
             "linecolor": "white",
             "minorgridcolor": "white",
             "startlinecolor": "#2a3f5f"
            },
            "type": "carpet"
           }
          ],
          "choropleth": [
           {
            "colorbar": {
             "outlinewidth": 0,
             "ticks": ""
            },
            "type": "choropleth"
           }
          ],
          "contour": [
           {
            "colorbar": {
             "outlinewidth": 0,
             "ticks": ""
            },
            "colorscale": [
             [
              0,
              "#0d0887"
             ],
             [
              0.1111111111111111,
              "#46039f"
             ],
             [
              0.2222222222222222,
              "#7201a8"
             ],
             [
              0.3333333333333333,
              "#9c179e"
             ],
             [
              0.4444444444444444,
              "#bd3786"
             ],
             [
              0.5555555555555556,
              "#d8576b"
             ],
             [
              0.6666666666666666,
              "#ed7953"
             ],
             [
              0.7777777777777778,
              "#fb9f3a"
             ],
             [
              0.8888888888888888,
              "#fdca26"
             ],
             [
              1,
              "#f0f921"
             ]
            ],
            "type": "contour"
           }
          ],
          "contourcarpet": [
           {
            "colorbar": {
             "outlinewidth": 0,
             "ticks": ""
            },
            "type": "contourcarpet"
           }
          ],
          "heatmap": [
           {
            "colorbar": {
             "outlinewidth": 0,
             "ticks": ""
            },
            "colorscale": [
             [
              0,
              "#0d0887"
             ],
             [
              0.1111111111111111,
              "#46039f"
             ],
             [
              0.2222222222222222,
              "#7201a8"
             ],
             [
              0.3333333333333333,
              "#9c179e"
             ],
             [
              0.4444444444444444,
              "#bd3786"
             ],
             [
              0.5555555555555556,
              "#d8576b"
             ],
             [
              0.6666666666666666,
              "#ed7953"
             ],
             [
              0.7777777777777778,
              "#fb9f3a"
             ],
             [
              0.8888888888888888,
              "#fdca26"
             ],
             [
              1,
              "#f0f921"
             ]
            ],
            "type": "heatmap"
           }
          ],
          "heatmapgl": [
           {
            "colorbar": {
             "outlinewidth": 0,
             "ticks": ""
            },
            "colorscale": [
             [
              0,
              "#0d0887"
             ],
             [
              0.1111111111111111,
              "#46039f"
             ],
             [
              0.2222222222222222,
              "#7201a8"
             ],
             [
              0.3333333333333333,
              "#9c179e"
             ],
             [
              0.4444444444444444,
              "#bd3786"
             ],
             [
              0.5555555555555556,
              "#d8576b"
             ],
             [
              0.6666666666666666,
              "#ed7953"
             ],
             [
              0.7777777777777778,
              "#fb9f3a"
             ],
             [
              0.8888888888888888,
              "#fdca26"
             ],
             [
              1,
              "#f0f921"
             ]
            ],
            "type": "heatmapgl"
           }
          ],
          "histogram": [
           {
            "marker": {
             "pattern": {
              "fillmode": "overlay",
              "size": 10,
              "solidity": 0.2
             }
            },
            "type": "histogram"
           }
          ],
          "histogram2d": [
           {
            "colorbar": {
             "outlinewidth": 0,
             "ticks": ""
            },
            "colorscale": [
             [
              0,
              "#0d0887"
             ],
             [
              0.1111111111111111,
              "#46039f"
             ],
             [
              0.2222222222222222,
              "#7201a8"
             ],
             [
              0.3333333333333333,
              "#9c179e"
             ],
             [
              0.4444444444444444,
              "#bd3786"
             ],
             [
              0.5555555555555556,
              "#d8576b"
             ],
             [
              0.6666666666666666,
              "#ed7953"
             ],
             [
              0.7777777777777778,
              "#fb9f3a"
             ],
             [
              0.8888888888888888,
              "#fdca26"
             ],
             [
              1,
              "#f0f921"
             ]
            ],
            "type": "histogram2d"
           }
          ],
          "histogram2dcontour": [
           {
            "colorbar": {
             "outlinewidth": 0,
             "ticks": ""
            },
            "colorscale": [
             [
              0,
              "#0d0887"
             ],
             [
              0.1111111111111111,
              "#46039f"
             ],
             [
              0.2222222222222222,
              "#7201a8"
             ],
             [
              0.3333333333333333,
              "#9c179e"
             ],
             [
              0.4444444444444444,
              "#bd3786"
             ],
             [
              0.5555555555555556,
              "#d8576b"
             ],
             [
              0.6666666666666666,
              "#ed7953"
             ],
             [
              0.7777777777777778,
              "#fb9f3a"
             ],
             [
              0.8888888888888888,
              "#fdca26"
             ],
             [
              1,
              "#f0f921"
             ]
            ],
            "type": "histogram2dcontour"
           }
          ],
          "mesh3d": [
           {
            "colorbar": {
             "outlinewidth": 0,
             "ticks": ""
            },
            "type": "mesh3d"
           }
          ],
          "parcoords": [
           {
            "line": {
             "colorbar": {
              "outlinewidth": 0,
              "ticks": ""
             }
            },
            "type": "parcoords"
           }
          ],
          "pie": [
           {
            "automargin": true,
            "type": "pie"
           }
          ],
          "scatter": [
           {
            "marker": {
             "colorbar": {
              "outlinewidth": 0,
              "ticks": ""
             }
            },
            "type": "scatter"
           }
          ],
          "scatter3d": [
           {
            "line": {
             "colorbar": {
              "outlinewidth": 0,
              "ticks": ""
             }
            },
            "marker": {
             "colorbar": {
              "outlinewidth": 0,
              "ticks": ""
             }
            },
            "type": "scatter3d"
           }
          ],
          "scattercarpet": [
           {
            "marker": {
             "colorbar": {
              "outlinewidth": 0,
              "ticks": ""
             }
            },
            "type": "scattercarpet"
           }
          ],
          "scattergeo": [
           {
            "marker": {
             "colorbar": {
              "outlinewidth": 0,
              "ticks": ""
             }
            },
            "type": "scattergeo"
           }
          ],
          "scattergl": [
           {
            "marker": {
             "colorbar": {
              "outlinewidth": 0,
              "ticks": ""
             }
            },
            "type": "scattergl"
           }
          ],
          "scattermapbox": [
           {
            "marker": {
             "colorbar": {
              "outlinewidth": 0,
              "ticks": ""
             }
            },
            "type": "scattermapbox"
           }
          ],
          "scatterpolar": [
           {
            "marker": {
             "colorbar": {
              "outlinewidth": 0,
              "ticks": ""
             }
            },
            "type": "scatterpolar"
           }
          ],
          "scatterpolargl": [
           {
            "marker": {
             "colorbar": {
              "outlinewidth": 0,
              "ticks": ""
             }
            },
            "type": "scatterpolargl"
           }
          ],
          "scatterternary": [
           {
            "marker": {
             "colorbar": {
              "outlinewidth": 0,
              "ticks": ""
             }
            },
            "type": "scatterternary"
           }
          ],
          "surface": [
           {
            "colorbar": {
             "outlinewidth": 0,
             "ticks": ""
            },
            "colorscale": [
             [
              0,
              "#0d0887"
             ],
             [
              0.1111111111111111,
              "#46039f"
             ],
             [
              0.2222222222222222,
              "#7201a8"
             ],
             [
              0.3333333333333333,
              "#9c179e"
             ],
             [
              0.4444444444444444,
              "#bd3786"
             ],
             [
              0.5555555555555556,
              "#d8576b"
             ],
             [
              0.6666666666666666,
              "#ed7953"
             ],
             [
              0.7777777777777778,
              "#fb9f3a"
             ],
             [
              0.8888888888888888,
              "#fdca26"
             ],
             [
              1,
              "#f0f921"
             ]
            ],
            "type": "surface"
           }
          ],
          "table": [
           {
            "cells": {
             "fill": {
              "color": "#EBF0F8"
             },
             "line": {
              "color": "white"
             }
            },
            "header": {
             "fill": {
              "color": "#C8D4E3"
             },
             "line": {
              "color": "white"
             }
            },
            "type": "table"
           }
          ]
         },
         "layout": {
          "annotationdefaults": {
           "arrowcolor": "#2a3f5f",
           "arrowhead": 0,
           "arrowwidth": 1
          },
          "autotypenumbers": "strict",
          "coloraxis": {
           "colorbar": {
            "outlinewidth": 0,
            "ticks": ""
           }
          },
          "colorscale": {
           "diverging": [
            [
             0,
             "#8e0152"
            ],
            [
             0.1,
             "#c51b7d"
            ],
            [
             0.2,
             "#de77ae"
            ],
            [
             0.3,
             "#f1b6da"
            ],
            [
             0.4,
             "#fde0ef"
            ],
            [
             0.5,
             "#f7f7f7"
            ],
            [
             0.6,
             "#e6f5d0"
            ],
            [
             0.7,
             "#b8e186"
            ],
            [
             0.8,
             "#7fbc41"
            ],
            [
             0.9,
             "#4d9221"
            ],
            [
             1,
             "#276419"
            ]
           ],
           "sequential": [
            [
             0,
             "#0d0887"
            ],
            [
             0.1111111111111111,
             "#46039f"
            ],
            [
             0.2222222222222222,
             "#7201a8"
            ],
            [
             0.3333333333333333,
             "#9c179e"
            ],
            [
             0.4444444444444444,
             "#bd3786"
            ],
            [
             0.5555555555555556,
             "#d8576b"
            ],
            [
             0.6666666666666666,
             "#ed7953"
            ],
            [
             0.7777777777777778,
             "#fb9f3a"
            ],
            [
             0.8888888888888888,
             "#fdca26"
            ],
            [
             1,
             "#f0f921"
            ]
           ],
           "sequentialminus": [
            [
             0,
             "#0d0887"
            ],
            [
             0.1111111111111111,
             "#46039f"
            ],
            [
             0.2222222222222222,
             "#7201a8"
            ],
            [
             0.3333333333333333,
             "#9c179e"
            ],
            [
             0.4444444444444444,
             "#bd3786"
            ],
            [
             0.5555555555555556,
             "#d8576b"
            ],
            [
             0.6666666666666666,
             "#ed7953"
            ],
            [
             0.7777777777777778,
             "#fb9f3a"
            ],
            [
             0.8888888888888888,
             "#fdca26"
            ],
            [
             1,
             "#f0f921"
            ]
           ]
          },
          "colorway": [
           "#636efa",
           "#EF553B",
           "#00cc96",
           "#ab63fa",
           "#FFA15A",
           "#19d3f3",
           "#FF6692",
           "#B6E880",
           "#FF97FF",
           "#FECB52"
          ],
          "font": {
           "color": "#2a3f5f"
          },
          "geo": {
           "bgcolor": "white",
           "lakecolor": "white",
           "landcolor": "#E5ECF6",
           "showlakes": true,
           "showland": true,
           "subunitcolor": "white"
          },
          "hoverlabel": {
           "align": "left"
          },
          "hovermode": "closest",
          "mapbox": {
           "style": "light"
          },
          "paper_bgcolor": "white",
          "plot_bgcolor": "#E5ECF6",
          "polar": {
           "angularaxis": {
            "gridcolor": "white",
            "linecolor": "white",
            "ticks": ""
           },
           "bgcolor": "#E5ECF6",
           "radialaxis": {
            "gridcolor": "white",
            "linecolor": "white",
            "ticks": ""
           }
          },
          "scene": {
           "xaxis": {
            "backgroundcolor": "#E5ECF6",
            "gridcolor": "white",
            "gridwidth": 2,
            "linecolor": "white",
            "showbackground": true,
            "ticks": "",
            "zerolinecolor": "white"
           },
           "yaxis": {
            "backgroundcolor": "#E5ECF6",
            "gridcolor": "white",
            "gridwidth": 2,
            "linecolor": "white",
            "showbackground": true,
            "ticks": "",
            "zerolinecolor": "white"
           },
           "zaxis": {
            "backgroundcolor": "#E5ECF6",
            "gridcolor": "white",
            "gridwidth": 2,
            "linecolor": "white",
            "showbackground": true,
            "ticks": "",
            "zerolinecolor": "white"
           }
          },
          "shapedefaults": {
           "line": {
            "color": "#2a3f5f"
           }
          },
          "ternary": {
           "aaxis": {
            "gridcolor": "white",
            "linecolor": "white",
            "ticks": ""
           },
           "baxis": {
            "gridcolor": "white",
            "linecolor": "white",
            "ticks": ""
           },
           "bgcolor": "#E5ECF6",
           "caxis": {
            "gridcolor": "white",
            "linecolor": "white",
            "ticks": ""
           }
          },
          "title": {
           "x": 0.05
          },
          "xaxis": {
           "automargin": true,
           "gridcolor": "white",
           "linecolor": "white",
           "ticks": "",
           "title": {
            "standoff": 15
           },
           "zerolinecolor": "white",
           "zerolinewidth": 2
          },
          "yaxis": {
           "automargin": true,
           "gridcolor": "white",
           "linecolor": "white",
           "ticks": "",
           "title": {
            "standoff": 15
           },
           "zerolinecolor": "white",
           "zerolinewidth": 2
          }
         }
        }
       }
      }
     },
     "metadata": {},
     "output_type": "display_data"
    }
   ],
   "source": [
    "import plotly.express as px\n",
    "\n",
    "fig1 = px.pie(\n",
    "    top_1960, values='cap', names='naics_title',\n",
    "    labels={\n",
    "        'cap':'Total Real Capital Stock ($M)',\n",
    "        'naics_title':'Industry'})\n",
    "fig1.update_traces(textposition='outside', textinfo='percent+label')\n",
    "fig1.show()\n",
    "\n",
    "fig2 = px.pie(\n",
    "    top_2016, values='cap', names='naics_title',\n",
    "    labels={\n",
    "        'cap':'Total Real Capital Stock ($M)',\n",
    "        'naics_title':'Industry'})\n",
    "fig2.update_traces(textposition='outside', textinfo='percent+label')\n",
    "fig2.show()"
   ]
  }
 ],
 "metadata": {
  "interpreter": {
   "hash": "c8f9c7935954ecda090b096605207dfc43f100e2b4845c0167247acb59e9f9dd"
  },
  "kernelspec": {
   "display_name": "Python 3.9.7 ('base')",
   "language": "python",
   "name": "python3"
  },
  "language_info": {
   "codemirror_mode": {
    "name": "ipython",
    "version": 3
   },
   "file_extension": ".py",
   "mimetype": "text/x-python",
   "name": "python",
   "nbconvert_exporter": "python",
   "pygments_lexer": "ipython3",
   "version": "3.9.7"
  },
  "orig_nbformat": 4
 },
 "nbformat": 4,
 "nbformat_minor": 2
}
