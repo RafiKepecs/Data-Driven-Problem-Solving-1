{
 "cells": [
  {
   "cell_type": "markdown",
   "metadata": {},
   "source": [
    "# ME 364 Midterm Project - Part 2"
   ]
  },
  {
   "cell_type": "markdown",
   "metadata": {},
   "source": [
    "## 1. Setup and Data Cleaning"
   ]
  },
  {
   "cell_type": "markdown",
   "metadata": {},
   "source": [
    "### DataFrame Setup\n",
    "Import libraries and dataset, create dataframe, and show first few lines\n",
    "to confirm that it imported correctly"
   ]
  },
  {
   "cell_type": "code",
   "execution_count": 1,
   "metadata": {},
   "outputs": [
    {
     "data": {
      "text/html": [
       "<div>\n",
       "<style scoped>\n",
       "    .dataframe tbody tr th:only-of-type {\n",
       "        vertical-align: middle;\n",
       "    }\n",
       "\n",
       "    .dataframe tbody tr th {\n",
       "        vertical-align: top;\n",
       "    }\n",
       "\n",
       "    .dataframe thead th {\n",
       "        text-align: right;\n",
       "    }\n",
       "</style>\n",
       "<table border=\"1\" class=\"dataframe\">\n",
       "  <thead>\n",
       "    <tr style=\"text-align: right;\">\n",
       "      <th></th>\n",
       "      <th>naics</th>\n",
       "      <th>naics_title</th>\n",
       "      <th>year</th>\n",
       "      <th>emp</th>\n",
       "      <th>pay</th>\n",
       "      <th>prode</th>\n",
       "      <th>prodh</th>\n",
       "      <th>prodw</th>\n",
       "      <th>vship</th>\n",
       "      <th>matcost</th>\n",
       "      <th>vadd</th>\n",
       "      <th>invest</th>\n",
       "      <th>invent</th>\n",
       "      <th>energy</th>\n",
       "      <th>cap</th>\n",
       "      <th>equip</th>\n",
       "      <th>plant</th>\n",
       "      <th>piship</th>\n",
       "      <th>pimat</th>\n",
       "      <th>piinv</th>\n",
       "      <th>pien</th>\n",
       "      <th>dtfp5</th>\n",
       "      <th>tfp5</th>\n",
       "      <th>dtfp4</th>\n",
       "      <th>tfp4</th>\n",
       "    </tr>\n",
       "  </thead>\n",
       "  <tbody>\n",
       "    <tr>\n",
       "      <th>0</th>\n",
       "      <td>311111</td>\n",
       "      <td>Dog and Cat Food Manufacturing</td>\n",
       "      <td>1958</td>\n",
       "      <td>18.0</td>\n",
       "      <td>81.3</td>\n",
       "      <td>12.0</td>\n",
       "      <td>25.7</td>\n",
       "      <td>49.8</td>\n",
       "      <td>1042.4</td>\n",
       "      <td>752.4</td>\n",
       "      <td>266.9</td>\n",
       "      <td>17.8</td>\n",
       "      <td>59.5</td>\n",
       "      <td>7.0</td>\n",
       "      <td>1212.7</td>\n",
       "      <td>517.6</td>\n",
       "      <td>695.0</td>\n",
       "      <td>0.354</td>\n",
       "      <td>0.133</td>\n",
       "      <td>0.168</td>\n",
       "      <td>0.116</td>\n",
       "      <td>NaN</td>\n",
       "      <td>0.317</td>\n",
       "      <td>NaN</td>\n",
       "      <td>0.318</td>\n",
       "    </tr>\n",
       "    <tr>\n",
       "      <th>1</th>\n",
       "      <td>311111</td>\n",
       "      <td>Dog and Cat Food Manufacturing</td>\n",
       "      <td>1959</td>\n",
       "      <td>17.9</td>\n",
       "      <td>82.5</td>\n",
       "      <td>11.8</td>\n",
       "      <td>25.5</td>\n",
       "      <td>49.4</td>\n",
       "      <td>1051.0</td>\n",
       "      <td>758.9</td>\n",
       "      <td>268.7</td>\n",
       "      <td>18.3</td>\n",
       "      <td>65.2</td>\n",
       "      <td>7.7</td>\n",
       "      <td>1299.0</td>\n",
       "      <td>573.7</td>\n",
       "      <td>725.3</td>\n",
       "      <td>0.345</td>\n",
       "      <td>0.131</td>\n",
       "      <td>0.169</td>\n",
       "      <td>0.115</td>\n",
       "      <td>0.002</td>\n",
       "      <td>0.318</td>\n",
       "      <td>0.002</td>\n",
       "      <td>0.318</td>\n",
       "    </tr>\n",
       "    <tr>\n",
       "      <th>2</th>\n",
       "      <td>311111</td>\n",
       "      <td>Dog and Cat Food Manufacturing</td>\n",
       "      <td>1960</td>\n",
       "      <td>17.7</td>\n",
       "      <td>84.8</td>\n",
       "      <td>11.7</td>\n",
       "      <td>25.4</td>\n",
       "      <td>50.0</td>\n",
       "      <td>1050.2</td>\n",
       "      <td>752.8</td>\n",
       "      <td>269.9</td>\n",
       "      <td>16.1</td>\n",
       "      <td>58.2</td>\n",
       "      <td>8.5</td>\n",
       "      <td>1350.7</td>\n",
       "      <td>611.6</td>\n",
       "      <td>739.2</td>\n",
       "      <td>0.274</td>\n",
       "      <td>0.129</td>\n",
       "      <td>0.173</td>\n",
       "      <td>0.119</td>\n",
       "      <td>0.217</td>\n",
       "      <td>0.394</td>\n",
       "      <td>0.216</td>\n",
       "      <td>0.395</td>\n",
       "    </tr>\n",
       "    <tr>\n",
       "      <th>3</th>\n",
       "      <td>311111</td>\n",
       "      <td>Dog and Cat Food Manufacturing</td>\n",
       "      <td>1961</td>\n",
       "      <td>17.5</td>\n",
       "      <td>87.4</td>\n",
       "      <td>11.5</td>\n",
       "      <td>25.4</td>\n",
       "      <td>51.4</td>\n",
       "      <td>1119.7</td>\n",
       "      <td>803.6</td>\n",
       "      <td>287.8</td>\n",
       "      <td>14.5</td>\n",
       "      <td>58.1</td>\n",
       "      <td>9.3</td>\n",
       "      <td>1394.4</td>\n",
       "      <td>642.6</td>\n",
       "      <td>752.0</td>\n",
       "      <td>0.273</td>\n",
       "      <td>0.131</td>\n",
       "      <td>0.172</td>\n",
       "      <td>0.117</td>\n",
       "      <td>0.024</td>\n",
       "      <td>0.404</td>\n",
       "      <td>0.024</td>\n",
       "      <td>0.405</td>\n",
       "    </tr>\n",
       "    <tr>\n",
       "      <th>4</th>\n",
       "      <td>311111</td>\n",
       "      <td>Dog and Cat Food Manufacturing</td>\n",
       "      <td>1962</td>\n",
       "      <td>17.6</td>\n",
       "      <td>90.2</td>\n",
       "      <td>11.5</td>\n",
       "      <td>25.2</td>\n",
       "      <td>52.1</td>\n",
       "      <td>1175.7</td>\n",
       "      <td>853.3</td>\n",
       "      <td>294.5</td>\n",
       "      <td>18.4</td>\n",
       "      <td>61.9</td>\n",
       "      <td>10.1</td>\n",
       "      <td>1437.8</td>\n",
       "      <td>669.1</td>\n",
       "      <td>768.7</td>\n",
       "      <td>0.277</td>\n",
       "      <td>0.132</td>\n",
       "      <td>0.174</td>\n",
       "      <td>0.119</td>\n",
       "      <td>-0.007</td>\n",
       "      <td>0.401</td>\n",
       "      <td>-0.007</td>\n",
       "      <td>0.402</td>\n",
       "    </tr>\n",
       "  </tbody>\n",
       "</table>\n",
       "</div>"
      ],
      "text/plain": [
       "    naics                     naics_title  year   emp   pay  prode  prodh  \\\n",
       "0  311111  Dog and Cat Food Manufacturing  1958  18.0  81.3   12.0   25.7   \n",
       "1  311111  Dog and Cat Food Manufacturing  1959  17.9  82.5   11.8   25.5   \n",
       "2  311111  Dog and Cat Food Manufacturing  1960  17.7  84.8   11.7   25.4   \n",
       "3  311111  Dog and Cat Food Manufacturing  1961  17.5  87.4   11.5   25.4   \n",
       "4  311111  Dog and Cat Food Manufacturing  1962  17.6  90.2   11.5   25.2   \n",
       "\n",
       "   prodw   vship  matcost   vadd  invest  invent  energy     cap  equip  \\\n",
       "0   49.8  1042.4    752.4  266.9    17.8    59.5     7.0  1212.7  517.6   \n",
       "1   49.4  1051.0    758.9  268.7    18.3    65.2     7.7  1299.0  573.7   \n",
       "2   50.0  1050.2    752.8  269.9    16.1    58.2     8.5  1350.7  611.6   \n",
       "3   51.4  1119.7    803.6  287.8    14.5    58.1     9.3  1394.4  642.6   \n",
       "4   52.1  1175.7    853.3  294.5    18.4    61.9    10.1  1437.8  669.1   \n",
       "\n",
       "   plant  piship  pimat  piinv   pien  dtfp5   tfp5  dtfp4   tfp4  \n",
       "0  695.0   0.354  0.133  0.168  0.116    NaN  0.317    NaN  0.318  \n",
       "1  725.3   0.345  0.131  0.169  0.115  0.002  0.318  0.002  0.318  \n",
       "2  739.2   0.274  0.129  0.173  0.119  0.217  0.394  0.216  0.395  \n",
       "3  752.0   0.273  0.131  0.172  0.117  0.024  0.404  0.024  0.405  \n",
       "4  768.7   0.277  0.132  0.174  0.119 -0.007  0.401 -0.007  0.402  "
      ]
     },
     "execution_count": 1,
     "metadata": {},
     "output_type": "execute_result"
    }
   ],
   "source": [
    "import pandas as pd\n",
    "import numpy as np\n",
    "import matplotlib.pyplot as plt\n",
    "\n",
    "# Create dataframe from raw csv link\n",
    "url = 'https://raw.githubusercontent.com/yairg98/Data-Driven-Problem-Solving/main/Midterm%20Project/Part%202/Manufacturing_Industry_Database.csv'\n",
    "df = pd.read_csv(url)\n",
    "\n",
    "# Set options to display all columns\n",
    "pd.set_option('max_columns', None)\n",
    "\n",
    "# Display first 5 rows of dataframe\n",
    "df.head()"
   ]
  },
  {
   "cell_type": "markdown",
   "metadata": {},
   "source": [
    "### Missing Data Count\n",
    "\n",
    "Identify total number of entries and evaluate missing data by both\n",
    "number and percentage of values missing from each column\n",
    "\n",
    "In the table below, multiple groups of columns are immediately apparent\n",
    "which have precisely the same number of missing values and can therefore\n",
    "be assumed to go together (none or all missing for any given row).\n",
    "\n",
    "Also, to account for the possibility that strings have been used istead\n",
    "of Null to represent missing numeric values, we can include present data\n",
    "types for each column in the table. As shown below, these look correct."
   ]
  },
  {
   "cell_type": "code",
   "execution_count": 2,
   "metadata": {},
   "outputs": [
    {
     "name": "stdout",
     "output_type": "stream",
     "text": [
      "Number of entries in dataset: 22204\n",
      "Total number of values missing: 9490\n",
      "Number of missing values in each column:\n"
     ]
    },
    {
     "data": {
      "text/html": [
       "<div>\n",
       "<style scoped>\n",
       "    .dataframe tbody tr th:only-of-type {\n",
       "        vertical-align: middle;\n",
       "    }\n",
       "\n",
       "    .dataframe tbody tr th {\n",
       "        vertical-align: top;\n",
       "    }\n",
       "\n",
       "    .dataframe thead th {\n",
       "        text-align: right;\n",
       "    }\n",
       "</style>\n",
       "<table border=\"1\" class=\"dataframe\">\n",
       "  <thead>\n",
       "    <tr style=\"text-align: right;\">\n",
       "      <th></th>\n",
       "      <th>num_missing</th>\n",
       "      <th>percent_missing</th>\n",
       "      <th>dtype</th>\n",
       "    </tr>\n",
       "  </thead>\n",
       "  <tbody>\n",
       "    <tr>\n",
       "      <th>dtfp4</th>\n",
       "      <td>1209</td>\n",
       "      <td>5.444965</td>\n",
       "      <td>float64</td>\n",
       "    </tr>\n",
       "    <tr>\n",
       "      <th>dtfp5</th>\n",
       "      <td>1209</td>\n",
       "      <td>5.444965</td>\n",
       "      <td>float64</td>\n",
       "    </tr>\n",
       "    <tr>\n",
       "      <th>tfp4</th>\n",
       "      <td>845</td>\n",
       "      <td>3.805621</td>\n",
       "      <td>float64</td>\n",
       "    </tr>\n",
       "    <tr>\n",
       "      <th>tfp5</th>\n",
       "      <td>845</td>\n",
       "      <td>3.805621</td>\n",
       "      <td>float64</td>\n",
       "    </tr>\n",
       "    <tr>\n",
       "      <th>piinv</th>\n",
       "      <td>845</td>\n",
       "      <td>3.805621</td>\n",
       "      <td>float64</td>\n",
       "    </tr>\n",
       "    <tr>\n",
       "      <th>plant</th>\n",
       "      <td>845</td>\n",
       "      <td>3.805621</td>\n",
       "      <td>float64</td>\n",
       "    </tr>\n",
       "    <tr>\n",
       "      <th>equip</th>\n",
       "      <td>845</td>\n",
       "      <td>3.805621</td>\n",
       "      <td>float64</td>\n",
       "    </tr>\n",
       "    <tr>\n",
       "      <th>cap</th>\n",
       "      <td>845</td>\n",
       "      <td>3.805621</td>\n",
       "      <td>float64</td>\n",
       "    </tr>\n",
       "    <tr>\n",
       "      <th>invest</th>\n",
       "      <td>481</td>\n",
       "      <td>2.166276</td>\n",
       "      <td>float64</td>\n",
       "    </tr>\n",
       "    <tr>\n",
       "      <th>energy</th>\n",
       "      <td>117</td>\n",
       "      <td>0.526932</td>\n",
       "      <td>float64</td>\n",
       "    </tr>\n",
       "    <tr>\n",
       "      <th>pien</th>\n",
       "      <td>117</td>\n",
       "      <td>0.526932</td>\n",
       "      <td>float64</td>\n",
       "    </tr>\n",
       "    <tr>\n",
       "      <th>pimat</th>\n",
       "      <td>117</td>\n",
       "      <td>0.526932</td>\n",
       "      <td>float64</td>\n",
       "    </tr>\n",
       "    <tr>\n",
       "      <th>piship</th>\n",
       "      <td>117</td>\n",
       "      <td>0.526932</td>\n",
       "      <td>float64</td>\n",
       "    </tr>\n",
       "    <tr>\n",
       "      <th>invent</th>\n",
       "      <td>117</td>\n",
       "      <td>0.526932</td>\n",
       "      <td>float64</td>\n",
       "    </tr>\n",
       "    <tr>\n",
       "      <th>vadd</th>\n",
       "      <td>117</td>\n",
       "      <td>0.526932</td>\n",
       "      <td>float64</td>\n",
       "    </tr>\n",
       "    <tr>\n",
       "      <th>matcost</th>\n",
       "      <td>117</td>\n",
       "      <td>0.526932</td>\n",
       "      <td>float64</td>\n",
       "    </tr>\n",
       "    <tr>\n",
       "      <th>vship</th>\n",
       "      <td>117</td>\n",
       "      <td>0.526932</td>\n",
       "      <td>float64</td>\n",
       "    </tr>\n",
       "    <tr>\n",
       "      <th>prodw</th>\n",
       "      <td>117</td>\n",
       "      <td>0.526932</td>\n",
       "      <td>float64</td>\n",
       "    </tr>\n",
       "    <tr>\n",
       "      <th>prodh</th>\n",
       "      <td>117</td>\n",
       "      <td>0.526932</td>\n",
       "      <td>float64</td>\n",
       "    </tr>\n",
       "    <tr>\n",
       "      <th>prode</th>\n",
       "      <td>117</td>\n",
       "      <td>0.526932</td>\n",
       "      <td>float64</td>\n",
       "    </tr>\n",
       "    <tr>\n",
       "      <th>pay</th>\n",
       "      <td>117</td>\n",
       "      <td>0.526932</td>\n",
       "      <td>float64</td>\n",
       "    </tr>\n",
       "    <tr>\n",
       "      <th>emp</th>\n",
       "      <td>117</td>\n",
       "      <td>0.526932</td>\n",
       "      <td>float64</td>\n",
       "    </tr>\n",
       "    <tr>\n",
       "      <th>naics_title</th>\n",
       "      <td>0</td>\n",
       "      <td>0.000000</td>\n",
       "      <td>object</td>\n",
       "    </tr>\n",
       "    <tr>\n",
       "      <th>year</th>\n",
       "      <td>0</td>\n",
       "      <td>0.000000</td>\n",
       "      <td>int64</td>\n",
       "    </tr>\n",
       "    <tr>\n",
       "      <th>naics</th>\n",
       "      <td>0</td>\n",
       "      <td>0.000000</td>\n",
       "      <td>int64</td>\n",
       "    </tr>\n",
       "  </tbody>\n",
       "</table>\n",
       "</div>"
      ],
      "text/plain": [
       "             num_missing  percent_missing    dtype\n",
       "dtfp4               1209         5.444965  float64\n",
       "dtfp5               1209         5.444965  float64\n",
       "tfp4                 845         3.805621  float64\n",
       "tfp5                 845         3.805621  float64\n",
       "piinv                845         3.805621  float64\n",
       "plant                845         3.805621  float64\n",
       "equip                845         3.805621  float64\n",
       "cap                  845         3.805621  float64\n",
       "invest               481         2.166276  float64\n",
       "energy               117         0.526932  float64\n",
       "pien                 117         0.526932  float64\n",
       "pimat                117         0.526932  float64\n",
       "piship               117         0.526932  float64\n",
       "invent               117         0.526932  float64\n",
       "vadd                 117         0.526932  float64\n",
       "matcost              117         0.526932  float64\n",
       "vship                117         0.526932  float64\n",
       "prodw                117         0.526932  float64\n",
       "prodh                117         0.526932  float64\n",
       "prode                117         0.526932  float64\n",
       "pay                  117         0.526932  float64\n",
       "emp                  117         0.526932  float64\n",
       "naics_title            0         0.000000   object\n",
       "year                   0         0.000000    int64\n",
       "naics                  0         0.000000    int64"
      ]
     },
     "execution_count": 2,
     "metadata": {},
     "output_type": "execute_result"
    }
   ],
   "source": [
    "# Number of rows in dataset\n",
    "rows = len(df.index)\n",
    "print(\"Number of entries in dataset: {}\".format(rows))\n",
    "\n",
    "# Number of missing values in dataset\n",
    "missing = df.isnull().sum()\n",
    "print(\"Total number of values missing: {}\".format(missing.sum()))\n",
    "print(\"Number of missing values in each column:\")\n",
    "\n",
    "# Enter column specs into new dataframe\n",
    "df_specs = pd.DataFrame(\n",
    "    {\"num_missing\": missing,\n",
    "    \"percent_missing\": missing.divide(rows/100),\n",
    "    \"dtype\": df.dtypes})\n",
    "    \n",
    "# Display results with columns sorted by most missing data\n",
    "df_specs.sort_values(by='percent_missing', ascending=False)"
   ]
  },
  {
   "cell_type": "markdown",
   "metadata": {},
   "source": [
    "### Missing Data Analysis & Cleaning\n",
    "\n",
    "Noticing in the table above that columns seem to be missing data in\n",
    "groups, we can limit further analysis to one column from each group and\n",
    "extrapolate any trends or patterns to the other members of that group.\n",
    "\n",
    "- Group A: dtfp4, dtfp5\n",
    "- Group B: tfp4, tfp5, piinv, plant, equip, cap\n",
    "- Group C: invest\n",
    "- Group D: energy, pien, pimat, piship, invent, vadd, matcost, vship,\n",
    "    prodw, prodh, prode, pay, emp\n",
    "\n",
    "The resulting table below shows that columns in groups A and B are\n",
    "completely missing for the last two years in the dataset, 2017 and 2018.\n",
    "Year 2018 is also missing all data from column group C, and 1958 (the\n",
    "first year in the dataset) has no data from column group A. Outside of\n",
    "those exceptions, no more than 0.825% of values are missing for any\n",
    "given column group in any given year. Therefore, years 2017 and 2018\n",
    "will be ignored when considering any features from groups A or B. Year\n",
    "2018 will also be ignored for any analysis involving column group C, and\n",
    "1958 will be ignored for any analysis involving column group A."
   ]
  },
  {
   "cell_type": "code",
   "execution_count": 3,
   "metadata": {},
   "outputs": [
    {
     "name": "stdout",
     "output_type": "stream",
     "text": [
      "             A         B         C         D\n",
      "year                                        \n",
      "1958  1.000000  0.008242  0.008242  0.008242\n",
      "1959  0.008242  0.008242  0.008242  0.008242\n",
      "1960  0.008242  0.008242  0.008242  0.008242\n",
      "1961  0.008242  0.008242  0.008242  0.008242\n",
      "1962  0.008242  0.008242  0.008242  0.008242\n",
      "1963  0.008242  0.008242  0.008242  0.008242\n",
      "1964  0.008242  0.008242  0.008242  0.008242\n",
      "1965  0.008242  0.008242  0.008242  0.008242\n",
      "1966  0.008242  0.008242  0.008242  0.008242\n",
      "1967  0.008242  0.008242  0.008242  0.008242\n",
      "1968  0.008242  0.008242  0.008242  0.008242\n",
      "1969  0.008242  0.008242  0.008242  0.008242\n",
      "1970  0.008242  0.008242  0.008242  0.008242\n",
      "1971  0.008242  0.008242  0.008242  0.008242\n",
      "1972  0.008242  0.008242  0.008242  0.008242\n",
      "1973  0.008242  0.008242  0.008242  0.008242\n",
      "1974  0.008242  0.008242  0.008242  0.008242\n",
      "1975  0.008242  0.008242  0.008242  0.008242\n",
      "1976  0.008242  0.008242  0.008242  0.008242\n",
      "1977  0.008242  0.008242  0.008242  0.008242\n",
      "1978  0.008242  0.008242  0.008242  0.008242\n",
      "1979  0.008242  0.008242  0.008242  0.008242\n",
      "1980  0.008242  0.008242  0.008242  0.008242\n",
      "1981  0.008242  0.008242  0.008242  0.008242\n",
      "1982  0.008242  0.008242  0.008242  0.008242\n",
      "1983  0.008242  0.008242  0.008242  0.008242\n",
      "1984  0.008242  0.008242  0.008242  0.008242\n",
      "1985  0.008242  0.008242  0.008242  0.008242\n",
      "1986  0.008242  0.008242  0.008242  0.008242\n",
      "1987  0.008242  0.008242  0.008242  0.008242\n",
      "1988  0.008242  0.008242  0.008242  0.008242\n",
      "1989  0.008242  0.008242  0.008242  0.008242\n",
      "1990  0.008242  0.008242  0.008242  0.008242\n",
      "1991  0.008242  0.008242  0.008242  0.008242\n",
      "1992  0.008242  0.008242  0.008242  0.008242\n",
      "1993  0.008242  0.008242  0.008242  0.008242\n",
      "1994  0.008242  0.008242  0.008242  0.008242\n",
      "1995  0.008242  0.008242  0.008242  0.008242\n",
      "1996  0.008242  0.008242  0.008242  0.008242\n",
      "1997  0.008242  0.000000  0.000000  0.000000\n",
      "1998  0.000000  0.000000  0.000000  0.000000\n",
      "1999  0.000000  0.000000  0.000000  0.000000\n",
      "2000  0.000000  0.000000  0.000000  0.000000\n",
      "2001  0.000000  0.000000  0.000000  0.000000\n",
      "2002  0.000000  0.000000  0.000000  0.000000\n",
      "2003  0.000000  0.000000  0.000000  0.000000\n",
      "2004  0.000000  0.000000  0.000000  0.000000\n",
      "2005  0.000000  0.000000  0.000000  0.000000\n",
      "2006  0.000000  0.000000  0.000000  0.000000\n",
      "2007  0.000000  0.000000  0.000000  0.000000\n",
      "2008  0.000000  0.000000  0.000000  0.000000\n",
      "2009  0.000000  0.000000  0.000000  0.000000\n",
      "2010  0.000000  0.000000  0.000000  0.000000\n",
      "2011  0.000000  0.000000  0.000000  0.000000\n",
      "2012  0.000000  0.000000  0.000000  0.000000\n",
      "2013  0.000000  0.000000  0.000000  0.000000\n",
      "2014  0.000000  0.000000  0.000000  0.000000\n",
      "2015  0.000000  0.000000  0.000000  0.000000\n",
      "2016  0.000000  0.000000  0.000000  0.000000\n",
      "2017  1.000000  1.000000  0.000000  0.000000\n",
      "2018  1.000000  1.000000  1.000000  0.000000\n"
     ]
    }
   ],
   "source": [
    "# Analyzing the missing data by year\n",
    "total_entries_by_year = df['year'].value_counts()\n",
    "num_missing_by_year = df.groupby('year').apply(lambda x: x.isnull().sum())\n",
    "percent_missing_by_year = df.groupby('year').apply(lambda x: x.isnull().mean())\n",
    "\n",
    "# List of group representatives (one column from each column-group)\n",
    "group_reps = ['dtfp4', 'tfp4', 'invest', 'energy']\n",
    "\n",
    "# Missing values by year\n",
    "percent_missing_by_year = percent_missing_by_year[group_reps].rename(\n",
    "    columns = {'dtfp4': 'A', 'tfp4': 'B', 'invest': 'C', 'energy': 'D'})\n",
    "\n",
    "print(percent_missing_by_year.to_string())"
   ]
  },
  {
   "cell_type": "markdown",
   "metadata": {},
   "source": [
    "## 2. Descriptive Statistics"
   ]
  },
  {
   "cell_type": "markdown",
   "metadata": {},
   "source": [
    "### Basic Columnwise Stats\n",
    "\n",
    "The following table summarized the distribution of values for each\n",
    "column."
   ]
  },
  {
   "cell_type": "code",
   "execution_count": 10,
   "metadata": {},
   "outputs": [
    {
     "data": {
      "text/html": [
       "<div>\n",
       "<style scoped>\n",
       "    .dataframe tbody tr th:only-of-type {\n",
       "        vertical-align: middle;\n",
       "    }\n",
       "\n",
       "    .dataframe tbody tr th {\n",
       "        vertical-align: top;\n",
       "    }\n",
       "\n",
       "    .dataframe thead th {\n",
       "        text-align: right;\n",
       "    }\n",
       "</style>\n",
       "<table border=\"1\" class=\"dataframe\">\n",
       "  <thead>\n",
       "    <tr style=\"text-align: right;\">\n",
       "      <th></th>\n",
       "      <th>naics</th>\n",
       "      <th>year</th>\n",
       "      <th>emp</th>\n",
       "      <th>pay</th>\n",
       "      <th>prode</th>\n",
       "      <th>prodh</th>\n",
       "      <th>prodw</th>\n",
       "      <th>vship</th>\n",
       "      <th>matcost</th>\n",
       "      <th>vadd</th>\n",
       "      <th>invest</th>\n",
       "      <th>invent</th>\n",
       "      <th>energy</th>\n",
       "      <th>cap</th>\n",
       "      <th>equip</th>\n",
       "      <th>plant</th>\n",
       "      <th>piship</th>\n",
       "      <th>pimat</th>\n",
       "      <th>piinv</th>\n",
       "      <th>pien</th>\n",
       "      <th>dtfp5</th>\n",
       "      <th>tfp5</th>\n",
       "      <th>dtfp4</th>\n",
       "      <th>tfp4</th>\n",
       "    </tr>\n",
       "  </thead>\n",
       "  <tbody>\n",
       "    <tr>\n",
       "      <th>count</th>\n",
       "      <td>22204.0</td>\n",
       "      <td>22204.0</td>\n",
       "      <td>22087.0</td>\n",
       "      <td>22087.0</td>\n",
       "      <td>22087.0</td>\n",
       "      <td>22087.0</td>\n",
       "      <td>22087.0</td>\n",
       "      <td>22087.0</td>\n",
       "      <td>22087.0</td>\n",
       "      <td>22087.0</td>\n",
       "      <td>21723.0</td>\n",
       "      <td>22087.0</td>\n",
       "      <td>22087.0</td>\n",
       "      <td>21359.0</td>\n",
       "      <td>21359.0</td>\n",
       "      <td>21359.0</td>\n",
       "      <td>22087.0</td>\n",
       "      <td>22087.0</td>\n",
       "      <td>21359.0</td>\n",
       "      <td>22087.0</td>\n",
       "      <td>20995.0</td>\n",
       "      <td>21359.0</td>\n",
       "      <td>20995.0</td>\n",
       "      <td>21359.0</td>\n",
       "    </tr>\n",
       "    <tr>\n",
       "      <th>mean</th>\n",
       "      <td>327608.0</td>\n",
       "      <td>1988.0</td>\n",
       "      <td>43.0</td>\n",
       "      <td>1065.0</td>\n",
       "      <td>31.0</td>\n",
       "      <td>63.0</td>\n",
       "      <td>633.0</td>\n",
       "      <td>7566.0</td>\n",
       "      <td>4205.0</td>\n",
       "      <td>3381.0</td>\n",
       "      <td>234.0</td>\n",
       "      <td>896.0</td>\n",
       "      <td>143.0</td>\n",
       "      <td>4222.0</td>\n",
       "      <td>2611.0</td>\n",
       "      <td>1611.0</td>\n",
       "      <td>2.0</td>\n",
       "      <td>1.0</td>\n",
       "      <td>1.0</td>\n",
       "      <td>1.0</td>\n",
       "      <td>0.0</td>\n",
       "      <td>1.0</td>\n",
       "      <td>0.0</td>\n",
       "      <td>1.0</td>\n",
       "    </tr>\n",
       "    <tr>\n",
       "      <th>std</th>\n",
       "      <td>8819.0</td>\n",
       "      <td>18.0</td>\n",
       "      <td>55.0</td>\n",
       "      <td>1625.0</td>\n",
       "      <td>42.0</td>\n",
       "      <td>83.0</td>\n",
       "      <td>955.0</td>\n",
       "      <td>20625.0</td>\n",
       "      <td>15880.0</td>\n",
       "      <td>6534.0</td>\n",
       "      <td>636.0</td>\n",
       "      <td>2125.0</td>\n",
       "      <td>455.0</td>\n",
       "      <td>9032.0</td>\n",
       "      <td>6058.0</td>\n",
       "      <td>3225.0</td>\n",
       "      <td>41.0</td>\n",
       "      <td>0.0</td>\n",
       "      <td>0.0</td>\n",
       "      <td>0.0</td>\n",
       "      <td>0.0</td>\n",
       "      <td>0.0</td>\n",
       "      <td>0.0</td>\n",
       "      <td>0.0</td>\n",
       "    </tr>\n",
       "    <tr>\n",
       "      <th>min</th>\n",
       "      <td>311111.0</td>\n",
       "      <td>1958.0</td>\n",
       "      <td>0.0</td>\n",
       "      <td>3.0</td>\n",
       "      <td>0.0</td>\n",
       "      <td>0.0</td>\n",
       "      <td>2.0</td>\n",
       "      <td>26.0</td>\n",
       "      <td>10.0</td>\n",
       "      <td>10.0</td>\n",
       "      <td>0.0</td>\n",
       "      <td>0.0</td>\n",
       "      <td>0.0</td>\n",
       "      <td>13.0</td>\n",
       "      <td>6.0</td>\n",
       "      <td>7.0</td>\n",
       "      <td>0.0</td>\n",
       "      <td>0.0</td>\n",
       "      <td>0.0</td>\n",
       "      <td>0.0</td>\n",
       "      <td>-1.0</td>\n",
       "      <td>0.0</td>\n",
       "      <td>-1.0</td>\n",
       "      <td>0.0</td>\n",
       "    </tr>\n",
       "    <tr>\n",
       "      <th>25%</th>\n",
       "      <td>322191.0</td>\n",
       "      <td>1973.0</td>\n",
       "      <td>14.0</td>\n",
       "      <td>250.0</td>\n",
       "      <td>10.0</td>\n",
       "      <td>20.0</td>\n",
       "      <td>157.0</td>\n",
       "      <td>1264.0</td>\n",
       "      <td>614.0</td>\n",
       "      <td>601.0</td>\n",
       "      <td>32.0</td>\n",
       "      <td>177.0</td>\n",
       "      <td>15.0</td>\n",
       "      <td>1002.0</td>\n",
       "      <td>521.0</td>\n",
       "      <td>441.0</td>\n",
       "      <td>0.0</td>\n",
       "      <td>0.0</td>\n",
       "      <td>0.0</td>\n",
       "      <td>0.0</td>\n",
       "      <td>-0.0</td>\n",
       "      <td>1.0</td>\n",
       "      <td>-0.0</td>\n",
       "      <td>1.0</td>\n",
       "    </tr>\n",
       "    <tr>\n",
       "      <th>50%</th>\n",
       "      <td>331502.0</td>\n",
       "      <td>1988.0</td>\n",
       "      <td>26.0</td>\n",
       "      <td>572.0</td>\n",
       "      <td>19.0</td>\n",
       "      <td>38.0</td>\n",
       "      <td>348.0</td>\n",
       "      <td>3374.0</td>\n",
       "      <td>1638.0</td>\n",
       "      <td>1623.0</td>\n",
       "      <td>88.0</td>\n",
       "      <td>437.0</td>\n",
       "      <td>45.0</td>\n",
       "      <td>1979.0</td>\n",
       "      <td>1130.0</td>\n",
       "      <td>808.0</td>\n",
       "      <td>1.0</td>\n",
       "      <td>1.0</td>\n",
       "      <td>1.0</td>\n",
       "      <td>1.0</td>\n",
       "      <td>0.0</td>\n",
       "      <td>1.0</td>\n",
       "      <td>0.0</td>\n",
       "      <td>1.0</td>\n",
       "    </tr>\n",
       "    <tr>\n",
       "      <th>75%</th>\n",
       "      <td>334414.0</td>\n",
       "      <td>2003.0</td>\n",
       "      <td>51.0</td>\n",
       "      <td>1182.0</td>\n",
       "      <td>37.0</td>\n",
       "      <td>74.0</td>\n",
       "      <td>717.0</td>\n",
       "      <td>7511.0</td>\n",
       "      <td>3824.0</td>\n",
       "      <td>3591.0</td>\n",
       "      <td>218.0</td>\n",
       "      <td>915.0</td>\n",
       "      <td>118.0</td>\n",
       "      <td>4154.0</td>\n",
       "      <td>2498.0</td>\n",
       "      <td>1591.0</td>\n",
       "      <td>1.0</td>\n",
       "      <td>1.0</td>\n",
       "      <td>1.0</td>\n",
       "      <td>1.0</td>\n",
       "      <td>0.0</td>\n",
       "      <td>1.0</td>\n",
       "      <td>0.0</td>\n",
       "      <td>1.0</td>\n",
       "    </tr>\n",
       "    <tr>\n",
       "      <th>max</th>\n",
       "      <td>339999.0</td>\n",
       "      <td>2018.0</td>\n",
       "      <td>641.0</td>\n",
       "      <td>21751.0</td>\n",
       "      <td>465.0</td>\n",
       "      <td>950.0</td>\n",
       "      <td>13410.0</td>\n",
       "      <td>805857.0</td>\n",
       "      <td>690771.0</td>\n",
       "      <td>122783.0</td>\n",
       "      <td>22278.0</td>\n",
       "      <td>62387.0</td>\n",
       "      <td>14199.0</td>\n",
       "      <td>191466.0</td>\n",
       "      <td>141296.0</td>\n",
       "      <td>50169.0</td>\n",
       "      <td>1451.0</td>\n",
       "      <td>7.0</td>\n",
       "      <td>2.0</td>\n",
       "      <td>2.0</td>\n",
       "      <td>1.0</td>\n",
       "      <td>3.0</td>\n",
       "      <td>1.0</td>\n",
       "      <td>3.0</td>\n",
       "    </tr>\n",
       "  </tbody>\n",
       "</table>\n",
       "</div>"
      ],
      "text/plain": [
       "          naics     year      emp      pay    prode    prodh    prodw  \\\n",
       "count   22204.0  22204.0  22087.0  22087.0  22087.0  22087.0  22087.0   \n",
       "mean   327608.0   1988.0     43.0   1065.0     31.0     63.0    633.0   \n",
       "std      8819.0     18.0     55.0   1625.0     42.0     83.0    955.0   \n",
       "min    311111.0   1958.0      0.0      3.0      0.0      0.0      2.0   \n",
       "25%    322191.0   1973.0     14.0    250.0     10.0     20.0    157.0   \n",
       "50%    331502.0   1988.0     26.0    572.0     19.0     38.0    348.0   \n",
       "75%    334414.0   2003.0     51.0   1182.0     37.0     74.0    717.0   \n",
       "max    339999.0   2018.0    641.0  21751.0    465.0    950.0  13410.0   \n",
       "\n",
       "          vship   matcost      vadd   invest   invent   energy       cap  \\\n",
       "count   22087.0   22087.0   22087.0  21723.0  22087.0  22087.0   21359.0   \n",
       "mean     7566.0    4205.0    3381.0    234.0    896.0    143.0    4222.0   \n",
       "std     20625.0   15880.0    6534.0    636.0   2125.0    455.0    9032.0   \n",
       "min        26.0      10.0      10.0      0.0      0.0      0.0      13.0   \n",
       "25%      1264.0     614.0     601.0     32.0    177.0     15.0    1002.0   \n",
       "50%      3374.0    1638.0    1623.0     88.0    437.0     45.0    1979.0   \n",
       "75%      7511.0    3824.0    3591.0    218.0    915.0    118.0    4154.0   \n",
       "max    805857.0  690771.0  122783.0  22278.0  62387.0  14199.0  191466.0   \n",
       "\n",
       "          equip    plant   piship    pimat    piinv     pien    dtfp5  \\\n",
       "count   21359.0  21359.0  22087.0  22087.0  21359.0  22087.0  20995.0   \n",
       "mean     2611.0   1611.0      2.0      1.0      1.0      1.0      0.0   \n",
       "std      6058.0   3225.0     41.0      0.0      0.0      0.0      0.0   \n",
       "min         6.0      7.0      0.0      0.0      0.0      0.0     -1.0   \n",
       "25%       521.0    441.0      0.0      0.0      0.0      0.0     -0.0   \n",
       "50%      1130.0    808.0      1.0      1.0      1.0      1.0      0.0   \n",
       "75%      2498.0   1591.0      1.0      1.0      1.0      1.0      0.0   \n",
       "max    141296.0  50169.0   1451.0      7.0      2.0      2.0      1.0   \n",
       "\n",
       "          tfp5    dtfp4     tfp4  \n",
       "count  21359.0  20995.0  21359.0  \n",
       "mean       1.0      0.0      1.0  \n",
       "std        0.0      0.0      0.0  \n",
       "min        0.0     -1.0      0.0  \n",
       "25%        1.0     -0.0      1.0  \n",
       "50%        1.0      0.0      1.0  \n",
       "75%        1.0      0.0      1.0  \n",
       "max        3.0      1.0      3.0  "
      ]
     },
     "execution_count": 10,
     "metadata": {},
     "output_type": "execute_result"
    }
   ],
   "source": [
    "# Display table of distribution statistics for each column in dataframe\n",
    "df.describe().round()"
   ]
  },
  {
   "cell_type": "markdown",
   "metadata": {},
   "source": [
    "### Plot Columnwise Distributions\n",
    "\n",
    "Plot the distributions of each column. Some columns are shown on a\n",
    "linear scale and others on a logarithmic scale, as appropriate.\n",
    "Note the pretty even distribution of data points per year, with the\n",
    "exception of the last year in the dataset, 2018. The seemingly random\n",
    "distribution of NAICS codes is to be expected since those represent\n",
    "categories, not typical numerical values.\n",
    "\n",
    "Also notice that the columns shown on a logarithmic scale all seem to be\n",
    "features that one would expect to scale with the size of the company\n",
    "represented by a given data point. Therefore, it makes sens that these\n",
    "would share a number of qualities, such as the dip and subsequent spike\n",
    "towards the high end of the scale. For simplicity, deflators were\n",
    "ignored here."
   ]
  },
  {
   "cell_type": "code",
   "execution_count": 5,
   "metadata": {},
   "outputs": [
    {
     "data": {
      "image/png": "[encoded data removed]",
      "text/plain": [
       "<Figure size 1152x576 with 6 Axes>"
      ]
     },
     "metadata": {
      "needs_background": "light"
     },
     "output_type": "display_data"
    },
    {
     "data": {
      "image/png": "[encoded data removed]",
      "text/plain": [
       "<Figure size 1152x864 with 16 Axes>"
      ]
     },
     "metadata": {
      "needs_background": "light"
     },
     "output_type": "display_data"
    }
   ],
   "source": [
    "# Plot year, industry code, and TFP/dTFP distribution (linear scale)\n",
    "fig1 = df[['year','tfp4','dtfp4','tfp5','dtfp5','naics']].hist(\n",
    "    bins=60, figsize=(16,8), log=False)\n",
    "\n",
    "# Plot other column distributions on logarithmic scale\n",
    "fig2 = df[['emp','pay','prode','prodh','prodw','vship','matcost','vadd',\n",
    "    'invest','invent','energy','cap','equip','plant']].hist(\n",
    "    bins=20, figsize=(16,12), log=True)"
   ]
  },
  {
   "cell_type": "markdown",
   "metadata": {},
   "source": [
    "## 3. Data Visualizations"
   ]
  },
  {
   "cell_type": "markdown",
   "metadata": {},
   "source": [
    "### Largest manufacturing Industries Over Time\n",
    "\n",
    "This dataset contains a multitude of interesting patterns and trends\n",
    "over time, industry, etc. For example, the following section plots the\n",
    "market caps of the top n industries each year for a given set of years\n",
    "(parameters can be set in the first few lines, as commented). The chart\n",
    "demonstrates the changing dominance of different industries over time,\n",
    "as well as the overall growth of the entire market."
   ]
  },
  {
   "cell_type": "code",
   "execution_count": 15,
   "metadata": {},
   "outputs": [
    {
     "data": {
      "application/vnd.plotly.v1+json": {
       "config": {
        "plotlyServerURL": "https://plot.ly"
       },
       "data": [
        {
         "domain": {
          "x": [
           0,
           0.2888888888888889
          ],
          "y": [
           0,
           1
          ]
         },
         "labels": [
          "Iron and Steel Mills and Ferroalloy Manufacturing",
          "Petroleum Refineries",
          "Light Truck and Utility Vehicle Manufacturing",
          "All Other Basic Organic Chemical Manufacturing",
          "Automobile Manufacturing"
         ],
         "name": "1960 Market Cap",
         "scalegroup": "one",
         "type": "pie",
         "values": [
          94739.5,
          52473.2,
          17774,
          16291.7,
          15048
         ]
        },
        {
         "domain": {
          "x": [
           0.35555555555555557,
           0.6444444444444445
          ],
          "y": [
           0,
           1
          ]
         },
         "labels": [
          "Iron and Steel Mills and Ferroalloy Manufacturing",
          "Petroleum Refineries",
          "All Other Basic Organic Chemical Manufacturing",
          "Paper (except Newsprint) Mills",
          "Light Truck and Utility Vehicle Manufacturing"
         ],
         "name": "1985 Market Cap",
         "scalegroup": "one",
         "type": "pie",
         "values": [
          100646.7,
          84645,
          39261.1,
          36891.9,
          27342.7
         ]
        },
        {
         "domain": {
          "x": [
           0.7111111111111111,
           1
          ],
          "y": [
           0,
           1
          ]
         },
         "labels": [
          "Petroleum Refineries",
          "Semiconductor and Related Device Manufacturing",
          "Pharmaceutical Preparation Manufacturing",
          "Iron and Steel Mills and Ferroalloy Manufacturing",
          "All Other Basic Organic Chemical Manufacturing"
         ],
         "name": "2016 Market Cap",
         "scalegroup": "one",
         "type": "pie",
         "values": [
          191465.6,
          120222.4,
          55221,
          51823.3,
          44722.1
         ]
        }
       ],
       "layout": {
        "annotations": [
         {
          "font": {
           "size": 16
          },
          "showarrow": false,
          "text": "1960",
          "x": 0.14444444444444446,
          "xanchor": "center",
          "xref": "paper",
          "y": 1,
          "yanchor": "bottom",
          "yref": "paper"
         },
         {
          "font": {
           "size": 16
          },
          "showarrow": false,
          "text": "1985",
          "x": 0.5,
          "xanchor": "center",
          "xref": "paper",
          "y": 1,
          "yanchor": "bottom",
          "yref": "paper"
         },
         {
          "font": {
           "size": 16
          },
          "showarrow": false,
          "text": "2016",
          "x": 0.8555555555555556,
          "xanchor": "center",
          "xref": "paper",
          "y": 1,
          "yanchor": "bottom",
          "yref": "paper"
         }
        ],
        "template": {
         "data": {
          "bar": [
           {
            "error_x": {
             "color": "#2a3f5f"
            },
            "error_y": {
             "color": "#2a3f5f"
            },
            "marker": {
             "line": {
              "color": "#E5ECF6",
              "width": 0.5
             },
             "pattern": {
              "fillmode": "overlay",
              "size": 10,
              "solidity": 0.2
             }
            },
            "type": "bar"
           }
          ],
          "barpolar": [
           {
            "marker": {
             "line": {
              "color": "#E5ECF6",
              "width": 0.5
             },
             "pattern": {
              "fillmode": "overlay",
              "size": 10,
              "solidity": 0.2
             }
            },
            "type": "barpolar"
           }
          ],
          "carpet": [
           {
            "aaxis": {
             "endlinecolor": "#2a3f5f",
             "gridcolor": "white",
             "linecolor": "white",
             "minorgridcolor": "white",
             "startlinecolor": "#2a3f5f"
            },
            "baxis": {
             "endlinecolor": "#2a3f5f",
             "gridcolor": "white",
             "linecolor": "white",
             "minorgridcolor": "white",
             "startlinecolor": "#2a3f5f"
            },
            "type": "carpet"
           }
          ],
          "choropleth": [
           {
            "colorbar": {
             "outlinewidth": 0,
             "ticks": ""
            },
            "type": "choropleth"
           }
          ],
          "contour": [
           {
            "colorbar": {
             "outlinewidth": 0,
             "ticks": ""
            },
            "colorscale": [
             [
              0,
              "#0d0887"
             ],
             [
              0.1111111111111111,
              "#46039f"
             ],
             [
              0.2222222222222222,
              "#7201a8"
             ],
             [
              0.3333333333333333,
              "#9c179e"
             ],
             [
              0.4444444444444444,
              "#bd3786"
             ],
             [
              0.5555555555555556,
              "#d8576b"
             ],
             [
              0.6666666666666666,
              "#ed7953"
             ],
             [
              0.7777777777777778,
              "#fb9f3a"
             ],
             [
              0.8888888888888888,
              "#fdca26"
             ],
             [
              1,
              "#f0f921"
             ]
            ],
            "type": "contour"
           }
          ],
          "contourcarpet": [
           {
            "colorbar": {
             "outlinewidth": 0,
             "ticks": ""
            },
            "type": "contourcarpet"
           }
          ],
          "heatmap": [
           {
            "colorbar": {
             "outlinewidth": 0,
             "ticks": ""
            },
            "colorscale": [
             [
              0,
              "#0d0887"
             ],
             [
              0.1111111111111111,
              "#46039f"
             ],
             [
              0.2222222222222222,
              "#7201a8"
             ],
             [
              0.3333333333333333,
              "#9c179e"
             ],
             [
              0.4444444444444444,
              "#bd3786"
             ],
             [
              0.5555555555555556,
              "#d8576b"
             ],
             [
              0.6666666666666666,
              "#ed7953"
             ],
             [
              0.7777777777777778,
              "#fb9f3a"
             ],
             [
              0.8888888888888888,
              "#fdca26"
             ],
             [
              1,
              "#f0f921"
             ]
            ],
            "type": "heatmap"
           }
          ],
          "heatmapgl": [
           {
            "colorbar": {
             "outlinewidth": 0,
             "ticks": ""
            },
            "colorscale": [
             [
              0,
              "#0d0887"
             ],
             [
              0.1111111111111111,
              "#46039f"
             ],
             [
              0.2222222222222222,
              "#7201a8"
             ],
             [
              0.3333333333333333,
              "#9c179e"
             ],
             [
              0.4444444444444444,
              "#bd3786"
             ],
             [
              0.5555555555555556,
              "#d8576b"
             ],
             [
              0.6666666666666666,
              "#ed7953"
             ],
             [
              0.7777777777777778,
              "#fb9f3a"
             ],
             [
              0.8888888888888888,
              "#fdca26"
             ],
             [
              1,
              "#f0f921"
             ]
            ],
            "type": "heatmapgl"
           }
          ],
          "histogram": [
           {
            "marker": {
             "pattern": {
              "fillmode": "overlay",
              "size": 10,
              "solidity": 0.2
             }
            },
            "type": "histogram"
           }
          ],
          "histogram2d": [
           {
            "colorbar": {
             "outlinewidth": 0,
             "ticks": ""
            },
            "colorscale": [
             [
              0,
              "#0d0887"
             ],
             [
              0.1111111111111111,
              "#46039f"
             ],
             [
              0.2222222222222222,
              "#7201a8"
             ],
             [
              0.3333333333333333,
              "#9c179e"
             ],
             [
              0.4444444444444444,
              "#bd3786"
             ],
             [
              0.5555555555555556,
              "#d8576b"
             ],
             [
              0.6666666666666666,
              "#ed7953"
             ],
             [
              0.7777777777777778,
              "#fb9f3a"
             ],
             [
              0.8888888888888888,
              "#fdca26"
             ],
             [
              1,
              "#f0f921"
             ]
            ],
            "type": "histogram2d"
           }
          ],
          "histogram2dcontour": [
           {
            "colorbar": {
             "outlinewidth": 0,
             "ticks": ""
            },
            "colorscale": [
             [
              0,
              "#0d0887"
             ],
             [
              0.1111111111111111,
              "#46039f"
             ],
             [
              0.2222222222222222,
              "#7201a8"
             ],
             [
              0.3333333333333333,
              "#9c179e"
             ],
             [
              0.4444444444444444,
              "#bd3786"
             ],
             [
              0.5555555555555556,
              "#d8576b"
             ],
             [
              0.6666666666666666,
              "#ed7953"
             ],
             [
              0.7777777777777778,
              "#fb9f3a"
             ],
             [
              0.8888888888888888,
              "#fdca26"
             ],
             [
              1,
              "#f0f921"
             ]
            ],
            "type": "histogram2dcontour"
           }
          ],
          "mesh3d": [
           {
            "colorbar": {
             "outlinewidth": 0,
             "ticks": ""
            },
            "type": "mesh3d"
           }
          ],
          "parcoords": [
           {
            "line": {
             "colorbar": {
              "outlinewidth": 0,
              "ticks": ""
             }
            },
            "type": "parcoords"
           }
          ],
          "pie": [
           {
            "automargin": true,
            "type": "pie"
           }
          ],
          "scatter": [
           {
            "marker": {
             "colorbar": {
              "outlinewidth": 0,
              "ticks": ""
             }
            },
            "type": "scatter"
           }
          ],
          "scatter3d": [
           {
            "line": {
             "colorbar": {
              "outlinewidth": 0,
              "ticks": ""
             }
            },
            "marker": {
             "colorbar": {
              "outlinewidth": 0,
              "ticks": ""
             }
            },
            "type": "scatter3d"
           }
          ],
          "scattercarpet": [
           {
            "marker": {
             "colorbar": {
              "outlinewidth": 0,
              "ticks": ""
             }
            },
            "type": "scattercarpet"
           }
          ],
          "scattergeo": [
           {
            "marker": {
             "colorbar": {
              "outlinewidth": 0,
              "ticks": ""
             }
            },
            "type": "scattergeo"
           }
          ],
          "scattergl": [
           {
            "marker": {
             "colorbar": {
              "outlinewidth": 0,
              "ticks": ""
             }
            },
            "type": "scattergl"
           }
          ],
          "scattermapbox": [
           {
            "marker": {
             "colorbar": {
              "outlinewidth": 0,
              "ticks": ""
             }
            },
            "type": "scattermapbox"
           }
          ],
          "scatterpolar": [
           {
            "marker": {
             "colorbar": {
              "outlinewidth": 0,
              "ticks": ""
             }
            },
            "type": "scatterpolar"
           }
          ],
          "scatterpolargl": [
           {
            "marker": {
             "colorbar": {
              "outlinewidth": 0,
              "ticks": ""
             }
            },
            "type": "scatterpolargl"
           }
          ],
          "scatterternary": [
           {
            "marker": {
             "colorbar": {
              "outlinewidth": 0,
              "ticks": ""
             }
            },
            "type": "scatterternary"
           }
          ],
          "surface": [
           {
            "colorbar": {
             "outlinewidth": 0,
             "ticks": ""
            },
            "colorscale": [
             [
              0,
              "#0d0887"
             ],
             [
              0.1111111111111111,
              "#46039f"
             ],
             [
              0.2222222222222222,
              "#7201a8"
             ],
             [
              0.3333333333333333,
              "#9c179e"
             ],
             [
              0.4444444444444444,
              "#bd3786"
             ],
             [
              0.5555555555555556,
              "#d8576b"
             ],
             [
              0.6666666666666666,
              "#ed7953"
             ],
             [
              0.7777777777777778,
              "#fb9f3a"
             ],
             [
              0.8888888888888888,
              "#fdca26"
             ],
             [
              1,
              "#f0f921"
             ]
            ],
            "type": "surface"
           }
          ],
          "table": [
           {
            "cells": {
             "fill": {
              "color": "#EBF0F8"
             },
             "line": {
              "color": "white"
             }
            },
            "header": {
             "fill": {
              "color": "#C8D4E3"
             },
             "line": {
              "color": "white"
             }
            },
            "type": "table"
           }
          ]
         },
         "layout": {
          "annotationdefaults": {
           "arrowcolor": "#2a3f5f",
           "arrowhead": 0,
           "arrowwidth": 1
          },
          "autotypenumbers": "strict",
          "coloraxis": {
           "colorbar": {
            "outlinewidth": 0,
            "ticks": ""
           }
          },
          "colorscale": {
           "diverging": [
            [
             0,
             "#8e0152"
            ],
            [
             0.1,
             "#c51b7d"
            ],
            [
             0.2,
             "#de77ae"
            ],
            [
             0.3,
             "#f1b6da"
            ],
            [
             0.4,
             "#fde0ef"
            ],
            [
             0.5,
             "#f7f7f7"
            ],
            [
             0.6,
             "#e6f5d0"
            ],
            [
             0.7,
             "#b8e186"
            ],
            [
             0.8,
             "#7fbc41"
            ],
            [
             0.9,
             "#4d9221"
            ],
            [
             1,
             "#276419"
            ]
           ],
           "sequential": [
            [
             0,
             "#0d0887"
            ],
            [
             0.1111111111111111,
             "#46039f"
            ],
            [
             0.2222222222222222,
             "#7201a8"
            ],
            [
             0.3333333333333333,
             "#9c179e"
            ],
            [
             0.4444444444444444,
             "#bd3786"
            ],
            [
             0.5555555555555556,
             "#d8576b"
            ],
            [
             0.6666666666666666,
             "#ed7953"
            ],
            [
             0.7777777777777778,
             "#fb9f3a"
            ],
            [
             0.8888888888888888,
             "#fdca26"
            ],
            [
             1,
             "#f0f921"
            ]
           ],
           "sequentialminus": [
            [
             0,
             "#0d0887"
            ],
            [
             0.1111111111111111,
             "#46039f"
            ],
            [
             0.2222222222222222,
             "#7201a8"
            ],
            [
             0.3333333333333333,
             "#9c179e"
            ],
            [
             0.4444444444444444,
             "#bd3786"
            ],
            [
             0.5555555555555556,
             "#d8576b"
            ],
            [
             0.6666666666666666,
             "#ed7953"
            ],
            [
             0.7777777777777778,
             "#fb9f3a"
            ],
            [
             0.8888888888888888,
             "#fdca26"
            ],
            [
             1,
             "#f0f921"
            ]
           ]
          },
          "colorway": [
           "#636efa",
           "#EF553B",
           "#00cc96",
           "#ab63fa",
           "#FFA15A",
           "#19d3f3",
           "#FF6692",
           "#B6E880",
           "#FF97FF",
           "#FECB52"
          ],
          "font": {
           "color": "#2a3f5f"
          },
          "geo": {
           "bgcolor": "white",
           "lakecolor": "white",
           "landcolor": "#E5ECF6",
           "showlakes": true,
           "showland": true,
           "subunitcolor": "white"
          },
          "hoverlabel": {
           "align": "left"
          },
          "hovermode": "closest",
          "mapbox": {
           "style": "light"
          },
          "paper_bgcolor": "white",
          "plot_bgcolor": "#E5ECF6",
          "polar": {
           "angularaxis": {
            "gridcolor": "white",
            "linecolor": "white",
            "ticks": ""
           },
           "bgcolor": "#E5ECF6",
           "radialaxis": {
            "gridcolor": "white",
            "linecolor": "white",
            "ticks": ""
           }
          },
          "scene": {
           "xaxis": {
            "backgroundcolor": "#E5ECF6",
            "gridcolor": "white",
            "gridwidth": 2,
            "linecolor": "white",
            "showbackground": true,
            "ticks": "",
            "zerolinecolor": "white"
           },
           "yaxis": {
            "backgroundcolor": "#E5ECF6",
            "gridcolor": "white",
            "gridwidth": 2,
            "linecolor": "white",
            "showbackground": true,
            "ticks": "",
            "zerolinecolor": "white"
           },
           "zaxis": {
            "backgroundcolor": "#E5ECF6",
            "gridcolor": "white",
            "gridwidth": 2,
            "linecolor": "white",
            "showbackground": true,
            "ticks": "",
            "zerolinecolor": "white"
           }
          },
          "shapedefaults": {
           "line": {
            "color": "#2a3f5f"
           }
          },
          "ternary": {
           "aaxis": {
            "gridcolor": "white",
            "linecolor": "white",
            "ticks": ""
           },
           "baxis": {
            "gridcolor": "white",
            "linecolor": "white",
            "ticks": ""
           },
           "bgcolor": "#E5ECF6",
           "caxis": {
            "gridcolor": "white",
            "linecolor": "white",
            "ticks": ""
           }
          },
          "title": {
           "x": 0.05
          },
          "xaxis": {
           "automargin": true,
           "gridcolor": "white",
           "linecolor": "white",
           "ticks": "",
           "title": {
            "standoff": 15
           },
           "zerolinecolor": "white",
           "zerolinewidth": 2
          },
          "yaxis": {
           "automargin": true,
           "gridcolor": "white",
           "linecolor": "white",
           "ticks": "",
           "title": {
            "standoff": 15
           },
           "zerolinecolor": "white",
           "zerolinewidth": 2
          }
         }
        },
        "title": {
         "text": "Total Market Capital of 5 Largest Manufacturing Industries by Year"
        }
       }
      }
     },
     "metadata": {},
     "output_type": "display_data"
    }
   ],
   "source": [
    "from plotly.subplots import make_subplots\n",
    "import plotly.graph_objects as go\n",
    "\n",
    "# Set chart parameters\n",
    "years = [1960,1985,2016]    # list of years to include\n",
    "n = 5                       # number of industries to include per year\n",
    "n_cols = 3                  # number of pie charts per row\n",
    "\n",
    "# Get data for chosen years\n",
    "cap_data = [df[df['year']==yr][['naics_title','naics','cap']]\n",
    "    for yr in years]\n",
    "\n",
    "# Identify top n industries for each year\n",
    "top_n = [data.sort_values(['cap'], ascending=False).head(n)\n",
    "    for data in cap_data]\n",
    "\n",
    "# Ceiling division to find number of rows needed\n",
    "n_years = len(years)\n",
    "n_rows = -1 * (-n_years // n_cols)\n",
    "\n",
    "# Create figure\n",
    "fig = make_subplots(\n",
    "    rows=n_rows,\n",
    "    cols=n_cols,\n",
    "    specs=[\n",
    "        [{'type':'pie'}]*n_cols]*n_rows,\n",
    "        subplot_titles=[\"{}\".format(yr) for yr in years]\n",
    "    )\n",
    "\n",
    "# Add trace (pie chart) for each year\n",
    "for i in range(n_years):\n",
    "\n",
    "    fig.add_trace(\n",
    "        go.Pie(\n",
    "            labels=top_n[i]['naics_title'],\n",
    "            values=top_n[i]['cap'],\n",
    "            scalegroup='one',\n",
    "            name='{} Market Cap'.format(years[i])\n",
    "        ), (-1*(-(i+1)//n_cols)), ((i%n_cols)+1)\n",
    "    )   \n",
    "\n",
    "title = \"Total Market Capital of {} Largest Manufacturing Industries by Year\".format(n)\n",
    "fig.update_layout(title_text=title)\n",
    "\n",
    "fig.show()"
   ]
  },
  {
   "cell_type": "markdown",
   "metadata": {},
   "source": [
    "### Annualized Petrolium Refinery Costs vs. Value\n",
    "\n",
    "The chart below is another example of identifying trends and patterns\n",
    "within the dataset, this time comparing the material costs and value\n",
    "added to the total shipment and new inventory value. These should be\n",
    "roughly equivalent, and a cursory inspection of the resulting chart\n",
    "confirms that assumption. This chart is specific to Petrolium Refineries\n",
    "but could be easily changed to other industries by simply exchanging the\n",
    "NAICS code at the top."
   ]
  },
  {
   "cell_type": "code",
   "execution_count": 17,
   "metadata": {},
   "outputs": [
    {
     "data": {
      "text/plain": [
       "Text(0.5, 1.0, 'Annualized Product Value vs. Costs for Petroliumn Refineries')"
      ]
     },
     "execution_count": 17,
     "metadata": {},
     "output_type": "execute_result"
    },
    {
     "data": {
      "image/png": "[encoded data removed]",
      "text/plain": [
       "<Figure size 1440x720 with 1 Axes>"
      ]
     },
     "metadata": {
      "needs_background": "light"
     },
     "output_type": "display_data"
    }
   ],
   "source": [
    "# Dataframe of all 'Petrolium Refineries' entries (NAICS: 324110)\n",
    "code = 324110\n",
    "petr_data = df[df['naics']==code].sort_values(by=['year'])\n",
    "\n",
    "# Add column for difference in inventory from previous year\n",
    "petr_data['d_inv'] = petr_data['invent'].diff()\n",
    "\n",
    "# List of columns representing contributions to vship\n",
    "costs = ['d_inv', 'vadd', 'matcost']\n",
    "\n",
    "# Filter out unneeded columns and invert vship values\n",
    "petr_data = -petr_data[costs+['year']].assign(vship = -petr_data['vship'])\n",
    "petr_data['year'] = -petr_data['year']\n",
    "\n",
    "# Create and format stacked bar plot\n",
    "ax = petr_data.plot.bar(x='year', stacked=True, figsize=(20,10))\n",
    "ax.xaxis.grid(color='gray', linestyle='dashed')\n",
    "ax.set_ylabel(\"Millions of Dollars\")\n",
    "ax.set_xlabel(\"Year\")\n",
    "ax.legend(['YOY Inventory Change', 'Value Added', 'Material Cost', 'Total Shipment Value'])\n",
    "ax.set_title(\"Annualized Product Value vs. Costs for Petroliumn Refineries\")"
   ]
  },
  {
   "cell_type": "markdown",
   "metadata": {},
   "source": [
    "## 4. Different Groupings"
   ]
  },
  {
   "cell_type": "code",
   "execution_count": 42,
   "metadata": {},
   "outputs": [
    {
     "data": {
      "text/html": [
       "<div>\n",
       "<style scoped>\n",
       "    .dataframe tbody tr th:only-of-type {\n",
       "        vertical-align: middle;\n",
       "    }\n",
       "\n",
       "    .dataframe tbody tr th {\n",
       "        vertical-align: top;\n",
       "    }\n",
       "\n",
       "    .dataframe thead th {\n",
       "        text-align: right;\n",
       "    }\n",
       "</style>\n",
       "<table border=\"1\" class=\"dataframe\">\n",
       "  <thead>\n",
       "    <tr style=\"text-align: right;\">\n",
       "      <th></th>\n",
       "      <th>naics</th>\n",
       "      <th>year</th>\n",
       "      <th>emp</th>\n",
       "      <th>pay</th>\n",
       "      <th>prode</th>\n",
       "      <th>prodh</th>\n",
       "      <th>prodw</th>\n",
       "      <th>vship</th>\n",
       "      <th>matcost</th>\n",
       "      <th>vadd</th>\n",
       "      <th>invest</th>\n",
       "      <th>invent</th>\n",
       "      <th>energy</th>\n",
       "      <th>cap</th>\n",
       "      <th>equip</th>\n",
       "      <th>plant</th>\n",
       "      <th>piship</th>\n",
       "      <th>pimat</th>\n",
       "      <th>piinv</th>\n",
       "      <th>pien</th>\n",
       "      <th>dtfp5</th>\n",
       "      <th>tfp5</th>\n",
       "      <th>dtfp4</th>\n",
       "      <th>tfp4</th>\n",
       "    </tr>\n",
       "    <tr>\n",
       "      <th>naics_cat</th>\n",
       "      <th></th>\n",
       "      <th></th>\n",
       "      <th></th>\n",
       "      <th></th>\n",
       "      <th></th>\n",
       "      <th></th>\n",
       "      <th></th>\n",
       "      <th></th>\n",
       "      <th></th>\n",
       "      <th></th>\n",
       "      <th></th>\n",
       "      <th></th>\n",
       "      <th></th>\n",
       "      <th></th>\n",
       "      <th></th>\n",
       "      <th></th>\n",
       "      <th></th>\n",
       "      <th></th>\n",
       "      <th></th>\n",
       "      <th></th>\n",
       "      <th></th>\n",
       "      <th></th>\n",
       "      <th></th>\n",
       "      <th></th>\n",
       "    </tr>\n",
       "  </thead>\n",
       "  <tbody>\n",
       "    <tr>\n",
       "      <th>311</th>\n",
       "      <td>817199920</td>\n",
       "      <td>5214524</td>\n",
       "      <td>85639.7</td>\n",
       "      <td>1826567.5</td>\n",
       "      <td>63575.0</td>\n",
       "      <td>127787.0</td>\n",
       "      <td>1218751.0</td>\n",
       "      <td>20858184.4</td>\n",
       "      <td>13164043.4</td>\n",
       "      <td>7723679.0</td>\n",
       "      <td>436114.1</td>\n",
       "      <td>1490190.5</td>\n",
       "      <td>292788.0</td>\n",
       "      <td>8683587.6</td>\n",
       "      <td>5233953.6</td>\n",
       "      <td>3449636.2</td>\n",
       "      <td>1456.330001</td>\n",
       "      <td>1273.879001</td>\n",
       "      <td>1498.500002</td>\n",
       "      <td>1485.015000</td>\n",
       "      <td>6.854</td>\n",
       "      <td>2376.061001</td>\n",
       "      <td>6.791</td>\n",
       "      <td>2375.716001</td>\n",
       "    </tr>\n",
       "    <tr>\n",
       "      <th>312</th>\n",
       "      <td>133282316</td>\n",
       "      <td>848876</td>\n",
       "      <td>13125.4</td>\n",
       "      <td>317751.6</td>\n",
       "      <td>7638.7</td>\n",
       "      <td>15025.9</td>\n",
       "      <td>167124.9</td>\n",
       "      <td>4343433.0</td>\n",
       "      <td>1815588.4</td>\n",
       "      <td>2542830.8</td>\n",
       "      <td>113944.0</td>\n",
       "      <td>657915.1</td>\n",
       "      <td>36604.7</td>\n",
       "      <td>2338322.7</td>\n",
       "      <td>1496439.6</td>\n",
       "      <td>841882.9</td>\n",
       "      <td>243.054000</td>\n",
       "      <td>237.956999</td>\n",
       "      <td>254.767001</td>\n",
       "      <td>243.944000</td>\n",
       "      <td>2.604</td>\n",
       "      <td>370.503000</td>\n",
       "      <td>2.616</td>\n",
       "      <td>370.210000</td>\n",
       "    </tr>\n",
       "    <tr>\n",
       "      <th>313</th>\n",
       "      <td>133751040</td>\n",
       "      <td>848876</td>\n",
       "      <td>26709.0</td>\n",
       "      <td>359179.2</td>\n",
       "      <td>23301.0</td>\n",
       "      <td>47781.7</td>\n",
       "      <td>272736.3</td>\n",
       "      <td>1999600.5</td>\n",
       "      <td>1182015.1</td>\n",
       "      <td>819008.2</td>\n",
       "      <td>67190.4</td>\n",
       "      <td>240358.9</td>\n",
       "      <td>67528.8</td>\n",
       "      <td>2079631.6</td>\n",
       "      <td>1182978.0</td>\n",
       "      <td>896653.4</td>\n",
       "      <td>289.503001</td>\n",
       "      <td>239.840001</td>\n",
       "      <td>249.782000</td>\n",
       "      <td>236.778000</td>\n",
       "      <td>2.575</td>\n",
       "      <td>350.089000</td>\n",
       "      <td>2.574</td>\n",
       "      <td>349.892000</td>\n",
       "    </tr>\n",
       "    <tr>\n",
       "      <th>314</th>\n",
       "      <td>95961113</td>\n",
       "      <td>606340</td>\n",
       "      <td>12254.6</td>\n",
       "      <td>183926.4</td>\n",
       "      <td>10064.4</td>\n",
       "      <td>19482.4</td>\n",
       "      <td>123822.6</td>\n",
       "      <td>1128365.0</td>\n",
       "      <td>666562.4</td>\n",
       "      <td>464199.3</td>\n",
       "      <td>19799.5</td>\n",
       "      <td>151409.7</td>\n",
       "      <td>15669.8</td>\n",
       "      <td>428004.1</td>\n",
       "      <td>239092.1</td>\n",
       "      <td>188914.4</td>\n",
       "      <td>196.808000</td>\n",
       "      <td>172.849000</td>\n",
       "      <td>192.414000</td>\n",
       "      <td>175.431000</td>\n",
       "      <td>1.973</td>\n",
       "      <td>271.109999</td>\n",
       "      <td>1.982</td>\n",
       "      <td>270.827000</td>\n",
       "    </tr>\n",
       "    <tr>\n",
       "      <th>315</th>\n",
       "      <td>134641640</td>\n",
       "      <td>848876</td>\n",
       "      <td>52557.7</td>\n",
       "      <td>471950.0</td>\n",
       "      <td>45530.3</td>\n",
       "      <td>81986.3</td>\n",
       "      <td>340526.0</td>\n",
       "      <td>2154328.7</td>\n",
       "      <td>1076266.0</td>\n",
       "      <td>1082947.1</td>\n",
       "      <td>26729.4</td>\n",
       "      <td>306254.1</td>\n",
       "      <td>19918.9</td>\n",
       "      <td>743652.7</td>\n",
       "      <td>325376.9</td>\n",
       "      <td>418276.5</td>\n",
       "      <td>295.136001</td>\n",
       "      <td>233.823001</td>\n",
       "      <td>282.219000</td>\n",
       "      <td>248.098000</td>\n",
       "      <td>1.009</td>\n",
       "      <td>447.593000</td>\n",
       "      <td>0.997</td>\n",
       "      <td>447.979000</td>\n",
       "    </tr>\n",
       "    <tr>\n",
       "      <th>316</th>\n",
       "      <td>77244910</td>\n",
       "      <td>485072</td>\n",
       "      <td>10526.4</td>\n",
       "      <td>95758.9</td>\n",
       "      <td>9118.2</td>\n",
       "      <td>16858.0</td>\n",
       "      <td>68078.6</td>\n",
       "      <td>438962.4</td>\n",
       "      <td>227977.2</td>\n",
       "      <td>212587.3</td>\n",
       "      <td>5887.2</td>\n",
       "      <td>69490.4</td>\n",
       "      <td>4373.7</td>\n",
       "      <td>179401.2</td>\n",
       "      <td>84770.3</td>\n",
       "      <td>94633.0</td>\n",
       "      <td>149.751000</td>\n",
       "      <td>120.926000</td>\n",
       "      <td>157.780000</td>\n",
       "      <td>134.505000</td>\n",
       "      <td>-0.029</td>\n",
       "      <td>240.361000</td>\n",
       "      <td>-0.036</td>\n",
       "      <td>240.480000</td>\n",
       "    </tr>\n",
       "    <tr>\n",
       "      <th>321</th>\n",
       "      <td>274618279</td>\n",
       "      <td>1697752</td>\n",
       "      <td>30452.3</td>\n",
       "      <td>576792.9</td>\n",
       "      <td>25598.9</td>\n",
       "      <td>50936.0</td>\n",
       "      <td>421805.5</td>\n",
       "      <td>3332069.5</td>\n",
       "      <td>1999935.3</td>\n",
       "      <td>1339522.1</td>\n",
       "      <td>93584.6</td>\n",
       "      <td>382469.1</td>\n",
       "      <td>71007.3</td>\n",
       "      <td>1711479.7</td>\n",
       "      <td>942918.1</td>\n",
       "      <td>768563.0</td>\n",
       "      <td>556.732000</td>\n",
       "      <td>523.051000</td>\n",
       "      <td>494.112001</td>\n",
       "      <td>450.871001</td>\n",
       "      <td>2.925</td>\n",
       "      <td>815.746000</td>\n",
       "      <td>2.919</td>\n",
       "      <td>815.277000</td>\n",
       "    </tr>\n",
       "    <tr>\n",
       "      <th>322</th>\n",
       "      <td>216194065</td>\n",
       "      <td>1333948</td>\n",
       "      <td>31897.4</td>\n",
       "      <td>858983.4</td>\n",
       "      <td>24781.7</td>\n",
       "      <td>51842.1</td>\n",
       "      <td>594778.0</td>\n",
       "      <td>6238625.8</td>\n",
       "      <td>3390545.2</td>\n",
       "      <td>2855317.4</td>\n",
       "      <td>296089.6</td>\n",
       "      <td>587432.0</td>\n",
       "      <td>283670.0</td>\n",
       "      <td>5829579.1</td>\n",
       "      <td>3901279.5</td>\n",
       "      <td>1928299.1</td>\n",
       "      <td>383.518000</td>\n",
       "      <td>375.769999</td>\n",
       "      <td>404.869999</td>\n",
       "      <td>362.180000</td>\n",
       "      <td>1.675</td>\n",
       "      <td>623.551000</td>\n",
       "      <td>1.622</td>\n",
       "      <td>624.061000</td>\n",
       "    </tr>\n",
       "    <tr>\n",
       "      <th>323</th>\n",
       "      <td>78840121</td>\n",
       "      <td>485072</td>\n",
       "      <td>38610.8</td>\n",
       "      <td>925051.1</td>\n",
       "      <td>28801.3</td>\n",
       "      <td>56196.2</td>\n",
       "      <td>591142.1</td>\n",
       "      <td>3427504.9</td>\n",
       "      <td>1393711.3</td>\n",
       "      <td>2036942.7</td>\n",
       "      <td>124541.4</td>\n",
       "      <td>243177.1</td>\n",
       "      <td>46206.5</td>\n",
       "      <td>1686695.5</td>\n",
       "      <td>1132964.1</td>\n",
       "      <td>553735.4</td>\n",
       "      <td>162.479001</td>\n",
       "      <td>140.482000</td>\n",
       "      <td>180.228000</td>\n",
       "      <td>136.286000</td>\n",
       "      <td>0.430</td>\n",
       "      <td>224.702000</td>\n",
       "      <td>0.429</td>\n",
       "      <td>224.681000</td>\n",
       "    </tr>\n",
       "    <tr>\n",
       "      <th>324</th>\n",
       "      <td>98865323</td>\n",
       "      <td>606340</td>\n",
       "      <td>7498.3</td>\n",
       "      <td>288939.6</td>\n",
       "      <td>5110.6</td>\n",
       "      <td>10763.0</td>\n",
       "      <td>173396.0</td>\n",
       "      <td>14342006.1</td>\n",
       "      <td>11932146.2</td>\n",
       "      <td>2432417.0</td>\n",
       "      <td>343191.3</td>\n",
       "      <td>890131.2</td>\n",
       "      <td>289290.2</td>\n",
       "      <td>5696390.9</td>\n",
       "      <td>3460573.1</td>\n",
       "      <td>2235815.3</td>\n",
       "      <td>116.995000</td>\n",
       "      <td>139.981000</td>\n",
       "      <td>183.032000</td>\n",
       "      <td>169.723000</td>\n",
       "      <td>-1.134</td>\n",
       "      <td>374.987999</td>\n",
       "      <td>-1.141</td>\n",
       "      <td>375.223999</td>\n",
       "    </tr>\n",
       "    <tr>\n",
       "      <th>325</th>\n",
       "      <td>575716353</td>\n",
       "      <td>3516772</td>\n",
       "      <td>52298.0</td>\n",
       "      <td>1778024.2</td>\n",
       "      <td>31335.8</td>\n",
       "      <td>63624.5</td>\n",
       "      <td>864354.7</td>\n",
       "      <td>19868303.8</td>\n",
       "      <td>9677481.1</td>\n",
       "      <td>10250269.6</td>\n",
       "      <td>764144.9</td>\n",
       "      <td>2171429.6</td>\n",
       "      <td>628414.8</td>\n",
       "      <td>11394249.0</td>\n",
       "      <td>6992979.2</td>\n",
       "      <td>4401273.8</td>\n",
       "      <td>970.619000</td>\n",
       "      <td>852.212000</td>\n",
       "      <td>1187.343999</td>\n",
       "      <td>1004.495000</td>\n",
       "      <td>11.183</td>\n",
       "      <td>1667.044000</td>\n",
       "      <td>11.047</td>\n",
       "      <td>1670.872000</td>\n",
       "    </tr>\n",
       "    <tr>\n",
       "      <th>326</th>\n",
       "      <td>318345702</td>\n",
       "      <td>1940288</td>\n",
       "      <td>44533.1</td>\n",
       "      <td>1128859.9</td>\n",
       "      <td>34704.6</td>\n",
       "      <td>69686.4</td>\n",
       "      <td>746380.0</td>\n",
       "      <td>6438846.0</td>\n",
       "      <td>3288620.0</td>\n",
       "      <td>3164358.0</td>\n",
       "      <td>244484.3</td>\n",
       "      <td>679862.7</td>\n",
       "      <td>142282.3</td>\n",
       "      <td>3852419.2</td>\n",
       "      <td>2441586.1</td>\n",
       "      <td>1410835.4</td>\n",
       "      <td>545.442000</td>\n",
       "      <td>475.147000</td>\n",
       "      <td>554.362000</td>\n",
       "      <td>532.598000</td>\n",
       "      <td>8.853</td>\n",
       "      <td>781.869001</td>\n",
       "      <td>8.852</td>\n",
       "      <td>782.041000</td>\n",
       "    </tr>\n",
       "    <tr>\n",
       "      <th>327</th>\n",
       "      <td>359563219</td>\n",
       "      <td>2182824</td>\n",
       "      <td>30711.5</td>\n",
       "      <td>709329.6</td>\n",
       "      <td>24073.7</td>\n",
       "      <td>49053.9</td>\n",
       "      <td>497265.5</td>\n",
       "      <td>3757771.8</td>\n",
       "      <td>1674137.9</td>\n",
       "      <td>2091913.1</td>\n",
       "      <td>173875.4</td>\n",
       "      <td>416254.2</td>\n",
       "      <td>206718.2</td>\n",
       "      <td>3511798.7</td>\n",
       "      <td>2118317.9</td>\n",
       "      <td>1393481.3</td>\n",
       "      <td>657.506000</td>\n",
       "      <td>599.417001</td>\n",
       "      <td>658.386001</td>\n",
       "      <td>601.043001</td>\n",
       "      <td>4.346</td>\n",
       "      <td>1046.398001</td>\n",
       "      <td>4.404</td>\n",
       "      <td>1037.902999</td>\n",
       "    </tr>\n",
       "    <tr>\n",
       "      <th>331</th>\n",
       "      <td>363861828</td>\n",
       "      <td>2182824</td>\n",
       "      <td>45397.2</td>\n",
       "      <td>1084942.5</td>\n",
       "      <td>36171.9</td>\n",
       "      <td>73243.5</td>\n",
       "      <td>789817.5</td>\n",
       "      <td>8013421.4</td>\n",
       "      <td>5072126.3</td>\n",
       "      <td>2957531.5</td>\n",
       "      <td>273122.6</td>\n",
       "      <td>1198902.4</td>\n",
       "      <td>418015.6</td>\n",
       "      <td>8949626.0</td>\n",
       "      <td>5773252.6</td>\n",
       "      <td>3176371.3</td>\n",
       "      <td>621.381999</td>\n",
       "      <td>573.407001</td>\n",
       "      <td>678.507000</td>\n",
       "      <td>698.787000</td>\n",
       "      <td>4.451</td>\n",
       "      <td>960.150000</td>\n",
       "      <td>4.495</td>\n",
       "      <td>958.410999</td>\n",
       "    </tr>\n",
       "    <tr>\n",
       "      <th>332</th>\n",
       "      <td>730325916</td>\n",
       "      <td>4365648</td>\n",
       "      <td>94095.7</td>\n",
       "      <td>2366530.4</td>\n",
       "      <td>70974.8</td>\n",
       "      <td>143565.6</td>\n",
       "      <td>1521874.8</td>\n",
       "      <td>10469039.0</td>\n",
       "      <td>4880501.3</td>\n",
       "      <td>5625011.8</td>\n",
       "      <td>300594.3</td>\n",
       "      <td>1492219.9</td>\n",
       "      <td>163484.9</td>\n",
       "      <td>5789677.2</td>\n",
       "      <td>3732312.8</td>\n",
       "      <td>2057362.2</td>\n",
       "      <td>1221.675001</td>\n",
       "      <td>1140.127999</td>\n",
       "      <td>1412.115001</td>\n",
       "      <td>1297.347000</td>\n",
       "      <td>4.444</td>\n",
       "      <td>2017.272002</td>\n",
       "      <td>4.447</td>\n",
       "      <td>2017.436000</td>\n",
       "    </tr>\n",
       "    <tr>\n",
       "      <th>333</th>\n",
       "      <td>813949108</td>\n",
       "      <td>4850720</td>\n",
       "      <td>81994.1</td>\n",
       "      <td>2209785.1</td>\n",
       "      <td>54656.3</td>\n",
       "      <td>109814.9</td>\n",
       "      <td>1200303.7</td>\n",
       "      <td>11313997.8</td>\n",
       "      <td>5635154.6</td>\n",
       "      <td>5715833.8</td>\n",
       "      <td>300921.9</td>\n",
       "      <td>2043942.3</td>\n",
       "      <td>96386.5</td>\n",
       "      <td>5425195.7</td>\n",
       "      <td>3371089.2</td>\n",
       "      <td>2054105.4</td>\n",
       "      <td>1445.046001</td>\n",
       "      <td>1381.583000</td>\n",
       "      <td>1714.740001</td>\n",
       "      <td>1410.200999</td>\n",
       "      <td>-1.053</td>\n",
       "      <td>2284.469002</td>\n",
       "      <td>-1.067</td>\n",
       "      <td>2284.117000</td>\n",
       "    </tr>\n",
       "    <tr>\n",
       "      <th>334</th>\n",
       "      <td>489568920</td>\n",
       "      <td>2910432</td>\n",
       "      <td>82106.3</td>\n",
       "      <td>2595340.5</td>\n",
       "      <td>45211.6</td>\n",
       "      <td>89435.0</td>\n",
       "      <td>938850.8</td>\n",
       "      <td>12906799.9</td>\n",
       "      <td>5500082.9</td>\n",
       "      <td>7439197.6</td>\n",
       "      <td>588139.2</td>\n",
       "      <td>1875975.5</td>\n",
       "      <td>103335.9</td>\n",
       "      <td>6811366.9</td>\n",
       "      <td>4490308.1</td>\n",
       "      <td>2321056.0</td>\n",
       "      <td>37106.411995</td>\n",
       "      <td>1848.591997</td>\n",
       "      <td>1238.360000</td>\n",
       "      <td>857.327001</td>\n",
       "      <td>28.290</td>\n",
       "      <td>1206.528000</td>\n",
       "      <td>29.404</td>\n",
       "      <td>1196.671001</td>\n",
       "    </tr>\n",
       "    <tr>\n",
       "      <th>335</th>\n",
       "      <td>429767143</td>\n",
       "      <td>2546628</td>\n",
       "      <td>35073.0</td>\n",
       "      <td>776666.2</td>\n",
       "      <td>25554.3</td>\n",
       "      <td>50305.3</td>\n",
       "      <td>453845.7</td>\n",
       "      <td>4418173.8</td>\n",
       "      <td>2211670.9</td>\n",
       "      <td>2216108.5</td>\n",
       "      <td>109918.8</td>\n",
       "      <td>622176.4</td>\n",
       "      <td>48162.6</td>\n",
       "      <td>1886150.1</td>\n",
       "      <td>1135358.3</td>\n",
       "      <td>750792.3</td>\n",
       "      <td>813.953000</td>\n",
       "      <td>699.469000</td>\n",
       "      <td>870.838000</td>\n",
       "      <td>750.083001</td>\n",
       "      <td>9.358</td>\n",
       "      <td>1110.218000</td>\n",
       "      <td>9.359</td>\n",
       "      <td>1110.025999</td>\n",
       "    </tr>\n",
       "    <tr>\n",
       "      <th>336</th>\n",
       "      <td>554072882</td>\n",
       "      <td>3274236</td>\n",
       "      <td>112829.2</td>\n",
       "      <td>3474861.2</td>\n",
       "      <td>79610.4</td>\n",
       "      <td>161484.6</td>\n",
       "      <td>2167033.3</td>\n",
       "      <td>24735760.5</td>\n",
       "      <td>15203512.5</td>\n",
       "      <td>9622276.2</td>\n",
       "      <td>637421.8</td>\n",
       "      <td>3297518.4</td>\n",
       "      <td>169248.8</td>\n",
       "      <td>10688901.4</td>\n",
       "      <td>6330921.5</td>\n",
       "      <td>4357980.3</td>\n",
       "      <td>1034.253001</td>\n",
       "      <td>982.516000</td>\n",
       "      <td>1057.966000</td>\n",
       "      <td>981.782000</td>\n",
       "      <td>8.669</td>\n",
       "      <td>1455.646998</td>\n",
       "      <td>8.684</td>\n",
       "      <td>1455.055999</td>\n",
       "    </tr>\n",
       "    <tr>\n",
       "      <th>337</th>\n",
       "      <td>246892071</td>\n",
       "      <td>1455216</td>\n",
       "      <td>29719.0</td>\n",
       "      <td>584793.9</td>\n",
       "      <td>23790.4</td>\n",
       "      <td>46662.4</td>\n",
       "      <td>387501.3</td>\n",
       "      <td>2556344.2</td>\n",
       "      <td>1182872.4</td>\n",
       "      <td>1378541.1</td>\n",
       "      <td>50316.6</td>\n",
       "      <td>294978.5</td>\n",
       "      <td>26253.1</td>\n",
       "      <td>928231.7</td>\n",
       "      <td>453604.0</td>\n",
       "      <td>474626.0</td>\n",
       "      <td>431.689000</td>\n",
       "      <td>424.996000</td>\n",
       "      <td>458.860000</td>\n",
       "      <td>405.309001</td>\n",
       "      <td>1.929</td>\n",
       "      <td>721.046000</td>\n",
       "      <td>1.928</td>\n",
       "      <td>720.937000</td>\n",
       "    </tr>\n",
       "    <tr>\n",
       "      <th>339</th>\n",
       "      <td>331546224</td>\n",
       "      <td>1940288</td>\n",
       "      <td>36567.1</td>\n",
       "      <td>909970.8</td>\n",
       "      <td>25590.8</td>\n",
       "      <td>49488.2</td>\n",
       "      <td>446829.3</td>\n",
       "      <td>4375944.1</td>\n",
       "      <td>1690657.9</td>\n",
       "      <td>2707850.6</td>\n",
       "      <td>121236.6</td>\n",
       "      <td>672866.1</td>\n",
       "      <td>36194.1</td>\n",
       "      <td>1566009.7</td>\n",
       "      <td>935839.5</td>\n",
       "      <td>630170.5</td>\n",
       "      <td>568.397000</td>\n",
       "      <td>545.331998</td>\n",
       "      <td>669.046000</td>\n",
       "      <td>548.929001</td>\n",
       "      <td>1.101</td>\n",
       "      <td>944.963999</td>\n",
       "      <td>1.098</td>\n",
       "      <td>945.256999</td>\n",
       "    </tr>\n",
       "  </tbody>\n",
       "</table>\n",
       "</div>"
      ],
      "text/plain": [
       "               naics     year       emp        pay    prode     prodh  \\\n",
       "naics_cat                                                               \n",
       "311        817199920  5214524   85639.7  1826567.5  63575.0  127787.0   \n",
       "312        133282316   848876   13125.4   317751.6   7638.7   15025.9   \n",
       "313        133751040   848876   26709.0   359179.2  23301.0   47781.7   \n",
       "314         95961113   606340   12254.6   183926.4  10064.4   19482.4   \n",
       "315        134641640   848876   52557.7   471950.0  45530.3   81986.3   \n",
       "316         77244910   485072   10526.4    95758.9   9118.2   16858.0   \n",
       "321        274618279  1697752   30452.3   576792.9  25598.9   50936.0   \n",
       "322        216194065  1333948   31897.4   858983.4  24781.7   51842.1   \n",
       "323         78840121   485072   38610.8   925051.1  28801.3   56196.2   \n",
       "324         98865323   606340    7498.3   288939.6   5110.6   10763.0   \n",
       "325        575716353  3516772   52298.0  1778024.2  31335.8   63624.5   \n",
       "326        318345702  1940288   44533.1  1128859.9  34704.6   69686.4   \n",
       "327        359563219  2182824   30711.5   709329.6  24073.7   49053.9   \n",
       "331        363861828  2182824   45397.2  1084942.5  36171.9   73243.5   \n",
       "332        730325916  4365648   94095.7  2366530.4  70974.8  143565.6   \n",
       "333        813949108  4850720   81994.1  2209785.1  54656.3  109814.9   \n",
       "334        489568920  2910432   82106.3  2595340.5  45211.6   89435.0   \n",
       "335        429767143  2546628   35073.0   776666.2  25554.3   50305.3   \n",
       "336        554072882  3274236  112829.2  3474861.2  79610.4  161484.6   \n",
       "337        246892071  1455216   29719.0   584793.9  23790.4   46662.4   \n",
       "339        331546224  1940288   36567.1   909970.8  25590.8   49488.2   \n",
       "\n",
       "               prodw       vship     matcost        vadd    invest     invent  \\\n",
       "naics_cat                                                                       \n",
       "311        1218751.0  20858184.4  13164043.4   7723679.0  436114.1  1490190.5   \n",
       "312         167124.9   4343433.0   1815588.4   2542830.8  113944.0   657915.1   \n",
       "313         272736.3   1999600.5   1182015.1    819008.2   67190.4   240358.9   \n",
       "314         123822.6   1128365.0    666562.4    464199.3   19799.5   151409.7   \n",
       "315         340526.0   2154328.7   1076266.0   1082947.1   26729.4   306254.1   \n",
       "316          68078.6    438962.4    227977.2    212587.3    5887.2    69490.4   \n",
       "321         421805.5   3332069.5   1999935.3   1339522.1   93584.6   382469.1   \n",
       "322         594778.0   6238625.8   3390545.2   2855317.4  296089.6   587432.0   \n",
       "323         591142.1   3427504.9   1393711.3   2036942.7  124541.4   243177.1   \n",
       "324         173396.0  14342006.1  11932146.2   2432417.0  343191.3   890131.2   \n",
       "325         864354.7  19868303.8   9677481.1  10250269.6  764144.9  2171429.6   \n",
       "326         746380.0   6438846.0   3288620.0   3164358.0  244484.3   679862.7   \n",
       "327         497265.5   3757771.8   1674137.9   2091913.1  173875.4   416254.2   \n",
       "331         789817.5   8013421.4   5072126.3   2957531.5  273122.6  1198902.4   \n",
       "332        1521874.8  10469039.0   4880501.3   5625011.8  300594.3  1492219.9   \n",
       "333        1200303.7  11313997.8   5635154.6   5715833.8  300921.9  2043942.3   \n",
       "334         938850.8  12906799.9   5500082.9   7439197.6  588139.2  1875975.5   \n",
       "335         453845.7   4418173.8   2211670.9   2216108.5  109918.8   622176.4   \n",
       "336        2167033.3  24735760.5  15203512.5   9622276.2  637421.8  3297518.4   \n",
       "337         387501.3   2556344.2   1182872.4   1378541.1   50316.6   294978.5   \n",
       "339         446829.3   4375944.1   1690657.9   2707850.6  121236.6   672866.1   \n",
       "\n",
       "             energy         cap      equip      plant        piship  \\\n",
       "naics_cat                                                             \n",
       "311        292788.0   8683587.6  5233953.6  3449636.2   1456.330001   \n",
       "312         36604.7   2338322.7  1496439.6   841882.9    243.054000   \n",
       "313         67528.8   2079631.6  1182978.0   896653.4    289.503001   \n",
       "314         15669.8    428004.1   239092.1   188914.4    196.808000   \n",
       "315         19918.9    743652.7   325376.9   418276.5    295.136001   \n",
       "316          4373.7    179401.2    84770.3    94633.0    149.751000   \n",
       "321         71007.3   1711479.7   942918.1   768563.0    556.732000   \n",
       "322        283670.0   5829579.1  3901279.5  1928299.1    383.518000   \n",
       "323         46206.5   1686695.5  1132964.1   553735.4    162.479001   \n",
       "324        289290.2   5696390.9  3460573.1  2235815.3    116.995000   \n",
       "325        628414.8  11394249.0  6992979.2  4401273.8    970.619000   \n",
       "326        142282.3   3852419.2  2441586.1  1410835.4    545.442000   \n",
       "327        206718.2   3511798.7  2118317.9  1393481.3    657.506000   \n",
       "331        418015.6   8949626.0  5773252.6  3176371.3    621.381999   \n",
       "332        163484.9   5789677.2  3732312.8  2057362.2   1221.675001   \n",
       "333         96386.5   5425195.7  3371089.2  2054105.4   1445.046001   \n",
       "334        103335.9   6811366.9  4490308.1  2321056.0  37106.411995   \n",
       "335         48162.6   1886150.1  1135358.3   750792.3    813.953000   \n",
       "336        169248.8  10688901.4  6330921.5  4357980.3   1034.253001   \n",
       "337         26253.1    928231.7   453604.0   474626.0    431.689000   \n",
       "339         36194.1   1566009.7   935839.5   630170.5    568.397000   \n",
       "\n",
       "                 pimat        piinv         pien   dtfp5         tfp5   dtfp4  \\\n",
       "naics_cat                                                                       \n",
       "311        1273.879001  1498.500002  1485.015000   6.854  2376.061001   6.791   \n",
       "312         237.956999   254.767001   243.944000   2.604   370.503000   2.616   \n",
       "313         239.840001   249.782000   236.778000   2.575   350.089000   2.574   \n",
       "314         172.849000   192.414000   175.431000   1.973   271.109999   1.982   \n",
       "315         233.823001   282.219000   248.098000   1.009   447.593000   0.997   \n",
       "316         120.926000   157.780000   134.505000  -0.029   240.361000  -0.036   \n",
       "321         523.051000   494.112001   450.871001   2.925   815.746000   2.919   \n",
       "322         375.769999   404.869999   362.180000   1.675   623.551000   1.622   \n",
       "323         140.482000   180.228000   136.286000   0.430   224.702000   0.429   \n",
       "324         139.981000   183.032000   169.723000  -1.134   374.987999  -1.141   \n",
       "325         852.212000  1187.343999  1004.495000  11.183  1667.044000  11.047   \n",
       "326         475.147000   554.362000   532.598000   8.853   781.869001   8.852   \n",
       "327         599.417001   658.386001   601.043001   4.346  1046.398001   4.404   \n",
       "331         573.407001   678.507000   698.787000   4.451   960.150000   4.495   \n",
       "332        1140.127999  1412.115001  1297.347000   4.444  2017.272002   4.447   \n",
       "333        1381.583000  1714.740001  1410.200999  -1.053  2284.469002  -1.067   \n",
       "334        1848.591997  1238.360000   857.327001  28.290  1206.528000  29.404   \n",
       "335         699.469000   870.838000   750.083001   9.358  1110.218000   9.359   \n",
       "336         982.516000  1057.966000   981.782000   8.669  1455.646998   8.684   \n",
       "337         424.996000   458.860000   405.309001   1.929   721.046000   1.928   \n",
       "339         545.331998   669.046000   548.929001   1.101   944.963999   1.098   \n",
       "\n",
       "                  tfp4  \n",
       "naics_cat               \n",
       "311        2375.716001  \n",
       "312         370.210000  \n",
       "313         349.892000  \n",
       "314         270.827000  \n",
       "315         447.979000  \n",
       "316         240.480000  \n",
       "321         815.277000  \n",
       "322         624.061000  \n",
       "323         224.681000  \n",
       "324         375.223999  \n",
       "325        1670.872000  \n",
       "326         782.041000  \n",
       "327        1037.902999  \n",
       "331         958.410999  \n",
       "332        2017.436000  \n",
       "333        2284.117000  \n",
       "334        1196.671001  \n",
       "335        1110.025999  \n",
       "336        1455.055999  \n",
       "337         720.937000  \n",
       "339         945.256999  "
      ]
     },
     "execution_count": 42,
     "metadata": {},
     "output_type": "execute_result"
    }
   ],
   "source": [
    "# Link to CSV file with all 3-digit NAICS codes and names\n",
    "url2 = 'https://raw.githubusercontent.com/yairg98/Data-Driven-Problem-Solving/main/Midterm%20Project/Part%202/naics_3-digit_codes.csv'\n",
    "\n",
    "# Create dataframe from 3-digit NAICS code CSV\n",
    "naics_df = pd.read_csv(url2)\n",
    "\n",
    "# Create dictionary with codes as keys and category names as values\n",
    "naics = dict(zip(naics_df.iloc[:,0], naics_df.iloc[:,1]))\n",
    "\n",
    "# Add column to main df with first 3 digits of NAICS code\n",
    "df['naics_cat'] = [int(str(code)[:3]) for code in df['naics']]\n",
    "df_cat = df.groupby(by=['naics_cat']).sum()\n",
    "\n"
   ]
  },
  {
   "cell_type": "markdown",
   "metadata": {},
   "source": [
    "## 5. Correlation Analysis"
   ]
  },
  {
   "cell_type": "code",
   "execution_count": null,
   "metadata": {},
   "outputs": [],
   "source": []
  }
 ],
 "metadata": {
  "interpreter": {
   "hash": "c8f9c7935954ecda090b096605207dfc43f100e2b4845c0167247acb59e9f9dd"
  },
  "kernelspec": {
   "display_name": "Python 3.9.7 ('base')",
   "language": "python",
   "name": "python3"
  },
  "language_info": {
   "codemirror_mode": {
    "name": "ipython",
    "version": 3
   },
   "file_extension": ".py",
   "mimetype": "text/x-python",
   "name": "python",
   "nbconvert_exporter": "python",
   "pygments_lexer": "ipython3",
   "version": "3.9.7"
  },
  "orig_nbformat": 4
 },
 "nbformat": 4,
 "nbformat_minor": 2
}
