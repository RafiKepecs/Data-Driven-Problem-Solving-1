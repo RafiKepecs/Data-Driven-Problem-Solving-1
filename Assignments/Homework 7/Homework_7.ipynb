{
  "cells": [
    {
      "cell_type": "markdown",
      "metadata": {
        "id": "AwDtXYbOD4VN"
      },
      "source": [
        "# Homework 7 - ME 364 (Spring 2022)"
      ]
    },
    {
      "cell_type": "markdown",
      "metadata": {
        "id": "bQhZVvY5D4VO"
      },
      "source": [
        "Use the BIKED dataset for the last homework assignment, also attached to this notebook for this in class assignment. Create a new dataset that only includes bike classes ROAD, MTB, TRACK, OTHER, DIRT JUMP, TOURING, CYCLOCROSS, and POLO."
      ]
    },
    {
      "cell_type": "markdown",
      "metadata": {
        "id": "bVyLDf2cD4VP"
      },
      "source": [
        "## <font color='red'>__Question__</font>:\n",
        "\n",
        "Use the methods we covered in class for feature selection and hyperparameter tuning to develop a Logistic Regression model and an SVM model. The goal here is to have each model perform better than the model you developed for homework 6. Compare the model outcome with what you got from the models you developed in homework 6. You don't need to re-create those models here. Just report their evaluation metrics from that notebook along with the evaluation metrics of your models developed here."
      ]
    },
    {
      "cell_type": "code",
      "source": [
        "# Suppress warnings (sklearn - \"max iterations reached\")\n",
        "import warnings\n",
        "warnings.filterwarnings('ignore')"
      ],
      "metadata": {
        "id": "3hj18SrlF-q-"
      },
      "execution_count": 60,
      "outputs": []
    },
    {
      "cell_type": "markdown",
      "metadata": {
        "id": "Llj-2MjGD4VP"
      },
      "source": [
        "### Prepare Data"
      ]
    },
    {
      "cell_type": "markdown",
      "metadata": {
        "id": "1ER2YKDbD4VQ"
      },
      "source": [
        "#### Import Data"
      ]
    },
    {
      "cell_type": "code",
      "execution_count": 61,
      "metadata": {
        "colab": {
          "base_uri": "https://localhost:8080/",
          "height": 369
        },
        "id": "S4Gzv762D4VQ",
        "outputId": "75f044a2-f08b-4f06-809d-dbbedad03d8a"
      },
      "outputs": [
        {
          "output_type": "execute_result",
          "data": {
            "text/plain": [
              "   SSSIDECX3  SSSIDECX2  SSSIDECX1  SSSIDECY2  SSSIDECY1  STEMBENDS  \\\n",
              "0   0.115968   0.213580   0.240722   0.173913   0.295455          0   \n",
              "1   0.115968   0.171084   0.199779   0.173913   0.295455          0   \n",
              "2   0.115968   0.267053   0.292434   0.173913   0.295455          0   \n",
              "3   0.115968   0.215305   0.242409   0.173913   0.295455          0   \n",
              "4   0.115968   0.233025   0.259668   0.173913   0.295455          0   \n",
              "\n",
              "   FRONTROTORBOLTS  Shoe up angle  Down tube front diameter  LRTHICK  ...  \\\n",
              "0             0.75       0.906475                  0.323077        0  ...   \n",
              "1             0.75       0.906475                  0.293077        0  ...   \n",
              "2             0.75       0.899281                  0.246154        0  ...   \n",
              "3             0.75       0.899281                  0.246154        0  ...   \n",
              "4             0.75       0.906475                  0.293077        0  ...   \n",
              "\n",
              "   Top tube type OHCLASS: 1  BRAZEonFDTYPE OHCLASS: FD9000F  \\\n",
              "0                         1                               1   \n",
              "1                         0                               1   \n",
              "2                         0                               1   \n",
              "3                         0                               1   \n",
              "4                         0                               1   \n",
              "\n",
              "   BRAZEonFDTYPE OHCLASS: FD9070F  CSAUX3_MM_RATIO OHCLASS: 0  \\\n",
              "0                               0                           1   \n",
              "1                               0                           1   \n",
              "2                               0                           1   \n",
              "3                               0                           1   \n",
              "4                               0                           1   \n",
              "\n",
              "   CSAUX3_MM_RATIO OHCLASS: 1  bottle SEATTUBE0 show OHCLASS: False  \\\n",
              "0                           0                                     1   \n",
              "1                           0                                     1   \n",
              "2                           0                                     1   \n",
              "3                           0                                     1   \n",
              "4                           0                                     1   \n",
              "\n",
              "   bottle SEATTUBE0 show OHCLASS: True  bottle DOWNTUBE0 show OHCLASS: False  \\\n",
              "0                                    0                                     1   \n",
              "1                                    0                                     1   \n",
              "2                                    0                                     1   \n",
              "3                                    0                                     1   \n",
              "4                                    0                                     1   \n",
              "\n",
              "   bottle DOWNTUBE0 show OHCLASS: True  Bicycle_Class  \n",
              "0                                    0           ROAD  \n",
              "1                                    0      DIRT_JUMP  \n",
              "2                                    0           POLO  \n",
              "3                                    0           ROAD  \n",
              "4                                    0      DIRT_JUMP  \n",
              "\n",
              "[5 rows x 2402 columns]"
            ],
            "text/html": [
              "\n",
              "  <div id=\"df-200f8ce2-e705-4b82-809c-3aeaa8e5513c\">\n",
              "    <div class=\"colab-df-container\">\n",
              "      <div>\n",
              "<style scoped>\n",
              "    .dataframe tbody tr th:only-of-type {\n",
              "        vertical-align: middle;\n",
              "    }\n",
              "\n",
              "    .dataframe tbody tr th {\n",
              "        vertical-align: top;\n",
              "    }\n",
              "\n",
              "    .dataframe thead th {\n",
              "        text-align: right;\n",
              "    }\n",
              "</style>\n",
              "<table border=\"1\" class=\"dataframe\">\n",
              "  <thead>\n",
              "    <tr style=\"text-align: right;\">\n",
              "      <th></th>\n",
              "      <th>SSSIDECX3</th>\n",
              "      <th>SSSIDECX2</th>\n",
              "      <th>SSSIDECX1</th>\n",
              "      <th>SSSIDECY2</th>\n",
              "      <th>SSSIDECY1</th>\n",
              "      <th>STEMBENDS</th>\n",
              "      <th>FRONTROTORBOLTS</th>\n",
              "      <th>Shoe up angle</th>\n",
              "      <th>Down tube front diameter</th>\n",
              "      <th>LRTHICK</th>\n",
              "      <th>...</th>\n",
              "      <th>Top tube type OHCLASS: 1</th>\n",
              "      <th>BRAZEonFDTYPE OHCLASS: FD9000F</th>\n",
              "      <th>BRAZEonFDTYPE OHCLASS: FD9070F</th>\n",
              "      <th>CSAUX3_MM_RATIO OHCLASS: 0</th>\n",
              "      <th>CSAUX3_MM_RATIO OHCLASS: 1</th>\n",
              "      <th>bottle SEATTUBE0 show OHCLASS: False</th>\n",
              "      <th>bottle SEATTUBE0 show OHCLASS: True</th>\n",
              "      <th>bottle DOWNTUBE0 show OHCLASS: False</th>\n",
              "      <th>bottle DOWNTUBE0 show OHCLASS: True</th>\n",
              "      <th>Bicycle_Class</th>\n",
              "    </tr>\n",
              "  </thead>\n",
              "  <tbody>\n",
              "    <tr>\n",
              "      <th>0</th>\n",
              "      <td>0.115968</td>\n",
              "      <td>0.213580</td>\n",
              "      <td>0.240722</td>\n",
              "      <td>0.173913</td>\n",
              "      <td>0.295455</td>\n",
              "      <td>0</td>\n",
              "      <td>0.75</td>\n",
              "      <td>0.906475</td>\n",
              "      <td>0.323077</td>\n",
              "      <td>0</td>\n",
              "      <td>...</td>\n",
              "      <td>1</td>\n",
              "      <td>1</td>\n",
              "      <td>0</td>\n",
              "      <td>1</td>\n",
              "      <td>0</td>\n",
              "      <td>1</td>\n",
              "      <td>0</td>\n",
              "      <td>1</td>\n",
              "      <td>0</td>\n",
              "      <td>ROAD</td>\n",
              "    </tr>\n",
              "    <tr>\n",
              "      <th>1</th>\n",
              "      <td>0.115968</td>\n",
              "      <td>0.171084</td>\n",
              "      <td>0.199779</td>\n",
              "      <td>0.173913</td>\n",
              "      <td>0.295455</td>\n",
              "      <td>0</td>\n",
              "      <td>0.75</td>\n",
              "      <td>0.906475</td>\n",
              "      <td>0.293077</td>\n",
              "      <td>0</td>\n",
              "      <td>...</td>\n",
              "      <td>0</td>\n",
              "      <td>1</td>\n",
              "      <td>0</td>\n",
              "      <td>1</td>\n",
              "      <td>0</td>\n",
              "      <td>1</td>\n",
              "      <td>0</td>\n",
              "      <td>1</td>\n",
              "      <td>0</td>\n",
              "      <td>DIRT_JUMP</td>\n",
              "    </tr>\n",
              "    <tr>\n",
              "      <th>2</th>\n",
              "      <td>0.115968</td>\n",
              "      <td>0.267053</td>\n",
              "      <td>0.292434</td>\n",
              "      <td>0.173913</td>\n",
              "      <td>0.295455</td>\n",
              "      <td>0</td>\n",
              "      <td>0.75</td>\n",
              "      <td>0.899281</td>\n",
              "      <td>0.246154</td>\n",
              "      <td>0</td>\n",
              "      <td>...</td>\n",
              "      <td>0</td>\n",
              "      <td>1</td>\n",
              "      <td>0</td>\n",
              "      <td>1</td>\n",
              "      <td>0</td>\n",
              "      <td>1</td>\n",
              "      <td>0</td>\n",
              "      <td>1</td>\n",
              "      <td>0</td>\n",
              "      <td>POLO</td>\n",
              "    </tr>\n",
              "    <tr>\n",
              "      <th>3</th>\n",
              "      <td>0.115968</td>\n",
              "      <td>0.215305</td>\n",
              "      <td>0.242409</td>\n",
              "      <td>0.173913</td>\n",
              "      <td>0.295455</td>\n",
              "      <td>0</td>\n",
              "      <td>0.75</td>\n",
              "      <td>0.899281</td>\n",
              "      <td>0.246154</td>\n",
              "      <td>0</td>\n",
              "      <td>...</td>\n",
              "      <td>0</td>\n",
              "      <td>1</td>\n",
              "      <td>0</td>\n",
              "      <td>1</td>\n",
              "      <td>0</td>\n",
              "      <td>1</td>\n",
              "      <td>0</td>\n",
              "      <td>1</td>\n",
              "      <td>0</td>\n",
              "      <td>ROAD</td>\n",
              "    </tr>\n",
              "    <tr>\n",
              "      <th>4</th>\n",
              "      <td>0.115968</td>\n",
              "      <td>0.233025</td>\n",
              "      <td>0.259668</td>\n",
              "      <td>0.173913</td>\n",
              "      <td>0.295455</td>\n",
              "      <td>0</td>\n",
              "      <td>0.75</td>\n",
              "      <td>0.906475</td>\n",
              "      <td>0.293077</td>\n",
              "      <td>0</td>\n",
              "      <td>...</td>\n",
              "      <td>0</td>\n",
              "      <td>1</td>\n",
              "      <td>0</td>\n",
              "      <td>1</td>\n",
              "      <td>0</td>\n",
              "      <td>1</td>\n",
              "      <td>0</td>\n",
              "      <td>1</td>\n",
              "      <td>0</td>\n",
              "      <td>DIRT_JUMP</td>\n",
              "    </tr>\n",
              "  </tbody>\n",
              "</table>\n",
              "<p>5 rows × 2402 columns</p>\n",
              "</div>\n",
              "      <button class=\"colab-df-convert\" onclick=\"convertToInteractive('df-200f8ce2-e705-4b82-809c-3aeaa8e5513c')\"\n",
              "              title=\"Convert this dataframe to an interactive table.\"\n",
              "              style=\"display:none;\">\n",
              "        \n",
              "  <svg xmlns=\"http://www.w3.org/2000/svg\" height=\"24px\"viewBox=\"0 0 24 24\"\n",
              "       width=\"24px\">\n",
              "    <path d=\"M0 0h24v24H0V0z\" fill=\"none\"/>\n",
              "    <path d=\"M18.56 5.44l.94 2.06.94-2.06 2.06-.94-2.06-.94-.94-2.06-.94 2.06-2.06.94zm-11 1L8.5 8.5l.94-2.06 2.06-.94-2.06-.94L8.5 2.5l-.94 2.06-2.06.94zm10 10l.94 2.06.94-2.06 2.06-.94-2.06-.94-.94-2.06-.94 2.06-2.06.94z\"/><path d=\"M17.41 7.96l-1.37-1.37c-.4-.4-.92-.59-1.43-.59-.52 0-1.04.2-1.43.59L10.3 9.45l-7.72 7.72c-.78.78-.78 2.05 0 2.83L4 21.41c.39.39.9.59 1.41.59.51 0 1.02-.2 1.41-.59l7.78-7.78 2.81-2.81c.8-.78.8-2.07 0-2.86zM5.41 20L4 18.59l7.72-7.72 1.47 1.35L5.41 20z\"/>\n",
              "  </svg>\n",
              "      </button>\n",
              "      \n",
              "  <style>\n",
              "    .colab-df-container {\n",
              "      display:flex;\n",
              "      flex-wrap:wrap;\n",
              "      gap: 12px;\n",
              "    }\n",
              "\n",
              "    .colab-df-convert {\n",
              "      background-color: #E8F0FE;\n",
              "      border: none;\n",
              "      border-radius: 50%;\n",
              "      cursor: pointer;\n",
              "      display: none;\n",
              "      fill: #1967D2;\n",
              "      height: 32px;\n",
              "      padding: 0 0 0 0;\n",
              "      width: 32px;\n",
              "    }\n",
              "\n",
              "    .colab-df-convert:hover {\n",
              "      background-color: #E2EBFA;\n",
              "      box-shadow: 0px 1px 2px rgba(60, 64, 67, 0.3), 0px 1px 3px 1px rgba(60, 64, 67, 0.15);\n",
              "      fill: #174EA6;\n",
              "    }\n",
              "\n",
              "    [theme=dark] .colab-df-convert {\n",
              "      background-color: #3B4455;\n",
              "      fill: #D2E3FC;\n",
              "    }\n",
              "\n",
              "    [theme=dark] .colab-df-convert:hover {\n",
              "      background-color: #434B5C;\n",
              "      box-shadow: 0px 1px 3px 1px rgba(0, 0, 0, 0.15);\n",
              "      filter: drop-shadow(0px 1px 2px rgba(0, 0, 0, 0.3));\n",
              "      fill: #FFFFFF;\n",
              "    }\n",
              "  </style>\n",
              "\n",
              "      <script>\n",
              "        const buttonEl =\n",
              "          document.querySelector('#df-200f8ce2-e705-4b82-809c-3aeaa8e5513c button.colab-df-convert');\n",
              "        buttonEl.style.display =\n",
              "          google.colab.kernel.accessAllowed ? 'block' : 'none';\n",
              "\n",
              "        async function convertToInteractive(key) {\n",
              "          const element = document.querySelector('#df-200f8ce2-e705-4b82-809c-3aeaa8e5513c');\n",
              "          const dataTable =\n",
              "            await google.colab.kernel.invokeFunction('convertToInteractive',\n",
              "                                                     [key], {});\n",
              "          if (!dataTable) return;\n",
              "\n",
              "          const docLinkHtml = 'Like what you see? Visit the ' +\n",
              "            '<a target=\"_blank\" href=https://colab.research.google.com/notebooks/data_table.ipynb>data table notebook</a>'\n",
              "            + ' to learn more about interactive tables.';\n",
              "          element.innerHTML = '';\n",
              "          dataTable['output_type'] = 'display_data';\n",
              "          await google.colab.output.renderOutput(dataTable, element);\n",
              "          const docLink = document.createElement('div');\n",
              "          docLink.innerHTML = docLinkHtml;\n",
              "          element.appendChild(docLink);\n",
              "        }\n",
              "      </script>\n",
              "    </div>\n",
              "  </div>\n",
              "  "
            ]
          },
          "metadata": {},
          "execution_count": 61
        }
      ],
      "source": [
        "import pandas as pd\n",
        "\n",
        "url = 'https://raw.githubusercontent.com/yairg98/Data-Driven-Problem-Solving/main/Assignments/Homework%207/Biked_Dataset_Reduced.csv'\n",
        "df = pd.read_csv(url)\n",
        "\n",
        "df.head()"
      ]
    },
    {
      "cell_type": "markdown",
      "metadata": {
        "id": "Ox0qpZEXD4VR"
      },
      "source": [
        "#### Filter Data"
      ]
    },
    {
      "cell_type": "code",
      "execution_count": 62,
      "metadata": {
        "id": "SIm1AcJ0D4VS"
      },
      "outputs": [],
      "source": [
        "# Limit data to list of included Bicycle_Class values from HW6\n",
        "\n",
        "included = ['ROAD', 'MTB', 'TRACK', 'OTHER', 'DIRT_JUMP', 'TOURING', 'CYCLOCROSS', 'POLO']\n",
        "df = df[df['Bicycle_Class'].isin(included)]"
      ]
    },
    {
      "cell_type": "code",
      "execution_count": 63,
      "metadata": {
        "id": "PUzSPD3LD4VS"
      },
      "outputs": [],
      "source": [
        "# Limit data to target (Bicycle_Class) and 50 most predictive features\n",
        "\n",
        "from sklearn.linear_model import LogisticRegression\n",
        "from sklearn.preprocessing import MinMaxScaler\n",
        "import numpy as np\n",
        "\n",
        "model = LogisticRegression ( multi_class='multinomial' )\n",
        "X = np.array(df.iloc[:,:-1])\n",
        "MinMaxscaler = MinMaxScaler( ) # define min-max scaler\n",
        "X_in = MinMaxscaler.fit_transform(X) # transform data\n",
        "y = np.array(df['Bicycle_Class'] )\n",
        "\n",
        "# fit the model\n",
        "model.fit(X_in , y)\n",
        "\n",
        "# get importance\n",
        "importance = model.coef_[0]\n",
        "\n",
        "# Top 50 important features\n",
        "import numpy as np\n",
        "importanceABS = np.abs( importance )\n",
        "importanceABS.argsort()[-250:] [: :-1]\n",
        "\n",
        "# Limit to only top 50 important features\n",
        "top_50 = df.columns[importanceABS.argsort( )[-50: ][::-1]]\n",
        "df = df[list(top_50)+['Bicycle_Class']]"
      ]
    },
    {
      "cell_type": "markdown",
      "metadata": {
        "id": "2WDtczpiD4VT"
      },
      "source": [
        "#### Normalize and Split Data"
      ]
    },
    {
      "cell_type": "code",
      "execution_count": 64,
      "metadata": {
        "id": "i2-ssB5ND4VT"
      },
      "outputs": [],
      "source": [
        "from sklearn.model_selection import train_test_split\n",
        "from sklearn.preprocessing import MinMaxScaler\n",
        "import numpy as np\n",
        "\n",
        "# Select x and y data for logistic regression classifier\n",
        "x_data=np.array(df.loc[:, df.columns!='Bicycle_Class'])\n",
        "y_data=df['Bicycle_Class']\n",
        "\n",
        "# Normalize the data\n",
        "MinMaxscaler = MinMaxScaler()  # define min max scaler\n",
        "x_data_scaled = MinMaxscaler.fit_transform(x_data)  # transform data\n",
        "\n",
        "# Split data into training and testing sets\n",
        "x_train,x_test,y_train,y_test=train_test_split(x_data_scaled,y_data,test_size=0.25)"
      ]
    },
    {
      "cell_type": "markdown",
      "source": [
        "### Feature Selection"
      ],
      "metadata": {
        "id": "a64f8df9EyCg"
      }
    },
    {
      "cell_type": "code",
      "execution_count": 65,
      "metadata": {
        "id": "P90-5KY2D4VU",
        "colab": {
          "base_uri": "https://localhost:8080/"
        },
        "outputId": "029863da-ee57-45f9-a8ac-70a3542b7038"
      },
      "outputs": [
        {
          "output_type": "stream",
          "name": "stdout",
          "text": [
            "BEND_POSITION\n",
            "FRONTROTOR_INCLUDE\n",
            "Fit scheme OHCLASS: MTB\n",
            "Fork type OHCLASS: 0\n",
            "Handlebar style OHCLASS: 1\n",
            "Number of cogs\n",
            "REARROTOR_INCLUDE\n",
            "REARbrake kind OHCLASS: 0\n",
            "Seat tube type OHCLASS: 0\n",
            "THRU_AXLE\n"
          ]
        }
      ],
      "source": [
        "from sklearn.linear_model import LogisticRegression\n",
        "from sklearn.model_selection import StratifiedKFold\n",
        "from sklearn.feature_selection import RFE\n",
        "\n",
        "# define the method\n",
        "n = 10\n",
        "rfe = RFE(estimator=LogisticRegression(), n_features_to_select=n);\n",
        "# fit the model\n",
        "rfe.fit(x_train, y_train);\n",
        "\n",
        "top_n = [feature[1] for feature in sorted(zip(rfe.ranking_,top_50))[:n]]\n",
        "print(*top_n, sep='\\n')"
      ]
    },
    {
      "cell_type": "code",
      "source": [
        "# Select x and y data for logistic regression classifier\n",
        "x_data=np.array(df.loc[:, top_n])\n",
        "y_data=df['Bicycle_Class']\n",
        "\n",
        "# Normalize the data\n",
        "MinMaxscaler = MinMaxScaler()  # define min max scaler\n",
        "x_data_scaled = MinMaxscaler.fit_transform(x_data)  # transform data\n",
        "\n",
        "# Split data into training and testing sets\n",
        "x_train,x_test,y_train,y_test=train_test_split(x_data_scaled,y_data,test_size=0.25)"
      ],
      "metadata": {
        "id": "9S-MIZn4N3Js"
      },
      "execution_count": 66,
      "outputs": []
    },
    {
      "cell_type": "markdown",
      "metadata": {
        "id": "UG1Y3wgJD4VU"
      },
      "source": [
        "### Logistic Regression Classifier"
      ]
    },
    {
      "cell_type": "markdown",
      "source": [
        "#### Hyperparameter Tuning (Randomized Search)"
      ],
      "metadata": {
        "id": "WEykJRPyE1e2"
      }
    },
    {
      "cell_type": "code",
      "source": [
        "import warnings\n",
        "warnings.filterwarnings(\"ignore\")\n",
        "\n",
        "from sklearn.model_selection import RandomizedSearchCV\n",
        "\n",
        "# define model\n",
        "model = LogisticRegression()\n",
        "\n",
        "# define evaluation\n",
        "cv = StratifiedKFold(n_splits=10, random_state=1, shuffle=True)\n",
        "\n",
        "space = dict()\n",
        "space['solver'] = ['newton-cg', 'lbfgs', 'liblinear']\n",
        "space['penalty'] = ['none', 'l1', 'l2', 'elasticnet']\n",
        "space['C'] = [1e-6, 5e-6, 1e-5, 5e-5, 1e-4, 5e-4, 1e-3, 5e-3, 1e-2, \n",
        "              5e-2, 1e-1, 5e-1, 1, 5, 10, 50, 100, 500, 10000]\n",
        "\n",
        "# define search\n",
        "search = RandomizedSearchCV(model, space, n_iter=20, scoring='accuracy', n_jobs=-1, cv=cv, random_state=1)\n",
        "\n",
        "# execute search\n",
        "result = search.fit(x_train, y_train)\n",
        "\n",
        "# summarize result\n",
        "print(f'Best Score: {result.best_score_}')\n",
        "print(f'Best Hyperparameters: {result.best_params_}')"
      ],
      "metadata": {
        "colab": {
          "base_uri": "https://localhost:8080/"
        },
        "id": "_vgFmWHtElUn",
        "outputId": "9275a711-d81c-4032-aada-8dcd76a432a4"
      },
      "execution_count": 67,
      "outputs": [
        {
          "output_type": "stream",
          "name": "stdout",
          "text": [
            "Best Score: 0.6657825716346469\n",
            "Best Hyperparameters: {'solver': 'lbfgs', 'penalty': 'none', 'C': 10}\n"
          ]
        }
      ]
    },
    {
      "cell_type": "code",
      "source": [
        "from sklearn.metrics import accuracy_score\n",
        "from sklearn.metrics import confusion_matrix\n",
        "from sklearn.metrics import f1_score\n",
        "from sklearn.metrics import jaccard_score\n",
        "from sklearn.metrics import ConfusionMatrixDisplay\n",
        "import matplotlib.pyplot as plt\n",
        "\n",
        "# Make predictions\n",
        "yhatTest=result.predict(x_test)\n",
        "yhatTrain=result.predict(x_train)\n",
        "\n",
        "# Accuracy score\n",
        "acc_scoreTrain = accuracy_score(y_train,yhatTrain)\n",
        "acc_scoreTest = accuracy_score(y_test,yhatTest)\n",
        "print(f'The accuracy for training data is {acc_scoreTrain:0.3f}')\n",
        "print(f'The accuracy for the test data is {acc_scoreTest:0.3f}')\n",
        "\n",
        "print(\"-\"*40)\n",
        "\n",
        "# Calculate Jaccard index\n",
        "J_scoreTrain = jaccard_score(y_train,yhatTrain, average='micro')\n",
        "J_scoreTest = jaccard_score(y_test,yhatTest, average='micro')\n",
        "print(f'Jaccard index for training data: {J_scoreTrain:0.3f}')\n",
        "print(f'Jaccard index for testing data: {J_scoreTest:.3f}')\n",
        "\n",
        "print(\"-\"*40)\n",
        "\n",
        "# Calculate F-score\n",
        "F_scoreTrain = f1_score(y_train,yhatTrain, average='micro')\n",
        "F_scoreTest = f1_score(y_test,yhatTest, average='micro')\n",
        "print(f'F-score for training data is {F_scoreTrain:0.3f}')\n",
        "print(f'F-score for testing data is {F_scoreTest:0.3f}')"
      ],
      "metadata": {
        "colab": {
          "base_uri": "https://localhost:8080/"
        },
        "id": "v8trdtkqX3-g",
        "outputId": "b88db44d-519e-4b20-a2b0-5abcebd1f708"
      },
      "execution_count": 68,
      "outputs": [
        {
          "output_type": "stream",
          "name": "stdout",
          "text": [
            "The accuracy for training data is 0.670\n",
            "The accuracy for the test data is 0.663\n",
            "----------------------------------------\n",
            "Jaccard index for training data: 0.504\n",
            "Jaccard index for testing data: 0.496\n",
            "----------------------------------------\n",
            "F-score for training data is 0.670\n",
            "F-score for testing data is 0.663\n"
          ]
        }
      ]
    },
    {
      "cell_type": "markdown",
      "metadata": {
        "id": "iQ8Zdoc-D4VV"
      },
      "source": [
        "### SVM Classifier"
      ]
    },
    {
      "cell_type": "markdown",
      "source": [
        "#### Hyperparameter Tuning (Randomized Search)"
      ],
      "metadata": {
        "id": "LtV6ixdFJWob"
      }
    },
    {
      "cell_type": "code",
      "execution_count": 69,
      "metadata": {
        "colab": {
          "base_uri": "https://localhost:8080/"
        },
        "id": "zpeNj0cOD4VV",
        "outputId": "b7f563b2-622f-4466-f48d-c3b1d9775a27"
      },
      "outputs": [
        {
          "output_type": "stream",
          "name": "stdout",
          "text": [
            "Best Score: 0.6733962800253536\n",
            "Best Hyperparameters: {'gamma': 0.05, 'C': 1000}\n"
          ]
        }
      ],
      "source": [
        "import warnings\n",
        "warnings.filterwarnings(\"ignore\")\n",
        "\n",
        "from sklearn.model_selection import RandomizedSearchCV\n",
        "from sklearn.svm import SVC\n",
        "\n",
        "# define model\n",
        "model = SVC()\n",
        "\n",
        "# define evaluation\n",
        "cv = StratifiedKFold(n_splits=10, random_state=1, shuffle=True)\n",
        "\n",
        "# define search space\n",
        "space = dict()\n",
        "#space['kernel'] = ['rbf', 'poly']\n",
        "space['gamma'] = [0.1, .05, 0.01, 0.005]\n",
        "space['C'] = [10, 100, 500, 1000]\n",
        "\n",
        "# define search\n",
        "search = RandomizedSearchCV(model, space, n_iter=10, scoring='accuracy', n_jobs=-1, cv=cv, random_state=1)\n",
        "\n",
        "# execute search\n",
        "result = search.fit(x_train, y_train)\n",
        "\n",
        "# summarize result\n",
        "print(f'Best Score: {result.best_score_}')\n",
        "print(f'Best Hyperparameters: {result.best_params_}')"
      ]
    },
    {
      "cell_type": "code",
      "source": [
        "# Make predictions\n",
        "yhatTest=result.predict(x_test)\n",
        "yhatTrain=result.predict(x_train)\n",
        "\n",
        "# Accuracy score\n",
        "acc_scoreTrain = accuracy_score(y_train,yhatTrain)\n",
        "acc_scoreTest = accuracy_score(y_test,yhatTest)\n",
        "print(f'The accuracy for training data is {acc_scoreTrain:0.3f}')\n",
        "print(f'The accuracy for the test data is {acc_scoreTest:0.3f}')\n",
        "\n",
        "print(\"-\"*40)\n",
        "\n",
        "# Calculate Jaccard index\n",
        "J_scoreTrain = jaccard_score(y_train,yhatTrain, average='micro')\n",
        "J_scoreTest = jaccard_score(y_test,yhatTest, average='micro')\n",
        "print(f'Jaccard index for training data: {J_scoreTrain:0.3f}')\n",
        "print(f'Jaccard index for testing data: {J_scoreTest:.3f}')\n",
        "\n",
        "print(\"-\"*40)\n",
        "\n",
        "# Calculate F-score\n",
        "F_scoreTrain = f1_score(y_train,yhatTrain, average='micro')\n",
        "F_scoreTest = f1_score(y_test,yhatTest, average='micro')\n",
        "print(f'F-score for training data is {F_scoreTrain:0.3f}')\n",
        "print(f'F-score for testing data is {F_scoreTest:0.3f}')"
      ],
      "metadata": {
        "colab": {
          "base_uri": "https://localhost:8080/"
        },
        "id": "0UO8JB8oXZhw",
        "outputId": "011b954f-63cc-4fee-af8b-4f326ad7b2b7"
      },
      "execution_count": 70,
      "outputs": [
        {
          "output_type": "stream",
          "name": "stdout",
          "text": [
            "The accuracy for training data is 0.705\n",
            "The accuracy for the test data is 0.676\n",
            "----------------------------------------\n",
            "Jaccard index for training data: 0.544\n",
            "Jaccard index for testing data: 0.510\n",
            "----------------------------------------\n",
            "F-score for training data is 0.705\n",
            "F-score for testing data is 0.676\n"
          ]
        }
      ]
    },
    {
      "cell_type": "markdown",
      "source": [
        "After re-running both hyperparameter tunings with different search spaces and\n",
        "after recursively eliminating different numbers of features. The results\n",
        "peaked at an accuracy of approximately 70% in those trials, representing a slight decline from the results in homework 6, which were in the low 70% range.\n",
        "However, for homework 6 I manually adjusted the parameters to find the ones that worked best, not realizing we would have to compare it later."
      ],
      "metadata": {
        "id": "8VEadetwWsYL"
      }
    }
  ],
  "metadata": {
    "interpreter": {
      "hash": "fb72153cf54ad77d82f8164c4a554839638aadec43f56da798779a40d43ee9cc"
    },
    "kernelspec": {
      "display_name": "Python 3.9.5 ('base')",
      "language": "python",
      "name": "python3"
    },
    "language_info": {
      "codemirror_mode": {
        "name": "ipython",
        "version": 3
      },
      "file_extension": ".py",
      "mimetype": "text/x-python",
      "name": "python",
      "nbconvert_exporter": "python",
      "pygments_lexer": "ipython3",
      "version": "3.9.7"
    },
    "orig_nbformat": 4,
    "colab": {
      "name": "Homework_7.ipynb",
      "provenance": []
    }
  },
  "nbformat": 4,
  "nbformat_minor": 0
}