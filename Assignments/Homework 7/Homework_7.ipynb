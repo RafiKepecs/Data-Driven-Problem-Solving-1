{
 "cells": [
  {
   "cell_type": "markdown",
   "metadata": {},
   "source": [
    "# Homework 8 - ME 364 (Spring 2022)"
   ]
  },
  {
   "cell_type": "markdown",
   "metadata": {},
   "source": [
    "Use the BIKED dataset for the last homework assignment, also attached to this notebook for this in class assignment. Create a new dataset that only includes bike classes ROAD, MTB, TRACK, OTHER, DIRT JUMP, TOURING, CYCLOCROSS, and POLO."
   ]
  },
  {
   "cell_type": "markdown",
   "metadata": {},
   "source": [
    "<font color='red'>__Question__</font>: Use the methods we covered in class for feature selection and hyperparameter tuning to develop a Logistic Regression model and an SVM model. The goal here is to have each model perform better than the model you developed for homework 6. Compare the model outcome with what you got from the models you developed in homework 6. You don't need to re-create those models here. Just report their evaluation metrics from that notebook along with the evaluation metrics of your models developed here."
   ]
  },
  {
   "cell_type": "code",
   "execution_count": null,
   "metadata": {},
   "outputs": [],
   "source": []
  }
 ],
 "metadata": {
  "interpreter": {
   "hash": "fb72153cf54ad77d82f8164c4a554839638aadec43f56da798779a40d43ee9cc"
  },
  "kernelspec": {
   "display_name": "Python 3.9.5 ('base')",
   "language": "python",
   "name": "python3"
  },
  "language_info": {
   "name": "python",
   "version": "3.9.5"
  },
  "orig_nbformat": 4
 },
 "nbformat": 4,
 "nbformat_minor": 2
}
