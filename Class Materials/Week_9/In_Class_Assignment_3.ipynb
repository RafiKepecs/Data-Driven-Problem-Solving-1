{
 "cells": [
  {
   "cell_type": "markdown",
   "metadata": {},
   "source": [
    "# In Class Assignment 3 - ME 364 (Spring 2022)"
   ]
  },
  {
   "cell_type": "markdown",
   "metadata": {},
   "source": [
    "<font color='red'>__Question (1)__ </font>: Fit the function $y=\\frac{\\sqrt{4ax+1}-1}{2b}$, where $a$ and $b$ are constants, to 0.1 percent strain per second data set. Follow the steps described above to find the coefficients and print them and also plot the training data, test data, and fitted line on the same plot.\n",
    "\n",
    "Evaluate the model you developed and compare its mean squared error and r-squared score with the second model developed in the class notebook."
   ]
  },
  {
   "cell_type": "code",
   "execution_count": null,
   "metadata": {},
   "outputs": [],
   "source": [
    "\n"
   ]
  },
  {
   "cell_type": "markdown",
   "metadata": {},
   "source": [
    "<font color='red'>__Question (2)__</font>: Train a regression model with a 3rd degree polynomial to predict elongation using tensile strength (tension strength). Follow the steps in the class notebook to print the coefficients and plot the fitted line, training data, and test data on the same plot.\n",
    "\n",
    "Find the relative squared error for both test data and training data for the model you developed. \n"
   ]
  },
  {
   "cell_type": "code",
   "execution_count": null,
   "metadata": {},
   "outputs": [],
   "source": []
  }
 ],
 "metadata": {
  "interpreter": {
   "hash": "fb72153cf54ad77d82f8164c4a554839638aadec43f56da798779a40d43ee9cc"
  },
  "kernelspec": {
   "display_name": "Python 3.9.5 ('base')",
   "language": "python",
   "name": "python3"
  },
  "language_info": {
   "name": "python",
   "version": "3.9.5"
  },
  "orig_nbformat": 4
 },
 "nbformat": 4,
 "nbformat_minor": 2
}
