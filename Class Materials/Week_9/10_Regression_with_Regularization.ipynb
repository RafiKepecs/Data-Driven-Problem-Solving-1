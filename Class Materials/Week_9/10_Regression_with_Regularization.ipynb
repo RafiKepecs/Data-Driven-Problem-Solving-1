{
  "cells": [
    {
      "cell_type": "markdown",
      "metadata": {
        "id": "jP3S6br8LU8V"
      },
      "source": [
        "# Ridge and Lasso Regressions\n"
      ]
    },
    {
      "cell_type": "markdown",
      "metadata": {
        "id": "Zuy53SmSbV6F"
      },
      "source": [
        "Let's bring our 3D printer data set and use that for model development.\n",
        "\n",
        "Parameters:\n",
        "\n",
        "- Layer Height (mm)\n",
        "\n",
        "- Wall Thickness (mm)\n",
        "\n",
        "- Infill Density (%)\n",
        "\n",
        "- Infill Pattern ()\n",
        "\n",
        "- Nozzle Temperature (Cº)\n",
        "\n",
        "- Bed Temperature (Cº)\n",
        "\n",
        "- Print Speed (mm/s)\n",
        "\n",
        "- Material ()\n",
        "\n",
        "- Fan Speed\n",
        "\n",
        "- Roughness (µm)\n",
        "\n",
        "- Tnesile (ultimate) Strenght (MPa)\n",
        "\n",
        "- Elongation (%) \n"
      ]
    },
    {
      "cell_type": "code",
      "execution_count": null,
      "metadata": {
        "id": "wc_LclYlRrYL"
      },
      "outputs": [],
      "source": [
        "import pandas as pd\n",
        "\n",
        "url = 'https://raw.githubusercontent.com/MasoudMiM/ME_364/main/3D_Printer_Data/3DPrinterDataset.csv'   # Link to the 3D printer data set\n",
        "df = pd.read_csv(url)\n",
        "\n",
        "df.head()"
      ]
    },
    {
      "cell_type": "markdown",
      "metadata": {
        "id": "0B2oa6KKc9C-"
      },
      "source": [
        "Let try to develop the models to predict the roughness using multiple features."
      ]
    },
    {
      "cell_type": "markdown",
      "metadata": {
        "id": "d3f2L5_UdiMO"
      },
      "source": [
        "importing required modules and functions as well as defining the variables."
      ]
    },
    {
      "cell_type": "code",
      "execution_count": null,
      "metadata": {
        "id": "3ygE3w0ndqsF"
      },
      "outputs": [],
      "source": [
        "from sklearn.linear_model import LinearRegression\n",
        "from sklearn.linear_model import Ridge\n",
        "from sklearn.linear_model import Lasso\n",
        "from sklearn.model_selection import train_test_split\n",
        "import numpy as np"
      ]
    },
    {
      "cell_type": "code",
      "execution_count": null,
      "metadata": {
        "id": "z0CsZkyxdsYl"
      },
      "outputs": [],
      "source": [
        "predictors = ['layer_height', 'wall_thickness', 'nozzle_temperature', 'bed_temperature', 'print_speed', 'fan_speed']\n",
        "x_data=np.array(df[predictors])\n",
        "y_data=np.array(df[['roughness']])"
      ]
    },
    {
      "cell_type": "markdown",
      "metadata": {
        "id": "_RmnvmQReNQ0"
      },
      "source": [
        "splitting the data into test and train data"
      ]
    },
    {
      "cell_type": "code",
      "execution_count": null,
      "metadata": {
        "id": "c6720wVAfFPy"
      },
      "outputs": [],
      "source": [
        "x_train,x_test,y_train,y_test=train_test_split(x_data, y_data, test_size=0.2, random_state=200)"
      ]
    },
    {
      "cell_type": "markdown",
      "metadata": {
        "id": "xEjVKP1dfnnZ"
      },
      "source": [
        "create a ridge regression and linear regression instances"
      ]
    },
    {
      "cell_type": "code",
      "execution_count": null,
      "metadata": {
        "id": "XlPlsTzIfujp"
      },
      "outputs": [],
      "source": [
        "lrg = Ridge(alpha=0.2)\n",
        "lso = Lasso(alpha=0.2)\n",
        "lrm = LinearRegression()"
      ]
    },
    {
      "cell_type": "markdown",
      "metadata": {
        "id": "4vq9UNYzfqoJ"
      },
      "source": [
        "use the fit function to fit the models to the training data and find the weights"
      ]
    },
    {
      "cell_type": "code",
      "execution_count": null,
      "metadata": {},
      "outputs": [],
      "source": [
        "lrg.fit(x_train, y_train)\n",
        "lso.fit(x_train, y_train)\n",
        "lrm.fit(x_train, y_train)"
      ]
    },
    {
      "cell_type": "code",
      "execution_count": null,
      "metadata": {
        "id": "OKljEoIBf7bK"
      },
      "outputs": [],
      "source": [
        "print(\"For linear regression\", 20*\"-\")\n",
        "# printing the coefficients - linear regression\n",
        "print(f\"Bias term is {lrm.intercept_[0]:0.3f}\")\n",
        "for count, coef in enumerate(lrm.coef_[0]):\n",
        "    print(f\"{predictors[count]} - w_{count+1}={coef:0.3f}\")\n",
        "\n",
        "# printing the coefficients - lasso regression\n",
        "print(\"\\nFor lasso regression\", 20*\"-\")\n",
        "print(f\"Bias term is {lso.intercept_[0]:0.3f}\")\n",
        "for count, coef in enumerate(lso.coef_):\n",
        "    print(f\"{predictors[count]} - w_{count+1}={coef:0.3f}\")\n",
        "\n",
        "# printing the coefficients - ridge regression\n",
        "print(\"\\nFor ridge regression\", 20*\"-\")\n",
        "print(f\"Bias term is {lrg.intercept_[0]:0.3f}\")\n",
        "for count, coef in enumerate(lrg.coef_[0]):\n",
        "    print(f\"{predictors[count]} - w_{count+1}={coef:0.3f}\")\n"
      ]
    },
    {
      "cell_type": "markdown",
      "metadata": {
        "id": "3wJT7ptJxxFR"
      },
      "source": [
        "make predictions"
      ]
    },
    {
      "cell_type": "code",
      "execution_count": null,
      "metadata": {
        "id": "CwY-4a15x0DW"
      },
      "outputs": [],
      "source": [
        "yhat_tr_lr=lrm.predict(x_test)   # using test data\n",
        "yhat_ts_lr=lrm.predict(x_train) # using training data\n",
        "\n",
        "yhat_tr_rg=lrg.predict(x_test)   # using test data\n",
        "yhat_ts_rg=lrg.predict(x_train) # using training data\n",
        "\n",
        "yhat_tr_ls=lso.predict(x_test)   # using test data\n",
        "yhat_ts_ls=lso.predict(x_train) # using training data\n"
      ]
    },
    {
      "cell_type": "markdown",
      "metadata": {
        "id": "8VvXVYysRuWj"
      },
      "source": [
        "Let us evaluate our models using relative squared error (RSE)"
      ]
    },
    {
      "cell_type": "code",
      "execution_count": null,
      "metadata": {
        "id": "7YURiMolwnlV"
      },
      "outputs": [],
      "source": [
        "from sklearn.metrics import r2_score\n",
        "\n",
        "print(\"For linear regression\")\n",
        "## Evaluation using test data\n",
        "rse2ndp_test_lr = 1-r2_score(y_test, yhat_tr_lr)\n",
        "print('The value of RSE for test data is: %.2f' %rse2ndp_test_lr)\n",
        "# Evaluation using train data\n",
        "rse2ndp_train_lr = 1-r2_score(y_train, yhat_ts_lr)\n",
        "print('The value of RSE for training data is: %.2f' %rse2ndp_train_lr)\n",
        "\n",
        "print(\"\\nFor lasso regression\")\n",
        "## Evaluation using test data\n",
        "rse2ndp_test_lso = 1-r2_score(y_test, yhat_tr_ls)\n",
        "print('The value of RSE for test data is: %.2f' %rse2ndp_test_lso)\n",
        "# Evaluation using train data\n",
        "rse2ndp_train_lso = 1-r2_score(y_train, yhat_ts_ls)\n",
        "print('The value of RSE for training data is: %.2f' %rse2ndp_train_lso)\n",
        "\n",
        "\n",
        "print(\"\\nFor ridge regression\")\n",
        "## Evaluation using test data\n",
        "rse2ndp_test_rg = 1-r2_score(y_test, yhat_tr_rg)\n",
        "print('The value of RSE for test data is: %.2f' %rse2ndp_test_rg)\n",
        "# Evaluation using train data\n",
        "rse2ndp_train_rg = 1-r2_score(y_train, yhat_ts_rg)\n",
        "print('The value of RSE for training data is: %.2f' %rse2ndp_train_rg)"
      ]
    },
    {
      "cell_type": "code",
      "execution_count": null,
      "metadata": {},
      "outputs": [],
      "source": [
        "import matplotlib.pyplot as plt\n",
        "# generating the labels\n",
        "xlabel =[]\n",
        "for v in range(len(lrg.coef_[0])):\n",
        "    xlabel.append(predictors[v])\n",
        "\n",
        "# --------- plotting the weights\n",
        "# Setting the font size\n",
        "plt.rcParams.update({'font.size': 10})\n",
        "# Putting the weights into a dataframe\n",
        "df_wt = pd.DataFrame({'Linear':lrm.coef_[0], 'Ridge':lrg.coef_[0], 'Lasso':lso.coef_})\n",
        "# Plotting the weights\n",
        "fig=df_wt.plot.bar( figsize=(18,7) )\n",
        "plt.xlabel(\"Weights\")\n",
        "plt.ylabel(\"Amplitude\")\n",
        "plt.xticks(rotation = 0)\n",
        "plt.xticks(np.arange(len(lrg.coef_[0])), xlabel)\n",
        "plt.grid(b=True) "
      ]
    }
  ],
  "metadata": {
    "colab": {
      "collapsed_sections": [],
      "name": "9_NonLinear_Regression.ipynb",
      "provenance": []
    },
    "kernelspec": {
      "display_name": "Python 3",
      "name": "python3"
    },
    "language_info": {
      "codemirror_mode": {
        "name": "ipython",
        "version": 3
      },
      "file_extension": ".py",
      "mimetype": "text/x-python",
      "name": "python",
      "nbconvert_exporter": "python",
      "pygments_lexer": "ipython3",
      "version": "3.9.5"
    }
  },
  "nbformat": 4,
  "nbformat_minor": 0
}
