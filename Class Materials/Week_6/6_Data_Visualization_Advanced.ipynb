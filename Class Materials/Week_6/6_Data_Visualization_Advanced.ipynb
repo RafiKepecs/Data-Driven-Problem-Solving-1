{
  "cells": [
    {
      "cell_type": "markdown",
      "metadata": {
        "id": "DMPa-QIuFkk0"
      },
      "source": [
        "# Advanced Data Visualization \n",
        "\n",
        "## Table of Contents\n",
        "\n",
        "1. [**Introduction**](#Intro)\n",
        "2. [**Pie Charts**](#pie)\n",
        "3. [**Bubble Charts**](#bubble)\n",
        "4. [**Maps**](#maps)\n",
        "5. [**Contour Plots**](#conplt)\n",
        "6. [**3D Plots**](#3dplt)"
      ]
    },
    {
      "cell_type": "markdown",
      "metadata": {
        "id": "Bqeg9oeMHFbW"
      },
      "source": [
        "## 1. Introduction <a name=\"Intro\"></a>\n",
        "\n",
        "We used matplotlib, pandas, and seaborn libraries to create different types of common plots and charts. There are charts that need more effort to make using those libraries or might not be possible to create using those libraries. Here we look at some more advanced library, <font color='blue'>__Plotly__</font> and <font color='blue'>__Folium__</font>.\n",
        "\n",
        "<font color='blue'>__Plotly__</font>'s Python graphing library is an interactive, open-source, and browser-based graphing library for Python. It enables Python users to create interactive web-based visualizations that can be displayed in Jupyter notebooks, saved to standalone HTML files, or served as part of pure Python-built web applications. The plotly Python library is sometimes referred to as \"plotly.py\" to differentiate it from the JavaScript library.\n",
        "\n",
        "We are going to use different libraries and modules from these libraries in this notebook for different types of plots. \n"
      ]
    },
    {
      "cell_type": "code",
      "execution_count": null,
      "metadata": {
        "id": "O0LzgkwShZAB"
      },
      "outputs": [],
      "source": [
        "#!pip install plotly"
      ]
    },
    {
      "cell_type": "markdown",
      "metadata": {
        "id": "7GxvWhzOI2yj"
      },
      "source": [
        "## 2. Pie Charts <a name=\"pie\"></a>\n",
        "\n",
        "A pie chart simply is a circular statistical chart, which is divided into sectors to illustrate numerical proportions.\n",
        "\n",
        "Let's start with something simple:"
      ]
    },
    {
      "cell_type": "code",
      "execution_count": null,
      "metadata": {
        "id": "krfHWdTeO2ZS"
      },
      "outputs": [],
      "source": [
        "import plotly.express as px  # importing plotly express\n",
        "\n",
        "fig = px.pie(values=[10,20,15,45,80], names=['slice 1','slice 2','slice 3', 'slice 4','slice 5'])\n",
        "fig.show()"
      ]
    },
    {
      "cell_type": "markdown",
      "metadata": {
        "id": "T5CNWDofO5FZ"
      },
      "source": [
        "Let's import the data available for energy generated using various renewable resources in the UK for different years in different regions. The data is stored at: https://raw.githubusercontent.com/MasoudMiM/ME_364/main/UK_Renewable_Energy/UKEnergy.csv"
      ]
    },
    {
      "cell_type": "code",
      "execution_count": null,
      "metadata": {
        "id": "7gaR8JmEJfO5"
      },
      "outputs": [],
      "source": [
        "import pandas as pd\n",
        "import numpy as np\n",
        "\n",
        "url = 'https://raw.githubusercontent.com/MasoudMiM/ME_364/main/UK_Renewable_Energy/UKEnergy.csv'\n",
        "dfUK = pd.read_csv(url)\n",
        "\n",
        "# Dataset is now stored in a Pandas's Dataframe\n",
        "dfUK.head()"
      ]
    },
    {
      "cell_type": "markdown",
      "metadata": {
        "id": "xcFLDyESL3Wk"
      },
      "source": [
        "Let's make a pie chart with the total wind energy generated in the UK every year from 2003 to 2015."
      ]
    },
    {
      "cell_type": "code",
      "execution_count": null,
      "metadata": {
        "id": "va2kDXm7I0cT"
      },
      "outputs": [],
      "source": [
        "fig = px.pie(dfUK, values='Wind2', names='Year', title='Wind Energy Generated in the UK from 2003 to 2015 [GWh]')\n",
        "fig.show()"
      ]
    },
    {
      "cell_type": "markdown",
      "metadata": {
        "id": "UjzQuHB5MELo"
      },
      "source": [
        "How about the total energy generated in the UK at each region from 2003 to 2015?"
      ]
    },
    {
      "cell_type": "code",
      "execution_count": null,
      "metadata": {
        "id": "-DDMxzgyK5LZ"
      },
      "outputs": [],
      "source": [
        "fig = px.pie(dfUK, values='Total', names='Region', title='Total Energy Generated in the UK [GWh]')\n",
        "fig.show()"
      ]
    },
    {
      "cell_type": "markdown",
      "metadata": {
        "id": "81QQgYirNt-x"
      },
      "source": [
        "We can make some customization in the pie chart such as using <font color='blue'>labels</font> to rename columns. For further tuning, we call <font color='blue'>fig.update_traces</font> to set the other parameters for the chart."
      ]
    },
    {
      "cell_type": "code",
      "execution_count": null,
      "metadata": {
        "id": "oAZb2N7BK6hF"
      },
      "outputs": [],
      "source": [
        "fig = px.pie(dfUK, values='Wind2', names='Year',\n",
        "             title='Wind Energy Generated in the UK [GWh]',\n",
        "             labels={'Wind2':'WIND','Year':'YEAR'})\n",
        "\n",
        "fig.update_traces(textposition='inside', textinfo='percent+label')   # put percentages and years on each slice\n",
        "fig.show()"
      ]
    },
    {
      "cell_type": "markdown",
      "metadata": {
        "id": "CkfghCPkBnaE"
      },
      "source": [
        "What if you want to save the plot as an interactive plot and not as a png file?"
      ]
    },
    {
      "cell_type": "code",
      "execution_count": null,
      "metadata": {
        "id": "KHui410xBq-k"
      },
      "outputs": [],
      "source": [
        "fig = px.pie(dfUK, values='Wind2', names='Year',\n",
        "             title='Wind Energy Generated in the UK [GWh]',\n",
        "             labels={'Wind2':'Wind'})\n",
        "\n",
        "fig.update_traces(textposition='inside', textinfo='percent+label')\n",
        "fig.show()\n",
        "\n",
        "fig.write_html(\"pieplot.html\")          # save the plot as an html file\n",
        "\n",
        "# only when using Colab so we can download the save plot\n",
        "from google.colab import files \n",
        "files.download('pieplot.html')"
      ]
    },
    {
      "cell_type": "markdown",
      "metadata": {
        "id": "ykT9qXOMPfZO"
      },
      "source": [
        "<font color='red'>__Question (1)__</font>: Using the previously imported renewable energy data for the UK, create a pie chart representing the hydro power generated for each year as a percentage of total hydro power generated from 2003 to 2015. Rename \"Hydro\" to \"Hydro Power\". Show both the year and percent on the pie chart slices. Add some lines to the code to download the chart as an html file."
      ]
    },
    {
      "cell_type": "code",
      "execution_count": null,
      "metadata": {
        "id": "ff4Q45hIOYKe"
      },
      "outputs": [],
      "source": [
        "# In-Class Assignment\n"
      ]
    },
    {
      "cell_type": "markdown",
      "metadata": {
        "id": "kYqVwDWOPpei"
      },
      "source": [
        "## 3. Bubble Charts <a name=\"bubble\"></a>\n",
        "\n",
        "A bubble chart is a scatter plot in which a third dimension of the data is shown through the size of markers.\n",
        "\n",
        "I am going to use the 3D printer data set we saw before. Remember the parameters were: Layer Height (mm), Wall Thickness (mm), Infill Density (%), Infill Pattern (), Nozzle Temperature (C), Bed Temperature (C), Print Speed (mm/s), Material (), Fan Speed (mm/s), Roughness (µm), Tension (ultimate) Strength (MPa), Elongation (%) ."
      ]
    },
    {
      "cell_type": "code",
      "execution_count": null,
      "metadata": {
        "id": "hj2VfgnRPsoS"
      },
      "outputs": [],
      "source": [
        "url = 'https://raw.githubusercontent.com/MasoudMiM/ME_364/main/3D_Printer_Data/3DPrinterDataset.csv'   # Link to the 3D printer data set\n",
        "df3dprinter = pd.read_csv(url)\n",
        "\n",
        "# Dataset is now stored in a Pandas's Dataframe\n",
        "df3dprinter.head()"
      ]
    },
    {
      "cell_type": "code",
      "execution_count": null,
      "metadata": {
        "id": "3k5F5M1OqGSc"
      },
      "outputs": [],
      "source": [
        "px.scatter(df3dprinter, x='roughness', y='tension_strenght', size='infill_density')"
      ]
    },
    {
      "cell_type": "markdown",
      "metadata": {
        "id": "9uXn-gvEuYeu"
      },
      "source": [
        "We can add another column of dataframe to the plot by adding a fourth dimension to the plot. Let's say we want to show the pattern used for the infill, whether it was honeycomb or grid."
      ]
    },
    {
      "cell_type": "code",
      "execution_count": null,
      "metadata": {
        "id": "JfRmS-R8t472"
      },
      "outputs": [],
      "source": [
        "px.scatter(df3dprinter, x='roughness', y='tension_strenght', size='infill_density', color='infill_pattern')"
      ]
    },
    {
      "cell_type": "markdown",
      "metadata": {
        "id": "hxnzdUbLvQo4"
      },
      "source": [
        "What if I want to increase the size of the bubbles?"
      ]
    },
    {
      "cell_type": "code",
      "execution_count": null,
      "metadata": {
        "id": "NrpAylq6vLli"
      },
      "outputs": [],
      "source": [
        "px.scatter(df3dprinter, x='roughness', y='tension_strenght', size='infill_density', \n",
        "           color='infill_pattern', size_max=35)"
      ]
    },
    {
      "cell_type": "markdown",
      "metadata": {
        "id": "KwxV2AwJvez8"
      },
      "source": [
        "You can even add more information from your data set to your graph using __hover_name__ parameter for the bubble plot. Here, we add the temperature of the nuzzle to the plot as the first number shown when we hover the mouse over that data point."
      ]
    },
    {
      "cell_type": "code",
      "execution_count": null,
      "metadata": {
        "id": "DOFAbxG_vbFq"
      },
      "outputs": [],
      "source": [
        "px.scatter(df3dprinter, x='roughness', y='tension_strenght',\n",
        "           size='infill_density', color='infill_pattern', hover_name='nozzle_temperature', size_max=25)"
      ]
    },
    {
      "cell_type": "markdown",
      "metadata": {
        "id": "pHV4ROuVwoRh"
      },
      "source": [
        "Finally, let's take a look at how can we modify the figure size and labels for a plot. Here are some of the available options:\n",
        "\n",
        "<font color='green'>__labels__</font>: dictionary with string keys and string values (default `{}`). The keys of this dictionary should correspond to column names, and the values should correspond to the desired label to be displayed.\n",
        "\n",
        "<font color='green'>__title__</font>: The figure title\n",
        "\n",
        "<font color='green'>__height__</font> and <font color='green'>__width__</font>: The figure height and width in pixels."
      ]
    },
    {
      "cell_type": "code",
      "execution_count": null,
      "metadata": {
        "id": "9oihgaXJxMzf"
      },
      "outputs": [],
      "source": [
        "px.scatter(df3dprinter, x='roughness', y='tension_strenght', size='infill_density',\n",
        "           color='infill_pattern', hover_name='nozzle_temperature',\n",
        "\n",
        "           labels={'roughness':'Roughness (micrometer)','tension_strenght':'Tensile Strength (MPa)',\n",
        "                   'infill_density':'Infil Density','infill_pattern':'Pattern'},\n",
        "           \n",
        "           title='3D Printer Data',\n",
        "\n",
        "           width=600,\n",
        "           height=400,\n",
        "\n",
        "           size_max=10)"
      ]
    },
    {
      "cell_type": "markdown",
      "metadata": {
        "id": "Vc2xUivO0tDn"
      },
      "source": [
        "<font color='red'>__Question (2)__</font>: Write a code that generates a bubble chart, representing the tensile strength versus elongation with buble size showing the nuzzle temperature. Set a maximum size for the bubles and rename the three parameters to show their units."
      ]
    },
    {
      "cell_type": "code",
      "execution_count": null,
      "metadata": {
        "id": "ixHBY7rqzvpq"
      },
      "outputs": [],
      "source": [
        "# In-Class Assignment\n",
        "\n"
      ]
    },
    {
      "cell_type": "markdown",
      "metadata": {
        "id": "KwHaVfDk1L2N"
      },
      "source": [
        "## 4. Maps <a name=\"maps\"></a>"
      ]
    },
    {
      "cell_type": "markdown",
      "metadata": {
        "id": "fDE-0L-Tjs3E"
      },
      "source": [
        "Folium is a Python library that helps you create several types of maps. The fact that the Folium results are interactive makes this library very useful for dashboard building (what is a dashboard? https://www.klipfolio.com/resources/articles/what-is-data-dashboard). Generating the world map is straightforward in Folium. You simply create a Folium Map object and then you display it. Since Folium maps are interactive, you can zoom into any region of interest despite the initial zoom level. "
      ]
    },
    {
      "cell_type": "code",
      "execution_count": null,
      "metadata": {
        "id": "EWf1muT4o3jk"
      },
      "outputs": [],
      "source": [
        "import folium               # importing the library\n",
        "\n",
        "# define the world map\n",
        "world_map = folium.Map()\n",
        "\n",
        "# display world map\n",
        "world_map"
      ]
    },
    {
      "cell_type": "code",
      "execution_count": null,
      "metadata": {
        "id": "KApVVLOCoD2J"
      },
      "outputs": [],
      "source": [
        "latitude = 43.2994\n",
        "longitude = -74.2179\n",
        "# define the world map centered around NYS with a zoom level of 7\n",
        "nys_map = folium.Map(location=[latitude, longitude], zoom_start=7, tiles='OpenStreetMap')   # 'Stamen Terrain', 'Stamen Toner', or 'OpenStreetMap'\n",
        "\n",
        "# display world map\n",
        "nys_map"
      ]
    },
    {
      "cell_type": "markdown",
      "metadata": {
        "id": "SotenBSlwc7-"
      },
      "source": [
        "To show the capabilities of this package, we are going to use a dataset representing the locations of all the electric vehicle chargaing stations in New York. Let's superimpose the locations of EV charging stations in NYS on the map. You can find the information about the data here: https://data.ny.gov/Energy-Environment/Electric-Vehicle-Charging-Stations-in-New-York/7rrd-248n"
      ]
    },
    {
      "cell_type": "code",
      "execution_count": null,
      "metadata": {
        "id": "ZTPyCICMwsTO"
      },
      "outputs": [],
      "source": [
        "import pandas as pd\n",
        "\n",
        "df_nysev = pd.read_csv('https://raw.githubusercontent.com/MasoudMiM/ME_364/main/EVStations_NY/EVChargingStations_NY_Sep12.csv')\n",
        "\n",
        "print('Dataset is downloaded and read into a pandas dataframe!')"
      ]
    },
    {
      "cell_type": "markdown",
      "metadata": {
        "id": "BUcsNCdbEuja"
      },
      "source": [
        "Let's take a look at the data set:"
      ]
    },
    {
      "cell_type": "code",
      "execution_count": null,
      "metadata": {
        "id": "WBPM5CfIEyXI"
      },
      "outputs": [],
      "source": [
        "df_nysev.head()"
      ]
    },
    {
      "cell_type": "markdown",
      "metadata": {
        "id": "dk2cBA9sCmqs"
      },
      "source": [
        "Let's create a map of new york and place one of these stations on the map using the latitude and longitude values given in the data set."
      ]
    },
    {
      "cell_type": "code",
      "execution_count": null,
      "metadata": {
        "id": "6z2y89AuBxuZ"
      },
      "outputs": [],
      "source": [
        "# creating the map object\n",
        "nysev_map1 = folium.Map(location=[43.2994, -74.2179], zoom_start=7, tiles='Stamen Terrain')   # 'Stamen Toner', 'Stamen Terrain', 'OpenStreetMap'\n",
        "\n",
        "# let's place a station in nys with lat=40.74709 and long=-73.98667 \n",
        "folium.CircleMarker(location=([40.74709, -73.98667]),\n",
        "                    radius=5, \n",
        "                    color='red', \n",
        "                    fill=True, \n",
        "                    fill_color='blue',\n",
        "                    fill_opacity=0.6).add_to(nysev_map1)\n",
        "\n",
        "# show the map with the station\n",
        "nysev_map1"
      ]
    },
    {
      "cell_type": "markdown",
      "metadata": {
        "id": "D03_L1sMEXJ_"
      },
      "source": [
        "We can add some explanation to the data point on the map using the option <font color='blue'>popup</font>:"
      ]
    },
    {
      "cell_type": "code",
      "execution_count": null,
      "metadata": {
        "id": "s-8D-n1REk1L"
      },
      "outputs": [],
      "source": [
        "# Creating the map object\n",
        "nysev_map2 = folium.Map(location=[43.2994, -74.2179], zoom_start=7, tiles='Stamen Terrain')   # 'Stamen Toner', 'Stamen Terrain', 'Mapbox Bright'\n",
        "\n",
        "# let's place a station in nys with lat=40.74709 and long=-73.98667 \n",
        "folium.CircleMarker(location=([40.74709, -73.98667]),\n",
        "                    radius=5, \n",
        "                    color='red', \n",
        "                    fill=True,\n",
        "                    fill_color='blue', \n",
        "                    fill_opacity=0.6,\n",
        "                    popup='Central Parking - Tower 31'\n",
        "                    ).add_to(nysev_map2)\n",
        "\n",
        "# show the map with the station\n",
        "nysev_map2"
      ]
    },
    {
      "cell_type": "markdown",
      "metadata": {
        "id": "S3nKTNVoi8YQ"
      },
      "source": [
        "You could also use the method <font color='blue'>Marker</font> instead of <font color='blue'>CircleMarker</font>"
      ]
    },
    {
      "cell_type": "code",
      "execution_count": null,
      "metadata": {
        "id": "NL2WpEDbjNOU"
      },
      "outputs": [],
      "source": [
        "# Creating the map object\n",
        "nysev_map3 = folium.Map(location=[43.2994, -74.2179], zoom_start=7, tiles='Stamen Terrain')   # 'Stamen Toner', 'Stamen Terrain', 'Mapbox Bright'\n",
        "\n",
        "# let's place a station in nys with lat=40.74709 and long=-73.98667 \n",
        "folium.Marker(location=([40.74709, -73.98667]),\n",
        "                    popup='Central Parking - Tower 31'\n",
        "                    ).add_to(nysev_map3)\n",
        "\n",
        "# show the map with the station\n",
        "nysev_map3"
      ]
    },
    {
      "cell_type": "markdown",
      "metadata": {
        "id": "Nl6VTMl1FPEC"
      },
      "source": [
        "We can use a for-loop to create a station map with all the EV stations using the latitudes and longitudes as well as their names as popups on the map:"
      ]
    },
    {
      "cell_type": "code",
      "execution_count": null,
      "metadata": {
        "id": "DQe85C_OvPAB"
      },
      "outputs": [],
      "source": [
        "# Creating the map object\n",
        "nysev_map = folium.Map(location=[latitude, longitude], zoom_start=7, tiles='Stamen Terrain')   # 'Stamen Toner', 'Stamen Terrain', 'Mapbox Bright'\n",
        "\n",
        "# loop through the stations\n",
        "for lat, lng, label in zip(df_nysev['Latitude'], df_nysev['Longitude'], df_nysev['Station Name']):\n",
        "        folium.CircleMarker(location=([lat, lng]),\n",
        "            radius=5, # define how big you want the circle markers to be\n",
        "            color='red',\n",
        "            fill=True,\n",
        "            fill_color='blue',\n",
        "            fill_opacity=0.6,\n",
        "            popup=label\n",
        "        ).add_to(nysev_map)\n",
        "\n",
        "# add incidents to map\n",
        "nysev_map"
      ]
    },
    {
      "cell_type": "markdown",
      "metadata": {
        "id": "kJ8TAjDlHHSz"
      },
      "source": [
        "Finally, you can save the map as an HTML file using <font color='blue'>save</font> method. Also, since we are coding on Colab, we probably need to download the file after saving it."
      ]
    },
    {
      "cell_type": "code",
      "execution_count": null,
      "metadata": {
        "id": "6NgyvZJFHLpM"
      },
      "outputs": [],
      "source": [
        "nysev_map.save('NYSEV_map.html')\n",
        "\n",
        "from google.colab import files # only when using Colab so we can download the map\n",
        "files.download('NYSEV_map.html')"
      ]
    },
    {
      "cell_type": "markdown",
      "metadata": {
        "id": "TB5yvjXkGyXm"
      },
      "source": [
        "<font color='red'>__Question (3)__</font>: Using Folium, create a map of San Francisco with latitude=37.7749 and longitude=-122.4194. Use open street tiles and zoom level 11. Look up the latitude and longitude of San Francisco airport and represent that on the map using a marker. Use \"SFO\" as the label for popup."
      ]
    },
    {
      "cell_type": "code",
      "execution_count": null,
      "metadata": {
        "id": "4oBNh44Uthh1"
      },
      "outputs": [],
      "source": [
        "# In-Class Assignment\n",
        "\n"
      ]
    },
    {
      "cell_type": "markdown",
      "metadata": {
        "id": "qBfSL9EaIVfR"
      },
      "source": [
        "<font color='orange'>Note 1</font>: There are other types of maps that you can create. One of the interesting one is Choropleth map. Here is a link to an example if you are interested to know more: https://towardsdatascience.com/choropleth-maps-with-folium-1a5b8bcdd392.\n",
        "\n",
        "<font color='orange'>Note 2</font>: __plotly__ library also provides a set of tools for creating maps: https://plotly.com/python/maps/. Here is an example"
      ]
    },
    {
      "cell_type": "code",
      "execution_count": null,
      "metadata": {
        "id": "dBhjzPkRmL2M"
      },
      "outputs": [],
      "source": [
        "import plotly.express as px # making sure that plotly express is imported\n",
        "\n",
        "fig = px.scatter_geo(df_nysev, \n",
        "                     center={'lat':43.2994, 'lon':-74.2179},\n",
        "                     lat=df_nysev['Latitude'], \n",
        "                     lon=df_nysev['Longitude'],\n",
        "                     title='EV Stations in NY',\n",
        "                     hover_name=\"City\",\n",
        "                     scope='usa',\n",
        "                     projection=\"albers usa\")\n",
        "fig.show()"
      ]
    },
    {
      "cell_type": "markdown",
      "metadata": {
        "id": "9ZIcehBdJkDR"
      },
      "source": [
        "## 5. Contour Plots <a name=\"conplt\"></a>"
      ]
    },
    {
      "cell_type": "markdown",
      "metadata": {
        "id": "jWjTC5-GKEYq"
      },
      "source": [
        "A 2D contour plot shows the contour lines of a 2D numerical array. Familair examples for us are heat and temperature distributions on a surface, stress distribution on a plate, and oscillations of a plate.\n",
        "\n",
        "We can use <font color='blue'>contour</font> or <font color='blue'>contourf</font> in matplotlib library to plot contour plots."
      ]
    },
    {
      "cell_type": "code",
      "execution_count": null,
      "metadata": {
        "id": "VxlWKu8c0z4K"
      },
      "outputs": [],
      "source": [
        "import matplotlib.pylab as plt\n",
        "import numpy as np\n",
        "\n",
        "x = np.linspace(0, 10, 50)\n",
        "y = np.linspace(0, 10, 50)\n",
        "X, Y = np.meshgrid(x, y)                 # Create a 2D mesh of 50 by 50 points\n",
        "Z = np.sin(X)*np.cos(Y)\n",
        "\n",
        "fig=plt.figure( figsize=(15,7) )           # defining the figure object\n",
        "fig.add_subplot(1,2,1)                   # adding the first subplot\n",
        "plt.contour(X, Y, Z, colors='black')\n",
        "\n",
        "fig.add_subplot(1,2,2)                    # adding the second subplot\n",
        "plt.contourf(X, Y, Z, cmap='RdGy')        # RdGy: short for Red-Gray colormap"
      ]
    },
    {
      "cell_type": "markdown",
      "metadata": {
        "id": "7yUfEtXtitc_"
      },
      "source": [
        "<font color='orange'>Note</font>: I used the option <font color='blue'>cmap</font> to define the type of colormap for each contour. Here you can see a full list of possible options for cmap: https://matplotlib.org/3.1.0/tutorials/colors/colormaps.html"
      ]
    },
    {
      "cell_type": "markdown",
      "metadata": {
        "id": "N94WCnmviJbK"
      },
      "source": [
        "You can add labels to the lines on a contour plot as well as adding a colorbar. Also, you can decide about the number of intervals within the data range."
      ]
    },
    {
      "cell_type": "code",
      "execution_count": null,
      "metadata": {
        "id": "CGTThITFK6UL"
      },
      "outputs": [],
      "source": [
        "x = np.linspace(0, 2, 50)\n",
        "y = np.linspace(0, 2, 50)\n",
        "X, Y = np.meshgrid(x, y)                                     # Create a 2D mesh of 50 by 50 points\n",
        "Z = np.sin(X)*np.cos(Y)\n",
        "\n",
        "plt.figure(figsize=(10,8))\n",
        "contourplt=plt.contourf(X, Y, Z, 10, cmap='RdGy')            # 10 equally spaced intervals within the data range\n",
        "plt.clabel(contourplt,colors='g',inline=True, fontsize=20)   # Add data to the lines on the plot\n",
        "plt.colorbar()                                               # Add the colorbar\n",
        "plt.xlabel('X')\n",
        "plt.ylabel('Y')"
      ]
    },
    {
      "cell_type": "markdown",
      "metadata": {
        "id": "vNSCoxq_Da28"
      },
      "source": [
        "If you want to save the plot, the approach is the same as a typical plot created using matplotlib and you can add the following lines to the previous code block:\n",
        "```python\n",
        "plt.savefig('[figure name].png',dpi=200,bbox_inches='tight')\n",
        "# only when using Colab so we can download the saved plot\n",
        "from google.colab import files \n",
        "files.download('[figure name].png')\n",
        "```"
      ]
    },
    {
      "cell_type": "markdown",
      "metadata": {
        "id": "xRIhzHahnNaR"
      },
      "source": [
        "## 6. 3D Plots <a name=\"3dplt\"></a>\n",
        "\n",
        "Three dimensional plots are mainly used when we are trying to look into possible relationships between three different features. However, 3D plots are less common in data analysis since they can rarely provide an easy-to-interpret visualization of the data. \n",
        "\n",
        "Here, we are going to take a look at two types of 3D plots: (1) 3D scatter plot and (2) 3D surface plot. We will use <font color='blue'>plotly</font> library but keep in mind that <font color='blue'>matplotlib</font> can also be used to create such plots. For 3D examples using <font color='blue'>matplotlib</font>, you can take a look at this link: https://matplotlib.org/mpl_toolkits/mplot3d/tutorial.html"
      ]
    },
    {
      "cell_type": "markdown",
      "metadata": {
        "id": "0LLtZdnb_T5A"
      },
      "source": [
        "<font color='green'>__(1) 3D Scatter Plot__:</font>\n",
        "\n",
        "Let's use the 3D printer data set to get to know how to plot such plots:"
      ]
    },
    {
      "cell_type": "code",
      "execution_count": null,
      "metadata": {
        "id": "IRIj0UJtYbpu"
      },
      "outputs": [],
      "source": [
        "# just make sure that the data is imported\n",
        "url = 'https://raw.githubusercontent.com/MasoudMiM/ME_364/main/3D_Printer_Data/3DPrinterDataset.csv'   # Link to the 3D printer data set\n",
        "df3dprinter = pd.read_csv(url)\n",
        "\n",
        "# Dataset is now stored in a Pandas's Dataframe\n",
        "df3dprinter.head()"
      ]
    },
    {
      "cell_type": "code",
      "execution_count": null,
      "metadata": {
        "id": "qx-DHxCUanGG"
      },
      "outputs": [],
      "source": [
        "import plotly.express as px  # make sure plotly express is imported as px\n",
        "\n",
        "fig = px.scatter_3d(df3dprinter, x='roughness', y='tension_strenght', z='infill_density')\n",
        "fig.show()"
      ]
    },
    {
      "cell_type": "markdown",
      "metadata": {
        "id": "VXNfhHTwAsja"
      },
      "source": [
        "Let's add the type of infill, as the 4$^{th}$ dimension, to the data visualization along with the data for roughness, tension strength, and infill density."
      ]
    },
    {
      "cell_type": "code",
      "execution_count": null,
      "metadata": {
        "id": "NDOB5Yo5AX5_"
      },
      "outputs": [],
      "source": [
        "fig = px.scatter_3d(df3dprinter, x='roughness', y='tension_strenght', z='infill_density', color='infill_pattern')\n",
        "fig.show()"
      ]
    },
    {
      "cell_type": "markdown",
      "metadata": {
        "id": "2qjZtCd4BJJ7"
      },
      "source": [
        "You can set the title, labels of the axes, and figure height and width:"
      ]
    },
    {
      "cell_type": "code",
      "execution_count": null,
      "metadata": {
        "id": "BarjMZqLIM-j"
      },
      "outputs": [],
      "source": [
        "fig = px.scatter_3d(df3dprinter, x='roughness', y='tension_strenght', z='infill_density', color='infill_pattern',\n",
        "                    title='3D printer Data',\n",
        "                    labels={\n",
        "                        \"roughness\": \"Roughness (microm)\",\n",
        "                        \"tension_strenght\": \"Tensile Strength (MPa)\",\n",
        "                        \"infill_density\": \"Infill Density (%)\",\n",
        "                        \"infill_pattern\":\"Infill Pattern\"},\n",
        "                    width=1000, height=800)\n",
        "fig.show()"
      ]
    },
    {
      "cell_type": "markdown",
      "metadata": {
        "id": "uy7Cs27qMSLW"
      },
      "source": [
        "In case you want to play around with the fonts, title, and other features in the plot, here is a link to look into: https://plotly.com/python/figure-labels/\n",
        "\n",
        "Also, you can save and download the plot in HTML format the same way you could save all the plots created by plotly library. Easily add the following lines to the end of the code:\n",
        "```python\n",
        "fig.write_html(\"[figure name].html\")\n",
        "# only when using Colab so we can download the saved plot\n",
        "from google.colab import files \n",
        "files.download('[figure name].html')\n",
        "```"
      ]
    },
    {
      "cell_type": "markdown",
      "metadata": {
        "id": "dp7p3wOeN45-"
      },
      "source": [
        "There are more ways you can plot this type of 3D scatter plots with other possible options. You can see a few of those options at this link: https://plotly.com/python/3d-scatter-plots/"
      ]
    },
    {
      "cell_type": "markdown",
      "metadata": {
        "id": "J4aeUc7EOKmS"
      },
      "source": [
        "<font color='red'>__Question (4)__</font>: Write a code that generates a 3D scatter plot, representing tensile strength, elongation, and nuzzle temperature. Change the labels so they also represent correct units along with the names of the variables. Set the width and height for the figure and save and download it. "
      ]
    },
    {
      "cell_type": "code",
      "execution_count": null,
      "metadata": {
        "id": "fARe2EOSUIrC"
      },
      "outputs": [],
      "source": [
        "# In-Class Assignment\n"
      ]
    },
    {
      "cell_type": "markdown",
      "metadata": {
        "id": "4BzyJMZ5OXgF"
      },
      "source": [
        "<font color='green'>__(2) 3D Surface Plot__:</font>\n",
        "\n",
        "For this visulization, let's import `graph_objects` module within <font color='blue'>plotly</font> library. Further, we use a data set for temperature distribution in a 2D plate, given the temperature of four sides.\n",
        "\n",
        "The plate has the dimension of $1~m\\times1~m$ and the measurements are done on a 30 by 30 grid point, equally spaced in each direction. The temperature of the top side is $50^\\circ~$C, the bottom side is $10^\\circ~$C, and two other sides are at $0^\\circ~$C.\n",
        "\n"
      ]
    },
    {
      "cell_type": "code",
      "execution_count": null,
      "metadata": {
        "id": "qW6S-Xmr9J8O"
      },
      "outputs": [],
      "source": [
        "import plotly.graph_objects as go # importing the module from the library"
      ]
    },
    {
      "cell_type": "code",
      "execution_count": null,
      "metadata": {
        "id": "C_8wjfvo8jxJ"
      },
      "outputs": [],
      "source": [
        "# Importing temp distribution on a 30 by 30 grid point measurements\n",
        "url = 'https://raw.githubusercontent.com/MasoudMiM/ME_364/main/2D_HeatTransfer/TempDis.csv'   # Link to the dataset\n",
        "dfTempDis = pd.read_csv(url,header=None)\n",
        "\n",
        "dfTempDis.head(10)"
      ]
    },
    {
      "cell_type": "code",
      "execution_count": null,
      "metadata": {
        "id": "DhrSBQ-c8oXN"
      },
      "outputs": [],
      "source": [
        "zdata = dfTempDis                 # Temp distribution\n",
        "xdata = np.linspace(0,1,30)\n",
        "ydata = np.linspace(0,1,30)\n",
        "\n",
        "fig = go.Figure()\n",
        "fig.add_surface( x=xdata, y=ydata, z=zdata )\n",
        "fig.show()"
      ]
    },
    {
      "cell_type": "markdown",
      "metadata": {
        "id": "_HjdhJZYIz3X"
      },
      "source": [
        "Let's add some features and refine the plot. Since we used `graph_objects` module, we can use `update_layout` to make the changes."
      ]
    },
    {
      "cell_type": "code",
      "execution_count": null,
      "metadata": {
        "id": "_tk_jy3z9dvo"
      },
      "outputs": [],
      "source": [
        "fig=go.Figure()                                                        # Create the figure object\n",
        "fig.add_surface(z=zdata, x=xdata, y=ydata, colorbar={'title':'Temp (C)'} )\n",
        "\n",
        "fig.update_layout(scene = dict(\n",
        "                    xaxis_title='X (m)',\n",
        "                    yaxis_title='Y (m)',\n",
        "                    zaxis_title='Temperature (C)'),\n",
        "                  width=700, height=600)                               # Dimensions of the figure\n",
        "\n",
        "fig.show()"
      ]
    },
    {
      "cell_type": "markdown",
      "metadata": {
        "id": "DPmpeYZ3QRs1"
      },
      "source": [
        "There is much more you can do regarding the axes and other properties of the figure. Here is a good list of some possible options: https://plotly.com/python/3d-axes/"
      ]
    }
  ],
  "metadata": {
    "colab": {
      "collapsed_sections": [],
      "name": "6_Data_Visualization_Advanced.ipynb",
      "provenance": []
    },
    "kernelspec": {
      "display_name": "Python 3",
      "name": "python3"
    },
    "language_info": {
      "codemirror_mode": {
        "name": "ipython",
        "version": 3
      },
      "file_extension": ".py",
      "mimetype": "text/x-python",
      "name": "python",
      "nbconvert_exporter": "python",
      "pygments_lexer": "ipython3",
      "version": "3.9.5"
    }
  },
  "nbformat": 4,
  "nbformat_minor": 0
}