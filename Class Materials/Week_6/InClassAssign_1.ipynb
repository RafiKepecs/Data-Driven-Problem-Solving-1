{
  "cells": [
    {
      "cell_type": "markdown",
      "metadata": {
        "id": "IFHfaBkpFxIP"
      },
      "source": [
        "# In Class Assignment 1 - ME 364 (Spring 2022)"
      ]
    },
    {
      "cell_type": "markdown",
      "metadata": {
        "id": "1_P4qlonGUsH"
      },
      "source": [
        "### <font color='red'>__Question I__</font> \n",
        "Create a figure sized 5 inches height and 10 inches width, composed of 3 subplots (a 1 by 3 grid)\n",
        "- First subplot showing $y(t)=sin(\\frac{1}{t})$ for $\\frac{\\pi}{5}\\leq t \\leq 5\\pi$, line color green and line type dash-dot.\n",
        "- Second one showing a tangent function from $\\frac{\\pi}{20}$ to $\\frac{\\pi}{5}$, line color black, hexagonal markers, dashed line style, and line thickness of 4.\n",
        "- Third one showing $y(t)=1.5e^{-0.2t}\\sin(5t+\\frac{\\pi}{4})$, plotted in blue color, for the range t=0 to t=10.\n",
        "\n",
        "Make sure all the plots have grid lines, axes have labels, and there is a super title for the figure. Add code lines to save the figure with dpi=300 and to download the figure from the notebook. (You do __not__ need to submit the downloaded figure as part of your submission.)\n",
        "\n"
      ]
    },
    {
      "cell_type": "code",
      "execution_count": null,
      "metadata": {
        "id": "LpRgg_MNjH1k"
      },
      "outputs": [],
      "source": [
        "# Your code goes here\n"
      ]
    },
    {
      "cell_type": "markdown",
      "metadata": {
        "id": "QXyDqvx6nHKR"
      },
      "source": [
        "### <font color='red'>__Question II__</font>\n",
        "Using the UK energy generation distribution we used in the class:\n",
        "\n",
        "- Plot a scatter plot showing the hydropower generation in GWh over the years in Scotland region.\n",
        "Make sure you define the figure size, merkersize, marker color, and put labels for axes and put a title for your plot."
      ]
    },
    {
      "cell_type": "code",
      "execution_count": null,
      "metadata": {
        "id": "eMRIF9dTIrzs"
      },
      "outputs": [],
      "source": [
        "# Your code goes here\n"
      ]
    },
    {
      "cell_type": "markdown",
      "metadata": {
        "id": "aks0pJMvIsJm"
      },
      "source": [
        "- Plot a bar plot representing solar power generation in GWh in different regions in the UK. Make sure you define the figure size, all the bars are in the same color, and the axes are labeled."
      ]
    },
    {
      "cell_type": "code",
      "execution_count": null,
      "metadata": {
        "id": "pWm3gDAqKugr"
      },
      "outputs": [],
      "source": [
        "# Your code goes here\n"
      ]
    },
    {
      "cell_type": "markdown",
      "metadata": {
        "id": "KedMBlIUKuye"
      },
      "source": [
        "- Use a boxplot to represent the trend and data distribution for wind energy generation in the UK from 2003 to 2015. Make sure you define the figure size, all the boxes are in the same color, and the axes are properly labeled. Add code lines to save the figure with dpi=150 and to download the figure from the notebook. (You do __not__ need to submit the downloaded figure as part of your submission.)"
      ]
    },
    {
      "cell_type": "code",
      "execution_count": null,
      "metadata": {
        "id": "DidEs5HUmvk-"
      },
      "outputs": [],
      "source": [
        "# Your code goes here\n",
        "\n"
      ]
    }
  ],
  "metadata": {
    "colab": {
      "collapsed_sections": [],
      "name": "Homework_3.ipynb",
      "provenance": []
    },
    "kernelspec": {
      "display_name": "Python 3",
      "name": "python3"
    },
    "language_info": {
      "name": "python"
    }
  },
  "nbformat": 4,
  "nbformat_minor": 0
}
