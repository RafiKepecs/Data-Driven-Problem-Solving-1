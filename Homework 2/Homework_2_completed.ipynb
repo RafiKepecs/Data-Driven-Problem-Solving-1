{
  "cells": [
    {
      "cell_type": "markdown",
      "metadata": {
        "id": "IFHfaBkpFxIP"
      },
      "source": [
        "# Homework II - ME 364 (Spring 2022)"
      ]
    },
    {
      "cell_type": "markdown",
      "metadata": {
        "id": "1_P4qlonGUsH"
      },
      "source": [
        "<font color='red'>__Question I :__</font> Consider the following dictionary\n",
        "```python\n",
        "dict = {'name':[\"Mason\", \"John\", \"Jean\", \"Sarah\", \"Frank\", \"Thomas\", \"Melisa\", \"Cindy\"],\n",
        "        'score':[90, 40, 80, 98, 99, 85, 56, 86],\n",
        "        'degree': [\"MBA\", \"CS\", \"CHEM\", \"MBA\", \"CIV\", \"MECH\", \"EE\", \"MBA\"]}\n",
        "```\n",
        "__(a)__ Convert this dictionary into a _pandas_ DataFrame with the columns ordered as 'name', 'degree', 'score'.\n"
      ]
    },
    {
      "cell_type": "code",
      "execution_count": 2,
      "metadata": {
        "id": "LpRgg_MNjH1k"
      },
      "outputs": [
        {
          "name": "stdout",
          "output_type": "stream",
          "text": [
            "     name  score degree\n",
            "0   Mason     90    MBA\n",
            "1    John     40     CS\n",
            "2    Jean     80   CHEM\n",
            "3   Sarah     98    MBA\n",
            "4   Frank     99    CIV\n",
            "5  Thomas     85   MECH\n",
            "6  Melisa     56     EE\n",
            "7   Cindy     86    MBA\n"
          ]
        }
      ],
      "source": [
        "# Your code goes here\n",
        "import pandas as pd\n",
        "\n",
        "dict = {'name':[\"Mason\", \"John\", \"Jean\", \"Sarah\", \"Frank\", \"Thomas\", \"Melisa\", \"Cindy\"],\n",
        "        'score':[90, 40, 80, 98, 99, 85, 56, 86],\n",
        "        'degree': [\"MBA\", \"CS\", \"CHEM\", \"MBA\", \"CIV\", \"MECH\", \"EE\", \"MBA\"]}\n",
        "\n",
        "df = pd.DataFrame(dict)\n",
        "print(df)"
      ]
    },
    {
      "cell_type": "markdown",
      "metadata": {
        "id": "QXyDqvx6nHKR"
      },
      "source": [
        "__(b)__ Print the first three rows of the dataframe. Also, print the last two rows of the dataframe."
      ]
    },
    {
      "cell_type": "code",
      "execution_count": 3,
      "metadata": {
        "id": "DidEs5HUmvk-"
      },
      "outputs": [
        {
          "name": "stdout",
          "output_type": "stream",
          "text": [
            "    name  score degree\n",
            "0  Mason     90    MBA\n",
            "1   John     40     CS\n",
            "2   Jean     80   CHEM\n",
            "     name  score degree\n",
            "6  Melisa     56     EE\n",
            "7   Cindy     86    MBA\n"
          ]
        }
      ],
      "source": [
        "# Your code goes here\n",
        "\n",
        "# First 3 rows:\n",
        "print(df[:3])\n",
        "\n",
        "# Last 2 rows:\n",
        "print(df[-2:])"
      ]
    },
    {
      "cell_type": "markdown",
      "metadata": {
        "id": "L8scCLefnPD5"
      },
      "source": [
        "__(c)__ Add the following column to the dataframe\n",
        "``` 'age' : [19, 22, 20, 27, 25, 18, 20, 21] ```"
      ]
    },
    {
      "cell_type": "code",
      "execution_count": 4,
      "metadata": {
        "id": "LiglnOXGnPoo"
      },
      "outputs": [
        {
          "name": "stdout",
          "output_type": "stream",
          "text": [
            "     name  score degree  age\n",
            "0   Mason     90    MBA   19\n",
            "1    John     40     CS   22\n",
            "2    Jean     80   CHEM   20\n",
            "3   Sarah     98    MBA   27\n",
            "4   Frank     99    CIV   25\n",
            "5  Thomas     85   MECH   18\n",
            "6  Melisa     56     EE   20\n",
            "7   Cindy     86    MBA   21\n"
          ]
        }
      ],
      "source": [
        "# Your code goes here\n",
        "df['age'] = [19, 22, 20, 27, 25, 18, 20, 21]\n",
        "print(df)"
      ]
    },
    {
      "cell_type": "markdown",
      "metadata": {
        "id": "L7Yz-bmlnfpR"
      },
      "source": [
        "__(d)__ Define a list having the column names and print the elements in the list.\n"
      ]
    },
    {
      "cell_type": "code",
      "execution_count": 5,
      "metadata": {
        "id": "JYcNaT2Rng7d"
      },
      "outputs": [
        {
          "name": "stdout",
          "output_type": "stream",
          "text": [
            "['name', 'score', 'degree', 'age']\n"
          ]
        }
      ],
      "source": [
        "# Your code goes here\n",
        "columns = list(df.columns)\n",
        "print(columns)"
      ]
    },
    {
      "cell_type": "markdown",
      "metadata": {
        "id": "vugO4igfnhUe"
      },
      "source": [
        "__(e)__ Define a new $\\underline{dataframe}$ with columns `name` and `score`\n"
      ]
    },
    {
      "cell_type": "code",
      "execution_count": 6,
      "metadata": {
        "id": "FUVA6XJMniXt"
      },
      "outputs": [
        {
          "name": "stdout",
          "output_type": "stream",
          "text": [
            "     name  score\n",
            "0   Mason     90\n",
            "1    John     40\n",
            "2    Jean     80\n",
            "3   Sarah     98\n",
            "4   Frank     99\n",
            "5  Thomas     85\n",
            "6  Melisa     56\n",
            "7   Cindy     86\n"
          ]
        }
      ],
      "source": [
        "# Your code goes here\n",
        "df2 = df[['name', 'score']].copy()\n",
        "print(df2)"
      ]
    },
    {
      "cell_type": "markdown",
      "metadata": {
        "id": "kR63spoDni7N"
      },
      "source": [
        "__(f)__ Select and print a dataframe containing the first two rows and columns `name` and `degree` using both methods `loc` and `iloc`"
      ]
    },
    {
      "cell_type": "code",
      "execution_count": 7,
      "metadata": {
        "id": "_KpvNf04nkQY"
      },
      "outputs": [
        {
          "name": "stdout",
          "output_type": "stream",
          "text": [
            "    name degree\n",
            "0  Mason    MBA\n",
            "1   John     CS\n",
            "    name degree\n",
            "0  Mason    MBA\n",
            "1   John     CS\n"
          ]
        }
      ],
      "source": [
        "# Your code goes here\n",
        "\n",
        "# Method 1 (loc)\n",
        "print(df.loc[[0,1], ['name', 'degree']])\n",
        "\n",
        "# Method 2 (iloc)\n",
        "print(df.iloc[[0,1], [0,2]])"
      ]
    },
    {
      "cell_type": "markdown",
      "metadata": {
        "id": "uH7X7dfonkrv"
      },
      "source": [
        "__(g)__ Sort the dataframe such that you get the dataframe in the following order. Use an option in your command to apply the changes to the dataframe in place.\n",
        "\n",
        "| name |\tdegree |\tscore |\tage |\n",
        "| ---- | ------- | ------ | --- |\n",
        "| Jean \t| CHEM \t| 80 \t| 20 |\n",
        "| Frank |\tCIV \t| 99 \t| 25 |\n",
        "| John \t| CS \t| 40 \t| 22 |\n",
        "| Melisa |\tEE |\t56 |\t20 |\n",
        "| Cindy |\tMBA  |\t86 |\t21 |\n",
        "| Mason |\tMBA | 90 |\t19 |\n",
        "| Sarah |\tMBA |\t98 |\t27 |\n",
        "| Thomas | \tMECH |\t85 |\t18 |\n"
      ]
    },
    {
      "cell_type": "code",
      "execution_count": 8,
      "metadata": {
        "id": "4-WiITUmnlUp"
      },
      "outputs": [
        {
          "name": "stdout",
          "output_type": "stream",
          "text": [
            "     name degree  score  age\n",
            "2    Jean   CHEM     80   20\n",
            "4   Frank    CIV     99   25\n",
            "1    John     CS     40   22\n",
            "6  Melisa     EE     56   20\n",
            "7   Cindy    MBA     86   21\n",
            "0   Mason    MBA     90   19\n",
            "3   Sarah    MBA     98   27\n",
            "5  Thomas   MECH     85   18\n"
          ]
        }
      ],
      "source": [
        "# Your code goes here\n",
        "\n",
        "# Sorting rows\n",
        "df.sort_values(by=['degree', 'score'], inplace=True)\n",
        "\n",
        "# Reordering columns\n",
        "df = df[['name', 'degree', 'score', 'age']]\n",
        "\n",
        "print(df)"
      ]
    },
    {
      "cell_type": "markdown",
      "metadata": {
        "id": "d_wy29KUrhBV"
      },
      "source": [
        "<font color='red'>__Question II :__</font> Upload the fuel economy dataset, which comes as an excel file with this homework assignment, to a repository in the GitHub account that you created (or an account you already have). Then, import the dataset into this notebook using the link for that file from your GitHub account. This is an excel file so you might have to take some extra steps to get the link to the raw data on your GitHub account."
      ]
    },
    {
      "cell_type": "code",
      "execution_count": 9,
      "metadata": {
        "id": "UlSY5YGJr-RJ"
      },
      "outputs": [],
      "source": [
        "# Your code goes here\n",
        "url = 'https://raw.githubusercontent.com/yairg98/Data-Driven-Problem-Solving/main/Homework%202/Copy%20of%20FuelEconomy.csv'\n",
        "df3 = pd.read_csv(url)"
      ]
    },
    {
      "cell_type": "markdown",
      "metadata": {
        "id": "aAlkHvGOsAci"
      },
      "source": [
        "__(a)__ Print a list of the unique Transmission types."
      ]
    },
    {
      "cell_type": "code",
      "execution_count": 10,
      "metadata": {
        "id": "kf3bARk7r9n4"
      },
      "outputs": [
        {
          "name": "stdout",
          "output_type": "stream",
          "text": [
            "<bound method Series.unique of 0            AMS-8\n",
            "1            AMS-8\n",
            "2            AMS-7\n",
            "3            AMS-7\n",
            "4       SemiAuto-9\n",
            "           ...    \n",
            "2518    SemiAuto-8\n",
            "2519    SemiAuto-8\n",
            "2520    SemiAuto-8\n",
            "2521    SemiAuto-8\n",
            "2522    SemiAuto-8\n",
            "Name: Trans, Length: 2523, dtype: object>\n"
          ]
        }
      ],
      "source": [
        "# Your code goes here\n",
        "print(df3['Trans'].unique)"
      ]
    },
    {
      "cell_type": "markdown",
      "metadata": {
        "id": "l9M5f0kqtBj2"
      },
      "source": [
        "__(b)__ Create a new dataframe with all the cars with Greenhouse Gas Score of 1. How many cars are in this dataframe ?"
      ]
    },
    {
      "cell_type": "code",
      "execution_count": 11,
      "metadata": {
        "id": "ezKP93Sttcxq"
      },
      "outputs": [
        {
          "name": "stdout",
          "output_type": "stream",
          "text": [
            "                                 Model  Displ   Cyl        Trans Drive  \\\n",
            "148                   BENTLEY Bentayga    6.0  12.0   SemiAuto-8   4WD   \n",
            "149                   BENTLEY Bentayga    6.0  12.0   SemiAuto-8   4WD   \n",
            "150                     BENTLEY Chiron    8.0  16.0        AMS-7   4WD   \n",
            "151                     BENTLEY Chiron    8.0  16.0        AMS-7   4WD   \n",
            "162                   BENTLEY Mulsanne    6.8   8.0   SemiAuto-8   2WD   \n",
            "163                   BENTLEY Mulsanne    6.8   8.0   SemiAuto-8   2WD   \n",
            "394                       BUGATTI Divo    8.0  16.0        AMS-7   4WD   \n",
            "395                       BUGATTI Divo    8.0  16.0        AMS-7   4WD   \n",
            "698              FERRARI 812 Superfast    6.5  12.0    AutoMan-7   2WD   \n",
            "699              FERRARI 812 Superfast    6.5  12.0    AutoMan-7   2WD   \n",
            "702                  FERRARI GTC4Lusso    6.3  12.0    AutoMan-7   4WD   \n",
            "703                  FERRARI GTC4Lusso    6.3  12.0    AutoMan-7   4WD   \n",
            "809                            FORD GT    3.5   6.0    AutoMan-7   2WD   \n",
            "810                            FORD GT    3.5   6.0    AutoMan-7   2WD   \n",
            "843          FORD Shelby GT500 Mustang    5.2   8.0    AutoMan-7   2WD   \n",
            "844          FORD Shelby GT500 Mustang    5.2   8.0    AutoMan-7   2WD   \n",
            "1329     JEEP Grand Cherokee Trackhawk    6.2   8.0       Auto-8   4WD   \n",
            "1330     JEEP Grand Cherokee Trackhawk    6.2   8.0       Auto-8   4WD   \n",
            "1451       LAMBORGHINI Aventador Coupe    6.5  12.0        AMS-7   4WD   \n",
            "1452       LAMBORGHINI Aventador Coupe    6.5  12.0        AMS-7   4WD   \n",
            "1453    LAMBORGHINI Aventador Roadster    6.5  12.0        AMS-7   4WD   \n",
            "1454    LAMBORGHINI Aventador Roadster    6.5  12.0        AMS-7   4WD   \n",
            "1463                  LAMBORGHINI Urus    4.0   8.0   SemiAuto-8   4WD   \n",
            "1464                  LAMBORGHINI Urus    4.0   8.0   SemiAuto-8   4WD   \n",
            "1553                      LEXUS LX 570    5.7   8.0   SemiAuto-8   4WD   \n",
            "1554                      LEXUS LX 570    5.7   8.0   SemiAuto-8   4WD   \n",
            "1763             MERCEDES-BENZ AMG G63    4.0   8.0       Auto-9   4WD   \n",
            "1764             MERCEDES-BENZ AMG G63    4.0   8.0       Auto-9   4WD   \n",
            "1837                MERCEDES-BENZ G550    4.0   8.0       Auto-9   4WD   \n",
            "1838                MERCEDES-BENZ G550    4.0   8.0       Auto-9   4WD   \n",
            "2202              ROLLS-ROYCE Cullinan    6.7  12.0   SemiAuto-8   4WD   \n",
            "2203              ROLLS-ROYCE Cullinan    6.7  12.0   SemiAuto-8   4WD   \n",
            "2204  ROLLS-ROYCE Cullinan Black Badge    6.7  12.0   SemiAuto-8   4WD   \n",
            "2205  ROLLS-ROYCE Cullinan Black Badge    6.7  12.0   SemiAuto-8   4WD   \n",
            "2206                  ROLLS-ROYCE Dawn    6.6  12.0   SemiAuto-8   2WD   \n",
            "2207                  ROLLS-ROYCE Dawn    6.6  12.0   SemiAuto-8   2WD   \n",
            "2208                 ROLLS-ROYCE Ghost    6.6  12.0   SemiAuto-8   2WD   \n",
            "2209                 ROLLS-ROYCE Ghost    6.6  12.0   SemiAuto-8   2WD   \n",
            "2210             ROLLS-ROYCE Ghost EWB    6.6  12.0   SemiAuto-8   2WD   \n",
            "2211             ROLLS-ROYCE Ghost EWB    6.6  12.0   SemiAuto-8   2WD   \n",
            "2212               ROLLS-ROYCE Phantom    6.7  12.0   SemiAuto-8   2WD   \n",
            "2213               ROLLS-ROYCE Phantom    6.7  12.0   SemiAuto-8   2WD   \n",
            "2214           ROLLS-ROYCE Phantom EWB    6.7  12.0   SemiAuto-8   2WD   \n",
            "2215           ROLLS-ROYCE Phantom EWB    6.7  12.0   SemiAuto-8   2WD   \n",
            "2216                ROLLS-ROYCE Wraith    6.6  12.0   SemiAuto-8   2WD   \n",
            "2217                ROLLS-ROYCE Wraith    6.6  12.0   SemiAuto-8   2WD   \n",
            "2218                        ROUSH F150    5.0   8.0  SemiAuto-10   2WD   \n",
            "2219                        ROUSH F150    5.0   8.0  SemiAuto-10   2WD   \n",
            "2220                        ROUSH F150    5.0   8.0  SemiAuto-10   4WD   \n",
            "2221                        ROUSH F150    5.0   8.0  SemiAuto-10   4WD   \n",
            "2224             ROUSH Stage 3 Mustang    5.0   8.0  SemiAuto-10   2WD   \n",
            "2225             ROUSH Stage 3 Mustang    5.0   8.0  SemiAuto-10   2WD   \n",
            "2384               TOYOTA Land Cruiser    5.7   8.0   SemiAuto-8   4WD   \n",
            "2385               TOYOTA Land Cruiser    5.7   8.0   SemiAuto-8   4WD   \n",
            "2412                    TOYOTA Sequoia    5.7   8.0   SemiAuto-6   4WD   \n",
            "2413                    TOYOTA Sequoia    5.7   8.0   SemiAuto-6   4WD   \n",
            "2434                     TOYOTA Tundra    5.7   8.0   SemiAuto-6   4WD   \n",
            "2435                     TOYOTA Tundra    5.7   8.0   SemiAuto-6   4WD   \n",
            "\n",
            "          Fuel Cert Region       Stnd            Stnd Description  \\\n",
            "148   Gasoline          CA  L3ULEV125  California LEV-III ULEV125   \n",
            "149   Gasoline          FA     T3B125      Federal Tier 3 Bin 125   \n",
            "150   Gasoline          CA   L3LEV160   California LEV-III LEV160   \n",
            "151   Gasoline          FA     T3B160      Federal Tier 3 Bin 160   \n",
            "162   Gasoline          CA   L3LEV160   California LEV-III LEV160   \n",
            "163   Gasoline          FA     T3B160      Federal Tier 3 Bin 160   \n",
            "394   Gasoline          CA   L3LEV160   California LEV-III LEV160   \n",
            "395   Gasoline          FA     T3B160      Federal Tier 3 Bin 160   \n",
            "698   Gasoline          CA  L3ULEV125  California LEV-III ULEV125   \n",
            "699   Gasoline          FA     T3B125      Federal Tier 3 Bin 125   \n",
            "702   Gasoline          CA  L3ULEV125  California LEV-III ULEV125   \n",
            "703   Gasoline          FA     T3B125      Federal Tier 3 Bin 125   \n",
            "809   Gasoline          CA  L3ULEV125  California LEV-III ULEV125   \n",
            "810   Gasoline          FA     T3B125      Federal Tier 3 Bin 125   \n",
            "843   Gasoline          CA  L3ULEV125  California LEV-III ULEV125   \n",
            "844   Gasoline          FA     T3B125      Federal Tier 3 Bin 125   \n",
            "1329  Gasoline          CA   L3LEV160   California LEV-III LEV160   \n",
            "1330  Gasoline          FA     T3B160      Federal Tier 3 Bin 160   \n",
            "1451  Gasoline          CA   L3LEV160   California LEV-III LEV160   \n",
            "1452  Gasoline          FA     T3B160      Federal Tier 3 Bin 160   \n",
            "1453  Gasoline          CA   L3LEV160   California LEV-III LEV160   \n",
            "1454  Gasoline          FA     T3B160      Federal Tier 3 Bin 160   \n",
            "1463  Gasoline          CA  L3ULEV125  California LEV-III ULEV125   \n",
            "1464  Gasoline          FA     T3B125      Federal Tier 3 Bin 125   \n",
            "1553  Gasoline          CA  L3ULEV125  California LEV-III ULEV125   \n",
            "1554  Gasoline          FA     T3B125      Federal Tier 3 Bin 125   \n",
            "1763  Gasoline          CA  L3ULEV125  California LEV-III ULEV125   \n",
            "1764  Gasoline          FA     T3B125      Federal Tier 3 Bin 125   \n",
            "1837  Gasoline          CA  L3ULEV125  California LEV-III ULEV125   \n",
            "1838  Gasoline          FA     T3B125      Federal Tier 3 Bin 125   \n",
            "2202  Gasoline          CA  L3ULEV125  California LEV-III ULEV125   \n",
            "2203  Gasoline          FA     T3B125      Federal Tier 3 Bin 125   \n",
            "2204  Gasoline          CA  L3ULEV125  California LEV-III ULEV125   \n",
            "2205  Gasoline          FA     T3B125      Federal Tier 3 Bin 125   \n",
            "2206  Gasoline          CA  L3ULEV125  California LEV-III ULEV125   \n",
            "2207  Gasoline          FA     T3B125      Federal Tier 3 Bin 125   \n",
            "2208  Gasoline          CA  L3ULEV125  California LEV-III ULEV125   \n",
            "2209  Gasoline          FA     T3B125      Federal Tier 3 Bin 125   \n",
            "2210  Gasoline          CA  L3ULEV125  California LEV-III ULEV125   \n",
            "2211  Gasoline          FA     T3B125      Federal Tier 3 Bin 125   \n",
            "2212  Gasoline          CA  L3ULEV125  California LEV-III ULEV125   \n",
            "2213  Gasoline          FA     T3B125      Federal Tier 3 Bin 125   \n",
            "2214  Gasoline          CA  L3ULEV125  California LEV-III ULEV125   \n",
            "2215  Gasoline          FA     T3B125      Federal Tier 3 Bin 125   \n",
            "2216  Gasoline          CA  L3ULEV125  California LEV-III ULEV125   \n",
            "2217  Gasoline          FA     T3B125      Federal Tier 3 Bin 125   \n",
            "2218  Gasoline          CA  L3ULEV125  California LEV-III ULEV125   \n",
            "2219  Gasoline          FA     T3B125      Federal Tier 3 Bin 125   \n",
            "2220  Gasoline          CA  L3ULEV125  California LEV-III ULEV125   \n",
            "2221  Gasoline          FA     T3B125      Federal Tier 3 Bin 125   \n",
            "2224  Gasoline          CA  L3ULEV125  California LEV-III ULEV125   \n",
            "2225  Gasoline          FA     T3B125      Federal Tier 3 Bin 125   \n",
            "2384  Gasoline          CA  L3ULEV125  California LEV-III ULEV125   \n",
            "2385  Gasoline          FA     T3B125      Federal Tier 3 Bin 125   \n",
            "2412  Gasoline          CA   L3ULEV70   California LEV-III ULEV70   \n",
            "2413  Gasoline          FA      T3B70       Federal Tier 3 Bin 70   \n",
            "2434  Gasoline          CA   L3ULEV70   California LEV-III ULEV70   \n",
            "2435  Gasoline          FA      T3B70       Federal Tier 3 Bin 70   \n",
            "\n",
            "      Underhood ID      Veh Class  Air Pollution Score City MPG Hwy MPG  \\\n",
            "148   LVGAT06.0EAR   standard SUV                    3       12      17   \n",
            "149   LVGAT06.0EAR   standard SUV                    3       12      17   \n",
            "150   LVGAV08.0GLB      small car                    1        9      14   \n",
            "151   LVGAV08.0GLB      small car                    1        9      14   \n",
            "162   LVGAV06.8EDP    midsize car                    1       10      16   \n",
            "163   LVGAV06.8EDP    midsize car                    1       10      16   \n",
            "394   LVGAV08.0GLB      small car                    1        9      13   \n",
            "395   LVGAV08.0GLB      small car                    1        9      13   \n",
            "698   LFEXV06.5GDI      small car                    3       12      16   \n",
            "699   LFEXV06.5GDI      small car                    3       12      16   \n",
            "702   LFEXV06.5GDI      small car                    3       12      17   \n",
            "703   LFEXV06.5GDI      small car                    3       12      17   \n",
            "809   LFMXV03.5VGT      small car                    3       12      18   \n",
            "810   LFMXV03.5VGT      small car                    3       12      18   \n",
            "843   LFMXV05.2VEZ      small car                    3       12      18   \n",
            "844   LFMXV05.2VEZ      small car                    3       12      18   \n",
            "1329  LCRXT06.25P1   standard SUV                    1       11      17   \n",
            "1330  LCRXT06.25P1   standard SUV                    1       11      17   \n",
            "1451  LVGAV06.5LDR      small car                    1        9      15   \n",
            "1452  LVGAV06.5LDR      small car                    1        9      15   \n",
            "1453  LVGAV06.5LDR      small car                    1        9      15   \n",
            "1454  LVGAV06.5LDR      small car                    1        9      15   \n",
            "1463  LVGAT04.0PAA   standard SUV                    3       12      17   \n",
            "1464  LVGAT04.0PAA   standard SUV                    3       12      17   \n",
            "1553  LTYXT05.7K6Y   standard SUV                    3       12      16   \n",
            "1554  LTYXT05.7K6Y   standard SUV                    3       12      16   \n",
            "1763  LMBXT04.0U2B   standard SUV                    3       13      15   \n",
            "1764  LMBXT04.0U2B   standard SUV                    3       13      15   \n",
            "1837  LMBXT04.0U2A   standard SUV                    3       13      17   \n",
            "1838  LMBXT04.0U2A   standard SUV                    3       13      17   \n",
            "2202  LRRGV06.7N74  station wagon                    3       12      20   \n",
            "2203  LRRGV06.7N74  station wagon                    3       12      20   \n",
            "2204  LRRGV06.7N74  station wagon                    3       12      20   \n",
            "2205  LRRGV06.7N74  station wagon                    3       12      20   \n",
            "2206  LRRGV06.6N74      small car                    3       12      18   \n",
            "2207  LRRGV06.6N74      small car                    3       12      18   \n",
            "2208  LRRGV06.6N74      large car                    3       12      18   \n",
            "2209  LRRGV06.6N74      large car                    3       12      18   \n",
            "2210  LRRGV06.6N74      large car                    3       12      18   \n",
            "2211  LRRGV06.6N74      large car                    3       12      18   \n",
            "2212  LRRGV06.7N74      large car                    3       12      20   \n",
            "2213  LRRGV06.7N74      large car                    3       12      20   \n",
            "2214  LRRGV06.7N74      large car                    3       12      20   \n",
            "2215  LRRGV06.7N74      large car                    3       12      20   \n",
            "2216  LRRGV06.6N74    midsize car                    3       12      18   \n",
            "2217  LRRGV06.6N74    midsize car                    3       12      18   \n",
            "2218  LRIIT05.03DP         pickup                    3       11      15   \n",
            "2219  LRIIT05.03DP         pickup                    3       11      15   \n",
            "2220  LRIIT05.03DP         pickup                    3       11      15   \n",
            "2221  LRIIT05.03DP         pickup                    3       11      15   \n",
            "2224  LRIIV05.0VKN      small car                    3       12      18   \n",
            "2225  LRIIV05.0VKN      small car                    3       12      18   \n",
            "2384  LTYXT05.7K6Y   standard SUV                    3       13      17   \n",
            "2385  LTYXT05.7K6Y   standard SUV                    3       13      17   \n",
            "2412  LTYXT05.7M5W   standard SUV                    5       13      17   \n",
            "2413  LTYXT05.7M5W   standard SUV                    5       13      17   \n",
            "2434  LTYXT05.7M5W         pickup                    5       13      17   \n",
            "2435  LTYXT05.7M5W         pickup                    5       13      17   \n",
            "\n",
            "     Cmb MPG  Greenhouse Gas Score SmartWay Comb CO2  \n",
            "148       14                     1       No      645  \n",
            "149       14                     1       No      645  \n",
            "150       11                     1       No      840  \n",
            "151       11                     1       No      840  \n",
            "162       12                     1       No      749  \n",
            "163       12                     1       No      749  \n",
            "394       10                     1       No      864  \n",
            "395       10                     1       No      864  \n",
            "698       13                     1       No      661  \n",
            "699       13                     1       No      661  \n",
            "702       13                     1       No      661  \n",
            "703       13                     1       No      661  \n",
            "809       14                     1       No      632  \n",
            "810       14                     1       No      632  \n",
            "843       14                     1       No      631  \n",
            "844       14                     1       No      631  \n",
            "1329      13                     1       No      664  \n",
            "1330      13                     1       No      664  \n",
            "1451      11                     1       No      787  \n",
            "1452      11                     1       No      787  \n",
            "1453      11                     1       No      806  \n",
            "1454      11                     1       No      806  \n",
            "1463      14                     1       No      617  \n",
            "1464      14                     1       No      617  \n",
            "1553      14                     1       No      636  \n",
            "1554      14                     1       No      636  \n",
            "1763      14                     1       No      637  \n",
            "1764      14                     1       No      637  \n",
            "1837      14                     1       No      609  \n",
            "1838      14                     1       No      609  \n",
            "2202      14                     1       No      619  \n",
            "2203      14                     1       No      619  \n",
            "2204      14                     1       No      619  \n",
            "2205      14                     1       No      619  \n",
            "2206      14                     1       No      637  \n",
            "2207      14                     1       No      637  \n",
            "2208      14                     1       No      637  \n",
            "2209      14                     1       No      637  \n",
            "2210      14                     1       No      637  \n",
            "2211      14                     1       No      637  \n",
            "2212      14                     1       No      615  \n",
            "2213      14                     1       No      615  \n",
            "2214      14                     1       No      615  \n",
            "2215      14                     1       No      615  \n",
            "2216      14                     1       No      624  \n",
            "2217      14                     1       No      624  \n",
            "2218      13                     1       No      689  \n",
            "2219      13                     1       No      689  \n",
            "2220      13                     1       No      689  \n",
            "2221      13                     1       No      689  \n",
            "2224      14                     1       No      618  \n",
            "2225      14                     1       No      618  \n",
            "2384      14                     1       No      618  \n",
            "2385      14                     1       No      618  \n",
            "2412      14                     1       No      618  \n",
            "2413      14                     1       No      618  \n",
            "2434      14                     1       No      614  \n",
            "2435      14                     1       No      614  \n",
            "\n",
            "Number of cars in dataset with Greenhouse Gas Score of 1: 58\n"
          ]
        }
      ],
      "source": [
        "# Your code goes here\n",
        "df4 = df3[df3['Greenhouse Gas Score']==1]\n",
        "print(df4)\n",
        "\n",
        "print(\"\\nNumber of cars in dataset with Greenhouse Gas Score of 1: {}\".format(len(df4)))"
      ]
    },
    {
      "cell_type": "markdown",
      "metadata": {
        "id": "rmTi2ezev-mb"
      },
      "source": [
        "__(c)__ Use the method `where` to replace the values of `small car` under the column `Veh Class` with `Small Car`."
      ]
    },
    {
      "cell_type": "code",
      "execution_count": 12,
      "metadata": {
        "id": "8aEdu9ytwDck"
      },
      "outputs": [
        {
          "name": "stdout",
          "output_type": "stream",
          "text": [
            "           Model  Displ  Cyl       Trans Drive                  Fuel  \\\n",
            "0      ACURA ILX    2.4  4.0       AMS-8   2WD              Gasoline   \n",
            "1      ACURA ILX    2.4  4.0       AMS-8   2WD              Gasoline   \n",
            "2      ACURA MDX    3.0  6.0       AMS-7   4WD              Gasoline   \n",
            "3      ACURA MDX    3.0  6.0       AMS-7   4WD              Gasoline   \n",
            "4      ACURA MDX    3.5  6.0  SemiAuto-9   2WD              Gasoline   \n",
            "...          ...    ...  ...         ...   ...                   ...   \n",
            "2518  VOLVO XC90    2.0  4.0  SemiAuto-8   4WD              Gasoline   \n",
            "2519  VOLVO XC90    2.0  4.0  SemiAuto-8   4WD              Gasoline   \n",
            "2520  VOLVO XC90    2.0  4.0  SemiAuto-8   4WD              Gasoline   \n",
            "2521  VOLVO XC90    2.0  4.0  SemiAuto-8   4WD  Gasoline/Electricity   \n",
            "2522  VOLVO XC90    2.0  4.0  SemiAuto-8   4WD  Gasoline/Electricity   \n",
            "\n",
            "     Cert Region       Stnd            Stnd Description  Underhood ID  \\\n",
            "0             CA  L3ULEV125  California LEV-III ULEV125  LHNXV02.4KH3   \n",
            "1             FA     T3B125      Federal Tier 3 Bin 125  LHNXV02.4KH3   \n",
            "2             CA  L3ULEV125  California LEV-III ULEV125  LHNXV03.0ABC   \n",
            "3             FA     T3B125      Federal Tier 3 Bin 125  LHNXV03.0ABC   \n",
            "4             CA  L3ULEV125  California LEV-III ULEV125  LHNXV03.5PBM   \n",
            "...          ...        ...                         ...           ...   \n",
            "2518          FA      T3B30       Federal Tier 3 Bin 30  LVVXJ02.0S30   \n",
            "2519          CA   L3ULEV70   California LEV-III ULEV70  LVVXJ02.0U70   \n",
            "2520          FA      T3B70       Federal Tier 3 Bin 70  LVVXJ02.0U70   \n",
            "2521          CA  L3SULEV30  California LEV-III SULEV30  LVVXJ02.0P30   \n",
            "2522          FA      T3B30       Federal Tier 3 Bin 30  LVVXJ02.0P30   \n",
            "\n",
            "         Veh Class  Air Pollution Score City MPG Hwy MPG Cmb MPG  \\\n",
            "0        Small Car                    3       24      34      28   \n",
            "1        Small Car                    3       24      34      28   \n",
            "2        small SUV                    3       26      27      27   \n",
            "3        small SUV                    3       26      27      27   \n",
            "4        small SUV                    3       20      27      23   \n",
            "...            ...                  ...      ...     ...     ...   \n",
            "2518  standard SUV                    7       18      26      21   \n",
            "2519  standard SUV                    5       20      27      23   \n",
            "2520  standard SUV                    5       20      27      23   \n",
            "2521  standard SUV                    7    26/58   28/52   27/55   \n",
            "2522  standard SUV                    7    26/58   28/52   27/55   \n",
            "\n",
            "      Greenhouse Gas Score SmartWay Comb CO2  \n",
            "0                        6       No      316  \n",
            "1                        6       No      316  \n",
            "2                        6       No      333  \n",
            "3                        6       No      333  \n",
            "4                        5       No      387  \n",
            "...                    ...      ...      ...  \n",
            "2518                     4       No      429  \n",
            "2519                     5       No      387  \n",
            "2520                     5       No      387  \n",
            "2521                    10    Elite      193  \n",
            "2522                    10    Elite      193  \n",
            "\n",
            "[2523 rows x 18 columns]\n"
          ]
        }
      ],
      "source": [
        "# Your code goes here\n",
        "df3['Veh Class'].where(df3['Veh Class']!='small car', other='Small Car', inplace=True)\n",
        "print(df3)"
      ]
    },
    {
      "cell_type": "markdown",
      "metadata": {
        "id": "hOGNMlMoy_by"
      },
      "source": [
        "__(d)__ What is the average value of Greenhouse Gas Score for the cars in this dataset? What is the average Greenhous Gas Score for the cars with 4 cylinders."
      ]
    },
    {
      "cell_type": "code",
      "execution_count": 13,
      "metadata": {
        "id": "aeAClfZ5ysou"
      },
      "outputs": [
        {
          "name": "stdout",
          "output_type": "stream",
          "text": [
            "4.911216805390408\n",
            "5.977598566308243\n"
          ]
        }
      ],
      "source": [
        "# Your code goes here\n",
        "\n",
        "# Mean Greenhouse Gas Score for all cars\n",
        "print(df3['Greenhouse Gas Score'].mean())\n",
        "\n",
        "# Mean Greenhouse Gas Score for cars with 4 cylinders\n",
        "print(df3[df3['Cyl']==4.0]['Greenhouse Gas Score'].mean())"
      ]
    },
    {
      "cell_type": "markdown",
      "metadata": {
        "id": "DQxYjzxBdcDQ"
      },
      "source": [
        "<font color='red'>__Question III :__</font> There are two csv files attached to this homework assignment, file1.csv and file2.csv. Either import them directly (from your computer) or upload them on your GitHub account and use the links to import them as two separate dataframes. Name the dataframe created from file1 `df1` and the dataframe created from file2 `df2`."
      ]
    },
    {
      "cell_type": "code",
      "execution_count": 15,
      "metadata": {
        "id": "RGLqf1BEddtE"
      },
      "outputs": [
        {
          "name": "stdout",
          "output_type": "stream",
          "text": [
            "        ID  Cord (m)  SSD_Thickness (m)\n",
            "0      290    0.2286           0.003724\n",
            "1      773    0.0508           0.000812\n",
            "2     1201    0.0254           0.017663\n",
            "3     1181    0.0254           0.017221\n",
            "4     1044    0.0254           0.000907\n",
            "...    ...       ...                ...\n",
            "1195  1020    0.0254           0.000873\n",
            "1196   410    0.2286           0.011171\n",
            "1197   644    0.1524           0.019300\n",
            "1198   750    0.0508           0.000762\n",
            "1199  1482    0.1016           0.043726\n",
            "\n",
            "[1200 rows x 3 columns]\n",
            "      ID  Frequency (Hz)  Attack_Angle (deg)  FS_Velocity (m/s)\n",
            "0    257            8000                 2.0               71.3\n",
            "1    580            4000                 5.4               39.6\n",
            "2    150            1600                 3.0               31.7\n",
            "3    117            1000                 3.0               55.5\n",
            "4    934            6300                15.4               31.7\n",
            "..   ...             ...                 ...                ...\n",
            "898  912            1600                15.4               39.6\n",
            "899   39            1600                 0.0               39.6\n",
            "900  502            1000                 0.0               31.7\n",
            "901  204             500                 0.0               55.5\n",
            "902  534            2500                 2.7               39.6\n",
            "\n",
            "[903 rows x 4 columns]\n"
          ]
        }
      ],
      "source": [
        "# Your code goes here\n",
        "file1 = 'https://raw.githubusercontent.com/yairg98/Data-Driven-Problem-Solving/main/Homework%202/file1.csv'\n",
        "file2 = 'https://raw.githubusercontent.com/yairg98/Data-Driven-Problem-Solving/main/Homework%202/file2.csv'\n",
        "\n",
        "df1 = pd.read_csv(file1)\n",
        "df2 = pd.read_csv(file2)\n",
        "\n",
        "print(df1)\n",
        "print(df2)"
      ]
    },
    {
      "cell_type": "markdown",
      "metadata": {
        "id": "iAmf9nu_iYy4"
      },
      "source": [
        "__(a)__ Combine these two dataframes using the `ID` column such that all the rows from both dataframes are in the combined dataframe."
      ]
    },
    {
      "cell_type": "code",
      "execution_count": 16,
      "metadata": {
        "id": "7MhKbPUwhbTT"
      },
      "outputs": [
        {
          "name": "stdout",
          "output_type": "stream",
          "text": [
            "        ID  Cord (m)  SSD_Thickness (m)  Frequency (Hz)  Attack_Angle (deg)  \\\n",
            "0      290    0.2286           0.003724             NaN                 NaN   \n",
            "1      773    0.0508           0.000812             NaN                 NaN   \n",
            "2     1201    0.0254           0.017663             NaN                 NaN   \n",
            "3     1181    0.0254           0.017221             NaN                 NaN   \n",
            "4     1044    0.0254           0.000907             NaN                 NaN   \n",
            "...    ...       ...                ...             ...                 ...   \n",
            "1498   912       NaN                NaN          1600.0                15.4   \n",
            "1499    39       NaN                NaN          1600.0                 0.0   \n",
            "1500   502       NaN                NaN          1000.0                 0.0   \n",
            "1501   204       NaN                NaN           500.0                 0.0   \n",
            "1502   534       NaN                NaN          2500.0                 2.7   \n",
            "\n",
            "      FS_Velocity (m/s)  \n",
            "0                   NaN  \n",
            "1                   NaN  \n",
            "2                   NaN  \n",
            "3                   NaN  \n",
            "4                   NaN  \n",
            "...                 ...  \n",
            "1498               39.6  \n",
            "1499               39.6  \n",
            "1500               31.7  \n",
            "1501               55.5  \n",
            "1502               39.6  \n",
            "\n",
            "[1503 rows x 6 columns]\n"
          ]
        }
      ],
      "source": [
        "# Your code goes here\n",
        "df3 = pd.merge(df1, df2, on='ID', how='outer')\n",
        "print(df3)"
      ]
    },
    {
      "cell_type": "markdown",
      "metadata": {
        "id": "pPV8c5fOmecj"
      },
      "source": [
        "__(b)__ Combine these two dataframes using the `ID` column such that all the rows from `df1` and the rows that are common between `df1` and `df2` are in the combined dataframe."
      ]
    },
    {
      "cell_type": "code",
      "execution_count": 17,
      "metadata": {
        "id": "M0juzWm9nWme"
      },
      "outputs": [
        {
          "name": "stdout",
          "output_type": "stream",
          "text": [
            "        ID  Cord (m)  SSD_Thickness (m)  Frequency (Hz)  Attack_Angle (deg)  \\\n",
            "0      290    0.2286           0.003724             NaN                 NaN   \n",
            "1      773    0.0508           0.000812             NaN                 NaN   \n",
            "2     1201    0.0254           0.017663             NaN                 NaN   \n",
            "3     1181    0.0254           0.017221             NaN                 NaN   \n",
            "4     1044    0.0254           0.000907             NaN                 NaN   \n",
            "...    ...       ...                ...             ...                 ...   \n",
            "1195  1020    0.0254           0.000873          2000.0                 4.8   \n",
            "1196   410    0.2286           0.011171           400.0                 7.3   \n",
            "1197   644    0.1524           0.019300          5000.0                 9.9   \n",
            "1198   750    0.0508           0.000762         10000.0                 0.0   \n",
            "1199  1482    0.1016           0.043726          1250.0                15.6   \n",
            "\n",
            "      FS_Velocity (m/s)  \n",
            "0                   NaN  \n",
            "1                   NaN  \n",
            "2                   NaN  \n",
            "3                   NaN  \n",
            "4                   NaN  \n",
            "...                 ...  \n",
            "1195               55.5  \n",
            "1196               55.5  \n",
            "1197               71.3  \n",
            "1198               55.5  \n",
            "1199               71.3  \n",
            "\n",
            "[1200 rows x 6 columns]\n"
          ]
        }
      ],
      "source": [
        "# Your code goes here\n",
        "df4 = pd.merge(df1, df2, on='ID', how='left')\n",
        "print(df4)"
      ]
    },
    {
      "cell_type": "markdown",
      "metadata": {
        "id": "QSZV4FAImvAy"
      },
      "source": [
        "__(c)__ Combine these two dataframes using the `ID` column such that the combined dataframe includes only the rows that are common between two dataframes."
      ]
    },
    {
      "cell_type": "code",
      "execution_count": 18,
      "metadata": {
        "id": "XK63NUNsjPEZ"
      },
      "outputs": [
        {
          "name": "stdout",
          "output_type": "stream",
          "text": [
            "       ID  Cord (m)  SSD_Thickness (m)  Frequency (Hz)  Attack_Angle (deg)  \\\n",
            "0     257    0.2286           0.002930            8000                 2.0   \n",
            "1     580    0.1524           0.004850            4000                 5.4   \n",
            "2     150    0.3048           0.005295            1600                 3.0   \n",
            "3     117    0.3048           0.004525            1000                 3.0   \n",
            "4     934    0.0508           0.028985            6300                15.4   \n",
            "..    ...       ...                ...             ...                 ...   \n",
            "595  1020    0.0254           0.000873            2000                 4.8   \n",
            "596   410    0.2286           0.011171             400                 7.3   \n",
            "597   644    0.1524           0.019300            5000                 9.9   \n",
            "598   750    0.0508           0.000762           10000                 0.0   \n",
            "599  1482    0.1016           0.043726            1250                15.6   \n",
            "\n",
            "     FS_Velocity (m/s)  \n",
            "0                 71.3  \n",
            "1                 39.6  \n",
            "2                 31.7  \n",
            "3                 55.5  \n",
            "4                 31.7  \n",
            "..                 ...  \n",
            "595               55.5  \n",
            "596               55.5  \n",
            "597               71.3  \n",
            "598               55.5  \n",
            "599               71.3  \n",
            "\n",
            "[600 rows x 6 columns]\n"
          ]
        }
      ],
      "source": [
        "# Your code goes here\n",
        "df3 = pd.merge(df1, df2, on='ID', how='inner')\n",
        "print(df3)"
      ]
    }
  ],
  "metadata": {
    "colab": {
      "collapsed_sections": [],
      "name": "Homework_2.ipynb",
      "provenance": []
    },
    "kernelspec": {
      "display_name": "Python 3",
      "name": "python3"
    },
    "language_info": {
      "codemirror_mode": {
        "name": "ipython",
        "version": 3
      },
      "file_extension": ".py",
      "mimetype": "text/x-python",
      "name": "python",
      "nbconvert_exporter": "python",
      "pygments_lexer": "ipython3",
      "version": "3.9.5"
    }
  },
  "nbformat": 4,
  "nbformat_minor": 0
}
